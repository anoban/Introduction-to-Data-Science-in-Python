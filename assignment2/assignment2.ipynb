{
 "cells": [
  {
   "cell_type": "markdown",
   "metadata": {
    "deletable": false,
    "editable": false,
    "etc_identifier": "373a3605-5bda-4e1f-beef-04a0173d3f41",
    "nbgrader": {
     "cell_type": "markdown",
     "checksum": "ea942292eff37b50f364f842bcdd8ad9",
     "grade": false,
     "grade_id": "cell-a839e7b47494b4c3",
     "locked": true,
     "schema_version": 3,
     "solution": false
    }
   },
   "source": [
    "# Assignment 2\n",
    "\n",
    "For this assignment you'll be looking at 2017 data on immunizations from the CDC. Your datafile for this assignment is in [assets/NISPUF17.csv](assets/NISPUF17.csv). A data users guide for this, which you'll need to map the variables in the data to the questions being asked, is available at [assets/NIS-PUF17-DUG.pdf](assets/NIS-PUF17-DUG.pdf). **Note: you may have to go to your Jupyter tree (click on the Coursera image) and navigate to the assignment 2 assets folder to see this PDF file).**"
   ]
  },
  {
   "cell_type": "markdown",
   "metadata": {
    "deletable": false,
    "editable": false,
    "hideCode": false,
    "hidePrompt": false,
    "nbgrader": {
     "cell_type": "markdown",
     "checksum": "f85bd44672080d80abd2a7f47aa0f1be",
     "grade": false,
     "grade_id": "cell-58fc2e5938733f6a",
     "locked": true,
     "schema_version": 3,
     "solution": false
    }
   },
   "source": [
    "## Question 1\n",
    "Write a function called `proportion_of_education` which returns the proportion of children in the dataset who had a mother with the education levels equal to less than high school (<12), high school (12), more than high school but not a college graduate (>12) and college degree.\n",
    "\n",
    "*This function should return a dictionary in the form of (use the correct numbers, do not round numbers):* \n",
    "```\n",
    "    {\"less than high school\":0.2,\n",
    "    \"high school\":0.4,\n",
    "    \"more than high school but not college\":0.2,\n",
    "    \"college\":0.2}\n",
    "```"
   ]
  },
  {
   "cell_type": "code",
   "execution_count": 1,
   "metadata": {
    "execution": {
     "iopub.execute_input": "2023-01-22T06:40:52.778078Z",
     "iopub.status.busy": "2023-01-22T06:40:52.778078Z",
     "iopub.status.idle": "2023-01-22T06:41:08.696868Z",
     "shell.execute_reply": "2023-01-22T06:41:08.695851Z",
     "shell.execute_reply.started": "2023-01-22T06:40:52.778078Z"
    },
    "tags": []
   },
   "outputs": [],
   "source": [
    "import pandas as pd\n",
    "import numpy as np\n",
    "import re"
   ]
  },
  {
   "cell_type": "code",
   "execution_count": 3,
   "metadata": {
    "execution": {
     "iopub.execute_input": "2023-01-22T06:41:42.046625Z",
     "iopub.status.busy": "2023-01-22T06:41:42.046625Z",
     "iopub.status.idle": "2023-01-22T06:41:42.768975Z",
     "shell.execute_reply": "2023-01-22T06:41:42.768975Z",
     "shell.execute_reply.started": "2023-01-22T06:41:42.046625Z"
    },
    "tags": []
   },
   "outputs": [
    {
     "data": {
      "text/html": [
       "<div>\n",
       "<style scoped>\n",
       "    .dataframe tbody tr th:only-of-type {\n",
       "        vertical-align: middle;\n",
       "    }\n",
       "\n",
       "    .dataframe tbody tr th {\n",
       "        vertical-align: top;\n",
       "    }\n",
       "\n",
       "    .dataframe thead th {\n",
       "        text-align: right;\n",
       "    }\n",
       "</style>\n",
       "<table border=\"1\" class=\"dataframe\">\n",
       "  <thead>\n",
       "    <tr style=\"text-align: right;\">\n",
       "      <th></th>\n",
       "      <th>SEQNUMC</th>\n",
       "      <th>SEQNUMHH</th>\n",
       "      <th>PDAT</th>\n",
       "      <th>PROVWT_D</th>\n",
       "      <th>RDDWT_D</th>\n",
       "      <th>STRATUM</th>\n",
       "      <th>YEAR</th>\n",
       "      <th>AGECPOXR</th>\n",
       "      <th>HAD_CPOX</th>\n",
       "      <th>AGEGRP</th>\n",
       "      <th>...</th>\n",
       "      <th>XVRCTY2</th>\n",
       "      <th>XVRCTY3</th>\n",
       "      <th>XVRCTY4</th>\n",
       "      <th>XVRCTY5</th>\n",
       "      <th>XVRCTY6</th>\n",
       "      <th>XVRCTY7</th>\n",
       "      <th>XVRCTY8</th>\n",
       "      <th>XVRCTY9</th>\n",
       "      <th>INS_STAT2_I</th>\n",
       "      <th>INS_BREAK_I</th>\n",
       "    </tr>\n",
       "  </thead>\n",
       "  <tbody>\n",
       "    <tr>\n",
       "      <th>1</th>\n",
       "      <td>128521</td>\n",
       "      <td>12852</td>\n",
       "      <td>2</td>\n",
       "      <td>NaN</td>\n",
       "      <td>235.916956</td>\n",
       "      <td>1031</td>\n",
       "      <td>2017</td>\n",
       "      <td>NaN</td>\n",
       "      <td>2</td>\n",
       "      <td>1</td>\n",
       "      <td>...</td>\n",
       "      <td></td>\n",
       "      <td></td>\n",
       "      <td>NaN</td>\n",
       "      <td>NaN</td>\n",
       "      <td>NaN</td>\n",
       "      <td>NaN</td>\n",
       "      <td>NaN</td>\n",
       "      <td>NaN</td>\n",
       "      <td>NaN</td>\n",
       "      <td>NaN</td>\n",
       "    </tr>\n",
       "    <tr>\n",
       "      <th>2</th>\n",
       "      <td>10741</td>\n",
       "      <td>1074</td>\n",
       "      <td>2</td>\n",
       "      <td>NaN</td>\n",
       "      <td>957.353840</td>\n",
       "      <td>1068</td>\n",
       "      <td>2017</td>\n",
       "      <td>NaN</td>\n",
       "      <td>2</td>\n",
       "      <td>1</td>\n",
       "      <td>...</td>\n",
       "      <td></td>\n",
       "      <td></td>\n",
       "      <td>NaN</td>\n",
       "      <td>NaN</td>\n",
       "      <td>NaN</td>\n",
       "      <td>NaN</td>\n",
       "      <td>NaN</td>\n",
       "      <td>NaN</td>\n",
       "      <td>NaN</td>\n",
       "      <td>NaN</td>\n",
       "    </tr>\n",
       "    <tr>\n",
       "      <th>3</th>\n",
       "      <td>220011</td>\n",
       "      <td>22001</td>\n",
       "      <td>2</td>\n",
       "      <td>NaN</td>\n",
       "      <td>189.611299</td>\n",
       "      <td>1050</td>\n",
       "      <td>2017</td>\n",
       "      <td>NaN</td>\n",
       "      <td>2</td>\n",
       "      <td>3</td>\n",
       "      <td>...</td>\n",
       "      <td></td>\n",
       "      <td></td>\n",
       "      <td>NaN</td>\n",
       "      <td>NaN</td>\n",
       "      <td>NaN</td>\n",
       "      <td>NaN</td>\n",
       "      <td>NaN</td>\n",
       "      <td>NaN</td>\n",
       "      <td>NaN</td>\n",
       "      <td>NaN</td>\n",
       "    </tr>\n",
       "  </tbody>\n",
       "</table>\n",
       "<p>3 rows × 453 columns</p>\n",
       "</div>"
      ],
      "text/plain": [
       "   SEQNUMC  SEQNUMHH  PDAT  PROVWT_D     RDDWT_D  STRATUM  YEAR  AGECPOXR  \\\n",
       "1   128521     12852     2       NaN  235.916956     1031  2017       NaN   \n",
       "2    10741      1074     2       NaN  957.353840     1068  2017       NaN   \n",
       "3   220011     22001     2       NaN  189.611299     1050  2017       NaN   \n",
       "\n",
       "   HAD_CPOX  AGEGRP  ...  XVRCTY2  XVRCTY3  XVRCTY4  XVRCTY5  XVRCTY6  \\\n",
       "1         2       1  ...                        NaN      NaN      NaN   \n",
       "2         2       1  ...                        NaN      NaN      NaN   \n",
       "3         2       3  ...                        NaN      NaN      NaN   \n",
       "\n",
       "   XVRCTY7  XVRCTY8  XVRCTY9  INS_STAT2_I  INS_BREAK_I  \n",
       "1      NaN      NaN      NaN          NaN          NaN  \n",
       "2      NaN      NaN      NaN          NaN          NaN  \n",
       "3      NaN      NaN      NaN          NaN          NaN  \n",
       "\n",
       "[3 rows x 453 columns]"
      ]
     },
     "execution_count": 3,
     "metadata": {},
     "output_type": "execute_result"
    }
   ],
   "source": [
    "cdc = pd.read_csv(r\"D:/Introduction-to-Data-Science-in-Python/assignment2/assets/NISPUF17.csv\", index_col = 0)\n",
    "cdc.head(3)"
   ]
  },
  {
   "cell_type": "code",
   "execution_count": 3,
   "metadata": {
    "execution": {
     "iopub.execute_input": "2023-01-22T03:44:05.102199Z",
     "iopub.status.busy": "2023-01-22T03:44:05.102199Z",
     "iopub.status.idle": "2023-01-22T03:44:05.110384Z",
     "shell.execute_reply": "2023-01-22T03:44:05.110384Z",
     "shell.execute_reply.started": "2023-01-22T03:44:05.102199Z"
    },
    "tags": []
   },
   "outputs": [
    {
     "data": {
      "text/plain": [
       "(28465, 454)"
      ]
     },
     "execution_count": 3,
     "metadata": {},
     "output_type": "execute_result"
    }
   ],
   "source": [
    "cdc.shape"
   ]
  },
  {
   "cell_type": "code",
   "execution_count": 4,
   "metadata": {
    "execution": {
     "iopub.execute_input": "2023-01-22T06:41:58.633363Z",
     "iopub.status.busy": "2023-01-22T06:41:58.633363Z",
     "iopub.status.idle": "2023-01-22T06:41:58.649620Z",
     "shell.execute_reply": "2023-01-22T06:41:58.649620Z",
     "shell.execute_reply.started": "2023-01-22T06:41:58.633363Z"
    },
    "tags": []
   },
   "outputs": [
    {
     "data": {
      "text/plain": [
       "['EDUC1']"
      ]
     },
     "execution_count": 4,
     "metadata": {},
     "output_type": "execute_result"
    }
   ],
   "source": [
    "[col_name for col_name in cdc.columns if \"ED\" in col_name]"
   ]
  },
  {
   "cell_type": "code",
   "execution_count": 5,
   "metadata": {
    "execution": {
     "iopub.execute_input": "2023-01-22T06:42:00.252814Z",
     "iopub.status.busy": "2023-01-22T06:42:00.252814Z",
     "iopub.status.idle": "2023-01-22T06:42:00.267992Z",
     "shell.execute_reply": "2023-01-22T06:42:00.267992Z",
     "shell.execute_reply.started": "2023-01-22T06:42:00.252814Z"
    },
    "tags": []
   },
   "outputs": [
    {
     "data": {
      "text/plain": [
       "(1, 4)"
      ]
     },
     "execution_count": 5,
     "metadata": {},
     "output_type": "execute_result"
    }
   ],
   "source": [
    "cdc.EDUC1.min(), cdc.EDUC1.max()"
   ]
  },
  {
   "cell_type": "code",
   "execution_count": 6,
   "metadata": {
    "execution": {
     "iopub.execute_input": "2023-01-22T06:42:01.445610Z",
     "iopub.status.busy": "2023-01-22T06:42:01.445610Z",
     "iopub.status.idle": "2023-01-22T06:42:01.461755Z",
     "shell.execute_reply": "2023-01-22T06:42:01.461755Z",
     "shell.execute_reply.started": "2023-01-22T06:42:01.445610Z"
    },
    "tags": []
   },
   "outputs": [
    {
     "data": {
      "text/plain": [
       "0"
      ]
     },
     "execution_count": 6,
     "metadata": {},
     "output_type": "execute_result"
    }
   ],
   "source": [
    "sum(cdc.EDUC1.isna())"
   ]
  },
  {
   "cell_type": "markdown",
   "metadata": {},
   "source": [
    "### ***EDUC1***\n",
    "***1 - <12 years       \n",
    "2 - 12 years      \n",
    "3 - >12 years, not a college graduate        \n",
    "4 - College graduate***"
   ]
  },
  {
   "cell_type": "code",
   "execution_count": 15,
   "metadata": {
    "deletable": false,
    "execution": {
     "iopub.execute_input": "2023-01-22T03:57:44.606507Z",
     "iopub.status.busy": "2023-01-22T03:57:44.606507Z",
     "iopub.status.idle": "2023-01-22T03:57:44.612985Z",
     "shell.execute_reply": "2023-01-22T03:57:44.612985Z",
     "shell.execute_reply.started": "2023-01-22T03:57:44.606507Z"
    },
    "nbgrader": {
     "cell_type": "code",
     "checksum": "0ac58deb3f5ac988c643e903cbee7f3a",
     "grade": false,
     "grade_id": "cell-eea16d020eb52ae7",
     "locked": false,
     "schema_version": 3,
     "solution": true
    }
   },
   "outputs": [],
   "source": [
    "def proportion_of_education():\n",
    "        result = dict.fromkeys([\"less than high school\", \"high school\", \"more than high school but not college\", \"college\"])\n",
    "        \n",
    "        result[\"less than high school\"] = len(cdc.query(\"EDUC1 == 1\")) / cdc.shape[0]\n",
    "        result[\"high school\"] = len(cdc.query(\"EDUC1 == 2\")) / cdc.shape[0]\n",
    "        result[\"more than high school but not college\"] = len(cdc.query(\"EDUC1 == 3\")) / cdc.shape[0]\n",
    "        result[\"college\"] = len(cdc.query(\"EDUC1 == 4\")) / cdc.shape[0]\n",
    "        \n",
    "        return result"
   ]
  },
  {
   "cell_type": "code",
   "execution_count": 16,
   "metadata": {
    "execution": {
     "iopub.execute_input": "2023-01-22T03:57:54.757625Z",
     "iopub.status.busy": "2023-01-22T03:57:54.757625Z",
     "iopub.status.idle": "2023-01-22T03:57:54.862973Z",
     "shell.execute_reply": "2023-01-22T03:57:54.862973Z",
     "shell.execute_reply.started": "2023-01-22T03:57:54.757625Z"
    }
   },
   "outputs": [
    {
     "data": {
      "text/plain": [
       "{'less than high school': 0.10202002459160373,\n",
       " 'high school': 0.172352011241876,\n",
       " 'more than high school but not college': 0.24588090637625154,\n",
       " 'college': 0.47974705779026877}"
      ]
     },
     "execution_count": 16,
     "metadata": {},
     "output_type": "execute_result"
    }
   ],
   "source": [
    "proportion_of_education()"
   ]
  },
  {
   "cell_type": "code",
   "execution_count": 17,
   "metadata": {
    "deletable": false,
    "editable": false,
    "execution": {
     "iopub.execute_input": "2023-01-22T03:58:02.461780Z",
     "iopub.status.busy": "2023-01-22T03:58:02.461780Z",
     "iopub.status.idle": "2023-01-22T03:58:02.918644Z",
     "shell.execute_reply": "2023-01-22T03:58:02.918644Z",
     "shell.execute_reply.started": "2023-01-22T03:58:02.461780Z"
    },
    "hideCode": false,
    "hidePrompt": false,
    "nbgrader": {
     "cell_type": "code",
     "checksum": "ac5d91a24a7f72f66c25d242c3d24a50",
     "grade": true,
     "grade_id": "cell-c0eeef201366f51c",
     "locked": true,
     "points": 1,
     "schema_version": 3,
     "solution": false
    }
   },
   "outputs": [],
   "source": [
    "assert type(proportion_of_education())==type({}), \"You must return a dictionary.\"\n",
    "assert len(proportion_of_education()) == 4, \"You have not returned a dictionary with four items in it.\"\n",
    "assert \"less than high school\" in proportion_of_education().keys(), \"You have not returned a dictionary with the correct keys.\"\n",
    "assert \"high school\" in proportion_of_education().keys(), \"You have not returned a dictionary with the correct keys.\"\n",
    "assert \"more than high school but not college\" in proportion_of_education().keys(), \"You have not returned a dictionary with the correct keys.\"\n",
    "assert \"college\" in proportion_of_education().keys(), \"You have not returned a dictionary with the correct keys.\"\n"
   ]
  },
  {
   "cell_type": "markdown",
   "metadata": {
    "deletable": false,
    "editable": false,
    "nbgrader": {
     "cell_type": "markdown",
     "checksum": "562b78b7b9b79580269be0a3bebf4b42",
     "grade": false,
     "grade_id": "cell-8fcbb64516283f52",
     "locked": true,
     "schema_version": 3,
     "solution": false
    }
   },
   "source": [
    "## Question 2\n",
    "\n",
    "Let's explore the relationship between being fed breastmilk as a child and getting a seasonal influenza vaccine from a healthcare provider. Return a tuple of the average number of influenza vaccines for those children we know received breastmilk as a child and those who know did not.\n",
    "\n",
    "*This function should return a tuple in the form (use the correct numbers:*\n",
    "```\n",
    "(2.5, 0.1)\n",
    "```"
   ]
  },
  {
   "cell_type": "code",
   "execution_count": 25,
   "metadata": {
    "execution": {
     "iopub.execute_input": "2023-01-22T04:09:56.796556Z",
     "iopub.status.busy": "2023-01-22T04:09:56.796556Z",
     "iopub.status.idle": "2023-01-22T04:09:56.812453Z",
     "shell.execute_reply": "2023-01-22T04:09:56.811446Z",
     "shell.execute_reply.started": "2023-01-22T04:09:56.796556Z"
    },
    "tags": []
   },
   "outputs": [
    {
     "data": {
      "text/plain": [
       "array([ 1,  2, 99, 77], dtype=int64)"
      ]
     },
     "execution_count": 25,
     "metadata": {},
     "output_type": "execute_result"
    }
   ],
   "source": [
    "cdc.CBF_01.unique()"
   ]
  },
  {
   "cell_type": "code",
   "execution_count": 8,
   "metadata": {
    "execution": {
     "iopub.execute_input": "2023-01-22T06:50:29.721250Z",
     "iopub.status.busy": "2023-01-22T06:50:29.721250Z",
     "iopub.status.idle": "2023-01-22T06:50:29.840172Z",
     "shell.execute_reply": "2023-01-22T06:50:29.840172Z",
     "shell.execute_reply.started": "2023-01-22T06:50:29.721250Z"
    },
    "tags": []
   },
   "outputs": [
    {
     "data": {
      "text/plain": [
       "array([nan,  3.,  0.,  2.,  1.,  4.,  5.,  6.])"
      ]
     },
     "execution_count": 8,
     "metadata": {},
     "output_type": "execute_result"
    }
   ],
   "source": [
    "cdc.P_NUMFLU.unique()"
   ]
  },
  {
   "cell_type": "code",
   "execution_count": 9,
   "metadata": {
    "deletable": false,
    "execution": {
     "iopub.execute_input": "2023-01-22T06:53:19.420971Z",
     "iopub.status.busy": "2023-01-22T06:53:19.420971Z",
     "iopub.status.idle": "2023-01-22T06:53:19.432843Z",
     "shell.execute_reply": "2023-01-22T06:53:19.432843Z",
     "shell.execute_reply.started": "2023-01-22T06:53:19.420971Z"
    },
    "nbgrader": {
     "cell_type": "code",
     "checksum": "a405d639063c4a6408365479f29c95c9",
     "grade": false,
     "grade_id": "cell-77f18c512324eabb",
     "locked": false,
     "schema_version": 3,
     "solution": true
    }
   },
   "outputs": [],
   "source": [
    "# CBF_01 – child ever fed breast milk\n",
    "# 1 - Yes\n",
    "# 2 - No\n",
    "# 77 - Don’t know\n",
    "# 99 - Missing\n",
    "\n",
    "# P_NUMFLU – total number of seasonal influenza doses\n",
    "\n",
    "def average_influenza_doses():\n",
    "    return cdc.query(\"CBF_01 == 1\").loc[:, \"P_NUMFLU\"].mean(), cdc.query(\"CBF_01 == 2\").loc[:, \"P_NUMFLU\"].mean()\n",
    "    "
   ]
  },
  {
   "cell_type": "code",
   "execution_count": 10,
   "metadata": {
    "execution": {
     "iopub.execute_input": "2023-01-22T06:53:24.753787Z",
     "iopub.status.busy": "2023-01-22T06:53:24.753787Z",
     "iopub.status.idle": "2023-01-22T06:53:24.845470Z",
     "shell.execute_reply": "2023-01-22T06:53:24.845470Z",
     "shell.execute_reply.started": "2023-01-22T06:53:24.753787Z"
    }
   },
   "outputs": [
    {
     "data": {
      "text/plain": [
       "(1.8799187420058687, 1.5963945918878317)"
      ]
     },
     "execution_count": 10,
     "metadata": {},
     "output_type": "execute_result"
    }
   ],
   "source": [
    "average_influenza_doses()"
   ]
  },
  {
   "cell_type": "code",
   "execution_count": 11,
   "metadata": {
    "deletable": false,
    "editable": false,
    "execution": {
     "iopub.execute_input": "2023-01-22T06:54:05.812208Z",
     "iopub.status.busy": "2023-01-22T06:54:05.812208Z",
     "iopub.status.idle": "2023-01-22T06:54:05.884314Z",
     "shell.execute_reply": "2023-01-22T06:54:05.884314Z",
     "shell.execute_reply.started": "2023-01-22T06:54:05.812208Z"
    },
    "nbgrader": {
     "cell_type": "code",
     "checksum": "19be955e97fdf7162d43fbb7c2c40951",
     "grade": true,
     "grade_id": "cell-54a3ba6cff31caa7",
     "locked": true,
     "points": 1,
     "schema_version": 3,
     "solution": false
    }
   },
   "outputs": [],
   "source": [
    "assert len(average_influenza_doses())==2, \"Return two values in a tuple, the first for yes and the second for no.\"\n"
   ]
  },
  {
   "cell_type": "markdown",
   "metadata": {
    "deletable": false,
    "editable": false,
    "nbgrader": {
     "cell_type": "markdown",
     "checksum": "e10e2163f5957a0c398ef4f0b76b4efe",
     "grade": false,
     "grade_id": "cell-f63377f3c97aa7c4",
     "locked": true,
     "schema_version": 3,
     "solution": false
    }
   },
   "source": [
    "## Question 3\n",
    "It would be interesting to see if there is any evidence of a link between vaccine effectiveness and sex of the child. Calculate the ratio of the number of children who contracted chickenpox but were vaccinated against it (at least one varicella dose) versus those who were vaccinated but did not contract chicken pox. Return results by sex. \n",
    "\n",
    "*This function should return a dictionary in the form of (use the correct numbers):* \n",
    "```\n",
    "    {\"male\":0.2,\n",
    "    \"female\":0.4}\n",
    "```\n",
    "\n",
    "Note: To aid in verification, the `chickenpox_by_sex()['female']` value the autograder is looking for starts with the digits `0.0077`."
   ]
  },
  {
   "cell_type": "code",
   "execution_count": 13,
   "metadata": {
    "execution": {
     "iopub.execute_input": "2023-01-22T06:56:36.112969Z",
     "iopub.status.busy": "2023-01-22T06:56:36.112969Z",
     "iopub.status.idle": "2023-01-22T06:56:36.119583Z",
     "shell.execute_reply": "2023-01-22T06:56:36.119583Z",
     "shell.execute_reply.started": "2023-01-22T06:56:36.112969Z"
    },
    "tags": []
   },
   "outputs": [
    {
     "data": {
      "text/plain": [
       "array([1, 2], dtype=int64)"
      ]
     },
     "execution_count": 13,
     "metadata": {},
     "output_type": "execute_result"
    }
   ],
   "source": [
    "cdc.SEX.unique()"
   ]
  },
  {
   "cell_type": "code",
   "execution_count": 14,
   "metadata": {
    "execution": {
     "iopub.execute_input": "2023-01-22T07:00:16.092613Z",
     "iopub.status.busy": "2023-01-22T07:00:16.092613Z",
     "iopub.status.idle": "2023-01-22T07:00:16.100636Z",
     "shell.execute_reply": "2023-01-22T07:00:16.100636Z",
     "shell.execute_reply.started": "2023-01-22T07:00:16.092613Z"
    }
   },
   "outputs": [
    {
     "data": {
      "text/plain": [
       "array([ 2,  1, 77, 99], dtype=int64)"
      ]
     },
     "execution_count": 14,
     "metadata": {},
     "output_type": "execute_result"
    }
   ],
   "source": [
    "cdc.HAD_CPOX.unique()"
   ]
  },
  {
   "cell_type": "code",
   "execution_count": 16,
   "metadata": {
    "execution": {
     "iopub.execute_input": "2023-01-22T07:03:16.087801Z",
     "iopub.status.busy": "2023-01-22T07:03:16.087801Z",
     "iopub.status.idle": "2023-01-22T07:03:16.096514Z",
     "shell.execute_reply": "2023-01-22T07:03:16.096514Z",
     "shell.execute_reply.started": "2023-01-22T07:03:16.087801Z"
    },
    "tags": []
   },
   "outputs": [
    {
     "data": {
      "text/plain": [
       "array([nan,  1.,  0.,  2.,  3.])"
      ]
     },
     "execution_count": 16,
     "metadata": {},
     "output_type": "execute_result"
    }
   ],
   "source": [
    "cdc.P_NUMVRC.unique()"
   ]
  },
  {
   "cell_type": "code",
   "execution_count": 22,
   "metadata": {
    "execution": {
     "iopub.execute_input": "2023-01-22T07:13:26.966225Z",
     "iopub.status.busy": "2023-01-22T07:13:26.966225Z",
     "iopub.status.idle": "2023-01-22T07:13:27.002721Z",
     "shell.execute_reply": "2023-01-22T07:13:27.002721Z",
     "shell.execute_reply.started": "2023-01-22T07:13:26.966225Z"
    },
    "tags": []
   },
   "outputs": [
    {
     "data": {
      "text/plain": [
       "462      1.0\n",
       "688      1.0\n",
       "864      1.0\n",
       "1480     1.0\n",
       "1907     1.0\n",
       "        ... \n",
       "27046    1.0\n",
       "27721    1.0\n",
       "28107    1.0\n",
       "28108    1.0\n",
       "28405    1.0\n",
       "Name: P_NUMVRC, Length: 68, dtype: float64"
      ]
     },
     "execution_count": 22,
     "metadata": {},
     "output_type": "execute_result"
    }
   ],
   "source": [
    "cdc.query(\"(HAD_CPOX == 1) & (P_NUMVRC >= 1) & (SEX == 1)\").P_NUMVRC"
   ]
  },
  {
   "cell_type": "code",
   "execution_count": 25,
   "metadata": {
    "deletable": false,
    "execution": {
     "iopub.execute_input": "2023-01-22T07:13:54.859376Z",
     "iopub.status.busy": "2023-01-22T07:13:54.859376Z",
     "iopub.status.idle": "2023-01-22T07:13:54.868878Z",
     "shell.execute_reply": "2023-01-22T07:13:54.868878Z",
     "shell.execute_reply.started": "2023-01-22T07:13:54.859376Z"
    },
    "nbgrader": {
     "cell_type": "code",
     "checksum": "b4d1b58acae002bc73eb0b19f95bc4af",
     "grade": false,
     "grade_id": "cell-a0a9e6fe67698006",
     "locked": false,
     "schema_version": 3,
     "solution": true
    },
    "tags": []
   },
   "outputs": [],
   "source": [
    "# SEX - sex of the child\n",
    "# 1 - Male\n",
    "# 2 - Female\n",
    "\n",
    "# HAD_CPOX – did child ever have chicken pox\n",
    "# 1 - Yes\n",
    "# 2 - No\n",
    "# 77 - Don’t know\n",
    "# 99 - Missing\n",
    "\n",
    "# P_NUMVRC – total number of varicella doses\n",
    "\n",
    "\n",
    "def chickenpox_by_sex():\n",
    "    stats = dict.fromkeys([\"male\", \"female\"])\n",
    "    \n",
    "    stats[\"male\"] = cdc.query(\"(HAD_CPOX == 1) & (P_NUMVRC >= 1) & (SEX == 1)\").shape[0] / \\\n",
    "                                    cdc.query(\"(HAD_CPOX == 2) & (P_NUMVRC >= 1) & (SEX == 1)\").shape[0]\n",
    "    stats[\"female\"] = cdc.query(\"(HAD_CPOX == 1) & (P_NUMVRC >= 1) & (SEX == 2)\").shape[0] / \\\n",
    "                                    cdc.query(\"(HAD_CPOX == 2) & (P_NUMVRC >= 1) & (SEX == 2)\").shape[0]\n",
    "    return stats"
   ]
  },
  {
   "cell_type": "code",
   "execution_count": 26,
   "metadata": {
    "execution": {
     "iopub.execute_input": "2023-01-22T07:13:55.236263Z",
     "iopub.status.busy": "2023-01-22T07:13:55.236263Z",
     "iopub.status.idle": "2023-01-22T07:13:55.312349Z",
     "shell.execute_reply": "2023-01-22T07:13:55.312349Z",
     "shell.execute_reply.started": "2023-01-22T07:13:55.236263Z"
    },
    "tags": []
   },
   "outputs": [
    {
     "data": {
      "text/plain": [
       "{'male': 0.009675583380762664, 'female': 0.0077918259335489565}"
      ]
     },
     "execution_count": 26,
     "metadata": {},
     "output_type": "execute_result"
    }
   ],
   "source": [
    "chickenpox_by_sex()"
   ]
  },
  {
   "cell_type": "code",
   "execution_count": 27,
   "metadata": {
    "deletable": false,
    "editable": false,
    "execution": {
     "iopub.execute_input": "2023-01-22T07:14:11.028175Z",
     "iopub.status.busy": "2023-01-22T07:14:11.028175Z",
     "iopub.status.idle": "2023-01-22T07:14:11.102966Z",
     "shell.execute_reply": "2023-01-22T07:14:11.102966Z",
     "shell.execute_reply.started": "2023-01-22T07:14:11.028175Z"
    },
    "nbgrader": {
     "cell_type": "code",
     "checksum": "1b6a113a633c55699ae478a3a9ee9c33",
     "grade": true,
     "grade_id": "cell-c4f1714db100c865",
     "locked": true,
     "points": 1,
     "schema_version": 3,
     "solution": false
    }
   },
   "outputs": [],
   "source": [
    "assert len(chickenpox_by_sex())==2, \"Return a dictionary with two items, the first for males and the second for females.\"\n"
   ]
  },
  {
   "cell_type": "markdown",
   "metadata": {},
   "source": [
    "## Question 4\n",
    "A correlation is a statistical relationship between two variables. If we wanted to know if vaccines work, we might look at the correlation between the use of the vaccine and whether it results in prevention of the infection or disease [1]. In this question, you are to see if there is a correlation between having had the chicken pox and the number of chickenpox vaccine doses given (varicella).\n",
    "\n",
    "Some notes on interpreting the answer. The `had_chickenpox_column` is either `1` (for yes) or `2` (for no), and the `num_chickenpox_vaccine_column` is the number of doses a child has been given of the varicella vaccine. A positive correlation (e.g., `corr > 0`) means that an increase in `had_chickenpox_column` (which means more no’s) would also increase the values of `num_chickenpox_vaccine_column` (which means more doses of vaccine). If there is a negative correlation (e.g., `corr < 0`), it indicates that having had chickenpox is related to an increase in the number of vaccine doses.\n",
    "\n",
    "Also, `pval` is the probability that we observe a correlation between `had_chickenpox_column` and `num_chickenpox_vaccine_column` which is greater than or equal to a particular value occurred by chance. A small `pval` means that the observed correlation is highly unlikely to occur by chance. In this case, `pval` should be very small (will end in `e-18` indicating a very small number).\n",
    "\n",
    "[1] This isn’t really the full picture, since we are not looking at when the dose was given. It’s possible that children had chickenpox and then their parents went to get them the vaccine. Does this dataset have the data we would need to investigate the timing of the dose?"
   ]
  },
  {
   "cell_type": "code",
   "execution_count": 58,
   "metadata": {
    "deletable": false,
    "execution": {
     "iopub.execute_input": "2023-01-22T07:41:43.456992Z",
     "iopub.status.busy": "2023-01-22T07:41:43.456992Z",
     "iopub.status.idle": "2023-01-22T07:41:43.473122Z",
     "shell.execute_reply": "2023-01-22T07:41:43.473122Z",
     "shell.execute_reply.started": "2023-01-22T07:41:43.456992Z"
    },
    "nbgrader": {
     "cell_type": "code",
     "checksum": "3e645859949447913cd11d30eb33cb1e",
     "grade": false,
     "grade_id": "cell-8afff07f564cf79a",
     "locked": false,
     "schema_version": 3,
     "solution": true
    },
    "tags": []
   },
   "outputs": [],
   "source": [
    "def corr_chickenpox():\n",
    "    import scipy.stats as stats\n",
    "    import numpy as np\n",
    "    import pandas as pd\n",
    "    \n",
    "    # this is just an example dataframe\n",
    "    df = pd.DataFrame({\"had_chickenpox_column\": cdc.HAD_CPOX,\n",
    "                   \"num_chickenpox_vaccine_column\": cdc.P_NUMVRC}).dropna(axis = 0)\n",
    "\n",
    "    # here is some stub code to actually run the correlation\n",
    "    corr, pval = stats.pearsonr(df[\"had_chickenpox_column\"], df[\"num_chickenpox_vaccine_column\"])\n",
    "    \n",
    "    print(pval)\n",
    "    # just return the correlation\n",
    "    return corr\n",
    "\n",
    "    # YOUR CODE HERE\n",
    "    # raise NotImplementedError()"
   ]
  },
  {
   "cell_type": "code",
   "execution_count": 51,
   "metadata": {
    "deletable": false,
    "editable": false,
    "execution": {
     "iopub.execute_input": "2023-01-22T07:36:19.035730Z",
     "iopub.status.busy": "2023-01-22T07:36:19.035730Z",
     "iopub.status.idle": "2023-01-22T07:36:19.052733Z",
     "shell.execute_reply": "2023-01-22T07:36:19.052733Z",
     "shell.execute_reply.started": "2023-01-22T07:36:19.035730Z"
    },
    "nbgrader": {
     "cell_type": "code",
     "checksum": "ac50ccb747b99f6bbcc76da017e66528",
     "grade": true,
     "grade_id": "cell-73408733533a29a5",
     "locked": true,
     "points": 1,
     "schema_version": 3,
     "solution": false
    },
    "tags": []
   },
   "outputs": [],
   "source": [
    "assert -1<=corr_chickenpox()<=1, \"You must return a float number between -1.0 and 1.0.\"\n"
   ]
  },
  {
   "cell_type": "code",
   "execution_count": 59,
   "metadata": {
    "execution": {
     "iopub.execute_input": "2023-01-22T07:41:45.387561Z",
     "iopub.status.busy": "2023-01-22T07:41:45.387561Z",
     "iopub.status.idle": "2023-01-22T07:41:45.411518Z",
     "shell.execute_reply": "2023-01-22T07:41:45.411518Z",
     "shell.execute_reply.started": "2023-01-22T07:41:45.387561Z"
    },
    "tags": []
   },
   "outputs": [
    {
     "name": "stdout",
     "output_type": "stream",
     "text": [
      "0.6669755758983259\n"
     ]
    },
    {
     "data": {
      "text/plain": [
       "0.0034753171515294265"
      ]
     },
     "execution_count": 59,
     "metadata": {},
     "output_type": "execute_result"
    }
   ],
   "source": [
    "corr_chickenpox()"
   ]
  },
  {
   "cell_type": "code",
   "execution_count": 72,
   "metadata": {
    "execution": {
     "iopub.execute_input": "2023-01-22T07:48:33.146333Z",
     "iopub.status.busy": "2023-01-22T07:48:33.146333Z",
     "iopub.status.idle": "2023-01-22T07:48:33.151577Z",
     "shell.execute_reply": "2023-01-22T07:48:33.151577Z",
     "shell.execute_reply.started": "2023-01-22T07:48:33.146333Z"
    },
    "tags": []
   },
   "outputs": [],
   "source": [
    "df = pd.DataFrame({\"had_chickenpox_column\": cdc.HAD_CPOX,\n",
    "                   \"num_chickenpox_vaccine_column\": cdc.P_NUMVRC}).dropna(axis = 0)\n",
    "df.reset_index(drop = True, inplace = True)"
   ]
  },
  {
   "cell_type": "code",
   "execution_count": 73,
   "metadata": {
    "execution": {
     "iopub.execute_input": "2023-01-22T07:48:33.695478Z",
     "iopub.status.busy": "2023-01-22T07:48:33.695478Z",
     "iopub.status.idle": "2023-01-22T07:48:33.711584Z",
     "shell.execute_reply": "2023-01-22T07:48:33.711584Z",
     "shell.execute_reply.started": "2023-01-22T07:48:33.695478Z"
    },
    "tags": []
   },
   "outputs": [
    {
     "data": {
      "text/plain": [
       "2     0.985652\n",
       "1     0.011283\n",
       "77    0.003065\n",
       "Name: had_chickenpox_column, dtype: float64"
      ]
     },
     "execution_count": 73,
     "metadata": {},
     "output_type": "execute_result"
    }
   ],
   "source": [
    "df.had_chickenpox_column.value_counts(77)"
   ]
  },
  {
   "cell_type": "code",
   "execution_count": 74,
   "metadata": {
    "execution": {
     "iopub.execute_input": "2023-01-22T07:48:35.014923Z",
     "iopub.status.busy": "2023-01-22T07:48:35.014923Z",
     "iopub.status.idle": "2023-01-22T07:48:35.024991Z",
     "shell.execute_reply": "2023-01-22T07:48:35.024991Z",
     "shell.execute_reply.started": "2023-01-22T07:48:35.014923Z"
    },
    "tags": []
   },
   "outputs": [
    {
     "data": {
      "text/plain": [
       "had_chickenpox_column            0\n",
       "num_chickenpox_vaccine_column    0\n",
       "dtype: int64"
      ]
     },
     "execution_count": 74,
     "metadata": {},
     "output_type": "execute_result"
    }
   ],
   "source": [
    "df.isnull().apply(sum, axis = 0)"
   ]
  },
  {
   "cell_type": "code",
   "execution_count": 77,
   "metadata": {
    "execution": {
     "iopub.execute_input": "2023-01-22T07:49:05.033615Z",
     "iopub.status.busy": "2023-01-22T07:49:05.033615Z",
     "iopub.status.idle": "2023-01-22T07:49:05.039479Z",
     "shell.execute_reply": "2023-01-22T07:49:05.039479Z",
     "shell.execute_reply.started": "2023-01-22T07:49:05.033615Z"
    },
    "tags": []
   },
   "outputs": [],
   "source": [
    "df.drop(np.where(df.had_chickenpox_column == 77)[0], inplace = True)"
   ]
  },
  {
   "cell_type": "code",
   "execution_count": null,
   "metadata": {},
   "outputs": [],
   "source": []
  },
  {
   "cell_type": "code",
   "execution_count": null,
   "metadata": {},
   "outputs": [],
   "source": []
  }
 ],
 "metadata": {
  "anaconda-cloud": {},
  "coursera": {
   "schema_names": [
    "mooc_adswpy_v1_assignment2"
   ]
  },
  "hide_code_all_hidden": false,
  "kernelspec": {
   "display_name": "Python 3 (ipykernel)",
   "language": "python",
   "name": "python3"
  },
  "language_info": {
   "codemirror_mode": {
    "name": "ipython",
    "version": 3
   },
   "file_extension": ".py",
   "mimetype": "text/x-python",
   "name": "python",
   "nbconvert_exporter": "python",
   "pygments_lexer": "ipython3",
   "version": "3.11.1"
  }
 },
 "nbformat": 4,
 "nbformat_minor": 4
}
