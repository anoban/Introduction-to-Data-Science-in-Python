{
 "cells": [
  {
   "cell_type": "markdown",
   "metadata": {
    "deletable": false,
    "editable": false,
    "nbgrader": {
     "cell_type": "markdown",
     "checksum": "ab80976c194c2c1bfebb7f3a12fc4e58",
     "grade": false,
     "grade_id": "cell-018440ed2f1b6a62",
     "locked": true,
     "schema_version": 3,
     "solution": false
    }
   },
   "source": [
    "# Assignment 3\n",
    "All questions are weighted the same in this assignment. This assignment requires more individual learning then the last one did - you are encouraged to check out the [pandas documentation](http://pandas.pydata.org/pandas-docs/stable/) to find functions or methods you might not have used yet, or ask questions on [Stack Overflow](http://stackoverflow.com/) and tag them as pandas and python related. All questions are worth the same number of points except question 1 which is worth 17% of the assignment grade.\n",
    "\n",
    "**Note**: Questions 2-13 rely on your question 1 answer."
   ]
  },
  {
   "cell_type": "code",
   "execution_count": 1,
   "metadata": {
    "execution": {
     "iopub.execute_input": "2023-01-29T00:39:02.870326Z",
     "iopub.status.busy": "2023-01-29T00:39:02.870326Z",
     "iopub.status.idle": "2023-01-29T00:39:15.395460Z",
     "shell.execute_reply": "2023-01-29T00:39:15.395460Z",
     "shell.execute_reply.started": "2023-01-29T00:39:02.870326Z"
    },
    "tags": []
   },
   "outputs": [],
   "source": [
    "import pandas as pd\n",
    "import numpy as np\n",
    "import re\n",
    "\n",
    "# Filter all warnings. If you would like to see the warnings, please comment the two lines below.\n",
    "# import warnings\n",
    "# warnings.filterwarnings('ignore')"
   ]
  },
  {
   "cell_type": "markdown",
   "metadata": {
    "deletable": false,
    "editable": false,
    "nbgrader": {
     "cell_type": "markdown",
     "checksum": "68063b8b0783f3d8122b516e0cce5f45",
     "grade": false,
     "grade_id": "cell-7e5190c7ff1f2e42",
     "locked": true,
     "schema_version": 3,
     "solution": false
    }
   },
   "source": [
    "### Question 1\n",
    "Load the energy data from the file `assets/Energy Indicators.xls`, which is a list of indicators of [energy supply and renewable electricity production](assets/Energy%20Indicators.xls) from the [United Nations](http://unstats.un.org/unsd/environment/excel_file_tables/2013/Energy%20Indicators.xls) for the year 2013, and should be put into a DataFrame with the variable name of **Energy**.\n",
    "\n",
    "Keep in mind that this is an Excel file, and not a comma separated values file. Also, make sure to exclude the footer and header information from the datafile. The first two columns are unneccessary, so you should get rid of them, and you should change the column labels so that the columns are:\n",
    "\n",
    "`['Country', 'Energy Supply', 'Energy Supply per Capita', '% Renewable]`\n",
    "\n",
    "Convert `Energy Supply` to gigajoules (**Note: there are 1,000,000 gigajoules in a petajoule**). For all countries which have missing data (e.g. data with \"...\") make sure this is reflected as `np.NaN` values.\n",
    "\n",
    "Rename the following list of countries (for use in later questions):\n",
    "\n",
    "```\"Republic of Korea\": \"South Korea\",\n",
    "\"United States of America\": \"United States\",\n",
    "\"United Kingdom of Great Britain and Northern Ireland\": \"United Kingdom\",\n",
    "\"China, Hong Kong Special Administrative Region\": \"Hong Kong\"```\n",
    "\n",
    "There are also several countries with parenthesis in their name. Be sure to remove these, e.g. `'Bolivia (Plurinational State of)'` should be `'Bolivia'`.\n",
    "\n",
    "Next, load the GDP data from the file `assets/world_bank.csv`, which is a csv containing countries' GDP from 1960 to 2015 from [World Bank](http://data.worldbank.org/indicator/NY.GDP.MKTP.CD). Call this DataFrame **GDP**. \n",
    "\n",
    "Make sure to skip the header, and rename the following list of countries:\n",
    "\n",
    "```\"Korea, Rep.\": \"South Korea\", \n",
    "\"Iran, Islamic Rep.\": \"Iran\",\n",
    "\"Hong Kong SAR, China\": \"Hong Kong\"```\n",
    "\n",
    "Finally, load the [Sciamgo Journal and Country Rank data for Energy Engineering and Power Technology](http://www.scimagojr.com/countryrank.php?category=2102) from the file `assets/scimagojr-3.xlsx`, which ranks countries based on their journal contributions in the aforementioned area. Call this DataFrame **ScimEn**.\n",
    "\n",
    "Join the three datasets: GDP, Energy, and ScimEn into a new dataset (using the intersection of country names). Use only the last 10 years (2006-2015) of GDP data and only the top 15 countries by Scimagojr 'Rank' (Rank 1 through 15). \n",
    "\n",
    "The index of this DataFrame should be the name of the country, and the columns should be ['Rank', 'Documents', 'Citable documents', 'Citations', 'Self-citations',\n",
    "       'Citations per document', 'H index', 'Energy Supply',\n",
    "       'Energy Supply per Capita', '% Renewable', '2006', '2007', '2008',\n",
    "       '2009', '2010', '2011', '2012', '2013', '2014', '2015'].\n",
    "\n",
    "*This function should return a DataFrame with 20 columns and 15 entries, and the rows of the DataFrame should be sorted by \"Rank\".*"
   ]
  },
  {
   "cell_type": "code",
   "execution_count": 44,
   "metadata": {
    "execution": {
     "iopub.execute_input": "2023-01-29T01:27:23.919590Z",
     "iopub.status.busy": "2023-01-29T01:27:23.919590Z",
     "iopub.status.idle": "2023-01-29T01:27:23.930782Z",
     "shell.execute_reply": "2023-01-29T01:27:23.930782Z",
     "shell.execute_reply.started": "2023-01-29T01:27:23.919590Z"
    },
    "tags": []
   },
   "outputs": [],
   "source": [
    "Energy = pd.read_excel(r\"D:/Introduction-to-Data-Science-in-Python/assignment3/assets/Energy Indicators.xls\", skipfooter = 38,\n",
    "                      skiprows = 16)"
   ]
  },
  {
   "cell_type": "code",
   "execution_count": 45,
   "metadata": {
    "execution": {
     "iopub.execute_input": "2023-01-29T01:27:24.311438Z",
     "iopub.status.busy": "2023-01-29T01:27:24.311438Z",
     "iopub.status.idle": "2023-01-29T01:27:24.319793Z",
     "shell.execute_reply": "2023-01-29T01:27:24.319793Z",
     "shell.execute_reply.started": "2023-01-29T01:27:24.311438Z"
    },
    "tags": []
   },
   "outputs": [
    {
     "data": {
      "text/plain": [
       "(228, 6)"
      ]
     },
     "execution_count": 45,
     "metadata": {},
     "output_type": "execute_result"
    }
   ],
   "source": [
    "Energy.shape"
   ]
  },
  {
   "cell_type": "code",
   "execution_count": 46,
   "metadata": {
    "execution": {
     "iopub.execute_input": "2023-01-29T01:27:24.845175Z",
     "iopub.status.busy": "2023-01-29T01:27:24.845175Z",
     "iopub.status.idle": "2023-01-29T01:27:24.858339Z",
     "shell.execute_reply": "2023-01-29T01:27:24.858339Z",
     "shell.execute_reply.started": "2023-01-29T01:27:24.845175Z"
    },
    "tags": []
   },
   "outputs": [
    {
     "data": {
      "text/plain": [
       "Index(['Unnamed: 0', 'Unnamed: 1', 'Unnamed: 2', 'Energy Supply',\n",
       "       'Energy Supply per capita', 'Renewable Electricity Production'],\n",
       "      dtype='object')"
      ]
     },
     "execution_count": 46,
     "metadata": {},
     "output_type": "execute_result"
    }
   ],
   "source": [
    "Energy.columns"
   ]
  },
  {
   "cell_type": "markdown",
   "metadata": {},
   "source": [
    "### ***Unnamed: 2, \tEnergy Supply, \tEnergy Supply per capita, \tRenewable Electricity Production***\n",
    "### ***NaN, \tPetajoules, \tGigajoules, \t%***"
   ]
  },
  {
   "cell_type": "code",
   "execution_count": 47,
   "metadata": {
    "execution": {
     "iopub.execute_input": "2023-01-29T01:27:25.787479Z",
     "iopub.status.busy": "2023-01-29T01:27:25.787479Z",
     "iopub.status.idle": "2023-01-29T01:27:25.794007Z",
     "shell.execute_reply": "2023-01-29T01:27:25.794007Z",
     "shell.execute_reply.started": "2023-01-29T01:27:25.787479Z"
    },
    "tags": []
   },
   "outputs": [],
   "source": [
    "new_names = ['Country', 'Energy Supply', 'Energy Supply per Capita', '% Renewable']\n",
    "\n",
    "Energy = Energy.drop([\"Unnamed: 0\", \"Unnamed: 1\"], axis = 1).drop(0, axis = 0) \\\n",
    "                .rename({prev_name: new_name for (prev_name, new_name) in zip(Energy.columns[2:], new_names)}, axis = 1)"
   ]
  },
  {
   "cell_type": "code",
   "execution_count": 48,
   "metadata": {
    "execution": {
     "iopub.execute_input": "2023-01-29T01:27:26.589201Z",
     "iopub.status.busy": "2023-01-29T01:27:26.589201Z",
     "iopub.status.idle": "2023-01-29T01:27:26.600835Z",
     "shell.execute_reply": "2023-01-29T01:27:26.600835Z",
     "shell.execute_reply.started": "2023-01-29T01:27:26.589201Z"
    },
    "tags": []
   },
   "outputs": [],
   "source": [
    "Energy[\"Energy Supply\"] = Energy.loc[:, \"Energy Supply\"].apply(lambda value: value *  1_000_000 if value != \"...\" else np.nan)"
   ]
  },
  {
   "cell_type": "code",
   "execution_count": 49,
   "metadata": {
    "execution": {
     "iopub.execute_input": "2023-01-29T01:27:27.531569Z",
     "iopub.status.busy": "2023-01-29T01:27:27.531569Z",
     "iopub.status.idle": "2023-01-29T01:27:27.545148Z",
     "shell.execute_reply": "2023-01-29T01:27:27.545148Z",
     "shell.execute_reply.started": "2023-01-29T01:27:27.531569Z"
    },
    "tags": []
   },
   "outputs": [
    {
     "data": {
      "text/plain": [
       "Country                     0\n",
       "Energy Supply               5\n",
       "Energy Supply per Capita    0\n",
       "% Renewable                 0\n",
       "dtype: int64"
      ]
     },
     "execution_count": 49,
     "metadata": {},
     "output_type": "execute_result"
    }
   ],
   "source": [
    "Energy.isna().apply(np.sum)"
   ]
  },
  {
   "cell_type": "code",
   "execution_count": 50,
   "metadata": {
    "execution": {
     "iopub.execute_input": "2023-01-29T01:27:28.819471Z",
     "iopub.status.busy": "2023-01-29T01:27:28.819471Z",
     "iopub.status.idle": "2023-01-29T01:27:28.830298Z",
     "shell.execute_reply": "2023-01-29T01:27:28.830298Z",
     "shell.execute_reply.started": "2023-01-29T01:27:28.819471Z"
    },
    "tags": []
   },
   "outputs": [],
   "source": [
    "rename_dict = {\"Republic of Korea\": \"South Korea\", \"United States of America\": \"United States\",\n",
    "               \"United Kingdom of Great Britain and Northern Ireland\": \"United Kingdom\",\n",
    "               \"China, Hong Kong Special Administrative Region\": \"Hong Kong\"}\n",
    "\n",
    "Energy.Country = Energy.Country.apply(lambda country: rename_dict.get(country) if country in rename_dict.keys() else country)"
   ]
  },
  {
   "cell_type": "code",
   "execution_count": 51,
   "metadata": {
    "execution": {
     "iopub.execute_input": "2023-01-29T01:27:31.125078Z",
     "iopub.status.busy": "2023-01-29T01:27:31.125078Z",
     "iopub.status.idle": "2023-01-29T01:27:31.144968Z",
     "shell.execute_reply": "2023-01-29T01:27:31.144968Z",
     "shell.execute_reply.started": "2023-01-29T01:27:31.125078Z"
    },
    "tags": []
   },
   "outputs": [
    {
     "data": {
      "text/plain": [
       "0"
      ]
     },
     "execution_count": 51,
     "metadata": {},
     "output_type": "execute_result"
    }
   ],
   "source": [
    "Energy.Country.isin(rename_dict.keys()).sum()"
   ]
  },
  {
   "cell_type": "code",
   "execution_count": 52,
   "metadata": {
    "execution": {
     "iopub.execute_input": "2023-01-29T01:27:31.532739Z",
     "iopub.status.busy": "2023-01-29T01:27:31.532739Z",
     "iopub.status.idle": "2023-01-29T01:27:31.552687Z",
     "shell.execute_reply": "2023-01-29T01:27:31.552687Z",
     "shell.execute_reply.started": "2023-01-29T01:27:31.532739Z"
    },
    "tags": []
   },
   "outputs": [
    {
     "data": {
      "text/plain": [
       "['Bolivia (Plurinational State of)',\n",
       " 'Falkland Islands (Malvinas)',\n",
       " 'Iran (Islamic Republic of)',\n",
       " 'Micronesia (Federated States of)',\n",
       " 'Sint Maarten (Dutch part)',\n",
       " 'Venezuela (Bolivarian Republic of)']"
      ]
     },
     "execution_count": 52,
     "metadata": {},
     "output_type": "execute_result"
    }
   ],
   "source": [
    "[cname for cname in Energy.Country if \"(\" in cname]"
   ]
  },
  {
   "cell_type": "code",
   "execution_count": 53,
   "metadata": {
    "execution": {
     "iopub.execute_input": "2023-01-29T01:27:33.162978Z",
     "iopub.status.busy": "2023-01-29T01:27:33.158961Z",
     "iopub.status.idle": "2023-01-29T01:27:33.166383Z",
     "shell.execute_reply": "2023-01-29T01:27:33.166383Z",
     "shell.execute_reply.started": "2023-01-29T01:27:33.162978Z"
    },
    "tags": []
   },
   "outputs": [],
   "source": [
    "_remove = re.compile(\"\\s[\\(][\\w\\s]+[\\)]\")"
   ]
  },
  {
   "cell_type": "code",
   "execution_count": 54,
   "metadata": {
    "execution": {
     "iopub.execute_input": "2023-01-29T01:27:34.716825Z",
     "iopub.status.busy": "2023-01-29T01:27:34.716825Z",
     "iopub.status.idle": "2023-01-29T01:27:34.736126Z",
     "shell.execute_reply": "2023-01-29T01:27:34.736126Z",
     "shell.execute_reply.started": "2023-01-29T01:27:34.716825Z"
    },
    "tags": []
   },
   "outputs": [
    {
     "data": {
      "text/plain": [
       "['Bolivia',\n",
       " 'Falkland Islands',\n",
       " 'Iran',\n",
       " 'Micronesia',\n",
       " 'Sint Maarten',\n",
       " 'Venezuela']"
      ]
     },
     "execution_count": 54,
     "metadata": {},
     "output_type": "execute_result"
    }
   ],
   "source": [
    "[re.split(_remove, cname)[0] for cname in Energy.Country if \"(\" in cname]"
   ]
  },
  {
   "cell_type": "code",
   "execution_count": 55,
   "metadata": {
    "execution": {
     "iopub.execute_input": "2023-01-29T01:27:35.267663Z",
     "iopub.status.busy": "2023-01-29T01:27:35.267663Z",
     "iopub.status.idle": "2023-01-29T01:27:35.278704Z",
     "shell.execute_reply": "2023-01-29T01:27:35.278704Z",
     "shell.execute_reply.started": "2023-01-29T01:27:35.267663Z"
    },
    "tags": []
   },
   "outputs": [],
   "source": [
    "Energy.Country = Energy.Country.apply(lambda cname: re.split(_remove, cname)[0] if \"(\" in cname else cname)"
   ]
  },
  {
   "cell_type": "code",
   "execution_count": 56,
   "metadata": {
    "execution": {
     "iopub.execute_input": "2023-01-29T01:27:36.179895Z",
     "iopub.status.busy": "2023-01-29T01:27:36.179895Z",
     "iopub.status.idle": "2023-01-29T01:27:36.185859Z",
     "shell.execute_reply": "2023-01-29T01:27:36.185859Z",
     "shell.execute_reply.started": "2023-01-29T01:27:36.179895Z"
    },
    "tags": []
   },
   "outputs": [
    {
     "data": {
      "text/plain": [
       "0"
      ]
     },
     "execution_count": 56,
     "metadata": {},
     "output_type": "execute_result"
    }
   ],
   "source": [
    "sum([\"(\" in cname for cname in Energy.Country])"
   ]
  },
  {
   "cell_type": "code",
   "execution_count": 57,
   "metadata": {
    "execution": {
     "iopub.execute_input": "2023-01-29T01:27:37.012093Z",
     "iopub.status.busy": "2023-01-29T01:27:37.012093Z",
     "iopub.status.idle": "2023-01-29T01:27:37.024891Z",
     "shell.execute_reply": "2023-01-29T01:27:37.024891Z",
     "shell.execute_reply.started": "2023-01-29T01:27:37.012093Z"
    },
    "tags": []
   },
   "outputs": [
    {
     "data": {
      "text/plain": [
       "(227, 4)"
      ]
     },
     "execution_count": 57,
     "metadata": {},
     "output_type": "execute_result"
    }
   ],
   "source": [
    "Energy.shape"
   ]
  },
  {
   "cell_type": "code",
   "execution_count": 58,
   "metadata": {
    "execution": {
     "iopub.execute_input": "2023-01-29T01:27:37.451854Z",
     "iopub.status.busy": "2023-01-29T01:27:37.451854Z",
     "iopub.status.idle": "2023-01-29T01:27:37.458825Z",
     "shell.execute_reply": "2023-01-29T01:27:37.458825Z",
     "shell.execute_reply.started": "2023-01-29T01:27:37.451854Z"
    },
    "tags": []
   },
   "outputs": [
    {
     "data": {
      "text/plain": [
       "1                    Afghanistan\n",
       "2                        Albania\n",
       "3                        Algeria\n",
       "4                 American Samoa\n",
       "5                        Andorra\n",
       "                 ...            \n",
       "223                     Viet Nam\n",
       "224    Wallis and Futuna Islands\n",
       "225                        Yemen\n",
       "226                       Zambia\n",
       "227                     Zimbabwe\n",
       "Name: Country, Length: 227, dtype: object"
      ]
     },
     "execution_count": 58,
     "metadata": {},
     "output_type": "execute_result"
    }
   ],
   "source": [
    "Energy.Country"
   ]
  },
  {
   "cell_type": "code",
   "execution_count": 68,
   "metadata": {
    "execution": {
     "iopub.execute_input": "2023-01-29T01:30:33.867034Z",
     "iopub.status.busy": "2023-01-29T01:30:33.867034Z",
     "iopub.status.idle": "2023-01-29T01:30:33.891168Z",
     "shell.execute_reply": "2023-01-29T01:30:33.891168Z",
     "shell.execute_reply.started": "2023-01-29T01:30:33.867034Z"
    },
    "tags": []
   },
   "outputs": [
    {
     "data": {
      "text/html": [
       "<div>\n",
       "<style scoped>\n",
       "    .dataframe tbody tr th:only-of-type {\n",
       "        vertical-align: middle;\n",
       "    }\n",
       "\n",
       "    .dataframe tbody tr th {\n",
       "        vertical-align: top;\n",
       "    }\n",
       "\n",
       "    .dataframe thead th {\n",
       "        text-align: right;\n",
       "    }\n",
       "</style>\n",
       "<table border=\"1\" class=\"dataframe\">\n",
       "  <thead>\n",
       "    <tr style=\"text-align: right;\">\n",
       "      <th></th>\n",
       "      <th>Country</th>\n",
       "      <th>Energy Supply</th>\n",
       "      <th>Energy Supply per Capita</th>\n",
       "    </tr>\n",
       "  </thead>\n",
       "  <tbody>\n",
       "    <tr>\n",
       "      <th>41</th>\n",
       "      <td>Chad</td>\n",
       "      <td>7.700000e+07</td>\n",
       "      <td>6</td>\n",
       "    </tr>\n",
       "    <tr>\n",
       "      <th>42</th>\n",
       "      <td>Chile</td>\n",
       "      <td>1.613000e+09</td>\n",
       "      <td>92</td>\n",
       "    </tr>\n",
       "    <tr>\n",
       "      <th>43</th>\n",
       "      <td>China2</td>\n",
       "      <td>1.271910e+11</td>\n",
       "      <td>93</td>\n",
       "    </tr>\n",
       "    <tr>\n",
       "      <th>44</th>\n",
       "      <td>China, Hong Kong Special Administrative Region3</td>\n",
       "      <td>5.850000e+08</td>\n",
       "      <td>82</td>\n",
       "    </tr>\n",
       "    <tr>\n",
       "      <th>45</th>\n",
       "      <td>China, Macao Special Administrative Region4</td>\n",
       "      <td>4.700000e+07</td>\n",
       "      <td>83</td>\n",
       "    </tr>\n",
       "    <tr>\n",
       "      <th>46</th>\n",
       "      <td>Colombia</td>\n",
       "      <td>1.513000e+09</td>\n",
       "      <td>32</td>\n",
       "    </tr>\n",
       "    <tr>\n",
       "      <th>47</th>\n",
       "      <td>Comoros</td>\n",
       "      <td>5.000000e+06</td>\n",
       "      <td>7</td>\n",
       "    </tr>\n",
       "    <tr>\n",
       "      <th>48</th>\n",
       "      <td>Congo</td>\n",
       "      <td>1.020000e+08</td>\n",
       "      <td>23</td>\n",
       "    </tr>\n",
       "    <tr>\n",
       "      <th>49</th>\n",
       "      <td>Cook Islands</td>\n",
       "      <td>1.000000e+06</td>\n",
       "      <td>48</td>\n",
       "    </tr>\n",
       "    <tr>\n",
       "      <th>50</th>\n",
       "      <td>Costa Rica</td>\n",
       "      <td>2.220000e+08</td>\n",
       "      <td>47</td>\n",
       "    </tr>\n",
       "    <tr>\n",
       "      <th>51</th>\n",
       "      <td>Côte d'Ivoire</td>\n",
       "      <td>5.470000e+08</td>\n",
       "      <td>25</td>\n",
       "    </tr>\n",
       "    <tr>\n",
       "      <th>52</th>\n",
       "      <td>Croatia</td>\n",
       "      <td>3.210000e+08</td>\n",
       "      <td>75</td>\n",
       "    </tr>\n",
       "    <tr>\n",
       "      <th>53</th>\n",
       "      <td>Cuba</td>\n",
       "      <td>5.850000e+08</td>\n",
       "      <td>51</td>\n",
       "    </tr>\n",
       "    <tr>\n",
       "      <th>54</th>\n",
       "      <td>Curaçao</td>\n",
       "      <td>7.800000e+07</td>\n",
       "      <td>502</td>\n",
       "    </tr>\n",
       "    <tr>\n",
       "      <th>55</th>\n",
       "      <td>Cyprus</td>\n",
       "      <td>8.200000e+07</td>\n",
       "      <td>71</td>\n",
       "    </tr>\n",
       "    <tr>\n",
       "      <th>56</th>\n",
       "      <td>Czech Republic</td>\n",
       "      <td>1.751000e+09</td>\n",
       "      <td>166</td>\n",
       "    </tr>\n",
       "    <tr>\n",
       "      <th>57</th>\n",
       "      <td>Democratic People's Republic of Korea</td>\n",
       "      <td>6.120000e+08</td>\n",
       "      <td>25</td>\n",
       "    </tr>\n",
       "    <tr>\n",
       "      <th>58</th>\n",
       "      <td>Democratic Republic of the Congo</td>\n",
       "      <td>8.880000e+08</td>\n",
       "      <td>12</td>\n",
       "    </tr>\n",
       "    <tr>\n",
       "      <th>59</th>\n",
       "      <td>Denmark5</td>\n",
       "      <td>7.250000e+08</td>\n",
       "      <td>129</td>\n",
       "    </tr>\n",
       "    <tr>\n",
       "      <th>60</th>\n",
       "      <td>Djibouti</td>\n",
       "      <td>1.100000e+07</td>\n",
       "      <td>13</td>\n",
       "    </tr>\n",
       "  </tbody>\n",
       "</table>\n",
       "</div>"
      ],
      "text/plain": [
       "                                            Country  Energy Supply  \\\n",
       "41                                             Chad   7.700000e+07   \n",
       "42                                            Chile   1.613000e+09   \n",
       "43                                           China2   1.271910e+11   \n",
       "44  China, Hong Kong Special Administrative Region3   5.850000e+08   \n",
       "45      China, Macao Special Administrative Region4   4.700000e+07   \n",
       "46                                         Colombia   1.513000e+09   \n",
       "47                                          Comoros   5.000000e+06   \n",
       "48                                            Congo   1.020000e+08   \n",
       "49                                     Cook Islands   1.000000e+06   \n",
       "50                                       Costa Rica   2.220000e+08   \n",
       "51                                    Côte d'Ivoire   5.470000e+08   \n",
       "52                                          Croatia   3.210000e+08   \n",
       "53                                             Cuba   5.850000e+08   \n",
       "54                                          Curaçao   7.800000e+07   \n",
       "55                                           Cyprus   8.200000e+07   \n",
       "56                                   Czech Republic   1.751000e+09   \n",
       "57            Democratic People's Republic of Korea   6.120000e+08   \n",
       "58                 Democratic Republic of the Congo   8.880000e+08   \n",
       "59                                         Denmark5   7.250000e+08   \n",
       "60                                         Djibouti   1.100000e+07   \n",
       "\n",
       "   Energy Supply per Capita  \n",
       "41                        6  \n",
       "42                       92  \n",
       "43                       93  \n",
       "44                       82  \n",
       "45                       83  \n",
       "46                       32  \n",
       "47                        7  \n",
       "48                       23  \n",
       "49                       48  \n",
       "50                       47  \n",
       "51                       25  \n",
       "52                       75  \n",
       "53                       51  \n",
       "54                      502  \n",
       "55                       71  \n",
       "56                      166  \n",
       "57                       25  \n",
       "58                       12  \n",
       "59                      129  \n",
       "60                       13  "
      ]
     },
     "execution_count": 68,
     "metadata": {},
     "output_type": "execute_result"
    }
   ],
   "source": [
    "Energy.loc[:, [\"Country\", \"Energy Supply\", \"Energy Supply per Capita\"]].iloc[40:60, :]"
   ]
  },
  {
   "cell_type": "code",
   "execution_count": 29,
   "metadata": {
    "execution": {
     "iopub.execute_input": "2023-01-28T08:47:40.684923Z",
     "iopub.status.busy": "2023-01-28T08:47:40.684923Z",
     "iopub.status.idle": "2023-01-28T08:47:40.705435Z",
     "shell.execute_reply": "2023-01-28T08:47:40.705435Z",
     "shell.execute_reply.started": "2023-01-28T08:47:40.684923Z"
    },
    "tags": []
   },
   "outputs": [],
   "source": [
    "GDP = pd.read_csv(r\"D:/Introduction-to-Data-Science-in-Python/assignment3/assets/world_bank.csv\", skiprows = 4)"
   ]
  },
  {
   "cell_type": "code",
   "execution_count": 79,
   "metadata": {
    "execution": {
     "iopub.execute_input": "2023-01-28T04:26:46.432434Z",
     "iopub.status.busy": "2023-01-28T04:26:46.432434Z",
     "iopub.status.idle": "2023-01-28T04:26:46.444280Z",
     "shell.execute_reply": "2023-01-28T04:26:46.444280Z",
     "shell.execute_reply.started": "2023-01-28T04:26:46.432434Z"
    },
    "tags": []
   },
   "outputs": [
    {
     "data": {
      "text/plain": [
       "(264, 60)"
      ]
     },
     "execution_count": 79,
     "metadata": {},
     "output_type": "execute_result"
    }
   ],
   "source": [
    "GDP.shape"
   ]
  },
  {
   "cell_type": "code",
   "execution_count": 82,
   "metadata": {
    "execution": {
     "iopub.execute_input": "2023-01-28T04:28:12.503660Z",
     "iopub.status.busy": "2023-01-28T04:28:12.503660Z",
     "iopub.status.idle": "2023-01-28T04:28:12.517814Z",
     "shell.execute_reply": "2023-01-28T04:28:12.517814Z",
     "shell.execute_reply.started": "2023-01-28T04:28:12.503660Z"
    },
    "tags": []
   },
   "outputs": [
    {
     "data": {
      "text/html": [
       "<div>\n",
       "<style scoped>\n",
       "    .dataframe tbody tr th:only-of-type {\n",
       "        vertical-align: middle;\n",
       "    }\n",
       "\n",
       "    .dataframe tbody tr th {\n",
       "        vertical-align: top;\n",
       "    }\n",
       "\n",
       "    .dataframe thead th {\n",
       "        text-align: right;\n",
       "    }\n",
       "</style>\n",
       "<table border=\"1\" class=\"dataframe\">\n",
       "  <thead>\n",
       "    <tr style=\"text-align: right;\">\n",
       "      <th></th>\n",
       "      <th>Country Name</th>\n",
       "      <th>Country Code</th>\n",
       "      <th>Indicator Name</th>\n",
       "      <th>Indicator Code</th>\n",
       "      <th>1960</th>\n",
       "      <th>1961</th>\n",
       "      <th>1962</th>\n",
       "      <th>1963</th>\n",
       "      <th>1964</th>\n",
       "      <th>1965</th>\n",
       "      <th>...</th>\n",
       "      <th>2006</th>\n",
       "      <th>2007</th>\n",
       "      <th>2008</th>\n",
       "      <th>2009</th>\n",
       "      <th>2010</th>\n",
       "      <th>2011</th>\n",
       "      <th>2012</th>\n",
       "      <th>2013</th>\n",
       "      <th>2014</th>\n",
       "      <th>2015</th>\n",
       "    </tr>\n",
       "  </thead>\n",
       "  <tbody>\n",
       "    <tr>\n",
       "      <th>0</th>\n",
       "      <td>Aruba</td>\n",
       "      <td>ABW</td>\n",
       "      <td>GDP at market prices (constant 2010 US$)</td>\n",
       "      <td>NY.GDP.MKTP.KD</td>\n",
       "      <td>NaN</td>\n",
       "      <td>NaN</td>\n",
       "      <td>NaN</td>\n",
       "      <td>NaN</td>\n",
       "      <td>NaN</td>\n",
       "      <td>NaN</td>\n",
       "      <td>...</td>\n",
       "      <td>NaN</td>\n",
       "      <td>NaN</td>\n",
       "      <td>NaN</td>\n",
       "      <td>NaN</td>\n",
       "      <td>2.467704e+09</td>\n",
       "      <td>NaN</td>\n",
       "      <td>NaN</td>\n",
       "      <td>NaN</td>\n",
       "      <td>NaN</td>\n",
       "      <td>NaN</td>\n",
       "    </tr>\n",
       "    <tr>\n",
       "      <th>1</th>\n",
       "      <td>Andorra</td>\n",
       "      <td>AND</td>\n",
       "      <td>GDP at market prices (constant 2010 US$)</td>\n",
       "      <td>NY.GDP.MKTP.KD</td>\n",
       "      <td>NaN</td>\n",
       "      <td>NaN</td>\n",
       "      <td>NaN</td>\n",
       "      <td>NaN</td>\n",
       "      <td>NaN</td>\n",
       "      <td>NaN</td>\n",
       "      <td>...</td>\n",
       "      <td>4.018196e+09</td>\n",
       "      <td>4.021331e+09</td>\n",
       "      <td>3.675728e+09</td>\n",
       "      <td>3.535389e+09</td>\n",
       "      <td>3.346317e+09</td>\n",
       "      <td>3.185605e+09</td>\n",
       "      <td>3.129538e+09</td>\n",
       "      <td>3.127550e+09</td>\n",
       "      <td>NaN</td>\n",
       "      <td>NaN</td>\n",
       "    </tr>\n",
       "  </tbody>\n",
       "</table>\n",
       "<p>2 rows × 60 columns</p>\n",
       "</div>"
      ],
      "text/plain": [
       "  Country Name Country Code                            Indicator Name  \\\n",
       "0        Aruba          ABW  GDP at market prices (constant 2010 US$)   \n",
       "1      Andorra          AND  GDP at market prices (constant 2010 US$)   \n",
       "\n",
       "   Indicator Code  1960  1961  1962  1963  1964  1965  ...          2006  \\\n",
       "0  NY.GDP.MKTP.KD   NaN   NaN   NaN   NaN   NaN   NaN  ...           NaN   \n",
       "1  NY.GDP.MKTP.KD   NaN   NaN   NaN   NaN   NaN   NaN  ...  4.018196e+09   \n",
       "\n",
       "           2007          2008          2009          2010          2011  \\\n",
       "0           NaN           NaN           NaN  2.467704e+09           NaN   \n",
       "1  4.021331e+09  3.675728e+09  3.535389e+09  3.346317e+09  3.185605e+09   \n",
       "\n",
       "           2012          2013  2014  2015  \n",
       "0           NaN           NaN   NaN   NaN  \n",
       "1  3.129538e+09  3.127550e+09   NaN   NaN  \n",
       "\n",
       "[2 rows x 60 columns]"
      ]
     },
     "execution_count": 82,
     "metadata": {},
     "output_type": "execute_result"
    }
   ],
   "source": [
    "GDP.head(2)"
   ]
  },
  {
   "cell_type": "code",
   "execution_count": 85,
   "metadata": {
    "execution": {
     "iopub.execute_input": "2023-01-28T04:29:44.908034Z",
     "iopub.status.busy": "2023-01-28T04:29:44.908034Z",
     "iopub.status.idle": "2023-01-28T04:29:44.923995Z",
     "shell.execute_reply": "2023-01-28T04:29:44.923995Z",
     "shell.execute_reply.started": "2023-01-28T04:29:44.908034Z"
    },
    "tags": []
   },
   "outputs": [],
   "source": [
    "rename_dict = {\"Korea, Rep.\": \"South Korea\",  \"Iran, Islamic Rep.\": \"Iran\", \"Hong Kong SAR, China\": \"Hong Kong\"}\n",
    "\n",
    "GDP.loc[:, \"Country Name\"] = GDP.loc[:, \"Country Name\"].apply(lambda cname: rename_dict.get(cname) if cname in rename_dict.keys() else cname)"
   ]
  },
  {
   "cell_type": "code",
   "execution_count": 125,
   "metadata": {
    "execution": {
     "iopub.execute_input": "2023-01-28T04:49:47.182612Z",
     "iopub.status.busy": "2023-01-28T04:49:47.182612Z",
     "iopub.status.idle": "2023-01-28T04:49:47.208730Z",
     "shell.execute_reply": "2023-01-28T04:49:47.208730Z",
     "shell.execute_reply.started": "2023-01-28T04:49:47.182612Z"
    },
    "tags": []
   },
   "outputs": [
    {
     "data": {
      "text/html": [
       "<div>\n",
       "<style scoped>\n",
       "    .dataframe tbody tr th:only-of-type {\n",
       "        vertical-align: middle;\n",
       "    }\n",
       "\n",
       "    .dataframe tbody tr th {\n",
       "        vertical-align: top;\n",
       "    }\n",
       "\n",
       "    .dataframe thead th {\n",
       "        text-align: right;\n",
       "    }\n",
       "</style>\n",
       "<table border=\"1\" class=\"dataframe\">\n",
       "  <thead>\n",
       "    <tr style=\"text-align: right;\">\n",
       "      <th></th>\n",
       "      <th>Country</th>\n",
       "      <th>Country Code</th>\n",
       "      <th>Indicator Name</th>\n",
       "      <th>2006</th>\n",
       "      <th>2007</th>\n",
       "      <th>2008</th>\n",
       "      <th>2009</th>\n",
       "      <th>2010</th>\n",
       "      <th>2011</th>\n",
       "      <th>2012</th>\n",
       "      <th>2013</th>\n",
       "      <th>2014</th>\n",
       "      <th>2015</th>\n",
       "    </tr>\n",
       "  </thead>\n",
       "  <tbody>\n",
       "    <tr>\n",
       "      <th>0</th>\n",
       "      <td>Aruba</td>\n",
       "      <td>ABW</td>\n",
       "      <td>GDP at market prices (constant 2010 US$)</td>\n",
       "      <td>NaN</td>\n",
       "      <td>NaN</td>\n",
       "      <td>NaN</td>\n",
       "      <td>NaN</td>\n",
       "      <td>2.467704e+09</td>\n",
       "      <td>NaN</td>\n",
       "      <td>NaN</td>\n",
       "      <td>NaN</td>\n",
       "      <td>NaN</td>\n",
       "      <td>NaN</td>\n",
       "    </tr>\n",
       "    <tr>\n",
       "      <th>1</th>\n",
       "      <td>Andorra</td>\n",
       "      <td>AND</td>\n",
       "      <td>GDP at market prices (constant 2010 US$)</td>\n",
       "      <td>4.018196e+09</td>\n",
       "      <td>4.021331e+09</td>\n",
       "      <td>3.675728e+09</td>\n",
       "      <td>3.535389e+09</td>\n",
       "      <td>3.346317e+09</td>\n",
       "      <td>3.185605e+09</td>\n",
       "      <td>3.129538e+09</td>\n",
       "      <td>3.127550e+09</td>\n",
       "      <td>NaN</td>\n",
       "      <td>NaN</td>\n",
       "    </tr>\n",
       "    <tr>\n",
       "      <th>2</th>\n",
       "      <td>Afghanistan</td>\n",
       "      <td>AFG</td>\n",
       "      <td>GDP at market prices (constant 2010 US$)</td>\n",
       "      <td>1.030523e+10</td>\n",
       "      <td>1.172119e+10</td>\n",
       "      <td>1.214448e+10</td>\n",
       "      <td>1.469733e+10</td>\n",
       "      <td>1.593680e+10</td>\n",
       "      <td>1.691113e+10</td>\n",
       "      <td>1.935220e+10</td>\n",
       "      <td>1.973134e+10</td>\n",
       "      <td>1.999032e+10</td>\n",
       "      <td>2.029415e+10</td>\n",
       "    </tr>\n",
       "  </tbody>\n",
       "</table>\n",
       "</div>"
      ],
      "text/plain": [
       "       Country Country Code                            Indicator Name  \\\n",
       "0        Aruba          ABW  GDP at market prices (constant 2010 US$)   \n",
       "1      Andorra          AND  GDP at market prices (constant 2010 US$)   \n",
       "2  Afghanistan          AFG  GDP at market prices (constant 2010 US$)   \n",
       "\n",
       "           2006          2007          2008          2009          2010  \\\n",
       "0           NaN           NaN           NaN           NaN  2.467704e+09   \n",
       "1  4.018196e+09  4.021331e+09  3.675728e+09  3.535389e+09  3.346317e+09   \n",
       "2  1.030523e+10  1.172119e+10  1.214448e+10  1.469733e+10  1.593680e+10   \n",
       "\n",
       "           2011          2012          2013          2014          2015  \n",
       "0           NaN           NaN           NaN           NaN           NaN  \n",
       "1  3.185605e+09  3.129538e+09  3.127550e+09           NaN           NaN  \n",
       "2  1.691113e+10  1.935220e+10  1.973134e+10  1.999032e+10  2.029415e+10  "
      ]
     },
     "execution_count": 125,
     "metadata": {},
     "output_type": "execute_result"
    }
   ],
   "source": [
    "GDP.loc[:, list(GDP.columns[0:3]) + list(GDP.columns[-10:])].head(3)"
   ]
  },
  {
   "cell_type": "code",
   "execution_count": 87,
   "metadata": {
    "execution": {
     "iopub.execute_input": "2023-01-28T04:30:28.709319Z",
     "iopub.status.busy": "2023-01-28T04:30:28.709319Z",
     "iopub.status.idle": "2023-01-28T04:30:28.732897Z",
     "shell.execute_reply": "2023-01-28T04:30:28.732897Z",
     "shell.execute_reply.started": "2023-01-28T04:30:28.709319Z"
    },
    "tags": []
   },
   "outputs": [
    {
     "data": {
      "text/html": [
       "<div>\n",
       "<style scoped>\n",
       "    .dataframe tbody tr th:only-of-type {\n",
       "        vertical-align: middle;\n",
       "    }\n",
       "\n",
       "    .dataframe tbody tr th {\n",
       "        vertical-align: top;\n",
       "    }\n",
       "\n",
       "    .dataframe thead th {\n",
       "        text-align: right;\n",
       "    }\n",
       "</style>\n",
       "<table border=\"1\" class=\"dataframe\">\n",
       "  <thead>\n",
       "    <tr style=\"text-align: right;\">\n",
       "      <th></th>\n",
       "      <th>Country Name</th>\n",
       "      <th>Country Code</th>\n",
       "      <th>Indicator Name</th>\n",
       "      <th>Indicator Code</th>\n",
       "      <th>1960</th>\n",
       "      <th>1961</th>\n",
       "      <th>1962</th>\n",
       "      <th>1963</th>\n",
       "      <th>1964</th>\n",
       "      <th>1965</th>\n",
       "      <th>...</th>\n",
       "      <th>2006</th>\n",
       "      <th>2007</th>\n",
       "      <th>2008</th>\n",
       "      <th>2009</th>\n",
       "      <th>2010</th>\n",
       "      <th>2011</th>\n",
       "      <th>2012</th>\n",
       "      <th>2013</th>\n",
       "      <th>2014</th>\n",
       "      <th>2015</th>\n",
       "    </tr>\n",
       "  </thead>\n",
       "  <tbody>\n",
       "    <tr>\n",
       "      <th>261</th>\n",
       "      <td>Congo, Dem. Rep.</td>\n",
       "      <td>COD</td>\n",
       "      <td>GDP at market prices (constant 2010 US$)</td>\n",
       "      <td>NY.GDP.MKTP.KD</td>\n",
       "      <td>1.508024e+10</td>\n",
       "      <td>1.344383e+10</td>\n",
       "      <td>1.629401e+10</td>\n",
       "      <td>1.714358e+10</td>\n",
       "      <td>1.672524e+10</td>\n",
       "      <td>1.689205e+10</td>\n",
       "      <td>...</td>\n",
       "      <td>1.650894e+10</td>\n",
       "      <td>1.754232e+10</td>\n",
       "      <td>1.863448e+10</td>\n",
       "      <td>1.916651e+10</td>\n",
       "      <td>2.052329e+10</td>\n",
       "      <td>2.193213e+10</td>\n",
       "      <td>2.350200e+10</td>\n",
       "      <td>2.550050e+10</td>\n",
       "      <td>2.778776e+10</td>\n",
       "      <td>2.970961e+10</td>\n",
       "    </tr>\n",
       "    <tr>\n",
       "      <th>262</th>\n",
       "      <td>Zambia</td>\n",
       "      <td>ZMB</td>\n",
       "      <td>GDP at market prices (constant 2010 US$)</td>\n",
       "      <td>NY.GDP.MKTP.KD</td>\n",
       "      <td>4.592975e+09</td>\n",
       "      <td>4.655503e+09</td>\n",
       "      <td>4.539542e+09</td>\n",
       "      <td>4.688093e+09</td>\n",
       "      <td>5.260699e+09</td>\n",
       "      <td>6.136472e+09</td>\n",
       "      <td>...</td>\n",
       "      <td>1.440569e+10</td>\n",
       "      <td>1.560892e+10</td>\n",
       "      <td>1.682234e+10</td>\n",
       "      <td>1.837342e+10</td>\n",
       "      <td>2.026555e+10</td>\n",
       "      <td>2.140358e+10</td>\n",
       "      <td>2.302438e+10</td>\n",
       "      <td>2.420595e+10</td>\n",
       "      <td>2.542227e+10</td>\n",
       "      <td>2.624127e+10</td>\n",
       "    </tr>\n",
       "    <tr>\n",
       "      <th>263</th>\n",
       "      <td>Zimbabwe</td>\n",
       "      <td>ZWE</td>\n",
       "      <td>GDP at market prices (constant 2010 US$)</td>\n",
       "      <td>NY.GDP.MKTP.KD</td>\n",
       "      <td>3.338344e+09</td>\n",
       "      <td>3.549199e+09</td>\n",
       "      <td>3.600111e+09</td>\n",
       "      <td>3.824915e+09</td>\n",
       "      <td>3.782605e+09</td>\n",
       "      <td>3.968352e+09</td>\n",
       "      <td>...</td>\n",
       "      <td>1.006276e+10</td>\n",
       "      <td>9.695130e+09</td>\n",
       "      <td>7.982103e+09</td>\n",
       "      <td>8.459783e+09</td>\n",
       "      <td>9.422161e+09</td>\n",
       "      <td>1.054391e+10</td>\n",
       "      <td>1.165789e+10</td>\n",
       "      <td>1.218064e+10</td>\n",
       "      <td>1.264939e+10</td>\n",
       "      <td>1.278517e+10</td>\n",
       "    </tr>\n",
       "  </tbody>\n",
       "</table>\n",
       "<p>3 rows × 60 columns</p>\n",
       "</div>"
      ],
      "text/plain": [
       "         Country Name Country Code                            Indicator Name  \\\n",
       "261  Congo, Dem. Rep.          COD  GDP at market prices (constant 2010 US$)   \n",
       "262            Zambia          ZMB  GDP at market prices (constant 2010 US$)   \n",
       "263          Zimbabwe          ZWE  GDP at market prices (constant 2010 US$)   \n",
       "\n",
       "     Indicator Code          1960          1961          1962          1963  \\\n",
       "261  NY.GDP.MKTP.KD  1.508024e+10  1.344383e+10  1.629401e+10  1.714358e+10   \n",
       "262  NY.GDP.MKTP.KD  4.592975e+09  4.655503e+09  4.539542e+09  4.688093e+09   \n",
       "263  NY.GDP.MKTP.KD  3.338344e+09  3.549199e+09  3.600111e+09  3.824915e+09   \n",
       "\n",
       "             1964          1965  ...          2006          2007  \\\n",
       "261  1.672524e+10  1.689205e+10  ...  1.650894e+10  1.754232e+10   \n",
       "262  5.260699e+09  6.136472e+09  ...  1.440569e+10  1.560892e+10   \n",
       "263  3.782605e+09  3.968352e+09  ...  1.006276e+10  9.695130e+09   \n",
       "\n",
       "             2008          2009          2010          2011          2012  \\\n",
       "261  1.863448e+10  1.916651e+10  2.052329e+10  2.193213e+10  2.350200e+10   \n",
       "262  1.682234e+10  1.837342e+10  2.026555e+10  2.140358e+10  2.302438e+10   \n",
       "263  7.982103e+09  8.459783e+09  9.422161e+09  1.054391e+10  1.165789e+10   \n",
       "\n",
       "             2013          2014          2015  \n",
       "261  2.550050e+10  2.778776e+10  2.970961e+10  \n",
       "262  2.420595e+10  2.542227e+10  2.624127e+10  \n",
       "263  1.218064e+10  1.264939e+10  1.278517e+10  \n",
       "\n",
       "[3 rows x 60 columns]"
      ]
     },
     "execution_count": 87,
     "metadata": {},
     "output_type": "execute_result"
    }
   ],
   "source": [
    "GDP.tail(3)"
   ]
  },
  {
   "cell_type": "code",
   "execution_count": 114,
   "metadata": {
    "execution": {
     "iopub.execute_input": "2023-01-28T04:38:41.877660Z",
     "iopub.status.busy": "2023-01-28T04:38:41.877660Z",
     "iopub.status.idle": "2023-01-28T04:38:41.921195Z",
     "shell.execute_reply": "2023-01-28T04:38:41.921195Z",
     "shell.execute_reply.started": "2023-01-28T04:38:41.877660Z"
    },
    "tags": []
   },
   "outputs": [
    {
     "data": {
      "text/html": [
       "<div>\n",
       "<style scoped>\n",
       "    .dataframe tbody tr th:only-of-type {\n",
       "        vertical-align: middle;\n",
       "    }\n",
       "\n",
       "    .dataframe tbody tr th {\n",
       "        vertical-align: top;\n",
       "    }\n",
       "\n",
       "    .dataframe thead th {\n",
       "        text-align: right;\n",
       "    }\n",
       "</style>\n",
       "<table border=\"1\" class=\"dataframe\">\n",
       "  <thead>\n",
       "    <tr style=\"text-align: right;\">\n",
       "      <th></th>\n",
       "      <th>Rank</th>\n",
       "      <th>Country</th>\n",
       "      <th>Documents</th>\n",
       "      <th>Citable documents</th>\n",
       "      <th>Citations</th>\n",
       "      <th>Self-citations</th>\n",
       "      <th>Citations per document</th>\n",
       "      <th>H index</th>\n",
       "    </tr>\n",
       "  </thead>\n",
       "  <tbody>\n",
       "    <tr>\n",
       "      <th>0</th>\n",
       "      <td>1</td>\n",
       "      <td>China</td>\n",
       "      <td>127050</td>\n",
       "      <td>126767</td>\n",
       "      <td>597237</td>\n",
       "      <td>411683</td>\n",
       "      <td>4.70</td>\n",
       "      <td>138</td>\n",
       "    </tr>\n",
       "    <tr>\n",
       "      <th>1</th>\n",
       "      <td>2</td>\n",
       "      <td>United States</td>\n",
       "      <td>96661</td>\n",
       "      <td>94747</td>\n",
       "      <td>792274</td>\n",
       "      <td>265436</td>\n",
       "      <td>8.20</td>\n",
       "      <td>230</td>\n",
       "    </tr>\n",
       "    <tr>\n",
       "      <th>2</th>\n",
       "      <td>3</td>\n",
       "      <td>Japan</td>\n",
       "      <td>30504</td>\n",
       "      <td>30287</td>\n",
       "      <td>223024</td>\n",
       "      <td>61554</td>\n",
       "      <td>7.31</td>\n",
       "      <td>134</td>\n",
       "    </tr>\n",
       "    <tr>\n",
       "      <th>3</th>\n",
       "      <td>4</td>\n",
       "      <td>United Kingdom</td>\n",
       "      <td>20944</td>\n",
       "      <td>20357</td>\n",
       "      <td>206091</td>\n",
       "      <td>37874</td>\n",
       "      <td>9.84</td>\n",
       "      <td>139</td>\n",
       "    </tr>\n",
       "    <tr>\n",
       "      <th>4</th>\n",
       "      <td>5</td>\n",
       "      <td>Russian Federation</td>\n",
       "      <td>18534</td>\n",
       "      <td>18301</td>\n",
       "      <td>34266</td>\n",
       "      <td>12422</td>\n",
       "      <td>1.85</td>\n",
       "      <td>57</td>\n",
       "    </tr>\n",
       "  </tbody>\n",
       "</table>\n",
       "</div>"
      ],
      "text/plain": [
       "   Rank             Country  Documents  Citable documents  Citations  \\\n",
       "0     1               China     127050             126767     597237   \n",
       "1     2       United States      96661              94747     792274   \n",
       "2     3               Japan      30504              30287     223024   \n",
       "3     4      United Kingdom      20944              20357     206091   \n",
       "4     5  Russian Federation      18534              18301      34266   \n",
       "\n",
       "   Self-citations  Citations per document  H index  \n",
       "0          411683                    4.70      138  \n",
       "1          265436                    8.20      230  \n",
       "2           61554                    7.31      134  \n",
       "3           37874                    9.84      139  \n",
       "4           12422                    1.85       57  "
      ]
     },
     "execution_count": 114,
     "metadata": {},
     "output_type": "execute_result"
    }
   ],
   "source": [
    "ScimEn = pd.read_excel(r\"D:/Introduction-to-Data-Science-in-Python/assignment3/assets/scimagojr-3.xlsx\")\n",
    "ScimEn.head()"
   ]
  },
  {
   "cell_type": "code",
   "execution_count": 118,
   "metadata": {
    "execution": {
     "iopub.execute_input": "2023-01-28T04:42:17.687537Z",
     "iopub.status.busy": "2023-01-28T04:42:17.687537Z",
     "iopub.status.idle": "2023-01-28T04:42:17.696589Z",
     "shell.execute_reply": "2023-01-28T04:42:17.696589Z",
     "shell.execute_reply.started": "2023-01-28T04:42:17.687537Z"
    },
    "tags": []
   },
   "outputs": [],
   "source": [
    "GDP.rename({\"Country Name\": \"Country\"}, axis = 1, inplace = True)"
   ]
  },
  {
   "cell_type": "code",
   "execution_count": 129,
   "metadata": {
    "execution": {
     "iopub.execute_input": "2023-01-28T04:52:06.382387Z",
     "iopub.status.busy": "2023-01-28T04:52:06.382387Z",
     "iopub.status.idle": "2023-01-28T04:52:06.392859Z",
     "shell.execute_reply": "2023-01-28T04:52:06.392859Z",
     "shell.execute_reply.started": "2023-01-28T04:52:06.382387Z"
    },
    "tags": []
   },
   "outputs": [
    {
     "data": {
      "text/plain": [
       "{'Brazil',\n",
       " 'Canada',\n",
       " 'Germany',\n",
       " 'India',\n",
       " 'Iran',\n",
       " 'Russian Federation',\n",
       " 'South Korea'}"
      ]
     },
     "execution_count": 129,
     "metadata": {},
     "output_type": "execute_result"
    }
   ],
   "source": [
    "set(GDP.Country).intersection(set(ScimEn.Country[:15])).intersection(set(Energy.Country))"
   ]
  },
  {
   "cell_type": "code",
   "execution_count": 124,
   "metadata": {
    "execution": {
     "iopub.execute_input": "2023-01-28T04:47:52.707772Z",
     "iopub.status.busy": "2023-01-28T04:47:52.707772Z",
     "iopub.status.idle": "2023-01-28T04:47:52.735703Z",
     "shell.execute_reply": "2023-01-28T04:47:52.735703Z",
     "shell.execute_reply.started": "2023-01-28T04:47:52.707772Z"
    },
    "tags": []
   },
   "outputs": [
    {
     "data": {
      "text/html": [
       "<div>\n",
       "<style scoped>\n",
       "    .dataframe tbody tr th:only-of-type {\n",
       "        vertical-align: middle;\n",
       "    }\n",
       "\n",
       "    .dataframe tbody tr th {\n",
       "        vertical-align: top;\n",
       "    }\n",
       "\n",
       "    .dataframe thead th {\n",
       "        text-align: right;\n",
       "    }\n",
       "</style>\n",
       "<table border=\"1\" class=\"dataframe\">\n",
       "  <thead>\n",
       "    <tr style=\"text-align: right;\">\n",
       "      <th></th>\n",
       "      <th>Rank</th>\n",
       "      <th>Country</th>\n",
       "      <th>Documents</th>\n",
       "      <th>Citable documents</th>\n",
       "      <th>Citations</th>\n",
       "      <th>Self-citations</th>\n",
       "      <th>Citations per document</th>\n",
       "      <th>H index</th>\n",
       "      <th>Energy Supply</th>\n",
       "      <th>Energy Supply per Capita</th>\n",
       "      <th>...</th>\n",
       "      <th>2006</th>\n",
       "      <th>2007</th>\n",
       "      <th>2008</th>\n",
       "      <th>2009</th>\n",
       "      <th>2010</th>\n",
       "      <th>2011</th>\n",
       "      <th>2012</th>\n",
       "      <th>2013</th>\n",
       "      <th>2014</th>\n",
       "      <th>2015</th>\n",
       "    </tr>\n",
       "  </thead>\n",
       "  <tbody>\n",
       "    <tr>\n",
       "      <th>0</th>\n",
       "      <td>5</td>\n",
       "      <td>Russian Federation</td>\n",
       "      <td>18534</td>\n",
       "      <td>18301</td>\n",
       "      <td>34266</td>\n",
       "      <td>12422</td>\n",
       "      <td>1.85</td>\n",
       "      <td>57</td>\n",
       "      <td>3.070900e+10</td>\n",
       "      <td>214</td>\n",
       "      <td>...</td>\n",
       "      <td>1.385793e+12</td>\n",
       "      <td>1.504071e+12</td>\n",
       "      <td>1.583004e+12</td>\n",
       "      <td>1.459199e+12</td>\n",
       "      <td>1.524917e+12</td>\n",
       "      <td>1.589943e+12</td>\n",
       "      <td>1.645876e+12</td>\n",
       "      <td>1.666934e+12</td>\n",
       "      <td>1.678709e+12</td>\n",
       "      <td>1.616149e+12</td>\n",
       "    </tr>\n",
       "    <tr>\n",
       "      <th>1</th>\n",
       "      <td>6</td>\n",
       "      <td>Canada</td>\n",
       "      <td>17899</td>\n",
       "      <td>17620</td>\n",
       "      <td>215003</td>\n",
       "      <td>40930</td>\n",
       "      <td>12.01</td>\n",
       "      <td>149</td>\n",
       "      <td>1.043100e+10</td>\n",
       "      <td>296</td>\n",
       "      <td>...</td>\n",
       "      <td>1.564469e+12</td>\n",
       "      <td>1.596740e+12</td>\n",
       "      <td>1.612713e+12</td>\n",
       "      <td>1.565145e+12</td>\n",
       "      <td>1.613406e+12</td>\n",
       "      <td>1.664087e+12</td>\n",
       "      <td>1.693133e+12</td>\n",
       "      <td>1.730688e+12</td>\n",
       "      <td>1.773486e+12</td>\n",
       "      <td>1.792609e+12</td>\n",
       "    </tr>\n",
       "    <tr>\n",
       "      <th>2</th>\n",
       "      <td>7</td>\n",
       "      <td>Germany</td>\n",
       "      <td>17027</td>\n",
       "      <td>16831</td>\n",
       "      <td>140566</td>\n",
       "      <td>27426</td>\n",
       "      <td>8.26</td>\n",
       "      <td>126</td>\n",
       "      <td>1.326100e+10</td>\n",
       "      <td>165</td>\n",
       "      <td>...</td>\n",
       "      <td>3.332891e+12</td>\n",
       "      <td>3.441561e+12</td>\n",
       "      <td>3.478809e+12</td>\n",
       "      <td>3.283340e+12</td>\n",
       "      <td>3.417298e+12</td>\n",
       "      <td>3.542371e+12</td>\n",
       "      <td>3.556724e+12</td>\n",
       "      <td>3.567317e+12</td>\n",
       "      <td>3.624386e+12</td>\n",
       "      <td>3.685556e+12</td>\n",
       "    </tr>\n",
       "    <tr>\n",
       "      <th>3</th>\n",
       "      <td>8</td>\n",
       "      <td>India</td>\n",
       "      <td>15005</td>\n",
       "      <td>14841</td>\n",
       "      <td>128763</td>\n",
       "      <td>37209</td>\n",
       "      <td>8.58</td>\n",
       "      <td>115</td>\n",
       "      <td>3.319500e+10</td>\n",
       "      <td>26</td>\n",
       "      <td>...</td>\n",
       "      <td>1.265894e+12</td>\n",
       "      <td>1.374865e+12</td>\n",
       "      <td>1.428361e+12</td>\n",
       "      <td>1.549483e+12</td>\n",
       "      <td>1.708459e+12</td>\n",
       "      <td>1.821872e+12</td>\n",
       "      <td>1.924235e+12</td>\n",
       "      <td>2.051982e+12</td>\n",
       "      <td>2.200617e+12</td>\n",
       "      <td>2.367206e+12</td>\n",
       "    </tr>\n",
       "    <tr>\n",
       "      <th>4</th>\n",
       "      <td>10</td>\n",
       "      <td>South Korea</td>\n",
       "      <td>11983</td>\n",
       "      <td>11923</td>\n",
       "      <td>114675</td>\n",
       "      <td>22595</td>\n",
       "      <td>9.57</td>\n",
       "      <td>104</td>\n",
       "      <td>1.100700e+10</td>\n",
       "      <td>221</td>\n",
       "      <td>...</td>\n",
       "      <td>9.410199e+11</td>\n",
       "      <td>9.924316e+11</td>\n",
       "      <td>1.020510e+12</td>\n",
       "      <td>1.027730e+12</td>\n",
       "      <td>1.094499e+12</td>\n",
       "      <td>1.134796e+12</td>\n",
       "      <td>1.160809e+12</td>\n",
       "      <td>1.194429e+12</td>\n",
       "      <td>1.234340e+12</td>\n",
       "      <td>1.266580e+12</td>\n",
       "    </tr>\n",
       "    <tr>\n",
       "      <th>5</th>\n",
       "      <td>13</td>\n",
       "      <td>Iran</td>\n",
       "      <td>8896</td>\n",
       "      <td>8819</td>\n",
       "      <td>57470</td>\n",
       "      <td>19125</td>\n",
       "      <td>6.46</td>\n",
       "      <td>72</td>\n",
       "      <td>9.172000e+09</td>\n",
       "      <td>119</td>\n",
       "      <td>...</td>\n",
       "      <td>3.895523e+11</td>\n",
       "      <td>4.250646e+11</td>\n",
       "      <td>4.289909e+11</td>\n",
       "      <td>4.389208e+11</td>\n",
       "      <td>4.677902e+11</td>\n",
       "      <td>4.853309e+11</td>\n",
       "      <td>4.532569e+11</td>\n",
       "      <td>4.445926e+11</td>\n",
       "      <td>4.639027e+11</td>\n",
       "      <td>NaN</td>\n",
       "    </tr>\n",
       "    <tr>\n",
       "      <th>6</th>\n",
       "      <td>15</td>\n",
       "      <td>Brazil</td>\n",
       "      <td>8668</td>\n",
       "      <td>8596</td>\n",
       "      <td>60702</td>\n",
       "      <td>14396</td>\n",
       "      <td>7.00</td>\n",
       "      <td>86</td>\n",
       "      <td>1.214900e+10</td>\n",
       "      <td>59</td>\n",
       "      <td>...</td>\n",
       "      <td>1.845080e+12</td>\n",
       "      <td>1.957118e+12</td>\n",
       "      <td>2.056809e+12</td>\n",
       "      <td>2.054215e+12</td>\n",
       "      <td>2.208872e+12</td>\n",
       "      <td>2.295245e+12</td>\n",
       "      <td>2.339209e+12</td>\n",
       "      <td>2.409740e+12</td>\n",
       "      <td>2.412231e+12</td>\n",
       "      <td>2.319423e+12</td>\n",
       "    </tr>\n",
       "  </tbody>\n",
       "</table>\n",
       "<p>7 rows × 23 columns</p>\n",
       "</div>"
      ],
      "text/plain": [
       "   Rank             Country  Documents  Citable documents  Citations  \\\n",
       "0     5  Russian Federation      18534              18301      34266   \n",
       "1     6              Canada      17899              17620     215003   \n",
       "2     7             Germany      17027              16831     140566   \n",
       "3     8               India      15005              14841     128763   \n",
       "4    10         South Korea      11983              11923     114675   \n",
       "5    13                Iran       8896               8819      57470   \n",
       "6    15              Brazil       8668               8596      60702   \n",
       "\n",
       "   Self-citations  Citations per document  H index  Energy Supply  \\\n",
       "0           12422                    1.85       57   3.070900e+10   \n",
       "1           40930                   12.01      149   1.043100e+10   \n",
       "2           27426                    8.26      126   1.326100e+10   \n",
       "3           37209                    8.58      115   3.319500e+10   \n",
       "4           22595                    9.57      104   1.100700e+10   \n",
       "5           19125                    6.46       72   9.172000e+09   \n",
       "6           14396                    7.00       86   1.214900e+10   \n",
       "\n",
       "  Energy Supply per Capita  ...          2006          2007          2008  \\\n",
       "0                      214  ...  1.385793e+12  1.504071e+12  1.583004e+12   \n",
       "1                      296  ...  1.564469e+12  1.596740e+12  1.612713e+12   \n",
       "2                      165  ...  3.332891e+12  3.441561e+12  3.478809e+12   \n",
       "3                       26  ...  1.265894e+12  1.374865e+12  1.428361e+12   \n",
       "4                      221  ...  9.410199e+11  9.924316e+11  1.020510e+12   \n",
       "5                      119  ...  3.895523e+11  4.250646e+11  4.289909e+11   \n",
       "6                       59  ...  1.845080e+12  1.957118e+12  2.056809e+12   \n",
       "\n",
       "           2009          2010          2011          2012          2013  \\\n",
       "0  1.459199e+12  1.524917e+12  1.589943e+12  1.645876e+12  1.666934e+12   \n",
       "1  1.565145e+12  1.613406e+12  1.664087e+12  1.693133e+12  1.730688e+12   \n",
       "2  3.283340e+12  3.417298e+12  3.542371e+12  3.556724e+12  3.567317e+12   \n",
       "3  1.549483e+12  1.708459e+12  1.821872e+12  1.924235e+12  2.051982e+12   \n",
       "4  1.027730e+12  1.094499e+12  1.134796e+12  1.160809e+12  1.194429e+12   \n",
       "5  4.389208e+11  4.677902e+11  4.853309e+11  4.532569e+11  4.445926e+11   \n",
       "6  2.054215e+12  2.208872e+12  2.295245e+12  2.339209e+12  2.409740e+12   \n",
       "\n",
       "           2014          2015  \n",
       "0  1.678709e+12  1.616149e+12  \n",
       "1  1.773486e+12  1.792609e+12  \n",
       "2  3.624386e+12  3.685556e+12  \n",
       "3  2.200617e+12  2.367206e+12  \n",
       "4  1.234340e+12  1.266580e+12  \n",
       "5  4.639027e+11           NaN  \n",
       "6  2.412231e+12  2.319423e+12  \n",
       "\n",
       "[7 rows x 23 columns]"
      ]
     },
     "execution_count": 124,
     "metadata": {},
     "output_type": "execute_result"
    }
   ],
   "source": [
    "# GDP.loc[:, list(GDP.columns[0:3]) + list(GDP.columns[-10:])]\n",
    "pd.merge(pd.merge(ScimEn.iloc[:15, :], Energy, on = \"Country\", how = \"inner\"),\n",
    "         GDP.loc[:, list(GDP.columns[0:3]) + list(GDP.columns[-10:])],\n",
    "         on = \"Country\", how = \"inner\")"
   ]
  },
  {
   "cell_type": "code",
   "execution_count": 2,
   "metadata": {
    "deletable": false,
    "execution": {
     "iopub.execute_input": "2023-01-29T00:40:08.890656Z",
     "iopub.status.busy": "2023-01-29T00:40:08.890656Z",
     "iopub.status.idle": "2023-01-29T00:40:08.902622Z",
     "shell.execute_reply": "2023-01-29T00:40:08.902622Z",
     "shell.execute_reply.started": "2023-01-29T00:40:08.890656Z"
    },
    "nbgrader": {
     "cell_type": "code",
     "checksum": "57e040f07954f979910eddc0f489ffe5",
     "grade": false,
     "grade_id": "cell-bce4d6f2ecdd1297",
     "locked": false,
     "schema_version": 3,
     "solution": true
    },
    "tags": []
   },
   "outputs": [],
   "source": [
    "def answer_one() -> pd.DataFrame:\n",
    "    \n",
    "    \n",
    "    ##############################\n",
    "    ####   Energy DataFrame   ####\n",
    "    ##############################\n",
    "    \n",
    "    # read in Energy \n",
    "    Energy = pd.read_excel(r\"D:/Introduction-to-Data-Science-in-Python/assignment3/assets/Energy Indicators.xls\",\n",
    "                           skipfooter = 38, skiprows = 16)\n",
    "    # rename the columns\n",
    "    new_names = ['Country', 'Energy Supply', 'Energy Supply per Capita', '% Renewable']\n",
    "    Energy = Energy.drop([\"Unnamed: 0\", \"Unnamed: 1\"], axis = 1).drop(0, axis = 0) \\\n",
    "                .rename({prev_name: new_name for (prev_name, new_name) in zip(Energy.columns[2:], new_names)}, axis = 1)\n",
    "    \n",
    "    # convert PetaJoules to GigaJoules\n",
    "    # and replace ellipsis with np.nan\n",
    "    Energy[\"Energy Supply\"] = Energy.loc[:, \"Energy Supply\"].apply(lambda value: value *  1_000_000 if value != \"...\" else np.nan)\n",
    "    \n",
    "    # rename the countries\n",
    "    rename_dict = {\"Republic of Korea\": \"South Korea\", \"United States of America\": \"United States\",\n",
    "               \"United Kingdom of Great Britain and Northern Ireland\": \"United Kingdom\",\n",
    "               \"China, Hong Kong Special Administrative Region\": \"Hong Kong\"}\n",
    "    Energy.Country = Energy.Country.apply(lambda country: rename_dict.get(country) if country in rename_dict.keys() else country)\n",
    "    \n",
    "    # strip country names with parentheses\n",
    "    _remove = re.compile(\"\\s[\\(][\\w\\s]+[\\)]\")\n",
    "    Energy.Country = Energy.Country.apply(lambda cname: re.split(_remove, cname)[0] if \"(\" in cname else cname)\n",
    "    Energy.Country = Energy.Country.str.strip()\n",
    "    \n",
    "    \n",
    "    ##############################\n",
    "    #####   GDP DataFrame   ######\n",
    "    ##############################\n",
    "    \n",
    "    # read in GDP\n",
    "    GDP = pd.read_csv(r\"D:/Introduction-to-Data-Science-in-Python/assignment3/assets/world_bank.csv\", skiprows = 4)\n",
    "    \n",
    "    # renaming countries \n",
    "    rename_dict = {\"Korea, Rep.\": \"South Korea\",  \"Iran, Islamic Rep.\": \"Iran\", \"Hong Kong SAR, China\": \"Hong Kong\"}\n",
    "    GDP.loc[:, \"Country Name\"] = GDP.loc[:, \"Country Name\"].apply(lambda cname: rename_dict.get(cname) if cname in rename_dict.keys() else cname)\n",
    "    GDP.loc[:, \"Country Name\"] = GDP.loc[:, \"Country Name\"].str.strip()\n",
    "    \n",
    "    # rename the country name column\n",
    "    GDP.rename({\"Country Name\": \"Country\"}, axis = 1, inplace = True)\n",
    "    \n",
    "    \n",
    "    ##############################\n",
    "    #####   ScimEn DataFrame #####\n",
    "    ##############################\n",
    "    \n",
    "    ScimEn = pd.read_excel(r\"D:/Introduction-to-Data-Science-in-Python/assignment3/assets/scimagojr-3.xlsx\")\n",
    "    \n",
    "    # merge GDP & Energy\n",
    "    result = pd.merge(GDP, Energy, left_on = \"Country\", right_on = \"Country\", how = \"outer\")\n",
    "    \n",
    "    # merge the result with ScimEn\n",
    "    result = pd.merge(result, ScimEn, left_on = \"Country\", right_on = \"Country\", how = \"inner\")\n",
    "    \n",
    "    selected_cols = ['Rank', 'Documents', 'Citable documents', 'Citations', 'Self-citations', 'Citations per document',\n",
    "                     'H index', 'Energy Supply', 'Energy Supply per Capita', '% Renewable', '2006', '2007', '2008', '2009',\n",
    "                     '2010', '2011', '2012', '2013', '2014', '2015']\n",
    "    \n",
    "    # set Country as index\n",
    "    result.set_index(\"Country\", inplace = True)\n",
    "    \n",
    "    # sort the DataFrame by Rank\n",
    "    result = result.sort_values(\"Rank\")\n",
    "    \n",
    "    # pick only the specified columns\n",
    "    result = result.loc[:, selected_cols]\n",
    "    \n",
    "    return result.query(\"Rank <= 15\")"
   ]
  },
  {
   "cell_type": "code",
   "execution_count": 3,
   "metadata": {
    "execution": {
     "iopub.execute_input": "2023-01-29T00:40:09.602717Z",
     "iopub.status.busy": "2023-01-29T00:40:09.602717Z",
     "iopub.status.idle": "2023-01-29T00:40:11.638677Z",
     "shell.execute_reply": "2023-01-29T00:40:11.638677Z",
     "shell.execute_reply.started": "2023-01-29T00:40:09.602717Z"
    },
    "tags": []
   },
   "outputs": [
    {
     "data": {
      "text/html": [
       "<div>\n",
       "<style scoped>\n",
       "    .dataframe tbody tr th:only-of-type {\n",
       "        vertical-align: middle;\n",
       "    }\n",
       "\n",
       "    .dataframe tbody tr th {\n",
       "        vertical-align: top;\n",
       "    }\n",
       "\n",
       "    .dataframe thead th {\n",
       "        text-align: right;\n",
       "    }\n",
       "</style>\n",
       "<table border=\"1\" class=\"dataframe\">\n",
       "  <thead>\n",
       "    <tr style=\"text-align: right;\">\n",
       "      <th></th>\n",
       "      <th>Rank</th>\n",
       "      <th>Documents</th>\n",
       "      <th>Citable documents</th>\n",
       "      <th>Citations</th>\n",
       "      <th>Self-citations</th>\n",
       "      <th>Citations per document</th>\n",
       "      <th>H index</th>\n",
       "      <th>Energy Supply</th>\n",
       "      <th>Energy Supply per Capita</th>\n",
       "      <th>% Renewable</th>\n",
       "      <th>2006</th>\n",
       "      <th>2007</th>\n",
       "      <th>2008</th>\n",
       "      <th>2009</th>\n",
       "      <th>2010</th>\n",
       "      <th>2011</th>\n",
       "      <th>2012</th>\n",
       "      <th>2013</th>\n",
       "      <th>2014</th>\n",
       "      <th>2015</th>\n",
       "    </tr>\n",
       "    <tr>\n",
       "      <th>Country</th>\n",
       "      <th></th>\n",
       "      <th></th>\n",
       "      <th></th>\n",
       "      <th></th>\n",
       "      <th></th>\n",
       "      <th></th>\n",
       "      <th></th>\n",
       "      <th></th>\n",
       "      <th></th>\n",
       "      <th></th>\n",
       "      <th></th>\n",
       "      <th></th>\n",
       "      <th></th>\n",
       "      <th></th>\n",
       "      <th></th>\n",
       "      <th></th>\n",
       "      <th></th>\n",
       "      <th></th>\n",
       "      <th></th>\n",
       "      <th></th>\n",
       "    </tr>\n",
       "  </thead>\n",
       "  <tbody>\n",
       "    <tr>\n",
       "      <th>China</th>\n",
       "      <td>1</td>\n",
       "      <td>127050</td>\n",
       "      <td>126767</td>\n",
       "      <td>597237</td>\n",
       "      <td>411683</td>\n",
       "      <td>4.70</td>\n",
       "      <td>138</td>\n",
       "      <td>NaN</td>\n",
       "      <td>NaN</td>\n",
       "      <td>NaN</td>\n",
       "      <td>3.992331e+12</td>\n",
       "      <td>4.559041e+12</td>\n",
       "      <td>4.997775e+12</td>\n",
       "      <td>5.459247e+12</td>\n",
       "      <td>6.039659e+12</td>\n",
       "      <td>6.612490e+12</td>\n",
       "      <td>7.124978e+12</td>\n",
       "      <td>7.672448e+12</td>\n",
       "      <td>8.230121e+12</td>\n",
       "      <td>8.797999e+12</td>\n",
       "    </tr>\n",
       "    <tr>\n",
       "      <th>United States</th>\n",
       "      <td>2</td>\n",
       "      <td>96661</td>\n",
       "      <td>94747</td>\n",
       "      <td>792274</td>\n",
       "      <td>265436</td>\n",
       "      <td>8.20</td>\n",
       "      <td>230</td>\n",
       "      <td>NaN</td>\n",
       "      <td>NaN</td>\n",
       "      <td>NaN</td>\n",
       "      <td>1.479230e+13</td>\n",
       "      <td>1.505540e+13</td>\n",
       "      <td>1.501149e+13</td>\n",
       "      <td>1.459484e+13</td>\n",
       "      <td>1.496437e+13</td>\n",
       "      <td>1.520402e+13</td>\n",
       "      <td>1.554216e+13</td>\n",
       "      <td>1.577367e+13</td>\n",
       "      <td>1.615662e+13</td>\n",
       "      <td>1.654857e+13</td>\n",
       "    </tr>\n",
       "    <tr>\n",
       "      <th>Japan</th>\n",
       "      <td>3</td>\n",
       "      <td>30504</td>\n",
       "      <td>30287</td>\n",
       "      <td>223024</td>\n",
       "      <td>61554</td>\n",
       "      <td>7.31</td>\n",
       "      <td>134</td>\n",
       "      <td>NaN</td>\n",
       "      <td>NaN</td>\n",
       "      <td>NaN</td>\n",
       "      <td>5.496542e+12</td>\n",
       "      <td>5.617036e+12</td>\n",
       "      <td>5.558527e+12</td>\n",
       "      <td>5.251308e+12</td>\n",
       "      <td>5.498718e+12</td>\n",
       "      <td>5.473738e+12</td>\n",
       "      <td>5.569102e+12</td>\n",
       "      <td>5.644659e+12</td>\n",
       "      <td>5.642884e+12</td>\n",
       "      <td>5.669563e+12</td>\n",
       "    </tr>\n",
       "    <tr>\n",
       "      <th>United Kingdom</th>\n",
       "      <td>4</td>\n",
       "      <td>20944</td>\n",
       "      <td>20357</td>\n",
       "      <td>206091</td>\n",
       "      <td>37874</td>\n",
       "      <td>9.84</td>\n",
       "      <td>139</td>\n",
       "      <td>NaN</td>\n",
       "      <td>NaN</td>\n",
       "      <td>NaN</td>\n",
       "      <td>2.419631e+12</td>\n",
       "      <td>2.482203e+12</td>\n",
       "      <td>2.470614e+12</td>\n",
       "      <td>2.367048e+12</td>\n",
       "      <td>2.403504e+12</td>\n",
       "      <td>2.450911e+12</td>\n",
       "      <td>2.479809e+12</td>\n",
       "      <td>2.533370e+12</td>\n",
       "      <td>2.605643e+12</td>\n",
       "      <td>2.666333e+12</td>\n",
       "    </tr>\n",
       "    <tr>\n",
       "      <th>Russian Federation</th>\n",
       "      <td>5</td>\n",
       "      <td>18534</td>\n",
       "      <td>18301</td>\n",
       "      <td>34266</td>\n",
       "      <td>12422</td>\n",
       "      <td>1.85</td>\n",
       "      <td>57</td>\n",
       "      <td>3.070900e+10</td>\n",
       "      <td>214</td>\n",
       "      <td>17.28868</td>\n",
       "      <td>1.385793e+12</td>\n",
       "      <td>1.504071e+12</td>\n",
       "      <td>1.583004e+12</td>\n",
       "      <td>1.459199e+12</td>\n",
       "      <td>1.524917e+12</td>\n",
       "      <td>1.589943e+12</td>\n",
       "      <td>1.645876e+12</td>\n",
       "      <td>1.666934e+12</td>\n",
       "      <td>1.678709e+12</td>\n",
       "      <td>1.616149e+12</td>\n",
       "    </tr>\n",
       "    <tr>\n",
       "      <th>Canada</th>\n",
       "      <td>6</td>\n",
       "      <td>17899</td>\n",
       "      <td>17620</td>\n",
       "      <td>215003</td>\n",
       "      <td>40930</td>\n",
       "      <td>12.01</td>\n",
       "      <td>149</td>\n",
       "      <td>1.043100e+10</td>\n",
       "      <td>296</td>\n",
       "      <td>61.94543</td>\n",
       "      <td>1.564469e+12</td>\n",
       "      <td>1.596740e+12</td>\n",
       "      <td>1.612713e+12</td>\n",
       "      <td>1.565145e+12</td>\n",
       "      <td>1.613406e+12</td>\n",
       "      <td>1.664087e+12</td>\n",
       "      <td>1.693133e+12</td>\n",
       "      <td>1.730688e+12</td>\n",
       "      <td>1.773486e+12</td>\n",
       "      <td>1.792609e+12</td>\n",
       "    </tr>\n",
       "    <tr>\n",
       "      <th>Germany</th>\n",
       "      <td>7</td>\n",
       "      <td>17027</td>\n",
       "      <td>16831</td>\n",
       "      <td>140566</td>\n",
       "      <td>27426</td>\n",
       "      <td>8.26</td>\n",
       "      <td>126</td>\n",
       "      <td>1.326100e+10</td>\n",
       "      <td>165</td>\n",
       "      <td>17.90153</td>\n",
       "      <td>3.332891e+12</td>\n",
       "      <td>3.441561e+12</td>\n",
       "      <td>3.478809e+12</td>\n",
       "      <td>3.283340e+12</td>\n",
       "      <td>3.417298e+12</td>\n",
       "      <td>3.542371e+12</td>\n",
       "      <td>3.556724e+12</td>\n",
       "      <td>3.567317e+12</td>\n",
       "      <td>3.624386e+12</td>\n",
       "      <td>3.685556e+12</td>\n",
       "    </tr>\n",
       "    <tr>\n",
       "      <th>India</th>\n",
       "      <td>8</td>\n",
       "      <td>15005</td>\n",
       "      <td>14841</td>\n",
       "      <td>128763</td>\n",
       "      <td>37209</td>\n",
       "      <td>8.58</td>\n",
       "      <td>115</td>\n",
       "      <td>3.319500e+10</td>\n",
       "      <td>26</td>\n",
       "      <td>14.96908</td>\n",
       "      <td>1.265894e+12</td>\n",
       "      <td>1.374865e+12</td>\n",
       "      <td>1.428361e+12</td>\n",
       "      <td>1.549483e+12</td>\n",
       "      <td>1.708459e+12</td>\n",
       "      <td>1.821872e+12</td>\n",
       "      <td>1.924235e+12</td>\n",
       "      <td>2.051982e+12</td>\n",
       "      <td>2.200617e+12</td>\n",
       "      <td>2.367206e+12</td>\n",
       "    </tr>\n",
       "    <tr>\n",
       "      <th>France</th>\n",
       "      <td>9</td>\n",
       "      <td>13153</td>\n",
       "      <td>12973</td>\n",
       "      <td>130632</td>\n",
       "      <td>28601</td>\n",
       "      <td>9.93</td>\n",
       "      <td>114</td>\n",
       "      <td>NaN</td>\n",
       "      <td>NaN</td>\n",
       "      <td>NaN</td>\n",
       "      <td>2.607840e+12</td>\n",
       "      <td>2.669424e+12</td>\n",
       "      <td>2.674637e+12</td>\n",
       "      <td>2.595967e+12</td>\n",
       "      <td>2.646995e+12</td>\n",
       "      <td>2.702032e+12</td>\n",
       "      <td>2.706968e+12</td>\n",
       "      <td>2.722567e+12</td>\n",
       "      <td>2.729632e+12</td>\n",
       "      <td>2.761185e+12</td>\n",
       "    </tr>\n",
       "    <tr>\n",
       "      <th>South Korea</th>\n",
       "      <td>10</td>\n",
       "      <td>11983</td>\n",
       "      <td>11923</td>\n",
       "      <td>114675</td>\n",
       "      <td>22595</td>\n",
       "      <td>9.57</td>\n",
       "      <td>104</td>\n",
       "      <td>1.100700e+10</td>\n",
       "      <td>221</td>\n",
       "      <td>2.279353</td>\n",
       "      <td>9.410199e+11</td>\n",
       "      <td>9.924316e+11</td>\n",
       "      <td>1.020510e+12</td>\n",
       "      <td>1.027730e+12</td>\n",
       "      <td>1.094499e+12</td>\n",
       "      <td>1.134796e+12</td>\n",
       "      <td>1.160809e+12</td>\n",
       "      <td>1.194429e+12</td>\n",
       "      <td>1.234340e+12</td>\n",
       "      <td>1.266580e+12</td>\n",
       "    </tr>\n",
       "    <tr>\n",
       "      <th>Italy</th>\n",
       "      <td>11</td>\n",
       "      <td>10964</td>\n",
       "      <td>10794</td>\n",
       "      <td>111850</td>\n",
       "      <td>26661</td>\n",
       "      <td>10.20</td>\n",
       "      <td>106</td>\n",
       "      <td>NaN</td>\n",
       "      <td>NaN</td>\n",
       "      <td>NaN</td>\n",
       "      <td>2.202170e+12</td>\n",
       "      <td>2.234627e+12</td>\n",
       "      <td>2.211154e+12</td>\n",
       "      <td>2.089938e+12</td>\n",
       "      <td>2.125185e+12</td>\n",
       "      <td>2.137439e+12</td>\n",
       "      <td>2.077184e+12</td>\n",
       "      <td>2.040871e+12</td>\n",
       "      <td>2.033868e+12</td>\n",
       "      <td>2.049316e+12</td>\n",
       "    </tr>\n",
       "    <tr>\n",
       "      <th>Spain</th>\n",
       "      <td>12</td>\n",
       "      <td>9428</td>\n",
       "      <td>9330</td>\n",
       "      <td>123336</td>\n",
       "      <td>23964</td>\n",
       "      <td>13.08</td>\n",
       "      <td>115</td>\n",
       "      <td>NaN</td>\n",
       "      <td>NaN</td>\n",
       "      <td>NaN</td>\n",
       "      <td>1.414823e+12</td>\n",
       "      <td>1.468146e+12</td>\n",
       "      <td>1.484530e+12</td>\n",
       "      <td>1.431475e+12</td>\n",
       "      <td>1.431673e+12</td>\n",
       "      <td>1.417355e+12</td>\n",
       "      <td>1.380216e+12</td>\n",
       "      <td>1.357139e+12</td>\n",
       "      <td>1.375605e+12</td>\n",
       "      <td>1.419821e+12</td>\n",
       "    </tr>\n",
       "    <tr>\n",
       "      <th>Iran</th>\n",
       "      <td>13</td>\n",
       "      <td>8896</td>\n",
       "      <td>8819</td>\n",
       "      <td>57470</td>\n",
       "      <td>19125</td>\n",
       "      <td>6.46</td>\n",
       "      <td>72</td>\n",
       "      <td>9.172000e+09</td>\n",
       "      <td>119</td>\n",
       "      <td>5.707721</td>\n",
       "      <td>3.895523e+11</td>\n",
       "      <td>4.250646e+11</td>\n",
       "      <td>4.289909e+11</td>\n",
       "      <td>4.389208e+11</td>\n",
       "      <td>4.677902e+11</td>\n",
       "      <td>4.853309e+11</td>\n",
       "      <td>4.532569e+11</td>\n",
       "      <td>4.445926e+11</td>\n",
       "      <td>4.639027e+11</td>\n",
       "      <td>NaN</td>\n",
       "    </tr>\n",
       "    <tr>\n",
       "      <th>Australia</th>\n",
       "      <td>14</td>\n",
       "      <td>8831</td>\n",
       "      <td>8725</td>\n",
       "      <td>90765</td>\n",
       "      <td>15606</td>\n",
       "      <td>10.28</td>\n",
       "      <td>107</td>\n",
       "      <td>NaN</td>\n",
       "      <td>NaN</td>\n",
       "      <td>NaN</td>\n",
       "      <td>1.021939e+12</td>\n",
       "      <td>1.060340e+12</td>\n",
       "      <td>1.099644e+12</td>\n",
       "      <td>1.119654e+12</td>\n",
       "      <td>1.142251e+12</td>\n",
       "      <td>1.169431e+12</td>\n",
       "      <td>1.211913e+12</td>\n",
       "      <td>1.241484e+12</td>\n",
       "      <td>1.272520e+12</td>\n",
       "      <td>1.301251e+12</td>\n",
       "    </tr>\n",
       "    <tr>\n",
       "      <th>Brazil</th>\n",
       "      <td>15</td>\n",
       "      <td>8668</td>\n",
       "      <td>8596</td>\n",
       "      <td>60702</td>\n",
       "      <td>14396</td>\n",
       "      <td>7.00</td>\n",
       "      <td>86</td>\n",
       "      <td>1.214900e+10</td>\n",
       "      <td>59</td>\n",
       "      <td>69.64803</td>\n",
       "      <td>1.845080e+12</td>\n",
       "      <td>1.957118e+12</td>\n",
       "      <td>2.056809e+12</td>\n",
       "      <td>2.054215e+12</td>\n",
       "      <td>2.208872e+12</td>\n",
       "      <td>2.295245e+12</td>\n",
       "      <td>2.339209e+12</td>\n",
       "      <td>2.409740e+12</td>\n",
       "      <td>2.412231e+12</td>\n",
       "      <td>2.319423e+12</td>\n",
       "    </tr>\n",
       "  </tbody>\n",
       "</table>\n",
       "</div>"
      ],
      "text/plain": [
       "                    Rank  Documents  Citable documents  Citations  \\\n",
       "Country                                                             \n",
       "China                  1     127050             126767     597237   \n",
       "United States          2      96661              94747     792274   \n",
       "Japan                  3      30504              30287     223024   \n",
       "United Kingdom         4      20944              20357     206091   \n",
       "Russian Federation     5      18534              18301      34266   \n",
       "Canada                 6      17899              17620     215003   \n",
       "Germany                7      17027              16831     140566   \n",
       "India                  8      15005              14841     128763   \n",
       "France                 9      13153              12973     130632   \n",
       "South Korea           10      11983              11923     114675   \n",
       "Italy                 11      10964              10794     111850   \n",
       "Spain                 12       9428               9330     123336   \n",
       "Iran                  13       8896               8819      57470   \n",
       "Australia             14       8831               8725      90765   \n",
       "Brazil                15       8668               8596      60702   \n",
       "\n",
       "                    Self-citations  Citations per document  H index  \\\n",
       "Country                                                               \n",
       "China                       411683                    4.70      138   \n",
       "United States               265436                    8.20      230   \n",
       "Japan                        61554                    7.31      134   \n",
       "United Kingdom               37874                    9.84      139   \n",
       "Russian Federation           12422                    1.85       57   \n",
       "Canada                       40930                   12.01      149   \n",
       "Germany                      27426                    8.26      126   \n",
       "India                        37209                    8.58      115   \n",
       "France                       28601                    9.93      114   \n",
       "South Korea                  22595                    9.57      104   \n",
       "Italy                        26661                   10.20      106   \n",
       "Spain                        23964                   13.08      115   \n",
       "Iran                         19125                    6.46       72   \n",
       "Australia                    15606                   10.28      107   \n",
       "Brazil                       14396                    7.00       86   \n",
       "\n",
       "                    Energy Supply Energy Supply per Capita % Renewable  \\\n",
       "Country                                                                  \n",
       "China                         NaN                      NaN         NaN   \n",
       "United States                 NaN                      NaN         NaN   \n",
       "Japan                         NaN                      NaN         NaN   \n",
       "United Kingdom                NaN                      NaN         NaN   \n",
       "Russian Federation   3.070900e+10                      214    17.28868   \n",
       "Canada               1.043100e+10                      296    61.94543   \n",
       "Germany              1.326100e+10                      165    17.90153   \n",
       "India                3.319500e+10                       26    14.96908   \n",
       "France                        NaN                      NaN         NaN   \n",
       "South Korea          1.100700e+10                      221    2.279353   \n",
       "Italy                         NaN                      NaN         NaN   \n",
       "Spain                         NaN                      NaN         NaN   \n",
       "Iran                 9.172000e+09                      119    5.707721   \n",
       "Australia                     NaN                      NaN         NaN   \n",
       "Brazil               1.214900e+10                       59    69.64803   \n",
       "\n",
       "                            2006          2007          2008          2009  \\\n",
       "Country                                                                      \n",
       "China               3.992331e+12  4.559041e+12  4.997775e+12  5.459247e+12   \n",
       "United States       1.479230e+13  1.505540e+13  1.501149e+13  1.459484e+13   \n",
       "Japan               5.496542e+12  5.617036e+12  5.558527e+12  5.251308e+12   \n",
       "United Kingdom      2.419631e+12  2.482203e+12  2.470614e+12  2.367048e+12   \n",
       "Russian Federation  1.385793e+12  1.504071e+12  1.583004e+12  1.459199e+12   \n",
       "Canada              1.564469e+12  1.596740e+12  1.612713e+12  1.565145e+12   \n",
       "Germany             3.332891e+12  3.441561e+12  3.478809e+12  3.283340e+12   \n",
       "India               1.265894e+12  1.374865e+12  1.428361e+12  1.549483e+12   \n",
       "France              2.607840e+12  2.669424e+12  2.674637e+12  2.595967e+12   \n",
       "South Korea         9.410199e+11  9.924316e+11  1.020510e+12  1.027730e+12   \n",
       "Italy               2.202170e+12  2.234627e+12  2.211154e+12  2.089938e+12   \n",
       "Spain               1.414823e+12  1.468146e+12  1.484530e+12  1.431475e+12   \n",
       "Iran                3.895523e+11  4.250646e+11  4.289909e+11  4.389208e+11   \n",
       "Australia           1.021939e+12  1.060340e+12  1.099644e+12  1.119654e+12   \n",
       "Brazil              1.845080e+12  1.957118e+12  2.056809e+12  2.054215e+12   \n",
       "\n",
       "                            2010          2011          2012          2013  \\\n",
       "Country                                                                      \n",
       "China               6.039659e+12  6.612490e+12  7.124978e+12  7.672448e+12   \n",
       "United States       1.496437e+13  1.520402e+13  1.554216e+13  1.577367e+13   \n",
       "Japan               5.498718e+12  5.473738e+12  5.569102e+12  5.644659e+12   \n",
       "United Kingdom      2.403504e+12  2.450911e+12  2.479809e+12  2.533370e+12   \n",
       "Russian Federation  1.524917e+12  1.589943e+12  1.645876e+12  1.666934e+12   \n",
       "Canada              1.613406e+12  1.664087e+12  1.693133e+12  1.730688e+12   \n",
       "Germany             3.417298e+12  3.542371e+12  3.556724e+12  3.567317e+12   \n",
       "India               1.708459e+12  1.821872e+12  1.924235e+12  2.051982e+12   \n",
       "France              2.646995e+12  2.702032e+12  2.706968e+12  2.722567e+12   \n",
       "South Korea         1.094499e+12  1.134796e+12  1.160809e+12  1.194429e+12   \n",
       "Italy               2.125185e+12  2.137439e+12  2.077184e+12  2.040871e+12   \n",
       "Spain               1.431673e+12  1.417355e+12  1.380216e+12  1.357139e+12   \n",
       "Iran                4.677902e+11  4.853309e+11  4.532569e+11  4.445926e+11   \n",
       "Australia           1.142251e+12  1.169431e+12  1.211913e+12  1.241484e+12   \n",
       "Brazil              2.208872e+12  2.295245e+12  2.339209e+12  2.409740e+12   \n",
       "\n",
       "                            2014          2015  \n",
       "Country                                         \n",
       "China               8.230121e+12  8.797999e+12  \n",
       "United States       1.615662e+13  1.654857e+13  \n",
       "Japan               5.642884e+12  5.669563e+12  \n",
       "United Kingdom      2.605643e+12  2.666333e+12  \n",
       "Russian Federation  1.678709e+12  1.616149e+12  \n",
       "Canada              1.773486e+12  1.792609e+12  \n",
       "Germany             3.624386e+12  3.685556e+12  \n",
       "India               2.200617e+12  2.367206e+12  \n",
       "France              2.729632e+12  2.761185e+12  \n",
       "South Korea         1.234340e+12  1.266580e+12  \n",
       "Italy               2.033868e+12  2.049316e+12  \n",
       "Spain               1.375605e+12  1.419821e+12  \n",
       "Iran                4.639027e+11           NaN  \n",
       "Australia           1.272520e+12  1.301251e+12  \n",
       "Brazil              2.412231e+12  2.319423e+12  "
      ]
     },
     "execution_count": 3,
     "metadata": {},
     "output_type": "execute_result"
    }
   ],
   "source": [
    "answer_one()"
   ]
  },
  {
   "cell_type": "code",
   "execution_count": 95,
   "metadata": {
    "deletable": false,
    "editable": false,
    "execution": {
     "iopub.execute_input": "2023-01-28T09:31:16.917987Z",
     "iopub.status.busy": "2023-01-28T09:31:16.917987Z",
     "iopub.status.idle": "2023-01-28T09:31:17.023797Z",
     "shell.execute_reply": "2023-01-28T09:31:17.023797Z",
     "shell.execute_reply.started": "2023-01-28T09:31:16.917987Z"
    },
    "nbgrader": {
     "cell_type": "code",
     "checksum": "7bcc18b325d2935427ac2566cddd3661",
     "grade": true,
     "grade_id": "cell-780b5a4da845dbc3",
     "locked": true,
     "points": 5,
     "schema_version": 3,
     "solution": false
    },
    "tags": []
   },
   "outputs": [],
   "source": [
    "assert type(answer_one()) == pd.DataFrame, \"Q1: You should return a DataFrame!\"\n",
    "\n",
    "assert answer_one().shape == (15,20), \"Q1: Your DataFrame should have 20 columns and 15 entries!\"\n"
   ]
  },
  {
   "cell_type": "code",
   "execution_count": null,
   "metadata": {
    "deletable": false,
    "editable": false,
    "nbgrader": {
     "cell_type": "code",
     "checksum": "e241830bcf3f63326b4c9cdf50be8f86",
     "grade": true,
     "grade_id": "cell-74b5f0b971379f64",
     "locked": true,
     "points": 10,
     "schema_version": 3,
     "solution": false
    }
   },
   "outputs": [],
   "source": [
    "# Cell for autograder.\n"
   ]
  },
  {
   "cell_type": "markdown",
   "metadata": {
    "deletable": false,
    "editable": false,
    "nbgrader": {
     "cell_type": "markdown",
     "checksum": "596280cd22ed98c5540580c62954ec2f",
     "grade": false,
     "grade_id": "cell-babe0ff2a1fc6b17",
     "locked": true,
     "schema_version": 3,
     "solution": false
    }
   },
   "source": [
    "### Question 2\n",
    "The previous question joined three datasets then reduced this to just the top 15 entries. When you joined the datasets, but before you reduced this to the top 15 items, how many entries did you lose?\n",
    "\n",
    "*This function should return a single number.*"
   ]
  },
  {
   "cell_type": "code",
   "execution_count": 2,
   "metadata": {
    "deletable": false,
    "editable": false,
    "execution": {
     "iopub.execute_input": "2023-01-28T03:11:32.027811Z",
     "iopub.status.busy": "2023-01-28T03:11:32.027811Z",
     "iopub.status.idle": "2023-01-28T03:11:32.039216Z",
     "shell.execute_reply": "2023-01-28T03:11:32.039216Z",
     "shell.execute_reply.started": "2023-01-28T03:11:32.027811Z"
    },
    "nbgrader": {
     "cell_type": "code",
     "checksum": "c9a34da81c80126fd23ae2eac33f98f8",
     "grade": false,
     "grade_id": "cell-96f84e7b693bef63",
     "locked": true,
     "schema_version": 3,
     "solution": false
    },
    "tags": []
   },
   "outputs": [
    {
     "data": {
      "text/html": [
       "<svg width=\"800\" height=\"300\">\n",
       "  <circle cx=\"150\" cy=\"180\" r=\"80\" fill-opacity=\"0.2\" stroke=\"black\" stroke-width=\"2\" fill=\"blue\" />\n",
       "  <circle cx=\"200\" cy=\"100\" r=\"80\" fill-opacity=\"0.2\" stroke=\"black\" stroke-width=\"2\" fill=\"red\" />\n",
       "  <circle cx=\"100\" cy=\"100\" r=\"80\" fill-opacity=\"0.2\" stroke=\"black\" stroke-width=\"2\" fill=\"green\" />\n",
       "  <line x1=\"150\" y1=\"125\" x2=\"300\" y2=\"150\" stroke=\"black\" stroke-width=\"2\" fill=\"black\" stroke-dasharray=\"5,3\"/>\n",
       "  <text x=\"300\" y=\"165\" font-family=\"Verdana\" font-size=\"35\">Everything but this!</text>\n",
       "</svg>\n"
      ],
      "text/plain": [
       "<IPython.core.display.HTML object>"
      ]
     },
     "metadata": {},
     "output_type": "display_data"
    }
   ],
   "source": [
    "%%HTML\n",
    "<svg width=\"800\" height=\"300\">\n",
    "  <circle cx=\"150\" cy=\"180\" r=\"80\" fill-opacity=\"0.2\" stroke=\"black\" stroke-width=\"2\" fill=\"blue\" />\n",
    "  <circle cx=\"200\" cy=\"100\" r=\"80\" fill-opacity=\"0.2\" stroke=\"black\" stroke-width=\"2\" fill=\"red\" />\n",
    "  <circle cx=\"100\" cy=\"100\" r=\"80\" fill-opacity=\"0.2\" stroke=\"black\" stroke-width=\"2\" fill=\"green\" />\n",
    "  <line x1=\"150\" y1=\"125\" x2=\"300\" y2=\"150\" stroke=\"black\" stroke-width=\"2\" fill=\"black\" stroke-dasharray=\"5,3\"/>\n",
    "  <text x=\"300\" y=\"165\" font-family=\"Verdana\" font-size=\"35\">Everything but this!</text>\n",
    "</svg>"
   ]
  },
  {
   "cell_type": "code",
   "execution_count": 6,
   "metadata": {
    "deletable": false,
    "execution": {
     "iopub.execute_input": "2023-01-29T00:58:34.198836Z",
     "iopub.status.busy": "2023-01-29T00:58:34.198836Z",
     "iopub.status.idle": "2023-01-29T00:58:34.220536Z",
     "shell.execute_reply": "2023-01-29T00:58:34.220536Z",
     "shell.execute_reply.started": "2023-01-29T00:58:34.198836Z"
    },
    "nbgrader": {
     "cell_type": "code",
     "checksum": "aeeb01fb73054269dd7b818d0945e2f7",
     "grade": false,
     "grade_id": "cell-b0c3202c000aada4",
     "locked": false,
     "schema_version": 3,
     "solution": true
    },
    "tags": []
   },
   "outputs": [],
   "source": [
    "def answer_two() -> int:\n",
    "    \n",
    "    \n",
    "    ##############################\n",
    "    ####   Energy DataFrame   ####\n",
    "    ##############################\n",
    "    \n",
    "    # read in Energy \n",
    "    Energy = pd.read_excel(r\"D:/Introduction-to-Data-Science-in-Python/assignment3/assets/Energy Indicators.xls\",\n",
    "                           skipfooter = 38, skiprows = 16)\n",
    "    # rename the columns\n",
    "    new_names = ['Country', 'Energy Supply', 'Energy Supply per Capita', '% Renewable']\n",
    "    Energy = Energy.drop([\"Unnamed: 0\", \"Unnamed: 1\"], axis = 1).drop(0, axis = 0) \\\n",
    "                .rename({prev_name: new_name for (prev_name, new_name) in zip(Energy.columns[2:], new_names)}, axis = 1)\n",
    "    \n",
    "    # convert PetaJoules to GigaJoules\n",
    "    # and replace ellipsis with np.nan\n",
    "    Energy[\"Energy Supply\"] = Energy.loc[:, \"Energy Supply\"].apply(lambda value: value *  1_000_000 if value != \"...\" else np.nan)\n",
    "    \n",
    "    # rename the countries\n",
    "    rename_dict = {\"Republic of Korea\": \"South Korea\", \"United States of America\": \"United States\",\n",
    "               \"United Kingdom of Great Britain and Northern Ireland\": \"United Kingdom\",\n",
    "               \"China, Hong Kong Special Administrative Region\": \"Hong Kong\"}\n",
    "    Energy.Country = Energy.Country.apply(lambda country: rename_dict.get(country) if country in rename_dict.keys() else country)\n",
    "    \n",
    "    # strip country names with parentheses\n",
    "    _remove = re.compile(\"\\s[\\(][\\w\\s]+[\\)]\")\n",
    "    Energy.Country = Energy.Country.apply(lambda cname: re.split(_remove, cname)[0] if \"(\" in cname else cname)\n",
    "    Energy.Country = Energy.Country.str.strip()\n",
    "    \n",
    "    \n",
    "    ##############################\n",
    "    #####   GDP DataFrame   ######\n",
    "    ##############################\n",
    "    \n",
    "    # read in GDP\n",
    "    GDP = pd.read_csv(r\"D:/Introduction-to-Data-Science-in-Python/assignment3/assets/world_bank.csv\", skiprows = 4)\n",
    "    \n",
    "    # renaming countries \n",
    "    rename_dict = {\"Korea, Rep.\": \"South Korea\",  \"Iran, Islamic Rep.\": \"Iran\", \"Hong Kong SAR, China\": \"Hong Kong\"}\n",
    "    GDP.loc[:, \"Country Name\"] = GDP.loc[:, \"Country Name\"].apply(lambda cname: rename_dict.get(cname) if cname in rename_dict.keys() else cname)\n",
    "    GDP.loc[:, \"Country Name\"] = GDP.loc[:, \"Country Name\"].str.strip()\n",
    "    \n",
    "    # rename the country name column\n",
    "    GDP.rename({\"Country Name\": \"Country\"}, axis = 1, inplace = True)\n",
    "    \n",
    "    \n",
    "    ##############################\n",
    "    #####   ScimEn DataFrame #####\n",
    "    ##############################\n",
    "    \n",
    "    ScimEn = pd.read_excel(r\"D:/Introduction-to-Data-Science-in-Python/assignment3/assets/scimagojr-3.xlsx\")\n",
    "    \n",
    "    # columns to pick\n",
    "    selected_cols = [\"Country\", \"Rank\"]\n",
    "    \n",
    "    # merge by inner join\n",
    "    inner_merge = pd.merge(pd.merge(GDP, Energy, left_on = \"Country\", right_on = \"Country\", how = \"inner\"),\n",
    "                      ScimEn, left_on = \"Country\", right_on = \"Country\", how = \"inner\")\n",
    "    inner_merge = inner_merge.loc[:, selected_cols]\n",
    "    \n",
    "    # merge by outer join\n",
    "    outer_merge = pd.merge(pd.merge(GDP, Energy, left_on = \"Country\", right_on = \"Country\", how = \"outer\"),\n",
    "                      ScimEn, left_on = \"Country\", right_on = \"Country\", how = \"outer\")\n",
    "    outer_merge = outer_merge.loc[:, selected_cols]\n",
    "    \n",
    "    # lost records\n",
    "    n_lost_records = outer_merge.shape[0] - inner_merge.shape[0]\n",
    "    \n",
    "    return n_lost_records"
   ]
  },
  {
   "cell_type": "code",
   "execution_count": 7,
   "metadata": {
    "execution": {
     "iopub.execute_input": "2023-01-29T00:58:34.842313Z",
     "iopub.status.busy": "2023-01-29T00:58:34.842313Z",
     "iopub.status.idle": "2023-01-29T00:58:34.896381Z",
     "shell.execute_reply": "2023-01-29T00:58:34.896381Z",
     "shell.execute_reply.started": "2023-01-29T00:58:34.842313Z"
    },
    "tags": []
   },
   "outputs": [
    {
     "data": {
      "text/plain": [
       "196"
      ]
     },
     "execution_count": 7,
     "metadata": {},
     "output_type": "execute_result"
    }
   ],
   "source": [
    "answer_two()"
   ]
  },
  {
   "cell_type": "code",
   "execution_count": 8,
   "metadata": {
    "deletable": false,
    "editable": false,
    "execution": {
     "iopub.execute_input": "2023-01-29T00:59:12.301890Z",
     "iopub.status.busy": "2023-01-29T00:59:12.286251Z",
     "iopub.status.idle": "2023-01-29T00:59:12.511623Z",
     "shell.execute_reply": "2023-01-29T00:59:12.511623Z",
     "shell.execute_reply.started": "2023-01-29T00:59:12.301890Z"
    },
    "nbgrader": {
     "cell_type": "code",
     "checksum": "19759b4a6c03f34b647f66d343952619",
     "grade": true,
     "grade_id": "cell-be24cfcaa87ab071",
     "locked": true,
     "points": 6.66,
     "schema_version": 3,
     "solution": false
    },
    "tags": []
   },
   "outputs": [],
   "source": [
    "assert type(answer_two()) == int, \"Q2: You should return an int number!\"\n"
   ]
  },
  {
   "cell_type": "markdown",
   "metadata": {
    "deletable": false,
    "editable": false,
    "nbgrader": {
     "cell_type": "markdown",
     "checksum": "5af1b4f99cd383263130f4c00442a133",
     "grade": false,
     "grade_id": "cell-2e54816014e48c18",
     "locked": true,
     "schema_version": 3,
     "solution": false
    }
   },
   "source": [
    "### Question 3\n",
    "What are the top 15 countries for average GDP over the last 10 years?\n",
    "\n",
    "*This function should return a Series named `avgGDP` with 15 countries and their average GDP sorted in descending order.*"
   ]
  },
  {
   "cell_type": "code",
   "execution_count": 84,
   "metadata": {
    "execution": {
     "iopub.execute_input": "2023-01-28T09:23:19.195241Z",
     "iopub.status.busy": "2023-01-28T09:23:19.195241Z",
     "iopub.status.idle": "2023-01-28T09:23:19.258944Z",
     "shell.execute_reply": "2023-01-28T09:23:19.258944Z",
     "shell.execute_reply.started": "2023-01-28T09:23:19.195241Z"
    },
    "tags": []
   },
   "outputs": [
    {
     "data": {
      "text/plain": [
       "Country\n",
       "United States         1.536434e+13\n",
       "China                 6.348609e+12\n",
       "Japan                 5.542208e+12\n",
       "Germany               3.493025e+12\n",
       "France                2.681725e+12\n",
       "United Kingdom        2.487907e+12\n",
       "Brazil                2.189794e+12\n",
       "Italy                 2.120175e+12\n",
       "India                 1.769297e+12\n",
       "Canada                1.660647e+12\n",
       "Russian Federation    1.565459e+12\n",
       "Spain                 1.418078e+12\n",
       "Australia             1.164043e+12\n",
       "South Korea           1.106715e+12\n",
       "Iran                  4.441558e+11\n",
       "Name: avgGDP, dtype: float64"
      ]
     },
     "execution_count": 84,
     "metadata": {},
     "output_type": "execute_result"
    }
   ],
   "source": [
    "pd.Series(answer_one().loc[:, ['2006', '2007', '2008', '2009', '2010', '2011', '2012', '2013', '2014', '2015']] \\\n",
    "                              .apply(np.mean, axis = 1).sort_values(ascending = False),\n",
    "                     name = \"avgGDP\")"
   ]
  },
  {
   "cell_type": "code",
   "execution_count": 13,
   "metadata": {
    "deletable": false,
    "execution": {
     "iopub.execute_input": "2023-01-29T01:04:23.346073Z",
     "iopub.status.busy": "2023-01-29T01:04:23.346073Z",
     "iopub.status.idle": "2023-01-29T01:04:23.356612Z",
     "shell.execute_reply": "2023-01-29T01:04:23.356612Z",
     "shell.execute_reply.started": "2023-01-29T01:04:23.346073Z"
    },
    "nbgrader": {
     "cell_type": "code",
     "checksum": "a3490fd71a46cecfa3da698e006fe729",
     "grade": false,
     "grade_id": "cell-8c3d74335c0d489a",
     "locked": false,
     "schema_version": 3,
     "solution": true
    },
    "tags": []
   },
   "outputs": [],
   "source": [
    "def answer_three() -> pd.Series:\n",
    "    \n",
    "    # pick just the columns needed to compute the average\n",
    "    data = answer_one().loc[:, ['2006', '2007', '2008', '2009', '2010', '2011', '2012', '2013', '2014', '2015']]\n",
    "    \n",
    "    # find the row means & sort values in descending order\n",
    "    series = data.apply(np.mean, axis = 1).sort_values(ascending = False)\n",
    "    \n",
    "    return pd.Series(series, name = \"avgGDP\", index = series.index)"
   ]
  },
  {
   "cell_type": "code",
   "execution_count": 14,
   "metadata": {
    "execution": {
     "iopub.execute_input": "2023-01-29T01:04:23.816939Z",
     "iopub.status.busy": "2023-01-29T01:04:23.816939Z",
     "iopub.status.idle": "2023-01-29T01:04:23.877076Z",
     "shell.execute_reply": "2023-01-29T01:04:23.877076Z",
     "shell.execute_reply.started": "2023-01-29T01:04:23.816939Z"
    },
    "tags": []
   },
   "outputs": [
    {
     "data": {
      "text/plain": [
       "Country\n",
       "United States         1.536434e+13\n",
       "China                 6.348609e+12\n",
       "Japan                 5.542208e+12\n",
       "Germany               3.493025e+12\n",
       "France                2.681725e+12\n",
       "United Kingdom        2.487907e+12\n",
       "Brazil                2.189794e+12\n",
       "Italy                 2.120175e+12\n",
       "India                 1.769297e+12\n",
       "Canada                1.660647e+12\n",
       "Russian Federation    1.565459e+12\n",
       "Spain                 1.418078e+12\n",
       "Australia             1.164043e+12\n",
       "South Korea           1.106715e+12\n",
       "Iran                  4.441558e+11\n",
       "Name: avgGDP, dtype: float64"
      ]
     },
     "execution_count": 14,
     "metadata": {},
     "output_type": "execute_result"
    }
   ],
   "source": [
    "answer_three()"
   ]
  },
  {
   "cell_type": "code",
   "execution_count": 90,
   "metadata": {
    "deletable": false,
    "editable": false,
    "execution": {
     "iopub.execute_input": "2023-01-28T09:23:40.427596Z",
     "iopub.status.busy": "2023-01-28T09:23:40.427596Z",
     "iopub.status.idle": "2023-01-28T09:23:40.499665Z",
     "shell.execute_reply": "2023-01-28T09:23:40.499665Z",
     "shell.execute_reply.started": "2023-01-28T09:23:40.427596Z"
    },
    "nbgrader": {
     "cell_type": "code",
     "checksum": "2f9c90ee07138f94c027c5d2f907ab13",
     "grade": true,
     "grade_id": "cell-aaaa11ef7d26f4cf",
     "locked": true,
     "points": 6.66,
     "schema_version": 3,
     "solution": false
    }
   },
   "outputs": [],
   "source": [
    "assert type(answer_three()) == pd.Series, \"Q3: You should return a Series!\"\n"
   ]
  },
  {
   "cell_type": "markdown",
   "metadata": {},
   "source": [
    "### Question 4\n",
    "By how much had the GDP changed over the 10 year span for the country with the 6th largest average GDP?\n",
    "\n",
    "*This function should return a single number.*"
   ]
  },
  {
   "cell_type": "code",
   "execution_count": 103,
   "metadata": {
    "execution": {
     "iopub.execute_input": "2023-01-28T09:34:48.292621Z",
     "iopub.status.busy": "2023-01-28T09:34:48.292621Z",
     "iopub.status.idle": "2023-01-28T09:34:48.347410Z",
     "shell.execute_reply": "2023-01-28T09:34:48.347410Z",
     "shell.execute_reply.started": "2023-01-28T09:34:48.292621Z"
    },
    "tags": []
   },
   "outputs": [
    {
     "data": {
      "text/plain": [
       "'United Kingdom'"
      ]
     },
     "execution_count": 103,
     "metadata": {},
     "output_type": "execute_result"
    }
   ],
   "source": [
    "answer_three().index[5]"
   ]
  },
  {
   "cell_type": "code",
   "execution_count": 104,
   "metadata": {
    "execution": {
     "iopub.execute_input": "2023-01-28T09:34:58.604153Z",
     "iopub.status.busy": "2023-01-28T09:34:58.604153Z",
     "iopub.status.idle": "2023-01-28T09:34:58.706658Z",
     "shell.execute_reply": "2023-01-28T09:34:58.706658Z",
     "shell.execute_reply.started": "2023-01-28T09:34:58.604153Z"
    },
    "tags": []
   },
   "outputs": [
    {
     "data": {
      "text/plain": [
       "2006     2419630700401.72998\n",
       "2015    2666333396477.129883\n",
       "Name: United Kingdom, dtype: object"
      ]
     },
     "execution_count": 104,
     "metadata": {},
     "output_type": "execute_result"
    }
   ],
   "source": [
    "answer_one().loc[answer_three().index[5], [\"2006\", \"2015\"]]"
   ]
  },
  {
   "cell_type": "code",
   "execution_count": 17,
   "metadata": {
    "deletable": false,
    "execution": {
     "iopub.execute_input": "2023-01-29T01:07:39.603274Z",
     "iopub.status.busy": "2023-01-29T01:07:39.603274Z",
     "iopub.status.idle": "2023-01-29T01:07:39.607459Z",
     "shell.execute_reply": "2023-01-29T01:07:39.607459Z",
     "shell.execute_reply.started": "2023-01-29T01:07:39.603274Z"
    },
    "nbgrader": {
     "cell_type": "code",
     "checksum": "768a19bcc8adc6991fe5c757e95ba784",
     "grade": false,
     "grade_id": "cell-7f77d099e3e0bbee",
     "locked": false,
     "schema_version": 3,
     "solution": true
    },
    "tags": []
   },
   "outputs": [],
   "source": [
    "def answer_four() -> float:\n",
    "    \n",
    "    # the country with 6th largest average GDP is U.K\n",
    "    sixth_largest_gdp_country = answer_three().index[5]\n",
    "    \n",
    "    # get the GDP values of U.K for 2006 & 2015\n",
    "    data = answer_one().loc[sixth_largest_gdp_country, [\"2006\", \"2015\"]]\n",
    "    \n",
    "    # return the difference between GDP of 2015 & that of 2006\n",
    "    return data[1] - data[0]"
   ]
  },
  {
   "cell_type": "code",
   "execution_count": 18,
   "metadata": {
    "execution": {
     "iopub.execute_input": "2023-01-29T01:07:39.901637Z",
     "iopub.status.busy": "2023-01-29T01:07:39.901637Z",
     "iopub.status.idle": "2023-01-29T01:07:40.009040Z",
     "shell.execute_reply": "2023-01-29T01:07:40.009040Z",
     "shell.execute_reply.started": "2023-01-29T01:07:39.901637Z"
    },
    "tags": []
   },
   "outputs": [
    {
     "data": {
      "text/plain": [
       "246702696075.3999"
      ]
     },
     "execution_count": 18,
     "metadata": {},
     "output_type": "execute_result"
    }
   ],
   "source": [
    "answer_four()"
   ]
  },
  {
   "cell_type": "code",
   "execution_count": null,
   "metadata": {
    "deletable": false,
    "editable": false,
    "nbgrader": {
     "cell_type": "code",
     "checksum": "a7770c49cdfac4fa6368dfe8b39e6474",
     "grade": true,
     "grade_id": "cell-564dd8e5e24b0f83",
     "locked": true,
     "points": 6.66,
     "schema_version": 3,
     "solution": false
    }
   },
   "outputs": [],
   "source": [
    "# Cell for autograder.\n"
   ]
  },
  {
   "cell_type": "markdown",
   "metadata": {
    "deletable": false,
    "editable": false,
    "nbgrader": {
     "cell_type": "markdown",
     "checksum": "ed6dbc94ff1b6268873413fee12741cd",
     "grade": false,
     "grade_id": "cell-617669111e38ca15",
     "locked": true,
     "schema_version": 3,
     "solution": false
    }
   },
   "source": [
    "### Question 5\n",
    "What is the mean energy supply per capita?\n",
    "\n",
    "*This function should return a single number.*"
   ]
  },
  {
   "cell_type": "code",
   "execution_count": 111,
   "metadata": {
    "execution": {
     "iopub.execute_input": "2023-01-28T09:37:17.385325Z",
     "iopub.status.busy": "2023-01-28T09:37:17.385325Z",
     "iopub.status.idle": "2023-01-28T09:37:17.446363Z",
     "shell.execute_reply": "2023-01-28T09:37:17.446363Z",
     "shell.execute_reply.started": "2023-01-28T09:37:17.385325Z"
    },
    "tags": []
   },
   "outputs": [
    {
     "data": {
      "text/plain": [
       "157.14285714285714"
      ]
     },
     "execution_count": 111,
     "metadata": {},
     "output_type": "execute_result"
    }
   ],
   "source": [
    "answer_one().loc[:, \"Energy Supply per Capita\"].mean()"
   ]
  },
  {
   "cell_type": "code",
   "execution_count": 19,
   "metadata": {
    "deletable": false,
    "execution": {
     "iopub.execute_input": "2023-01-29T01:08:29.464167Z",
     "iopub.status.busy": "2023-01-29T01:08:29.464167Z",
     "iopub.status.idle": "2023-01-29T01:08:29.475959Z",
     "shell.execute_reply": "2023-01-29T01:08:29.475959Z",
     "shell.execute_reply.started": "2023-01-29T01:08:29.464167Z"
    },
    "nbgrader": {
     "cell_type": "code",
     "checksum": "cfd61a1735889e7ef20692ca0d28ddcb",
     "grade": false,
     "grade_id": "cell-58e79d558e982eef",
     "locked": false,
     "schema_version": 3,
     "solution": true
    },
    "tags": []
   },
   "outputs": [],
   "source": [
    "def answer_five() -> float:\n",
    "    \n",
    "    # extract the column of interest & return its mean\n",
    "    return answer_one().loc[:, \"Energy Supply per Capita\"].mean()"
   ]
  },
  {
   "cell_type": "code",
   "execution_count": 20,
   "metadata": {
    "execution": {
     "iopub.execute_input": "2023-01-29T01:08:30.311712Z",
     "iopub.status.busy": "2023-01-29T01:08:30.311712Z",
     "iopub.status.idle": "2023-01-29T01:08:30.368254Z",
     "shell.execute_reply": "2023-01-29T01:08:30.368254Z",
     "shell.execute_reply.started": "2023-01-29T01:08:30.311712Z"
    },
    "tags": []
   },
   "outputs": [
    {
     "data": {
      "text/plain": [
       "157.14285714285714"
      ]
     },
     "execution_count": 20,
     "metadata": {},
     "output_type": "execute_result"
    }
   ],
   "source": [
    "answer_five()"
   ]
  },
  {
   "cell_type": "code",
   "execution_count": null,
   "metadata": {
    "deletable": false,
    "editable": false,
    "nbgrader": {
     "cell_type": "code",
     "checksum": "9d61bf22656baeecc77f63d54448590e",
     "grade": true,
     "grade_id": "cell-30cc66180851638c",
     "locked": true,
     "points": 6.66,
     "schema_version": 3,
     "solution": false
    }
   },
   "outputs": [],
   "source": [
    "# Cell for autograder.\n"
   ]
  },
  {
   "cell_type": "markdown",
   "metadata": {
    "deletable": false,
    "editable": false,
    "nbgrader": {
     "cell_type": "markdown",
     "checksum": "2c7a163ae96f56317756456b0d9d695b",
     "grade": false,
     "grade_id": "cell-5c11ddd12fd71b3f",
     "locked": true,
     "schema_version": 3,
     "solution": false
    }
   },
   "source": [
    "### Question 6\n",
    "What country has the maximum % Renewable and what is the percentage?\n",
    "\n",
    "*This function should return a tuple with the name of the country and the percentage.*"
   ]
  },
  {
   "cell_type": "code",
   "execution_count": 23,
   "metadata": {
    "deletable": false,
    "execution": {
     "iopub.execute_input": "2023-01-29T01:13:44.387190Z",
     "iopub.status.busy": "2023-01-29T01:13:44.387190Z",
     "iopub.status.idle": "2023-01-29T01:13:44.404032Z",
     "shell.execute_reply": "2023-01-29T01:13:44.404032Z",
     "shell.execute_reply.started": "2023-01-29T01:13:44.387190Z"
    },
    "nbgrader": {
     "cell_type": "code",
     "checksum": "f8657f18c77eb0f752bca3cc48561da3",
     "grade": false,
     "grade_id": "cell-b6824b78e74619f9",
     "locked": false,
     "schema_version": 3,
     "solution": true
    },
    "tags": []
   },
   "outputs": [],
   "source": [
    "def answer_six() -> tuple[str, float]:\n",
    "    \n",
    "    # extract the interested column\n",
    "    data = answer_one().loc[:, \"% Renewable\"]\n",
    "    \n",
    "    # get the max percent\n",
    "    _max = data.max()\n",
    "    \n",
    "    # get the numeric index of the max\n",
    "    _max_numeric_ind = np.nanargmax(data)\n",
    "    \n",
    "    # return the tuple\n",
    "    return data.index[_max_numeric_ind], _max"
   ]
  },
  {
   "cell_type": "code",
   "execution_count": 24,
   "metadata": {
    "execution": {
     "iopub.execute_input": "2023-01-29T01:13:44.811076Z",
     "iopub.status.busy": "2023-01-29T01:13:44.811076Z",
     "iopub.status.idle": "2023-01-29T01:13:44.868023Z",
     "shell.execute_reply": "2023-01-29T01:13:44.868023Z",
     "shell.execute_reply.started": "2023-01-29T01:13:44.811076Z"
    },
    "tags": []
   },
   "outputs": [
    {
     "data": {
      "text/plain": [
       "('Brazil', 69.64803)"
      ]
     },
     "execution_count": 24,
     "metadata": {},
     "output_type": "execute_result"
    }
   ],
   "source": [
    "answer_six()"
   ]
  },
  {
   "cell_type": "code",
   "execution_count": 25,
   "metadata": {
    "execution": {
     "iopub.execute_input": "2023-01-29T01:14:03.992598Z",
     "iopub.status.busy": "2023-01-29T01:14:03.992598Z",
     "iopub.status.idle": "2023-01-29T01:14:04.047862Z",
     "shell.execute_reply": "2023-01-29T01:14:04.047862Z",
     "shell.execute_reply.started": "2023-01-29T01:14:03.992598Z"
    },
    "tags": []
   },
   "outputs": [
    {
     "data": {
      "text/plain": [
       "69.64803"
      ]
     },
     "execution_count": 25,
     "metadata": {},
     "output_type": "execute_result"
    }
   ],
   "source": [
    "answer_one().loc[:, \"% Renewable\"].max()"
   ]
  },
  {
   "cell_type": "code",
   "execution_count": 26,
   "metadata": {
    "execution": {
     "iopub.execute_input": "2023-01-29T01:14:08.254988Z",
     "iopub.status.busy": "2023-01-29T01:14:08.254988Z",
     "iopub.status.idle": "2023-01-29T01:14:08.359259Z",
     "shell.execute_reply": "2023-01-29T01:14:08.359259Z",
     "shell.execute_reply.started": "2023-01-29T01:14:08.254988Z"
    },
    "tags": []
   },
   "outputs": [
    {
     "data": {
      "text/plain": [
       "'Brazil'"
      ]
     },
     "execution_count": 26,
     "metadata": {},
     "output_type": "execute_result"
    }
   ],
   "source": [
    "answer_one().index[np.nanargmax(answer_one().loc[:, \"% Renewable\"])]"
   ]
  },
  {
   "cell_type": "code",
   "execution_count": 27,
   "metadata": {
    "deletable": false,
    "editable": false,
    "execution": {
     "iopub.execute_input": "2023-01-29T01:14:09.982332Z",
     "iopub.status.busy": "2023-01-29T01:14:09.982332Z",
     "iopub.status.idle": "2023-01-29T01:14:10.076497Z",
     "shell.execute_reply": "2023-01-29T01:14:10.076497Z",
     "shell.execute_reply.started": "2023-01-29T01:14:09.982332Z"
    },
    "nbgrader": {
     "cell_type": "code",
     "checksum": "f8b28b0a824a3b76a6244c1273648ccd",
     "grade": true,
     "grade_id": "cell-2bd201c5c7bdd80f",
     "locked": true,
     "points": 6.66,
     "schema_version": 3,
     "solution": false
    },
    "tags": []
   },
   "outputs": [],
   "source": [
    "assert type(answer_six()) == tuple, \"Q6: You should return a tuple!\"\n",
    "\n",
    "assert type(answer_six()[0]) == str, \"Q6: The first element in your result should be the name of the country!\"\n"
   ]
  },
  {
   "cell_type": "markdown",
   "metadata": {
    "deletable": false,
    "editable": false,
    "nbgrader": {
     "cell_type": "markdown",
     "checksum": "a7b561a486a28ee4ba80a40715617c6d",
     "grade": false,
     "grade_id": "cell-ddf52a85ad3d5a11",
     "locked": true,
     "schema_version": 3,
     "solution": false
    }
   },
   "source": [
    "### Question 7\n",
    "Create a new column that is the ratio of Self-Citations to Total Citations. \n",
    "What is the maximum value for this new column, and what country has the highest ratio?\n",
    "\n",
    "*This function should return a tuple with the name of the country and the ratio.*"
   ]
  },
  {
   "cell_type": "code",
   "execution_count": 145,
   "metadata": {
    "execution": {
     "iopub.execute_input": "2023-01-28T09:53:09.843994Z",
     "iopub.status.busy": "2023-01-28T09:53:09.843994Z",
     "iopub.status.idle": "2023-01-28T09:53:09.903686Z",
     "shell.execute_reply": "2023-01-28T09:53:09.903686Z",
     "shell.execute_reply.started": "2023-01-28T09:53:09.843994Z"
    },
    "tags": []
   },
   "outputs": [
    {
     "data": {
      "text/plain": [
       "('China', 0.6893126179389422)"
      ]
     },
     "execution_count": 145,
     "metadata": {},
     "output_type": "execute_result"
    }
   ],
   "source": [
    "data = answer_one().loc[:, [\"Citations\", \"Self-citations\"]]\n",
    "_ratio = data.loc[:, \"Self-citations\"] / data.Citations\n",
    "_ratio.index[np.nanargmax(_ratio)], _ratio.max()"
   ]
  },
  {
   "cell_type": "code",
   "execution_count": 144,
   "metadata": {
    "execution": {
     "iopub.execute_input": "2023-01-28T09:52:49.382065Z",
     "iopub.status.busy": "2023-01-28T09:52:49.382065Z",
     "iopub.status.idle": "2023-01-28T09:52:49.398823Z",
     "shell.execute_reply": "2023-01-28T09:52:49.398823Z",
     "shell.execute_reply.started": "2023-01-28T09:52:49.382065Z"
    },
    "tags": []
   },
   "outputs": [
    {
     "data": {
      "text/plain": [
       "Country\n",
       "China                 0.689313\n",
       "United States         0.335031\n",
       "Japan                 0.275997\n",
       "United Kingdom        0.183773\n",
       "Russian Federation    0.362517\n",
       "Canada                0.190369\n",
       "Germany               0.195111\n",
       "India                 0.288973\n",
       "France                0.218943\n",
       "South Korea           0.197035\n",
       "Italy                 0.238364\n",
       "Spain                 0.194299\n",
       "Iran                  0.332782\n",
       "Australia             0.171939\n",
       "Brazil                0.237159\n",
       "dtype: float64"
      ]
     },
     "execution_count": 144,
     "metadata": {},
     "output_type": "execute_result"
    }
   ],
   "source": [
    "_ratio"
   ]
  },
  {
   "cell_type": "code",
   "execution_count": 28,
   "metadata": {
    "deletable": false,
    "execution": {
     "iopub.execute_input": "2023-01-29T01:17:16.925129Z",
     "iopub.status.busy": "2023-01-29T01:17:16.925129Z",
     "iopub.status.idle": "2023-01-29T01:17:16.942501Z",
     "shell.execute_reply": "2023-01-29T01:17:16.942501Z",
     "shell.execute_reply.started": "2023-01-29T01:17:16.925129Z"
    },
    "nbgrader": {
     "cell_type": "code",
     "checksum": "e4b1cc5e3deefd24be992fbee18d0e74",
     "grade": false,
     "grade_id": "cell-a4f39737f38aa53c",
     "locked": false,
     "schema_version": 3,
     "solution": true
    },
    "tags": []
   },
   "outputs": [],
   "source": [
    "def answer_seven() -> tuple[str, float]:\n",
    "    \n",
    "    # pick just the needed columns\n",
    "    data = answer_one().loc[:, [\"Citations\", \"Self-citations\"]]\n",
    "    \n",
    "    # compute the Self citations / Total citations ratio\n",
    "    citation_ratio = data.loc[:, \"Self-citations\"] / data.loc[:, \"Citations\"]\n",
    "    \n",
    "    # numeric index of the max ratio\n",
    "    numeric_ind_max = np.nanargmax(citation_ratio)\n",
    "    \n",
    "    # return the tuple\n",
    "    return citation_ratio.index[numeric_ind_max], citation_ratio.max()"
   ]
  },
  {
   "cell_type": "code",
   "execution_count": 29,
   "metadata": {
    "execution": {
     "iopub.execute_input": "2023-01-29T01:17:25.335341Z",
     "iopub.status.busy": "2023-01-29T01:17:25.335341Z",
     "iopub.status.idle": "2023-01-29T01:17:25.402077Z",
     "shell.execute_reply": "2023-01-29T01:17:25.402077Z",
     "shell.execute_reply.started": "2023-01-29T01:17:25.335341Z"
    }
   },
   "outputs": [
    {
     "data": {
      "text/plain": [
       "('China', 0.6893126179389422)"
      ]
     },
     "execution_count": 29,
     "metadata": {},
     "output_type": "execute_result"
    }
   ],
   "source": [
    "answer_seven()"
   ]
  },
  {
   "cell_type": "code",
   "execution_count": 30,
   "metadata": {
    "deletable": false,
    "editable": false,
    "execution": {
     "iopub.execute_input": "2023-01-29T01:17:27.347713Z",
     "iopub.status.busy": "2023-01-29T01:17:27.347713Z",
     "iopub.status.idle": "2023-01-29T01:17:27.456047Z",
     "shell.execute_reply": "2023-01-29T01:17:27.456047Z",
     "shell.execute_reply.started": "2023-01-29T01:17:27.347713Z"
    },
    "nbgrader": {
     "cell_type": "code",
     "checksum": "ca448b3a16b65a3a08533cac736cc4d9",
     "grade": true,
     "grade_id": "cell-b7a163e9231b88c9",
     "locked": true,
     "points": 6.66,
     "schema_version": 3,
     "solution": false
    },
    "tags": []
   },
   "outputs": [],
   "source": [
    "assert type(answer_seven()) == tuple, \"Q7: You should return a tuple!\"\n",
    "\n",
    "assert type(answer_seven()[0]) == str, \"Q7: The first element in your result should be the name of the country!\"\n"
   ]
  },
  {
   "cell_type": "markdown",
   "metadata": {
    "deletable": false,
    "editable": false,
    "nbgrader": {
     "cell_type": "markdown",
     "checksum": "7be7b86ee7467539dd88746818c78c0e",
     "grade": false,
     "grade_id": "cell-5c89296ab6f94218",
     "locked": true,
     "schema_version": 3,
     "solution": false
    }
   },
   "source": [
    "### Question 8\n",
    "\n",
    "Create a column that estimates the population using Energy Supply and Energy Supply per capita. \n",
    "What is the third most populous country according to this estimate?\n",
    "\n",
    "*This function should return the name of the country*"
   ]
  },
  {
   "cell_type": "code",
   "execution_count": 37,
   "metadata": {
    "execution": {
     "iopub.execute_input": "2023-01-29T01:26:27.280344Z",
     "iopub.status.busy": "2023-01-29T01:26:27.280344Z",
     "iopub.status.idle": "2023-01-29T01:26:27.338537Z",
     "shell.execute_reply": "2023-01-29T01:26:27.338537Z",
     "shell.execute_reply.started": "2023-01-29T01:26:27.280344Z"
    },
    "tags": []
   },
   "outputs": [
    {
     "data": {
      "text/html": [
       "<div>\n",
       "<style scoped>\n",
       "    .dataframe tbody tr th:only-of-type {\n",
       "        vertical-align: middle;\n",
       "    }\n",
       "\n",
       "    .dataframe tbody tr th {\n",
       "        vertical-align: top;\n",
       "    }\n",
       "\n",
       "    .dataframe thead th {\n",
       "        text-align: right;\n",
       "    }\n",
       "</style>\n",
       "<table border=\"1\" class=\"dataframe\">\n",
       "  <thead>\n",
       "    <tr style=\"text-align: right;\">\n",
       "      <th></th>\n",
       "      <th>Energy Supply</th>\n",
       "      <th>Energy Supply per Capita</th>\n",
       "    </tr>\n",
       "    <tr>\n",
       "      <th>Country</th>\n",
       "      <th></th>\n",
       "      <th></th>\n",
       "    </tr>\n",
       "  </thead>\n",
       "  <tbody>\n",
       "    <tr>\n",
       "      <th>China</th>\n",
       "      <td>NaN</td>\n",
       "      <td>NaN</td>\n",
       "    </tr>\n",
       "    <tr>\n",
       "      <th>United States</th>\n",
       "      <td>NaN</td>\n",
       "      <td>NaN</td>\n",
       "    </tr>\n",
       "    <tr>\n",
       "      <th>Japan</th>\n",
       "      <td>NaN</td>\n",
       "      <td>NaN</td>\n",
       "    </tr>\n",
       "    <tr>\n",
       "      <th>United Kingdom</th>\n",
       "      <td>NaN</td>\n",
       "      <td>NaN</td>\n",
       "    </tr>\n",
       "    <tr>\n",
       "      <th>Russian Federation</th>\n",
       "      <td>3.070900e+10</td>\n",
       "      <td>214</td>\n",
       "    </tr>\n",
       "    <tr>\n",
       "      <th>Canada</th>\n",
       "      <td>1.043100e+10</td>\n",
       "      <td>296</td>\n",
       "    </tr>\n",
       "    <tr>\n",
       "      <th>Germany</th>\n",
       "      <td>1.326100e+10</td>\n",
       "      <td>165</td>\n",
       "    </tr>\n",
       "    <tr>\n",
       "      <th>India</th>\n",
       "      <td>3.319500e+10</td>\n",
       "      <td>26</td>\n",
       "    </tr>\n",
       "    <tr>\n",
       "      <th>France</th>\n",
       "      <td>NaN</td>\n",
       "      <td>NaN</td>\n",
       "    </tr>\n",
       "    <tr>\n",
       "      <th>South Korea</th>\n",
       "      <td>1.100700e+10</td>\n",
       "      <td>221</td>\n",
       "    </tr>\n",
       "    <tr>\n",
       "      <th>Italy</th>\n",
       "      <td>NaN</td>\n",
       "      <td>NaN</td>\n",
       "    </tr>\n",
       "    <tr>\n",
       "      <th>Spain</th>\n",
       "      <td>NaN</td>\n",
       "      <td>NaN</td>\n",
       "    </tr>\n",
       "    <tr>\n",
       "      <th>Iran</th>\n",
       "      <td>9.172000e+09</td>\n",
       "      <td>119</td>\n",
       "    </tr>\n",
       "    <tr>\n",
       "      <th>Australia</th>\n",
       "      <td>NaN</td>\n",
       "      <td>NaN</td>\n",
       "    </tr>\n",
       "    <tr>\n",
       "      <th>Brazil</th>\n",
       "      <td>1.214900e+10</td>\n",
       "      <td>59</td>\n",
       "    </tr>\n",
       "  </tbody>\n",
       "</table>\n",
       "</div>"
      ],
      "text/plain": [
       "                    Energy Supply Energy Supply per Capita\n",
       "Country                                                   \n",
       "China                         NaN                      NaN\n",
       "United States                 NaN                      NaN\n",
       "Japan                         NaN                      NaN\n",
       "United Kingdom                NaN                      NaN\n",
       "Russian Federation   3.070900e+10                      214\n",
       "Canada               1.043100e+10                      296\n",
       "Germany              1.326100e+10                      165\n",
       "India                3.319500e+10                       26\n",
       "France                        NaN                      NaN\n",
       "South Korea          1.100700e+10                      221\n",
       "Italy                         NaN                      NaN\n",
       "Spain                         NaN                      NaN\n",
       "Iran                 9.172000e+09                      119\n",
       "Australia                     NaN                      NaN\n",
       "Brazil               1.214900e+10                       59"
      ]
     },
     "execution_count": 37,
     "metadata": {},
     "output_type": "execute_result"
    }
   ],
   "source": [
    "answer_one().loc[:, [\"Energy Supply\", \"Energy Supply per Capita\"]]"
   ]
  },
  {
   "cell_type": "code",
   "execution_count": 71,
   "metadata": {
    "deletable": false,
    "execution": {
     "iopub.execute_input": "2023-01-29T02:01:40.366644Z",
     "iopub.status.busy": "2023-01-29T02:01:40.366644Z",
     "iopub.status.idle": "2023-01-29T02:01:40.379448Z",
     "shell.execute_reply": "2023-01-29T02:01:40.379448Z",
     "shell.execute_reply.started": "2023-01-29T02:01:40.366644Z"
    },
    "nbgrader": {
     "cell_type": "code",
     "checksum": "9d733b2abf089b1931e2e792ff51d488",
     "grade": false,
     "grade_id": "cell-9ca58137846b84d6",
     "locked": false,
     "schema_version": 3,
     "solution": true
    },
    "tags": []
   },
   "outputs": [],
   "source": [
    "def answer_eight() -> str:\n",
    "    \n",
    "    # get the data & pick the columns\n",
    "    data = answer_one().loc[:, [\"Energy Supply\", \"Energy Supply per Capita\"]]\n",
    "    \n",
    "    # per capita - per head or per person\n",
    "    # so, population = total energy supply / energy supply per capita\n",
    "    \n",
    "    # compute the populations\n",
    "    populations = data.loc[:, \"Energy Supply\"] / data.loc[:, \"Energy Supply per Capita\"]\n",
    "    \n",
    "    # find the third most populous country\n",
    "    populations = populations.sort_values(ascending = False)\n",
    "    #print(populations)\n",
    "    country = populations.index[2]\n",
    "    \n",
    "    return country"
   ]
  },
  {
   "cell_type": "code",
   "execution_count": 72,
   "metadata": {
    "execution": {
     "iopub.execute_input": "2023-01-29T02:01:41.214123Z",
     "iopub.status.busy": "2023-01-29T02:01:41.214123Z",
     "iopub.status.idle": "2023-01-29T02:01:41.290136Z",
     "shell.execute_reply": "2023-01-29T02:01:41.290136Z",
     "shell.execute_reply.started": "2023-01-29T02:01:41.214123Z"
    },
    "tags": []
   },
   "outputs": [
    {
     "data": {
      "text/plain": [
       "'Russian Federation'"
      ]
     },
     "execution_count": 72,
     "metadata": {},
     "output_type": "execute_result"
    }
   ],
   "source": [
    "answer_eight()"
   ]
  },
  {
   "cell_type": "code",
   "execution_count": 73,
   "metadata": {
    "deletable": false,
    "editable": false,
    "execution": {
     "iopub.execute_input": "2023-01-29T02:02:02.463625Z",
     "iopub.status.busy": "2023-01-29T02:02:02.463625Z",
     "iopub.status.idle": "2023-01-29T02:02:02.517362Z",
     "shell.execute_reply": "2023-01-29T02:02:02.517362Z",
     "shell.execute_reply.started": "2023-01-29T02:02:02.463625Z"
    },
    "nbgrader": {
     "cell_type": "code",
     "checksum": "ba2ad50cf8198767b0bd2f75b8d97e87",
     "grade": true,
     "grade_id": "cell-3f3620c88df08b20",
     "locked": true,
     "points": 0,
     "schema_version": 3,
     "solution": false
    }
   },
   "outputs": [],
   "source": [
    "assert type(answer_eight()) == str, \"Q8: You should return the name of the country!\"\n"
   ]
  },
  {
   "cell_type": "markdown",
   "metadata": {
    "deletable": false,
    "editable": false,
    "nbgrader": {
     "cell_type": "markdown",
     "checksum": "164cba98164a1045db7de10dd37115c8",
     "grade": false,
     "grade_id": "cell-2065207e66e5ec01",
     "locked": true,
     "schema_version": 3,
     "solution": false
    }
   },
   "source": [
    "### Question 9\n",
    "Create a column that estimates the number of citable documents per person. \n",
    "What is the correlation between the number of citable documents per capita and the energy supply per capita? Use the `.corr()` method, (Pearson's correlation).\n",
    "\n",
    "*This function should return a single number.*\n",
    "\n",
    "*(Optional: Use the built-in function `plot9()` to visualize the relationship between Energy Supply per Capita vs. Citable docs per Capita)*"
   ]
  },
  {
   "cell_type": "code",
   "execution_count": 126,
   "metadata": {
    "deletable": false,
    "execution": {
     "iopub.execute_input": "2023-01-29T03:06:45.397708Z",
     "iopub.status.busy": "2023-01-29T03:06:45.397708Z",
     "iopub.status.idle": "2023-01-29T03:06:45.405761Z",
     "shell.execute_reply": "2023-01-29T03:06:45.405761Z",
     "shell.execute_reply.started": "2023-01-29T03:06:45.397708Z"
    },
    "nbgrader": {
     "cell_type": "code",
     "checksum": "94e06c4c3a9618b94dbb0e86913b546c",
     "grade": false,
     "grade_id": "cell-033679ea456bfb9d",
     "locked": false,
     "schema_version": 3,
     "solution": true
    },
    "tags": []
   },
   "outputs": [],
   "source": [
    "def answer_nine() -> int:\n",
    "    \n",
    "    # get the data & pick the columns\n",
    "    data = answer_one().loc[:, [\"Energy Supply\", \"Energy Supply per Capita\", \"Citable documents\"]]\n",
    "    \n",
    "    # per capita - per head or per person\n",
    "    # so, population = total energy supply / energy supply per capita\n",
    "    \n",
    "    # compute the populations\n",
    "    data.loc[:, \"Population\"] = np.array(data.loc[:, \"Energy Supply\"] / data.loc[:, \"Energy Supply per Capita\"], dtype = np.float64)\n",
    "    \n",
    "    # number of citable docs per person\n",
    "    data[\"Citable docs per Capita\"] = np.array(data.loc[:, \"Citable documents\"] / data.loc[:, \"Population\"], dtype = np.float64)\n",
    "    \n",
    "    # make this a numeric column\n",
    "    data[\"Energy Supply per Capita\"] = np.array(data.loc[:, \"Energy Supply per Capita\"], dtype = np.float64)\n",
    "    \n",
    "    # print(data.dtypes)\n",
    "    # correlation matrix\n",
    "    corr_matrix = data.loc[:, [\"Citable docs per Capita\", \"Energy Supply per Capita\"]].corr(numeric_only = False, method = \"pearson\")\n",
    "    \n",
    "    _corr = corr_matrix.iloc[0, 1]\n",
    "    return _corr"
   ]
  },
  {
   "cell_type": "code",
   "execution_count": 127,
   "metadata": {
    "execution": {
     "iopub.execute_input": "2023-01-29T03:06:45.852715Z",
     "iopub.status.busy": "2023-01-29T03:06:45.852715Z",
     "iopub.status.idle": "2023-01-29T03:06:45.925753Z",
     "shell.execute_reply": "2023-01-29T03:06:45.925753Z",
     "shell.execute_reply.started": "2023-01-29T03:06:45.852715Z"
    },
    "tags": []
   },
   "outputs": [
    {
     "data": {
      "text/plain": [
       "0.8884213642341791"
      ]
     },
     "execution_count": 127,
     "metadata": {},
     "output_type": "execute_result"
    }
   ],
   "source": [
    "answer_nine()"
   ]
  },
  {
   "cell_type": "code",
   "execution_count": 128,
   "metadata": {
    "deletable": false,
    "editable": false,
    "execution": {
     "iopub.execute_input": "2023-01-29T03:06:46.986609Z",
     "iopub.status.busy": "2023-01-29T03:06:46.986609Z",
     "iopub.status.idle": "2023-01-29T03:06:47.001863Z",
     "shell.execute_reply": "2023-01-29T03:06:47.001863Z",
     "shell.execute_reply.started": "2023-01-29T03:06:46.986609Z"
    },
    "nbgrader": {
     "cell_type": "code",
     "checksum": "01a146bbcca0fa9c9c13e71ab52e710f",
     "grade": false,
     "grade_id": "cell-644824f6c708bf80",
     "locked": true,
     "schema_version": 3,
     "solution": false
    }
   },
   "outputs": [],
   "source": [
    "def plot9():\n",
    "    import matplotlib as plt\n",
    "    %matplotlib inline\n",
    "    \n",
    "    Top15 = answer_one()\n",
    "    Top15['PopEst'] = Top15['Energy Supply'] / Top15['Energy Supply per Capita']\n",
    "    Top15['Citable docs per Capita'] = Top15['Citable documents'] / Top15['PopEst']\n",
    "    Top15.plot(x='Citable docs per Capita', y='Energy Supply per Capita', kind='scatter', xlim=[0, 0.0006])"
   ]
  },
  {
   "cell_type": "code",
   "execution_count": 129,
   "metadata": {
    "execution": {
     "iopub.execute_input": "2023-01-29T03:06:52.161889Z",
     "iopub.status.busy": "2023-01-29T03:06:52.161889Z",
     "iopub.status.idle": "2023-01-29T03:06:52.432972Z",
     "shell.execute_reply": "2023-01-29T03:06:52.432972Z",
     "shell.execute_reply.started": "2023-01-29T03:06:52.161889Z"
    }
   },
   "outputs": [
    {
     "data": {
      "image/png": "[encoded data removed]",
      "text/plain": [
       "<Figure size 640x480 with 1 Axes>"
      ]
     },
     "metadata": {},
     "output_type": "display_data"
    }
   ],
   "source": [
    "plot9()"
   ]
  },
  {
   "cell_type": "code",
   "execution_count": null,
   "metadata": {
    "deletable": false,
    "editable": false,
    "nbgrader": {
     "cell_type": "code",
     "checksum": "8dced1dde88b6877f89bdec482870476",
     "grade": true,
     "grade_id": "cell-3cb5c699065a4a20",
     "locked": true,
     "points": 6.66,
     "schema_version": 3,
     "solution": false
    }
   },
   "outputs": [],
   "source": [
    "assert answer_nine() >= -1. and answer_nine() <= 1., \"Q9: A valid correlation should between -1 to 1!\"\n"
   ]
  },
  {
   "cell_type": "markdown",
   "metadata": {
    "deletable": false,
    "editable": false,
    "nbgrader": {
     "cell_type": "markdown",
     "checksum": "8af5ffad89be1e5c6292438724d6f8d5",
     "grade": false,
     "grade_id": "cell-ad09765e29b91157",
     "locked": true,
     "schema_version": 3,
     "solution": false
    }
   },
   "source": [
    "### Question 10\n",
    "Create a new column with a 1 if the country's % Renewable value is at or above the median for all countries in the top 15, and a 0 if the country's % Renewable value is below the median.\n",
    "\n",
    "*This function should return a series named `HighRenew` whose index is the country name sorted in ascending order of rank.*"
   ]
  },
  {
   "cell_type": "code",
   "execution_count": 130,
   "metadata": {
    "deletable": false,
    "execution": {
     "iopub.execute_input": "2023-01-29T03:07:26.944924Z",
     "iopub.status.busy": "2023-01-29T03:07:26.944924Z",
     "iopub.status.idle": "2023-01-29T03:07:26.959993Z",
     "shell.execute_reply": "2023-01-29T03:07:26.959993Z",
     "shell.execute_reply.started": "2023-01-29T03:07:26.944924Z"
    },
    "nbgrader": {
     "cell_type": "code",
     "checksum": "340c06bd50a9a027a2190674cfb981b9",
     "grade": false,
     "grade_id": "cell-0fdf60e64bf1a4f9",
     "locked": false,
     "schema_version": 3,
     "solution": true
    },
    "tags": []
   },
   "outputs": [],
   "source": [
    "def answer_ten():\n",
    "    \n",
    "    # get the data & select the needed columns\n",
    "    data = answer_one().loc[:, [\"% Renewable\", \"Rank\"]].sort_values(\"Rank\", ascending = True)\n",
    "    \n",
    "    # print(data)\n",
    "    # get the median percent renewable\n",
    "    median_percent = answer_one().loc[:, \"% Renewable\"].median()\n",
    "    \n",
    "    # create & populate a series appropriately\n",
    "    result = pd.Series(data.loc[:, \"% Renewable\"].apply(lambda pcnt: 1 if pcnt >= median_percent else 0), name = \"HighRenew\")\n",
    "    \n",
    "    return result"
   ]
  },
  {
   "cell_type": "code",
   "execution_count": 131,
   "metadata": {
    "execution": {
     "iopub.execute_input": "2023-01-29T03:07:27.287877Z",
     "iopub.status.busy": "2023-01-29T03:07:27.287877Z",
     "iopub.status.idle": "2023-01-29T03:07:27.398759Z",
     "shell.execute_reply": "2023-01-29T03:07:27.398759Z",
     "shell.execute_reply.started": "2023-01-29T03:07:27.287877Z"
    },
    "tags": []
   },
   "outputs": [
    {
     "data": {
      "text/plain": [
       "Country\n",
       "China                 0\n",
       "United States         0\n",
       "Japan                 0\n",
       "United Kingdom        0\n",
       "Russian Federation    1\n",
       "Canada                1\n",
       "Germany               1\n",
       "India                 0\n",
       "France                0\n",
       "South Korea           0\n",
       "Italy                 0\n",
       "Spain                 0\n",
       "Iran                  0\n",
       "Australia             0\n",
       "Brazil                1\n",
       "Name: HighRenew, dtype: int64"
      ]
     },
     "execution_count": 131,
     "metadata": {},
     "output_type": "execute_result"
    }
   ],
   "source": [
    "answer_ten()"
   ]
  },
  {
   "cell_type": "code",
   "execution_count": 132,
   "metadata": {
    "deletable": false,
    "editable": false,
    "execution": {
     "iopub.execute_input": "2023-01-29T03:07:37.436586Z",
     "iopub.status.busy": "2023-01-29T03:07:37.436586Z",
     "iopub.status.idle": "2023-01-29T03:07:37.528074Z",
     "shell.execute_reply": "2023-01-29T03:07:37.528074Z",
     "shell.execute_reply.started": "2023-01-29T03:07:37.436586Z"
    },
    "nbgrader": {
     "cell_type": "code",
     "checksum": "f624e6996eca5796eaf27fb4d0593175",
     "grade": true,
     "grade_id": "cell-b29a631fd9a7730f",
     "locked": true,
     "points": 6.66,
     "schema_version": 3,
     "solution": false
    }
   },
   "outputs": [],
   "source": [
    "assert type(answer_ten()) == pd.Series, \"Q10: You should return a Series!\"\n"
   ]
  },
  {
   "cell_type": "markdown",
   "metadata": {
    "deletable": false,
    "editable": false,
    "nbgrader": {
     "cell_type": "markdown",
     "checksum": "52f682e7066791c34cd3b2402855cbf5",
     "grade": false,
     "grade_id": "cell-677c51ba711c3af7",
     "locked": true,
     "schema_version": 3,
     "solution": false
    }
   },
   "source": [
    "### Question 11\n",
    "Use the following dictionary to group the Countries by Continent, then create a DataFrame that displays the sample size (the number of countries in each continent bin), and the sum, mean, and std deviation for the estimated population of each country.\n",
    "\n",
    "```python\n",
    "ContinentDict  = {'China':'Asia', \n",
    "                  'United States':'North America', \n",
    "                  'Japan':'Asia', \n",
    "                  'United Kingdom':'Europe', \n",
    "                  'Russian Federation':'Europe', \n",
    "                  'Canada':'North America', \n",
    "                  'Germany':'Europe', \n",
    "                  'India':'Asia',\n",
    "                  'France':'Europe', \n",
    "                  'South Korea':'Asia', \n",
    "                  'Italy':'Europe', \n",
    "                  'Spain':'Europe', \n",
    "                  'Iran':'Asia',\n",
    "                  'Australia':'Australia', \n",
    "                  'Brazil':'South America'}\n",
    "```\n",
    "\n",
    "*This function should return a DataFrame with index named Continent `['Asia', 'Australia', 'Europe', 'North America', 'South America']` and columns `['size', 'sum', 'mean', 'std']`*"
   ]
  },
  {
   "cell_type": "code",
   "execution_count": 155,
   "metadata": {
    "deletable": false,
    "execution": {
     "iopub.execute_input": "2023-01-29T03:51:17.545460Z",
     "iopub.status.busy": "2023-01-29T03:51:17.541515Z",
     "iopub.status.idle": "2023-01-29T03:51:17.553810Z",
     "shell.execute_reply": "2023-01-29T03:51:17.552801Z",
     "shell.execute_reply.started": "2023-01-29T03:51:17.541515Z"
    },
    "nbgrader": {
     "cell_type": "code",
     "checksum": "b55846bc20cd01b0acbcb776504a766d",
     "grade": false,
     "grade_id": "cell-a5e0c0df27304f98",
     "locked": false,
     "schema_version": 3,
     "solution": true
    },
    "tags": []
   },
   "outputs": [],
   "source": [
    "def answer_eleven() -> pd.DataFrame:\n",
    "    \n",
    "    ContinentDict  = {'China':'Asia', \n",
    "                  'United States':'North America', \n",
    "                  'Japan':'Asia', \n",
    "                  'United Kingdom':'Europe', \n",
    "                  'Russian Federation':'Europe', \n",
    "                  'Canada':'North America', \n",
    "                  'Germany':'Europe', \n",
    "                  'India':'Asia',\n",
    "                  'France':'Europe', \n",
    "                  'South Korea':'Asia', \n",
    "                  'Italy':'Europe', \n",
    "                  'Spain':'Europe', \n",
    "                  'Iran':'Asia',\n",
    "                  'Australia':'Australia', \n",
    "                  'Brazil':'South America'}\n",
    "    \n",
    "    # get the data & pick the columns\n",
    "    data = answer_one().loc[:, [\"Energy Supply\", \"Energy Supply per Capita\"]]\n",
    "    data.astype({\"Energy Supply\": np.float64, \"Energy Supply per Capita\": np.float64})\n",
    "    \n",
    "    # per capita - per head or per person\n",
    "    # so, population = total energy supply / energy supply per capita\n",
    "    \n",
    "    # compute the populations\n",
    "    data[\"Population\"] = np.array(data.loc[:, \"Energy Supply\"] / data.loc[:, \"Energy Supply per Capita\"], dtype = np.float64)\n",
    "    \n",
    "    # introduce a Continent column\n",
    "    # print(data)\n",
    "    # data[\"Continent\"] = data.index.apply(lambda country: ContinentDict.get(country))\n",
    "        \n",
    "    results = list()\n",
    "    \n",
    "    # group by a function, since the index is countries\n",
    "    for continet, data_frame in data.groupby(lambda idx: ContinentDict.get(idx)):\n",
    "        results.append(\n",
    "            {\"Continent\": continet,\n",
    "             \"Summary\":\n",
    "                {\n",
    "                \"size\": len(data_frame.loc[:, \"Population\"]),\n",
    "                \"sum\": data_frame.loc[:, \"Population\"].sum(),\n",
    "                \"mean\": data_frame.loc[:, \"Population\"].mean(),\n",
    "                \"std\": data_frame.loc[:, \"Population\"].std()\n",
    "                }\n",
    "            }\n",
    "        )\n",
    "        \n",
    "    return pd.DataFrame([record.get(\"Summary\") for record in results],\n",
    "             index = pd.Series([record.get(\"Continent\") for record in results], name = \"Continent\"))"
   ]
  },
  {
   "cell_type": "code",
   "execution_count": 154,
   "metadata": {
    "execution": {
     "iopub.execute_input": "2023-01-29T03:50:19.560778Z",
     "iopub.status.busy": "2023-01-29T03:50:19.560778Z",
     "iopub.status.idle": "2023-01-29T03:50:19.670841Z",
     "shell.execute_reply": "2023-01-29T03:50:19.670841Z",
     "shell.execute_reply.started": "2023-01-29T03:50:19.560778Z"
    },
    "tags": []
   },
   "outputs": [
    {
     "data": {
      "text/html": [
       "<div>\n",
       "<style scoped>\n",
       "    .dataframe tbody tr th:only-of-type {\n",
       "        vertical-align: middle;\n",
       "    }\n",
       "\n",
       "    .dataframe tbody tr th {\n",
       "        vertical-align: top;\n",
       "    }\n",
       "\n",
       "    .dataframe thead th {\n",
       "        text-align: right;\n",
       "    }\n",
       "</style>\n",
       "<table border=\"1\" class=\"dataframe\">\n",
       "  <thead>\n",
       "    <tr style=\"text-align: right;\">\n",
       "      <th></th>\n",
       "      <th>size</th>\n",
       "      <th>sum</th>\n",
       "      <th>mean</th>\n",
       "      <th>std</th>\n",
       "    </tr>\n",
       "    <tr>\n",
       "      <th>Continent</th>\n",
       "      <th></th>\n",
       "      <th></th>\n",
       "      <th></th>\n",
       "      <th></th>\n",
       "    </tr>\n",
       "  </thead>\n",
       "  <tbody>\n",
       "    <tr>\n",
       "      <th>Asia</th>\n",
       "      <td>5</td>\n",
       "      <td>1.403612e+09</td>\n",
       "      <td>4.678706e+08</td>\n",
       "      <td>7.006261e+08</td>\n",
       "    </tr>\n",
       "    <tr>\n",
       "      <th>Australia</th>\n",
       "      <td>1</td>\n",
       "      <td>0.000000e+00</td>\n",
       "      <td>NaN</td>\n",
       "      <td>NaN</td>\n",
       "    </tr>\n",
       "    <tr>\n",
       "      <th>Europe</th>\n",
       "      <td>6</td>\n",
       "      <td>2.238697e+08</td>\n",
       "      <td>1.119348e+08</td>\n",
       "      <td>4.463987e+07</td>\n",
       "    </tr>\n",
       "    <tr>\n",
       "      <th>North America</th>\n",
       "      <td>2</td>\n",
       "      <td>3.523986e+07</td>\n",
       "      <td>3.523986e+07</td>\n",
       "      <td>NaN</td>\n",
       "    </tr>\n",
       "    <tr>\n",
       "      <th>South America</th>\n",
       "      <td>1</td>\n",
       "      <td>2.059153e+08</td>\n",
       "      <td>2.059153e+08</td>\n",
       "      <td>NaN</td>\n",
       "    </tr>\n",
       "  </tbody>\n",
       "</table>\n",
       "</div>"
      ],
      "text/plain": [
       "               size           sum          mean           std\n",
       "Continent                                                    \n",
       "Asia              5  1.403612e+09  4.678706e+08  7.006261e+08\n",
       "Australia         1  0.000000e+00           NaN           NaN\n",
       "Europe            6  2.238697e+08  1.119348e+08  4.463987e+07\n",
       "North America     2  3.523986e+07  3.523986e+07           NaN\n",
       "South America     1  2.059153e+08  2.059153e+08           NaN"
      ]
     },
     "execution_count": 154,
     "metadata": {},
     "output_type": "execute_result"
    }
   ],
   "source": [
    "ans"
   ]
  },
  {
   "cell_type": "code",
   "execution_count": null,
   "metadata": {
    "deletable": false,
    "editable": false,
    "nbgrader": {
     "cell_type": "code",
     "checksum": "233318097d9c94fdc87395c967da14c4",
     "grade": true,
     "grade_id": "cell-18d1a07971b25743",
     "locked": true,
     "points": 6.66,
     "schema_version": 3,
     "solution": false
    }
   },
   "outputs": [],
   "source": [
    "assert type(answer_eleven()) == pd.DataFrame, \"Q11: You should return a DataFrame!\"\n",
    "\n",
    "assert answer_eleven().shape[0] == 5, \"Q11: Wrong row numbers!\"\n",
    "\n",
    "assert answer_eleven().shape[1] == 4, \"Q11: Wrong column numbers!\"\n"
   ]
  },
  {
   "cell_type": "markdown",
   "metadata": {
    "deletable": false,
    "editable": false,
    "nbgrader": {
     "cell_type": "markdown",
     "checksum": "78d9dbb8ff6e0a1ac1e0d16e026a7d98",
     "grade": false,
     "grade_id": "cell-fa26f5c1eac39c6c",
     "locked": true,
     "schema_version": 3,
     "solution": false
    }
   },
   "source": [
    "### Question 12\n",
    "Cut % Renewable into 5 bins. Group Top15 by the Continent, as well as these new % Renewable bins. How many countries are in each of these groups?\n",
    "\n",
    "*This function should return a Series with a MultiIndex of `Continent`, then the bins for `% Renewable`. Do not include groups with no countries.*"
   ]
  },
  {
   "cell_type": "code",
   "execution_count": null,
   "metadata": {
    "deletable": false,
    "nbgrader": {
     "cell_type": "code",
     "checksum": "27eb27ec7a3347530174f7047288a881",
     "grade": false,
     "grade_id": "cell-2ecd9a4076abd8f0",
     "locked": false,
     "schema_version": 3,
     "solution": true
    }
   },
   "outputs": [],
   "source": [
    "def answer_twelve():\n",
    "    # YOUR CODE HERE\n",
    "    raise NotImplementedError()\n"
   ]
  },
  {
   "cell_type": "code",
   "execution_count": null,
   "metadata": {
    "deletable": false,
    "editable": false,
    "nbgrader": {
     "cell_type": "code",
     "checksum": "48903ccc73403827b7ddbb155783ea14",
     "grade": true,
     "grade_id": "cell-6c665602d6babab9",
     "locked": true,
     "points": 6.66,
     "schema_version": 3,
     "solution": false
    }
   },
   "outputs": [],
   "source": [
    "assert type(answer_twelve()) == pd.Series, \"Q12: You should return a Series!\"\n",
    "\n",
    "assert len(answer_twelve()) == 25, \"Q12: Wrong result numbers!\"\n"
   ]
  },
  {
   "cell_type": "markdown",
   "metadata": {
    "deletable": false,
    "editable": false,
    "nbgrader": {
     "cell_type": "markdown",
     "checksum": "bdfd9b1bb897304b6337fdc47a05967c",
     "grade": false,
     "grade_id": "cell-4209a10d8f208739",
     "locked": true,
     "schema_version": 3,
     "solution": false
    }
   },
   "source": [
    "### Question 13\n",
    "Convert the Population Estimate series to a string with thousands separator (using commas). Use all significant digits (do not round the results).\n",
    "\n",
    "e.g. 12345678.90 -> 12,345,678.90\n",
    "\n",
    "*This function should return a series `PopEst` whose index is the country name and whose values are the population estimate string*"
   ]
  },
  {
   "cell_type": "code",
   "execution_count": null,
   "metadata": {
    "deletable": false,
    "nbgrader": {
     "cell_type": "code",
     "checksum": "1efd09964334b7d6100d81d4b3ead3e9",
     "grade": false,
     "grade_id": "cell-58eb0ee0921d93fb",
     "locked": false,
     "schema_version": 3,
     "solution": true
    }
   },
   "outputs": [],
   "source": [
    "def answer_thirteen():\n",
    "    # YOUR CODE HERE\n",
    "    raise NotImplementedError()"
   ]
  },
  {
   "cell_type": "code",
   "execution_count": null,
   "metadata": {
    "deletable": false,
    "editable": false,
    "nbgrader": {
     "cell_type": "code",
     "checksum": "e014781df77c7edab2a181d2d943be8f",
     "grade": true,
     "grade_id": "cell-10fee7228cf973f6",
     "locked": true,
     "points": 6.74,
     "schema_version": 3,
     "solution": false
    }
   },
   "outputs": [],
   "source": [
    "assert type(answer_thirteen()) == pd.Series, \"Q13: You should return a Series!\"\n",
    "\n",
    "assert len(answer_thirteen()) == 15, \"Q13: Wrong result numbers!\"\n"
   ]
  },
  {
   "cell_type": "markdown",
   "metadata": {
    "deletable": false,
    "editable": false,
    "nbgrader": {
     "cell_type": "markdown",
     "checksum": "61562b9b667bd5efbcec0dcd7becbfaa",
     "grade": false,
     "grade_id": "cell-998b62d4f390ef15",
     "locked": true,
     "schema_version": 3,
     "solution": false
    }
   },
   "source": [
    "### Optional\n",
    "\n",
    "Use the built in function `plot_optional()` to see an example visualization."
   ]
  },
  {
   "cell_type": "code",
   "execution_count": 81,
   "metadata": {
    "deletable": false,
    "editable": false,
    "execution": {
     "iopub.execute_input": "2023-01-29T02:12:20.599995Z",
     "iopub.status.busy": "2023-01-29T02:12:20.599995Z",
     "iopub.status.idle": "2023-01-29T02:12:20.609475Z",
     "shell.execute_reply": "2023-01-29T02:12:20.609475Z",
     "shell.execute_reply.started": "2023-01-29T02:12:20.599995Z"
    },
    "nbgrader": {
     "cell_type": "code",
     "checksum": "479786c97cb5f34d07231c6d7c602a47",
     "grade": false,
     "grade_id": "cell-741fd55ea57cd40a",
     "locked": true,
     "schema_version": 3,
     "solution": false
    }
   },
   "outputs": [],
   "source": [
    "def plot_optional():\n",
    "    import matplotlib as plt\n",
    "    %matplotlib inline\n",
    "    Top15 = answer_one()\n",
    "    ax = Top15.plot(x='Rank', y='% Renewable', kind='scatter', \n",
    "                    c=['#e41a1c','#377eb8','#e41a1c','#4daf4a','#4daf4a','#377eb8','#4daf4a','#e41a1c',\n",
    "                       '#4daf4a','#e41a1c','#4daf4a','#4daf4a','#e41a1c','#dede00','#ff7f00'], \n",
    "                    xticks=range(1,16), s=6*Top15['2014']/10**10, alpha=.75, figsize=[16,6]);\n",
    "\n",
    "    for i, txt in enumerate(Top15.index):\n",
    "        ax.annotate(txt, [Top15['Rank'][i], Top15['% Renewable'][i]], ha='center')\n",
    "\n",
    "    print(\"This is an example of a visualization that can be created to help understand the data. \\\n",
    "This is a bubble chart showing % Renewable vs. Rank. The size of the bubble corresponds to the countries' \\\n",
    "2014 GDP, and the color corresponds to the continent.\")"
   ]
  },
  {
   "cell_type": "code",
   "execution_count": 82,
   "metadata": {
    "execution": {
     "iopub.execute_input": "2023-01-29T02:12:27.477843Z",
     "iopub.status.busy": "2023-01-29T02:12:27.477843Z",
     "iopub.status.idle": "2023-01-29T02:12:29.940546Z",
     "shell.execute_reply": "2023-01-29T02:12:29.940546Z",
     "shell.execute_reply.started": "2023-01-29T02:12:27.477843Z"
    }
   },
   "outputs": [
    {
     "name": "stdout",
     "output_type": "stream",
     "text": [
      "This is an example of a visualization that can be created to help understand the data. This is a bubble chart showing % Renewable vs. Rank. The size of the bubble corresponds to the countries' 2014 GDP, and the color corresponds to the continent.\n"
     ]
    },
    {
     "data": {
      "image/png": "[encoded data removed]",
      "text/plain": [
       "<Figure size 1600x600 with 1 Axes>"
      ]
     },
     "metadata": {},
     "output_type": "display_data"
    }
   ],
   "source": [
    "plot_optional()"
   ]
  },
  {
   "cell_type": "code",
   "execution_count": null,
   "metadata": {},
   "outputs": [],
   "source": []
  }
 ],
 "metadata": {
  "anaconda-cloud": {},
  "coursera": {
   "schema_names": [
    "mooc_adswpy_v1_assignment3"
   ]
  },
  "kernelspec": {
   "display_name": "Python 3 (ipykernel)",
   "language": "python",
   "name": "python3"
  },
  "language_info": {
   "codemirror_mode": {
    "name": "ipython",
    "version": 3
   },
   "file_extension": ".py",
   "mimetype": "text/x-python",
   "name": "python",
   "nbconvert_exporter": "python",
   "pygments_lexer": "ipython3",
   "version": "3.11.1"
  }
 },
 "nbformat": 4,
 "nbformat_minor": 4
}
