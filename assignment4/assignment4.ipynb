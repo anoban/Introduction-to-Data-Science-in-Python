{
 "cells": [
  {
   "cell_type": "markdown",
   "metadata": {
    "deletable": false,
    "editable": false,
    "etc_identifier": "653a3605-5bda-4e1f-beef-04a0173d3f41",
    "nbgrader": {
     "cell_type": "markdown",
     "checksum": "48770f8b5f5d3062d3badd51fcafc401",
     "grade": false,
     "grade_id": "cell-a6c4f74309fc2379",
     "locked": true,
     "schema_version": 3,
     "solution": false
    }
   },
   "source": [
    "# Assignment 4\n",
    "## Description\n",
    "In this assignment you must read in a file of metropolitan regions and associated sports teams from [assets/wikipedia_data.html](assets/wikipedia_data.html) and answer some questions about each metropolitan region. Each of these regions may have one or more teams from the \"Big 4\": NFL (football, in [assets/nfl.csv](assets/nfl.csv)), MLB (baseball, in [assets/mlb.csv](assets/mlb.csv)), NBA (basketball, in [assets/nba.csv](assets/nba.csv) or NHL (hockey, in [assets/nhl.csv](assets/nhl.csv)). Please keep in mind that all questions are from the perspective of the metropolitan region, and that this file is the \"source of authority\" for the location of a given sports team. Thus teams which are commonly known by a different area (e.g. \"Oakland Raiders\") need to be mapped into the metropolitan region given (e.g. San Francisco Bay Area). This will require some human data understanding outside of the data you've been given (e.g. you will have to hand-code some names, and might need to google to find out where teams are)!\n",
    "\n",
    "For each sport I would like you to answer the question: **what is the win/loss ratio's correlation with the population of the city it is in?** Win/Loss ratio refers to the number of wins over the number of wins plus the number of losses. Remember that to calculate the correlation with [`pearsonr`](https://docs.scipy.org/doc/scipy/reference/generated/scipy.stats.pearsonr.html), so you are going to send in two ordered lists of values, the populations from the wikipedia_data.html file and the win/loss ratio for a given sport in the same order. Average the win/loss ratios for those cities which have multiple teams of a single sport. Each sport is worth an equal amount in this assignment (20%\\*4=80%) of the grade for this assignment. You should only use data **from year 2018** for your analysis -- this is important!\n",
    "\n",
    "## Notes\n",
    "\n",
    "1. Do not include data about the MLS or CFL in any of the work you are doing, we're only interested in the Big 4 in this assignment.\n",
    "2. I highly suggest that you first tackle the four correlation questions in order, as they are all similar and worth the majority of grades for this assignment. This is by design!\n",
    "3. It's fair game to talk with peers about high level strategy as well as the relationship between metropolitan areas and sports teams. However, do not post code solving aspects of the assignment (including such as dictionaries mapping areas to teams, or regexes which will clean up names).\n",
    "4. There may be more teams than the assert statements test, remember to collapse multiple teams in one city into a single value!"
   ]
  },
  {
   "cell_type": "code",
   "execution_count": null,
   "metadata": {},
   "outputs": [],
   "source": [
    "import pandas as pd\n",
    "import numpy as np\n",
    "import scipy.stats as stats\n",
    "import re"
   ]
  },
  {
   "cell_type": "markdown",
   "metadata": {
    "deletable": false,
    "editable": false,
    "nbgrader": {
     "cell_type": "markdown",
     "checksum": "369ff9ecf0ee04640574205cbc697f94",
     "grade": false,
     "grade_id": "cell-712b2b5da63d4505",
     "locked": true,
     "schema_version": 3,
     "solution": false
    },
    "tags": []
   },
   "source": [
    "## Question 1\n",
    "For this question, calculate the win/loss ratio's correlation with the population of the city it is in for the **NHL** using **2018** data."
   ]
  },
  {
   "cell_type": "code",
   "execution_count": 2,
   "metadata": {
    "deletable": false,
    "execution": {
     "iopub.execute_input": "2023-02-05T00:25:34.399322Z",
     "iopub.status.busy": "2023-02-05T00:25:34.399322Z",
     "iopub.status.idle": "2023-02-05T00:25:34.409054Z",
     "shell.execute_reply": "2023-02-05T00:25:34.409054Z",
     "shell.execute_reply.started": "2023-02-05T00:25:34.399322Z"
    },
    "nbgrader": {
     "cell_type": "code",
     "checksum": "1cac4803b02502929f5b1612d48db2b5",
     "grade": false,
     "grade_id": "cell-69b16e4386e58030",
     "locked": false,
     "schema_version": 3,
     "solution": true
    },
    "tags": []
   },
   "outputs": [],
   "source": [
    "def nhl_correlation(): \n",
    "    \n",
    "    nhl_df = pd.read_csv(\"assets/nhl.csv\")\n",
    "    cities = pd.read_html(\"assets/wikipedia_data.html\")[1]\n",
    "    cities = cities.iloc[:-1,[0,3,5,6,7,8]]\n",
    "    \n",
    "    def get_city_name(team_name: str) -> str:\n",
    "        \"\"\"\n",
    "        A function that splits the team names to extract the City names.\n",
    "        In most cases the city name was the first word of the team name followed by another word that identifies the team,\n",
    "        but some teams had names with more than two words where the team name consisted two words.\n",
    "        \"\"\"\n",
    "        \n",
    "        # adjectives in the names to skip during parsing\n",
    "        _skips = [\"Red\", \"Blue\", \"Golden\", \"Maple\"]\n",
    "        _names = team_name.split(\" \")\n",
    "        if len(_names) > 2:\n",
    "            if _names[1] not in _skips:\n",
    "                return _names[0] + \" \" + _names[1]\n",
    "            else:\n",
    "                return _names[0]\n",
    "        elif len(_names) == 2:\n",
    "            return _names[0]\n",
    "        else:\n",
    "            return None\n",
    "    \n",
    "    # select just the 2018 data & the \"team\", \"W\", \"L\" columns.\n",
    "    # there are some row lables [0, 9, 18, 26], drop them since we do not need them\n",
    "    nhl_df = nhl_df.query(\"year == 2018\").loc[:, [\"team\", \"W\", \"L\"]].drop([0, 9, 18, 26], axis = 0).reset_index(drop = True)\n",
    "    \n",
    "    # create a new column using the parsed results\n",
    "    nhl_df[\"Metropolitan area\"] = nhl_df.team.apply(get_city_name)\n",
    "    \n",
    "    # compute the win/loss ratio & append that to the dataframe as a column\n",
    "    nhl_df[\"wl_ratio\"] = nhl_df.W.astype(np.int64) / (nhl_df.W.astype(np.int64) + nhl_df.L.astype(np.int64))\n",
    "    \n",
    "    # make a new dataframe with just the columns that we are interested in & type cast the population column as integers\n",
    "    _cities = cities.loc[:, [\"Metropolitan area\", \"Population (2016 est.)[8]\"]]\n",
    "    _cities[\"Population (2016 est.)[8]\"]  = _cities.loc[:, \"Population (2016 est.)[8]\"].astype(np.int64)\n",
    "    \n",
    "    # a lookup dictionary to replace city names in the nhl dataframe according to the city names in the cities datafarme.\n",
    "    rename_dict = {\n",
    "    \"New York\": \"New York City\",\n",
    "    \"Tampa Bay\": \"Tampa Bay Area\",\n",
    "    \"Washington\": \"Washington, D.C.\",\n",
    "    \"Dallas\": \"Dallas–Fort Worth\",\n",
    "    \"Vegas\": \"Las Vegas\",\n",
    "    \"Colorado\": \"Denver\",\n",
    "    \"San Jose\": \"San Francisco Bay Area\",\n",
    "    \"Anaheim\": \"Los Angeles\",\n",
    "    \"Florida\": \"Miami–Fort Lauderdale\",\n",
    "    \"Arizona\": \"Phoenix\",\n",
    "    \"Carolina\": \"Raleigh\",\n",
    "    \"Minnesota\": \"Minneapolis–Saint Paul\",\n",
    "    \"New Jersey\": \"New York City\"\n",
    "    }\n",
    "    \n",
    "    # renaming the city names in nhl dataframe according to the cities dataframe, using our lookup dictionary.\n",
    "    nhl_df[\"Metropolitan area\"] = nhl_df.loc[:, \"Metropolitan area\"] \\\n",
    "                .apply(lambda name: rename_dict.get(name) if name in rename_dict.keys() else name)\n",
    "    \n",
    "    # merge the two dataframes using Metropolitan area as the key\n",
    "    nhl_merge = pd.merge(_cities, nhl_df, how = \"inner\", on = \"Metropolitan area\")\n",
    "    # this contains three records for NYC, two for LA with others being unique.\n",
    "    \n",
    "    # average the numeric columns for repetitive city records.\n",
    "    final = nhl_merge.groupby(\"Metropolitan area\").agg({\"Population (2016 est.)[8]\": np.mean, \"wl_ratio\": np.mean})\n",
    "    \n",
    "    population_by_region = final.loc[:, \"Population (2016 est.)[8]\"].to_list() # pass in metropolitan area population from cities\n",
    "    win_loss_by_region = final.loc[:, \"wl_ratio\"].to_list()   # pass in win/loss ratio from nhl_df in the same order as cities[\"Metropolitan area\"]\n",
    "\n",
    "    assert len(population_by_region) == len(win_loss_by_region), \"Q1: Your lists must be the same length\"\n",
    "    assert len(population_by_region) == 28, \"Q1: There should be 28 teams being analysed for NHL\"\n",
    "    \n",
    "    return stats.pearsonr(population_by_region, win_loss_by_region)[0]"
   ]
  },
  {
   "cell_type": "code",
   "execution_count": 3,
   "metadata": {
    "execution": {
     "iopub.execute_input": "2023-02-05T00:25:36.076244Z",
     "iopub.status.busy": "2023-02-05T00:25:36.076244Z",
     "iopub.status.idle": "2023-02-05T00:25:37.065929Z",
     "shell.execute_reply": "2023-02-05T00:25:37.064922Z",
     "shell.execute_reply.started": "2023-02-05T00:25:36.076244Z"
    },
    "tags": []
   },
   "outputs": [
    {
     "data": {
      "text/plain": [
       "0.012486162921209907"
      ]
     },
     "execution_count": 3,
     "metadata": {},
     "output_type": "execute_result"
    }
   ],
   "source": [
    "nhl_correlation()"
   ]
  },
  {
   "cell_type": "code",
   "execution_count": null,
   "metadata": {
    "deletable": false,
    "editable": false,
    "nbgrader": {
     "cell_type": "code",
     "checksum": "52a581df513c71153e105b93764cda4b",
     "grade": true,
     "grade_id": "cell-ebe0b2dfe1067e63",
     "locked": true,
     "points": 20,
     "schema_version": 3,
     "solution": false
    }
   },
   "outputs": [],
   "source": []
  },
  {
   "cell_type": "markdown",
   "metadata": {
    "deletable": false,
    "editable": false,
    "nbgrader": {
     "cell_type": "markdown",
     "checksum": "988912cae4968d81473f46d783e79c16",
     "grade": false,
     "grade_id": "cell-cb964e690298b71d",
     "locked": true,
     "schema_version": 3,
     "solution": false
    }
   },
   "source": [
    "## Question 2\n",
    "For this question, calculate the win/loss ratio's correlation with the population of the city it is in for the **NBA** using **2018** data."
   ]
  },
  {
   "cell_type": "code",
   "execution_count": 6,
   "metadata": {
    "deletable": false,
    "execution": {
     "iopub.execute_input": "2023-02-05T00:27:15.192195Z",
     "iopub.status.busy": "2023-02-05T00:27:15.191109Z",
     "iopub.status.idle": "2023-02-05T00:27:15.201642Z",
     "shell.execute_reply": "2023-02-05T00:27:15.200631Z",
     "shell.execute_reply.started": "2023-02-05T00:27:15.192195Z"
    },
    "nbgrader": {
     "cell_type": "code",
     "checksum": "9394222aafc8ccab0a228098ba0d6010",
     "grade": false,
     "grade_id": "cell-5a5f21279e3d3572",
     "locked": false,
     "schema_version": 3,
     "solution": true
    },
    "tags": []
   },
   "outputs": [],
   "source": [
    "def nba_correlation():\n",
    "    \n",
    "    nba_df = pd.read_csv(\"assets/nba.csv\")\n",
    "    cities = pd.read_html(\"assets/wikipedia_data.html\")[1]\n",
    "    cities = cities.iloc[:-1,[0,3,5,6,7,8]]\n",
    "    \n",
    "    def get_city_name(team_name: str) -> str:\n",
    "        \"\"\"\n",
    "        A function that splits the team names to extract the City names.\n",
    "        In most cases the city name was the first word of the team name followed by another word that identifies the team,\n",
    "        but some teams had names with more than two words where the team name consisted two words.\n",
    "        \"\"\"\n",
    "        \n",
    "        # adjectives in the names to skip during parsing\n",
    "        _skips = [\"Trail\", \"City\"]\n",
    "        _names = team_name.split(\" \")\n",
    "        if len(_names) > 2:\n",
    "            if _names[1] not in _skips:\n",
    "                return _names[0] + \" \" + _names[1]\n",
    "            else:\n",
    "                return _names[0]\n",
    "        elif len(_names) == 2:\n",
    "            return _names[0]\n",
    "        else:\n",
    "            return None\n",
    "    \n",
    "    # create a new column using the parsed results\n",
    "    nba_df[\"Metropolitan area\"] = nba_df.team.apply(get_city_name)\n",
    "    \n",
    "    # select just the 2018 data & the \"team\", \"W\", \"L\" columns.\n",
    "    nba_df = nba_df.query(\"year == 2018\").loc[:, [\"team\", \"W\", \"L\", \"Metropolitan area\"]].astype({\"W\": np.int64, \"L\": np.int64})\n",
    "    \n",
    "\n",
    "    \n",
    "    # compute the win/loss ratio & append that to the dataframe as a column\n",
    "    nba_df[\"wl_ratio\"] = nba_df.W / (nba_df.W + nba_df.L)\n",
    "    \n",
    "    # make a new dataframe with just the columns that we are interested in & type cast the population column as integers\n",
    "    _cities = cities.loc[:, [\"Metropolitan area\", \"Population (2016 est.)[8]\"]]\n",
    "    _cities[\"Population (2016 est.)[8]\"]  = _cities.loc[:, \"Population (2016 est.)[8]\"].astype(np.int64)\n",
    "    \n",
    "    # a lookup dictionary to replace city names in the nba dataframe according to the city names in the cities datafarme.\n",
    "    rename_dict = {\n",
    "    \"New York\": \"New York City\",\n",
    "    \"Brooklyn\": \"New York City\",\n",
    "    \"Tampa Bay\": \"Tampa Bay Area\",\n",
    "    \"Washington\": \"Washington, D.C.\",\n",
    "    \"Dallas\": \"Dallas–Fort Worth\",\n",
    "    \"Vegas\": \"Las Vegas\",\n",
    "    \"Colorado\": \"Denver\",\n",
    "    \"San Jose\": \"San Francisco Bay Area\",\n",
    "    \"Anaheim\": \"Los Angeles\",\n",
    "    \"Florida\": \"Miami–Fort Lauderdale\",\n",
    "    \"Arizona\": \"Phoenix\",\n",
    "    \"Carolina\": \"Raleigh\",\n",
    "    \"Minnesota\": \"Minneapolis–Saint Paul\",\n",
    "    \"New Jersey\": \"New York City\",\n",
    "    \"Indiana\": \"Indianapolis\",\n",
    "    \"Miami\": \"Miami–Fort Lauderdale\",\n",
    "    \"Oklahoma\": \"Oklahoma City\",\n",
    "    \"Utah\": \"Salt Lake City\",\n",
    "    \"Golden State\": \"San Francisco Bay Area\"\n",
    "    }\n",
    "    \n",
    "    # renaming the city names in nba dataframe according to the cities dataframe, using our lookup dictionary.\n",
    "    nba_df[\"Metropolitan area\"] = nba_df.loc[:, \"Metropolitan area\"] \\\n",
    "                .apply(lambda name: rename_dict.get(name) if name in rename_dict.keys() else name)\n",
    "    \n",
    "    # merge the two dataframes using Metropolitan area as the key\n",
    "    nba_merge = pd.merge(_cities, nba_df, how = \"inner\", on = \"Metropolitan area\")\n",
    "    \n",
    "    \n",
    "    # average the numeric columns for repetitive city records.\n",
    "    final = nba_merge.groupby(\"Metropolitan area\").agg({\"Population (2016 est.)[8]\": np.mean, \"wl_ratio\": np.mean})\n",
    "    \n",
    "    population_by_region = final.loc[:, \"Population (2016 est.)[8]\"].to_list() # pass in metropolitan area population from cities\n",
    "    win_loss_by_region = final.loc[:, \"wl_ratio\"].to_list()   # pass in win/loss ratio from nba_df in the same order as cities[\"Metropolitan area\"]\n",
    "\n",
    "    assert len(population_by_region) == len(win_loss_by_region), \"Q2: Your lists must be the same length\"\n",
    "    assert len(population_by_region) == 28, \"Q2: There should be 28 teams being analysed for NBA\"\n",
    "\n",
    "    return stats.pearsonr(population_by_region, win_loss_by_region)[0]"
   ]
  },
  {
   "cell_type": "code",
   "execution_count": 7,
   "metadata": {
    "execution": {
     "iopub.execute_input": "2023-02-05T00:27:15.788211Z",
     "iopub.status.busy": "2023-02-05T00:27:15.787263Z",
     "iopub.status.idle": "2023-02-05T00:27:15.903048Z",
     "shell.execute_reply": "2023-02-05T00:27:15.903048Z",
     "shell.execute_reply.started": "2023-02-05T00:27:15.788211Z"
    },
    "tags": []
   },
   "outputs": [
    {
     "data": {
      "text/plain": [
       "-0.17657160252844623"
      ]
     },
     "execution_count": 7,
     "metadata": {},
     "output_type": "execute_result"
    }
   ],
   "source": [
    "nba_correlation()"
   ]
  },
  {
   "cell_type": "code",
   "execution_count": null,
   "metadata": {
    "deletable": false,
    "editable": false,
    "nbgrader": {
     "cell_type": "code",
     "checksum": "bbdeb8eb22f525a34c10dc8798324e42",
     "grade": true,
     "grade_id": "cell-e573b2b4a282b470",
     "locked": true,
     "points": 20,
     "schema_version": 3,
     "solution": false
    }
   },
   "outputs": [],
   "source": []
  },
  {
   "cell_type": "markdown",
   "metadata": {
    "deletable": false,
    "editable": false,
    "nbgrader": {
     "cell_type": "markdown",
     "checksum": "1a1a5809f675ca033086422007cd73bd",
     "grade": false,
     "grade_id": "cell-96e15e4335df78f4",
     "locked": true,
     "schema_version": 3,
     "solution": false
    }
   },
   "source": [
    "## Question 3\n",
    "For this question, calculate the win/loss ratio's correlation with the population of the city it is in for the **MLB** using **2018** data."
   ]
  },
  {
   "cell_type": "code",
   "execution_count": 8,
   "metadata": {
    "deletable": false,
    "execution": {
     "iopub.execute_input": "2023-02-05T00:27:39.212197Z",
     "iopub.status.busy": "2023-02-05T00:27:39.212197Z",
     "iopub.status.idle": "2023-02-05T00:27:39.223320Z",
     "shell.execute_reply": "2023-02-05T00:27:39.223320Z",
     "shell.execute_reply.started": "2023-02-05T00:27:39.212197Z"
    },
    "nbgrader": {
     "cell_type": "code",
     "checksum": "27e8c0da6c9fa0dffc10488314335b6c",
     "grade": false,
     "grade_id": "cell-33b00fc3f3467b0c",
     "locked": false,
     "schema_version": 3,
     "solution": true
    },
    "tags": []
   },
   "outputs": [],
   "source": [
    "def mlb_correlation(): \n",
    "     \n",
    "    mlb_df = pd.read_csv(\"assets/mlb.csv\")\n",
    "    cities = pd.read_html(\"assets/wikipedia_data.html\")[1]\n",
    "    cities = cities.iloc[:-1,[0,3,5,6,7,8]]\n",
    "\n",
    "    \n",
    "    def get_city_name(team_name: str) -> str:\n",
    "        \"\"\"\n",
    "        A function that splits the team names to extract the City names.\n",
    "        In most cases the city name was the first word of the team name followed by another word that identifies the team,\n",
    "        but some teams had names with more than two words where the team name consisted two words.\n",
    "        \"\"\"\n",
    "        \n",
    "        # adjectives in the names to skip during parsing\n",
    "        _skips = [\"Red\", \"Blue\", \"White\"]\n",
    "        _names = team_name.split(\" \")\n",
    "        if len(_names) > 2:\n",
    "            if _names[1] not in _skips:\n",
    "                return _names[0] + \" \" + _names[1]\n",
    "            else:\n",
    "                return _names[0]\n",
    "        elif len(_names) == 2:\n",
    "            return _names[0]\n",
    "        else:\n",
    "            return None\n",
    "    \n",
    "    # create a new column using the parsed results\n",
    "    mlb_df[\"Metropolitan area\"] = mlb_df.team.apply(get_city_name)\n",
    "    \n",
    "    # select just the 2018 data & the \"team\", \"W\", \"L\" columns.\n",
    "    mlb_df = mlb_df.query(\"year == 2018\").astype({\"W\": np.int64, \"L\": np.int64}).loc[:, [\"Metropolitan area\", \"team\",  \"W\", \"L\"]]\n",
    "    \n",
    "    # compute the win/loss ratio & append that to the dataframe as a column\n",
    "    mlb_df[\"wl_ratio\"] = mlb_df.W / (mlb_df.W + mlb_df.L)\n",
    "    \n",
    "    # make a new dataframe with just the columns that we are interested in & type cast the population column as integers\n",
    "    _cities = cities.loc[:, [\"Metropolitan area\", \"Population (2016 est.)[8]\"]]\n",
    "    _cities[\"Population (2016 est.)[8]\"]  = _cities.loc[:, \"Population (2016 est.)[8]\"].astype(np.int64)\n",
    "    \n",
    "    # a lookup dictionary to replace city names in the mlb dataframe according to the city names in the cities datafarme.\n",
    "    rename_dict = {\n",
    "    \"New York\": \"New York City\",\n",
    "    \"Brooklyn\": \"New York City\",\n",
    "    \"Tampa Bay\": \"Tampa Bay Area\",\n",
    "    \"Washington\": \"Washington, D.C.\",\n",
    "    \"Dallas\": \"Dallas–Fort Worth\",\n",
    "    \"Vegas\": \"Las Vegas\",\n",
    "    \"Colorado\": \"Denver\",\n",
    "    \"San Jose\": \"San Francisco Bay Area\",\n",
    "    \"Anaheim\": \"Los Angeles\",\n",
    "    \"Florida\": \"Miami–Fort Lauderdale\",\n",
    "    \"Arizona\": \"Phoenix\",\n",
    "    \"Carolina\": \"Raleigh\",\n",
    "    \"Minnesota\": \"Minneapolis–Saint Paul\",\n",
    "    \"New Jersey\": \"New York City\",\n",
    "    \"Indiana\": \"Indianapolis\",\n",
    "    \"Miami\": \"Miami–Fort Lauderdale\",\n",
    "    \"Oklahoma\": \"Oklahoma City\",\n",
    "    \"Utah\": \"Salt Lake City\",\n",
    "    \"Golden State\": \"San Francisco Bay Area\",\n",
    "    \"San Francisco\": \"San Francisco Bay Area\",\n",
    "    \"Oakland\": \"San Francisco Bay Area\",\n",
    "    \"Texas\": \"Dallas–Fort Worth\"\n",
    "    }\n",
    "    \n",
    "    # renaming the city names in nba dataframe according to the cities dataframe, using our lookup dictionary.\n",
    "    mlb_df[\"Metropolitan area\"] = mlb_df.loc[:, \"Metropolitan area\"] \\\n",
    "                .apply(lambda name: rename_dict.get(name) if name in rename_dict.keys() else name)\n",
    "    \n",
    "    # merge the two dataframes using Metropolitan area as the key\n",
    "    mlb_merge = pd.merge(_cities, mlb_df, how = \"inner\", on = \"Metropolitan area\")\n",
    "    \n",
    "    \n",
    "    # average the numeric columns for repetitive city records.\n",
    "    final = mlb_merge.groupby(\"Metropolitan area\").agg({\"Population (2016 est.)[8]\": np.mean, \"wl_ratio\": np.mean})\n",
    "\n",
    "    population_by_region = final.loc[:, \"Population (2016 est.)[8]\"].to_list() # pass in metropolitan area population from cities\n",
    "    win_loss_by_region = final.loc[:, \"wl_ratio\"].to_list()   # pass in win/loss ratio from mlb_df in the same order as cities[\"Metropolitan area\"]\n",
    "\n",
    "    assert len(population_by_region) == len(win_loss_by_region), \"Q3: Your lists must be the same length\"\n",
    "    assert len(population_by_region) == 26, \"Q3: There should be 26 teams being analysed for MLB\"\n",
    "\n",
    "    return stats.pearsonr(population_by_region, win_loss_by_region)[0]"
   ]
  },
  {
   "cell_type": "code",
   "execution_count": 9,
   "metadata": {
    "execution": {
     "iopub.execute_input": "2023-02-05T00:27:39.988784Z",
     "iopub.status.busy": "2023-02-05T00:27:39.988784Z",
     "iopub.status.idle": "2023-02-05T00:27:40.224177Z",
     "shell.execute_reply": "2023-02-05T00:27:40.224177Z",
     "shell.execute_reply.started": "2023-02-05T00:27:39.988784Z"
    },
    "tags": []
   },
   "outputs": [
    {
     "data": {
      "text/plain": [
       "0.15027698302669307"
      ]
     },
     "execution_count": 9,
     "metadata": {},
     "output_type": "execute_result"
    }
   ],
   "source": [
    "mlb_correlation()"
   ]
  },
  {
   "cell_type": "code",
   "execution_count": null,
   "metadata": {
    "deletable": false,
    "editable": false,
    "nbgrader": {
     "cell_type": "code",
     "checksum": "cda33b094ba19ccc37a481e0dd29e0bc",
     "grade": true,
     "grade_id": "cell-764d4476f425c5a2",
     "locked": true,
     "points": 20,
     "schema_version": 3,
     "solution": false
    }
   },
   "outputs": [],
   "source": []
  },
  {
   "cell_type": "markdown",
   "metadata": {
    "deletable": false,
    "editable": false,
    "nbgrader": {
     "cell_type": "markdown",
     "checksum": "6977a6da9ed6d8b7a0b7e37bbeda709b",
     "grade": false,
     "grade_id": "cell-793df6c04dfb126e",
     "locked": true,
     "schema_version": 3,
     "solution": false
    }
   },
   "source": [
    "## Question 4\n",
    "For this question, calculate the win/loss ratio's correlation with the population of the city it is in for the **NFL** using **2018** data."
   ]
  },
  {
   "cell_type": "code",
   "execution_count": 10,
   "metadata": {
    "deletable": false,
    "execution": {
     "iopub.execute_input": "2023-02-05T00:28:00.358821Z",
     "iopub.status.busy": "2023-02-05T00:28:00.358821Z",
     "iopub.status.idle": "2023-02-05T00:28:00.367866Z",
     "shell.execute_reply": "2023-02-05T00:28:00.367866Z",
     "shell.execute_reply.started": "2023-02-05T00:28:00.358821Z"
    },
    "nbgrader": {
     "cell_type": "code",
     "checksum": "c4914ad1e119278ec2bd567c52640b66",
     "grade": false,
     "grade_id": "cell-8ccebc209aeec8d9",
     "locked": false,
     "schema_version": 3,
     "solution": true
    },
    "tags": []
   },
   "outputs": [],
   "source": [
    "def nfl_correlation(): \n",
    "    \n",
    "    \n",
    "    nfl_df = pd.read_csv(\"assets/nfl.csv\")\n",
    "    cities = pd.read_html(\"assets/wikipedia_data.html\")[1]\n",
    "    cities = cities.iloc[:-1,[0,3,5,6,7,8]]\n",
    "\n",
    "    \n",
    "    def get_city_name(team_name: str) -> str:\n",
    "        \"\"\"\n",
    "        A function that splits the team names to extract the City names.\n",
    "        In most cases the city name was the first word of the team name followed by another word that identifies the team,\n",
    "        but some teams had names with more than two words where the team name consisted two words.\n",
    "        \"\"\"\n",
    "        _names = team_name.split(\" \")\n",
    "        if len(_names) > 2:\n",
    "            return _names[0] + \" \" + _names[1]\n",
    "        elif len(_names) == 2:\n",
    "            return _names[0]\n",
    "        else:\n",
    "            return None\n",
    "    \n",
    "    # create a new column using the parsed results\n",
    "    nfl_df[\"Metropolitan area\"] = nfl_df.team.apply(get_city_name)\n",
    "    \n",
    "    # select just the 2018 data & the \"team\", \"W\", \"L\" columns.\n",
    "    nfl_df = nfl_df.loc[:, [\"team\", \"W\", \"L\", \"year\", \"Metropolitan area\"]].query(\"year == 2018\").drop(np.arange(0, 36, step = 5), axis = 0)\n",
    "    nfl_df = nfl_df.astype({\"W\": np.int64, \"L\": np.int64})\n",
    "    \n",
    "    # compute the win/loss ratio & append that to the dataframe as a column\n",
    "    nfl_df[\"wl_ratio\"] = nfl_df.W / (nfl_df.W + nfl_df.L)\n",
    "    \n",
    "    # make a new dataframe with just the columns that we are interested in & type cast the population column as integers\n",
    "    _cities = cities.loc[:, [\"Metropolitan area\", \"Population (2016 est.)[8]\"]]\n",
    "    _cities[\"Population (2016 est.)[8]\"]  = _cities.loc[:, \"Population (2016 est.)[8]\"].astype(np.int64)\n",
    "    \n",
    "    # a lookup dictionary to replace city names in the mlb dataframe according to the city names in the cities datafarme.\n",
    "    rename_dict = {\n",
    "    \"New York\": \"New York City\",\n",
    "    \"Brooklyn\": \"New York City\",\n",
    "    \"Tampa Bay\": \"Tampa Bay Area\",\n",
    "    \"Washington\": \"Washington, D.C.\",\n",
    "    \"Dallas\": \"Dallas–Fort Worth\",\n",
    "    \"Vegas\": \"Las Vegas\",\n",
    "    \"Colorado\": \"Denver\",\n",
    "    \"San Jose\": \"San Francisco Bay Area\",\n",
    "    \"Anaheim\": \"Los Angeles\",\n",
    "    \"Florida\": \"Miami–Fort Lauderdale\",\n",
    "    \"Arizona\": \"Phoenix\",\n",
    "    \"Carolina\": \"Raleigh\",\n",
    "    \"Minnesota\": \"Minneapolis–Saint Paul\",\n",
    "    \"New Jersey\": \"New York City\",\n",
    "    \"Indiana\": \"Indianapolis\",\n",
    "    \"Miami\": \"Miami–Fort Lauderdale\",\n",
    "    \"Oklahoma\": \"Oklahoma City\",\n",
    "    \"Utah\": \"Salt Lake City\",\n",
    "    \"Golden State\": \"San Francisco Bay Area\",\n",
    "    \"San Francisco\": \"San Francisco Bay Area\",\n",
    "    \"Oakland\": \"San Francisco Bay Area\",\n",
    "    \"Texas\": \"Dallas–Fort Worth\",\n",
    "    \"New England\": \"Boston\",\n",
    "    \"Tennessee\": \"Nashville\"\n",
    "    }\n",
    "    \n",
    "    # renaming the city names in nba dataframe according to the cities dataframe, using our lookup dictionary.\n",
    "    nfl_df[\"Metropolitan area\"] = nfl_df.loc[:, \"Metropolitan area\"] \\\n",
    "                .apply(lambda name: rename_dict.get(name) if name in rename_dict.keys() else name)\n",
    "    \n",
    "    # merge the two dataframes using Metropolitan area as the key\n",
    "    nfl_merge = pd.merge(_cities, nfl_df, how = \"inner\", on = \"Metropolitan area\")\n",
    "    \n",
    "    \n",
    "    # average the numeric columns for repetitive city records.\n",
    "    final = nfl_merge.groupby(\"Metropolitan area\").agg({\"Population (2016 est.)[8]\": np.mean, \"wl_ratio\": np.mean})\n",
    "\n",
    "    population_by_region = final.loc[:, \"Population (2016 est.)[8]\"].to_list() # pass in metropolitan area population from cities\n",
    "    win_loss_by_region = final.loc[:, \"wl_ratio\"].to_list()   # pass in win/loss ratio from nfl_df in the same order as cities[\"Metropolitan area\"]\n",
    "\n",
    "    assert len(population_by_region) == len(win_loss_by_region), \"Q4: Your lists must be the same length\"\n",
    "    assert len(population_by_region) == 29, \"Q4: There should be 29 teams being analysed for NFL\"\n",
    "\n",
    "    return stats.pearsonr(population_by_region, win_loss_by_region)[0]"
   ]
  },
  {
   "cell_type": "code",
   "execution_count": 11,
   "metadata": {
    "execution": {
     "iopub.execute_input": "2023-02-05T00:28:03.130224Z",
     "iopub.status.busy": "2023-02-05T00:28:03.130224Z",
     "iopub.status.idle": "2023-02-05T00:28:03.268836Z",
     "shell.execute_reply": "2023-02-05T00:28:03.268836Z",
     "shell.execute_reply.started": "2023-02-05T00:28:03.130224Z"
    },
    "tags": []
   },
   "outputs": [
    {
     "data": {
      "text/plain": [
       "0.008975826138476653"
      ]
     },
     "execution_count": 11,
     "metadata": {},
     "output_type": "execute_result"
    }
   ],
   "source": [
    "nfl_correlation()"
   ]
  },
  {
   "cell_type": "code",
   "execution_count": null,
   "metadata": {
    "deletable": false,
    "editable": false,
    "nbgrader": {
     "cell_type": "code",
     "checksum": "e9415d6399aa49e3a1a60813afdefa3b",
     "grade": true,
     "grade_id": "cell-de7b148b9554dbda",
     "locked": true,
     "points": 20,
     "schema_version": 3,
     "solution": false
    }
   },
   "outputs": [],
   "source": []
  },
  {
   "cell_type": "markdown",
   "metadata": {
    "deletable": false,
    "editable": false,
    "nbgrader": {
     "cell_type": "markdown",
     "checksum": "b02d5cd3273f561e4ae939bb2a41740c",
     "grade": false,
     "grade_id": "cell-97b49d8639e908c4",
     "locked": true,
     "schema_version": 3,
     "solution": false
    }
   },
   "source": [
    "## Question 5\n",
    "In this question I would like you to explore the hypothesis that **given that an area has two sports teams in different sports, those teams will perform the same within their respective sports**. How I would like to see this explored is with a series of paired t-tests (so use [`ttest_rel`](https://docs.scipy.org/doc/scipy/reference/generated/scipy.stats.ttest_rel.html)) between all pairs of sports. Are there any sports where we can reject the null hypothesis? Again, average values where a sport has multiple teams in one region. Remember, you will only be including, for each sport, cities which have teams engaged in that sport, drop others as appropriate. This question is worth 20% of the grade for this assignment."
   ]
  },
  {
   "cell_type": "code",
   "execution_count": null,
   "metadata": {
    "deletable": false,
    "nbgrader": {
     "cell_type": "code",
     "checksum": "6d78c961eb66f8d8c81f06d33ae8f393",
     "grade": false,
     "grade_id": "cell-92f25f44b8d1179f",
     "locked": false,
     "schema_version": 3,
     "solution": true
    }
   },
   "outputs": [],
   "source": [
    "import pandas as pd\n",
    "import numpy as np\n",
    "import scipy.stats as stats\n",
    "import re\n",
    "\n",
    "mlb_df = pd.read_csv(\"assets/mlb.csv\")\n",
    "nba_df = pd.read_csv(\"assets/nhl.csv\")\n",
    "nba_df = pd.read_csv(\"assets/nba.csv\")\n",
    "nfl_df = pd.read_csv(\"assets/nfl.csv\")\n",
    "cities = pd.read_html(\"assets/wikipedia_data.html\")[1]\n",
    "cities = cities.iloc[:-1,[0,3,5,6,7,8]]\n",
    "\n",
    "def sports_team_performance():\n",
    "    # YOUR CODE HERE\n",
    "    raise NotImplementedError()\n",
    "    \n",
    "    # Note: p_values is a full dataframe, so df.loc[\"NFL\",\"NBA\"] should be the same as df.loc[\"NBA\",\"NFL\"] and\n",
    "    # df.loc[\"NFL\",\"NFL\"] should return np.nan\n",
    "    sports = ['NFL', 'NBA', 'NHL', 'MLB']\n",
    "    p_values = pd.DataFrame({k:np.nan for k in sports}, index=sports)\n",
    "    \n",
    "    assert abs(p_values.loc[\"NBA\", \"NHL\"] - 0.02) <= 1e-2, \"The NBA-NHL p-value should be around 0.02\"\n",
    "    assert abs(p_values.loc[\"MLB\", \"NFL\"] - 0.80) <= 1e-2, \"The MLB-NFL p-value should be around 0.80\"\n",
    "    return p_values"
   ]
  },
  {
   "cell_type": "code",
   "execution_count": null,
   "metadata": {
    "deletable": false,
    "editable": false,
    "nbgrader": {
     "cell_type": "code",
     "checksum": "2a596ab421a45cc01168d10e8fbb8f89",
     "grade": true,
     "grade_id": "cell-fb4b9cb5ff4570a6",
     "locked": true,
     "points": 20,
     "schema_version": 3,
     "solution": false
    }
   },
   "outputs": [],
   "source": []
  }
 ],
 "metadata": {
  "coursera": {
   "schema_names": [
    "mooc_adswpy_v1_assignment4"
   ]
  },
  "kernelspec": {
   "display_name": "Python 3 (ipykernel)",
   "language": "python",
   "name": "python3"
  },
  "language_info": {
   "codemirror_mode": {
    "name": "ipython",
    "version": 3
   },
   "file_extension": ".py",
   "mimetype": "text/x-python",
   "name": "python",
   "nbconvert_exporter": "python",
   "pygments_lexer": "ipython3",
   "version": "3.11.1"
  }
 },
 "nbformat": 4,
 "nbformat_minor": 4
}
