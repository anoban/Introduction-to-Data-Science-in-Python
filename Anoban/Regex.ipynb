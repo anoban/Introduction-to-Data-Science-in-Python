{
 "cells": [
  {
   "cell_type": "code",
   "execution_count": 175,
   "id": "ce649242-a85d-463a-ac7e-d4b861ba327d",
   "metadata": {},
   "outputs": [],
   "source": [
    "import re"
   ]
  },
  {
   "cell_type": "code",
   "execution_count": 2,
   "id": "8adcb80d-7282-45a6-84b6-7e449a646b1a",
   "metadata": {},
   "outputs": [],
   "source": [
    "greeting = \"Hello there! Good morning! I have a feeling that today's gonna be a good day!\""
   ]
  },
  {
   "cell_type": "code",
   "execution_count": 4,
   "id": "2082dc01-6b1d-495c-abb7-4177d37ef21b",
   "metadata": {},
   "outputs": [
    {
     "data": {
      "text/plain": [
       "True"
      ]
     },
     "execution_count": 4,
     "metadata": {},
     "output_type": "execute_result"
    }
   ],
   "source": [
    "bool(re.search(\"llo\", greeting))"
   ]
  },
  {
   "cell_type": "code",
   "execution_count": 5,
   "id": "a096c3fa-8d52-41bc-a80d-2c153d621edc",
   "metadata": {},
   "outputs": [
    {
     "data": {
      "text/plain": [
       "False"
      ]
     },
     "execution_count": 5,
     "metadata": {},
     "output_type": "execute_result"
    }
   ],
   "source": [
    "bool(re.search(\"Hi\", greeting))"
   ]
  },
  {
   "cell_type": "code",
   "execution_count": 6,
   "id": "2ae6ff68-a545-45fa-a45c-802f25b1479a",
   "metadata": {},
   "outputs": [
    {
     "data": {
      "text/plain": [
       "['Hello there! Good ', \"! I have a feeling that today's gonna be a good day!\"]"
      ]
     },
     "execution_count": 6,
     "metadata": {},
     "output_type": "execute_result"
    }
   ],
   "source": [
    "re.split(\"morning\", greeting)"
   ]
  },
  {
   "cell_type": "code",
   "execution_count": 7,
   "id": "63885503-87dd-4559-ab88-5300c39e6b2d",
   "metadata": {},
   "outputs": [
    {
     "data": {
      "text/plain": [
       "['od', 'od', 'od']"
      ]
     },
     "execution_count": 7,
     "metadata": {},
     "output_type": "execute_result"
    }
   ],
   "source": [
    "re.findall(\"od\", greeting)"
   ]
  },
  {
   "cell_type": "markdown",
   "id": "f57b7328-44b5-45d3-8c6f-320577cf4ae1",
   "metadata": {},
   "source": [
    "### ***Regex anchors***"
   ]
  },
  {
   "cell_type": "code",
   "execution_count": 26,
   "id": "3409e77d-646f-488b-8e30-ab33915a5032",
   "metadata": {},
   "outputs": [
    {
     "name": "stdout",
     "output_type": "stream",
     "text": [
      "Hello: False\n",
      "there!: False\n",
      "Good: False\n",
      "morning!: False\n",
      "I: False\n",
      "have: False\n",
      "a: False\n",
      "feeling: False\n",
      "that: False\n",
      "today's: False\n",
      "gonna: True\n",
      "be: False\n",
      "a: False\n",
      "good: True\n",
      "day!: False\n"
     ]
    }
   ],
   "source": [
    "# ^ - start\n",
    "# $ - end\n",
    "\n",
    "# i.e ^G means the string should start with a capital g\n",
    "# $o means that the string should end with a small o\n",
    "\n",
    "for word in greeting.split(\" \"):\n",
    "    print(\"{}: {}\".format(word, bool(re.match(\"^[go*]\", word))))"
   ]
  },
  {
   "cell_type": "code",
   "execution_count": 42,
   "id": "a57dfa35-2ef1-41fa-b838-6d79d36d0037",
   "metadata": {},
   "outputs": [],
   "source": [
    "grades = \"ABABCBBACAAADAA\""
   ]
  },
  {
   "cell_type": "code",
   "execution_count": 44,
   "id": "f6d51e62-8258-4f51-8081-57043256fb65",
   "metadata": {},
   "outputs": [
    {
     "data": {
      "text/plain": [
       "['A', 'A', 'C', 'A', 'C', 'A', 'A', 'A', 'A', 'A']"
      ]
     },
     "execution_count": 44,
     "metadata": {},
     "output_type": "execute_result"
    }
   ],
   "source": [
    "# to match each instance of individual characters, pass them inside a square bracket\n",
    "re.findall(\"[AC]\", grades)"
   ]
  },
  {
   "cell_type": "code",
   "execution_count": 46,
   "id": "47f597d0-9882-4223-ad40-dd28f223be2c",
   "metadata": {},
   "outputs": [
    {
     "data": {
      "text/plain": [
       "['AB', 'AB']"
      ]
     },
     "execution_count": 46,
     "metadata": {},
     "output_type": "execute_result"
    }
   ],
   "source": [
    "# this works differently!\n",
    "re.findall(\"AB\", grades)"
   ]
  },
  {
   "cell_type": "code",
   "execution_count": 48,
   "id": "5f6d362a-2809-4cad-b449-bd26b7e15c0b",
   "metadata": {},
   "outputs": [
    {
     "data": {
      "text/plain": [
       "['BA', 'BC', 'BB']"
      ]
     },
     "execution_count": 48,
     "metadata": {},
     "output_type": "execute_result"
    }
   ],
   "source": [
    "# passing multiple acceptable characters at specified positions\n",
    "# this means return all instances where B is followed by a A or B or C\n",
    "re.findall(\"[B][A-C]\", grades)"
   ]
  },
  {
   "cell_type": "code",
   "execution_count": 49,
   "id": "f5e97fea-9d30-410e-8111-2520a183ae3d",
   "metadata": {},
   "outputs": [
    {
     "data": {
      "text/plain": [
       "['AB', 'AB', 'AA', 'AA']"
      ]
     },
     "execution_count": 49,
     "metadata": {},
     "output_type": "execute_result"
    }
   ],
   "source": [
    "re.findall(\"[A][B,A]\", grades)"
   ]
  },
  {
   "cell_type": "code",
   "execution_count": 51,
   "id": "3fb3ae3d-e34e-49da-b78a-d23094ca0a4d",
   "metadata": {},
   "outputs": [
    {
     "data": {
      "text/plain": [
       "['B', 'B', 'C', 'B', 'B', 'C', 'D']"
      ]
     },
     "execution_count": 51,
     "metadata": {},
     "output_type": "execute_result"
    }
   ],
   "source": [
    "# ^ inside square brackets implies negation\n",
    "# i.e [^s] means all chars but s\n",
    "\n",
    "re.findall(\"[^A]\", grades)"
   ]
  },
  {
   "cell_type": "code",
   "execution_count": 78,
   "id": "18744d2b-e5ad-40f2-9951-ba0d498f0094",
   "metadata": {},
   "outputs": [],
   "source": [
    "with open(\"./Daffodils.txt\", \"r\") as file:\n",
    "    wordsworth = file.read()"
   ]
  },
  {
   "cell_type": "code",
   "execution_count": 79,
   "id": "b65bf86f-4d5f-41d9-a37a-053f5ab609c3",
   "metadata": {},
   "outputs": [
    {
     "data": {
      "text/plain": [
       "\"I wandered lonely as a cloud That floats on high o'er vales and hills, When all at once I saw a crowd, A host, of golden daffodils; Beside the lake, beneath the trees, Fluttering and dancing in the breeze.  Continuous as the stars that shine And twinkle on the milky way, They stretched in never-ending line Along the margin of a bay: Ten thousand saw I at a glance, Tossing their heads in sprightly dance.  The waves beside them danced, but they Out-did the sparkling waves in glee: A poet could not be but gay, In such a jocund company: I gazed'and gazed'but little thought What wealth the show to me had brought:  For oft, when on my couch I lie In vacant or in pensive mood, They flash upon that inward eye Which is the bliss of solitude; And then my heart with pleasure fills, And dances with the daffodils.\""
      ]
     },
     "execution_count": 79,
     "metadata": {},
     "output_type": "execute_result"
    }
   ],
   "source": [
    "wordsworth = wordsworth.replace(\"\\n\", \" \")\n",
    "wordsworth"
   ]
  },
  {
   "cell_type": "code",
   "execution_count": 80,
   "id": "9b25fc05-e9d9-43ea-a4c4-743caa269391",
   "metadata": {},
   "outputs": [
    {
     "data": {
      "text/plain": [
       "['po', 'pe', 'po']"
      ]
     },
     "execution_count": 80,
     "metadata": {},
     "output_type": "execute_result"
    }
   ],
   "source": [
    "re.findall(\"[p][e,o]\", wordsworth)"
   ]
  },
  {
   "cell_type": "code",
   "execution_count": 81,
   "id": "2fb8d546-9912-4377-bbbf-47df277887d2",
   "metadata": {},
   "outputs": [
    {
     "data": {
      "text/plain": [
       "['poet', 'pensive', 'pleasure']"
      ]
     },
     "execution_count": 81,
     "metadata": {},
     "output_type": "execute_result"
    }
   ],
   "source": [
    "[word for word in wordsworth.split(\" \") if re.match(\"^[p*]\", word)]"
   ]
  },
  {
   "cell_type": "code",
   "execution_count": 82,
   "id": "debff522-0e12-4fff-a759-763aefeedf6d",
   "metadata": {},
   "outputs": [
    {
     "data": {
      "text/plain": [
       "['daffodils;', 'dancing', 'dance.', 'danced,', 'dances', 'daffodils.']"
      ]
     },
     "execution_count": 82,
     "metadata": {},
     "output_type": "execute_result"
    }
   ],
   "source": [
    "[word for word in wordsworth.split(\" \") if re.match(\"^[d]\", word)]"
   ]
  },
  {
   "cell_type": "code",
   "execution_count": 83,
   "id": "ad55bde3-ebf2-4949-9e8c-b6c18ce44102",
   "metadata": {},
   "outputs": [
    {
     "data": {
      "text/plain": [
       "['breeze.', 'dance.', 'daffodils.']"
      ]
     },
     "execution_count": 83,
     "metadata": {},
     "output_type": "execute_result"
    }
   ],
   "source": [
    "[word for word in wordsworth.split(\" \") if re.match(\"[a-zA-Z]*[.]$\", word)]"
   ]
  },
  {
   "cell_type": "markdown",
   "id": "c7188396-d2ca-473b-8e8c-234f9d2b7594",
   "metadata": {},
   "source": [
    "### ***Quantifiers***"
   ]
  },
  {
   "cell_type": "code",
   "execution_count": 87,
   "id": "7a069eab-f596-48c7-862a-2610dca0bd93",
   "metadata": {},
   "outputs": [
    {
     "data": {
      "text/plain": [
       "['ee', 'ee', 'ee']"
      ]
     },
     "execution_count": 87,
     "metadata": {},
     "output_type": "execute_result"
    }
   ],
   "source": [
    "re.findall(\"e{2}\", wordsworth)"
   ]
  },
  {
   "cell_type": "code",
   "execution_count": 113,
   "id": "89ae4395-ae62-4d31-b928-6ac09f317324",
   "metadata": {},
   "outputs": [
    {
     "data": {
      "text/plain": [
       "['as', 'a', 'and', 'all', 'at', 'a', 'and', 'as', 'a', 'at', 'a', 'a']"
      ]
     },
     "execution_count": 113,
     "metadata": {},
     "output_type": "execute_result"
    }
   ],
   "source": [
    "[word for word in wordsworth.split(\" \") if re.match(\"^[a][a-zA-Z]*$\", word)]"
   ]
  },
  {
   "cell_type": "code",
   "execution_count": 142,
   "id": "dd9152d3-83af-4777-974f-bccca621670d",
   "metadata": {},
   "outputs": [
    {
     "data": {
      "text/plain": [
       "\"I wandered lonely as a cloud That floats on high o'er vales and hills, When all at once I saw a crowd, A host, of golden daffodils; Beside the lake, beneath the trees, Fluttering and dancing in the breeze.  Continuous as the stars that shine And twinkle on the milky way, They stretched in never-ending line Along the margin of a bay: Ten thousand saw I at a glance, Tossing their heads in sprightly dance.  The waves beside them danced, but they Out-did the sparkling waves in glee: A poet could not be but gay, In such a jocund company: I gazed'and gazed'but little thought What wealth the show to me had brought:  For oft, when on my couch I lie In vacant or in pensive mood, They flash upon that inward eye Which is the bliss of solitude; And then my heart with pleasure fills, And dances with the daffodils.\""
      ]
     },
     "execution_count": 142,
     "metadata": {},
     "output_type": "execute_result"
    }
   ],
   "source": [
    "wordsworth"
   ]
  },
  {
   "cell_type": "code",
   "execution_count": 146,
   "id": "492ada17-ba23-4e27-b506-bb1788a5ee7c",
   "metadata": {},
   "outputs": [
    {
     "data": {
      "text/plain": [
       "['daffodils', 'dancing', 'dances']"
      ]
     },
     "execution_count": 146,
     "metadata": {},
     "output_type": "execute_result"
    }
   ],
   "source": [
    "[word.replace(\";\", \"\") for word in wordsworth.split(\" \") if re.match(\"^[d][a-zA-Z]+$\", word.replace(\";\", \"\"))]"
   ]
  },
  {
   "cell_type": "code",
   "execution_count": 155,
   "id": "40038593-7dfc-4313-b3e8-70dc42e1ca9f",
   "metadata": {},
   "outputs": [],
   "source": [
    "with open(\"./moby-dick.txt\", \"r\", encoding = \"utf-8\") as file:\n",
    "    moby = file.read()"
   ]
  },
  {
   "cell_type": "code",
   "execution_count": 159,
   "id": "ad42cfce-dfb5-422d-8602-762e2f1d8685",
   "metadata": {},
   "outputs": [],
   "source": [
    "moby = moby.replace(\"\\n\", \" \")"
   ]
  },
  {
   "cell_type": "code",
   "execution_count": 168,
   "id": "e3093b8d-5e8d-4bf5-9f21-e6d6355873d9",
   "metadata": {},
   "outputs": [
    {
     "data": {
      "text/plain": [
       "84"
      ]
     },
     "execution_count": 168,
     "metadata": {},
     "output_type": "execute_result"
    }
   ],
   "source": [
    "len(re.findall(\"mine\", moby))"
   ]
  },
  {
   "cell_type": "code",
   "execution_count": 174,
   "id": "b519cd49-71c0-4050-9a12-ecd44954bb3d",
   "metadata": {},
   "outputs": [
    {
     "data": {
      "text/plain": [
       "{'mace',\n",
       " 'machine',\n",
       " 'made',\n",
       " 'magistrate',\n",
       " 'magnificence',\n",
       " 'magnitude',\n",
       " 'make',\n",
       " 'male',\n",
       " 'malice',\n",
       " 'manage',\n",
       " 'mandible',\n",
       " 'mangrove',\n",
       " 'manhandle',\n",
       " 'mantle',\n",
       " 'marble',\n",
       " 'marge',\n",
       " 'marine',\n",
       " 'maritime',\n",
       " 'marline',\n",
       " 'marlingspike',\n",
       " 'marquee',\n",
       " 'marriage',\n",
       " 'masculine',\n",
       " 'massacre',\n",
       " 'massive',\n",
       " 'mate',\n",
       " 'mature',\n",
       " 'maybe',\n",
       " 'maze',\n",
       " 'meagre',\n",
       " 'meanwhile',\n",
       " 'measure',\n",
       " 'meddle',\n",
       " 'medicine',\n",
       " 'meditative',\n",
       " 'memorable',\n",
       " 'menace',\n",
       " 'mere',\n",
       " 'middle',\n",
       " 'mile',\n",
       " 'mince',\n",
       " 'mine',\n",
       " 'minute',\n",
       " 'miracle',\n",
       " 'miserable',\n",
       " 'misfortune',\n",
       " 'missive',\n",
       " 'mistake',\n",
       " 'mite',\n",
       " 'mode',\n",
       " 'moderate',\n",
       " 'moisture',\n",
       " 'mole',\n",
       " 'more',\n",
       " 'motive',\n",
       " 'mouse',\n",
       " 'movable',\n",
       " 'move',\n",
       " 'muffle',\n",
       " 'mule',\n",
       " 'multitude',\n",
       " 'mundane',\n",
       " 'muscle',\n",
       " 'mute',\n",
       " 'muzzle'}"
      ]
     },
     "execution_count": 174,
     "metadata": {},
     "output_type": "execute_result"
    }
   ],
   "source": [
    "{word for word in moby.split(\" \") if re.findall(\"^[m][a-zA-Z]+e$\", word)}"
   ]
  },
  {
   "cell_type": "code",
   "execution_count": 177,
   "id": "79c742e2-397f-4580-8d79-db6e0e29a10a",
   "metadata": {},
   "outputs": [
    {
     "data": {
      "text/plain": [
       "{'prairie',\n",
       " 'prate',\n",
       " 'precede',\n",
       " 'precedence',\n",
       " 'precise',\n",
       " 'preeminence',\n",
       " 'prefecture',\n",
       " 'prehensile',\n",
       " 'prelusive',\n",
       " 'premature',\n",
       " 'preparative',\n",
       " 'prepare',\n",
       " 'prescience',\n",
       " 'prescriptive',\n",
       " 'presence',\n",
       " 'preserve',\n",
       " 'preside',\n",
       " 'pressure',\n",
       " 'prestige',\n",
       " 'presumable',\n",
       " 'presume',\n",
       " 'pride',\n",
       " 'prime',\n",
       " 'primitive',\n",
       " 'prince',\n",
       " 'principle',\n",
       " 'private',\n",
       " 'privilege',\n",
       " 'prize',\n",
       " 'probable',\n",
       " 'procedure',\n",
       " 'procure',\n",
       " 'produce',\n",
       " 'productive',\n",
       " 'profane',\n",
       " 'profile',\n",
       " 'profitable',\n",
       " 'profuse',\n",
       " 'programme',\n",
       " 'progressive',\n",
       " 'promenade',\n",
       " 'prominence',\n",
       " 'promise',\n",
       " 'promptitude',\n",
       " 'prone',\n",
       " 'proportionate',\n",
       " 'propose',\n",
       " 'prove',\n",
       " 'provide',\n",
       " 'province'}"
      ]
     },
     "execution_count": 177,
     "metadata": {},
     "output_type": "execute_result"
    }
   ],
   "source": [
    "# * - 0 or more occurrances\n",
    "# + - 1 or more occurrances\n",
    "\n",
    "{word for word in moby.split(\" \") if re.match(\"^[p][r][a-zA-Z]+e$\", word)}"
   ]
  },
  {
   "cell_type": "code",
   "execution_count": 179,
   "id": "c48eef38-cfa5-4ed5-b182-19b66e3c268a",
   "metadata": {},
   "outputs": [
    {
     "data": {
      "text/plain": [
       "{'whale',\n",
       " 'whalebone',\n",
       " 'whence',\n",
       " 'where',\n",
       " 'wherefore',\n",
       " 'whetstone',\n",
       " 'while',\n",
       " 'whistle',\n",
       " 'white',\n",
       " 'whole',\n",
       " 'wholesome',\n",
       " 'whose'}"
      ]
     },
     "execution_count": 179,
     "metadata": {},
     "output_type": "execute_result"
    }
   ],
   "source": [
    "{word for word in moby.split(\" \") if re.match(\"^[w][h][a-zA-Z]+e$\", word)}"
   ]
  },
  {
   "cell_type": "code",
   "execution_count": 180,
   "id": "aa87e9e1-bfe7-484b-9ffa-e5af012a12b9",
   "metadata": {},
   "outputs": [
    {
     "data": {
      "text/plain": [
       "216785"
      ]
     },
     "execution_count": 180,
     "metadata": {},
     "output_type": "execute_result"
    }
   ],
   "source": [
    "len(moby.split(\" \"))"
   ]
  },
  {
   "cell_type": "code",
   "execution_count": 182,
   "id": "7da8ac22-f92b-4377-aa80-be4082026982",
   "metadata": {},
   "outputs": [
    {
     "data": {
      "text/plain": [
       "{'wade',\n",
       " 'wake',\n",
       " 'wane',\n",
       " 'wave',\n",
       " 'were',\n",
       " 'wide',\n",
       " 'wife',\n",
       " 'wine',\n",
       " 'wipe',\n",
       " 'wise',\n",
       " 'wore'}"
      ]
     },
     "execution_count": 182,
     "metadata": {},
     "output_type": "execute_result"
    }
   ],
   "source": [
    "{word for word in moby.split(\" \") if re.match(\"^[w][a-zA-Z]{2}e$\", word)}"
   ]
  },
  {
   "cell_type": "markdown",
   "id": "d2a2ce62-1e91-4055-bbfe-8e2a92bf05fb",
   "metadata": {},
   "source": [
    "### ***`[ae]` means either a or e, while `[a-e] means any character fram a to e`***"
   ]
  },
  {
   "cell_type": "code",
   "execution_count": 190,
   "id": "5787b712-55e9-404c-877c-d4275ee8f59f",
   "metadata": {},
   "outputs": [
    {
     "data": {
      "text/plain": [
       "{'Queequeg', 'Quitting', 'Quog', 'Quohog'}"
      ]
     },
     "execution_count": 190,
     "metadata": {},
     "output_type": "execute_result"
    }
   ],
   "source": [
    "# \\w denotes all characters except spaces and tabs\n",
    "# \\s represents spaces & tabs\n",
    "\n",
    "{word for word in moby.split(\" \") if re.match(\"^Qu[a-zA-Z]+g$\", word)}"
   ]
  },
  {
   "cell_type": "code",
   "execution_count": null,
   "id": "398afe21-17e9-4b55-b050-4f3267f2befa",
   "metadata": {},
   "outputs": [],
   "source": []
  },
  {
   "cell_type": "code",
   "execution_count": 191,
   "id": "3166a80c-1c25-4f73-b83e-370f05fa0f33",
   "metadata": {},
   "outputs": [
    {
     "data": {
      "text/plain": [
       "{'Queequeg', 'Quitting', 'Quog', 'Quohog'}"
      ]
     },
     "execution_count": 191,
     "metadata": {},
     "output_type": "execute_result"
    }
   ],
   "source": [
    "{word for word in moby.split(\" \") if re.match(\"^Qu\\w+g$\", word)}"
   ]
  },
  {
   "cell_type": "markdown",
   "id": "81cc355f-208a-4d4e-af84-47bd71ad1843",
   "metadata": {},
   "source": [
    "### ***Groups***"
   ]
  },
  {
   "cell_type": "code",
   "execution_count": null,
   "id": "267d3fc3-8476-43b4-b0c9-cd1ab0233d88",
   "metadata": {},
   "outputs": [],
   "source": []
  }
 ],
 "metadata": {
  "kernelspec": {
   "display_name": "Python 3 (ipykernel)",
   "language": "python",
   "name": "python3"
  },
  "language_info": {
   "codemirror_mode": {
    "name": "ipython",
    "version": 3
   },
   "file_extension": ".py",
   "mimetype": "text/x-python",
   "name": "python",
   "nbconvert_exporter": "python",
   "pygments_lexer": "ipython3",
   "version": "3.11.1"
  }
 },
 "nbformat": 4,
 "nbformat_minor": 5
}
