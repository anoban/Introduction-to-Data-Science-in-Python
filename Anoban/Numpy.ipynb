{
 "cells": [
  {
   "cell_type": "markdown",
   "id": "c32970ff-a101-4673-8368-e5c4b25ec9eb",
   "metadata": {},
   "source": [
    "### ***A brief revisit to Numpy***"
   ]
  },
  {
   "cell_type": "code",
   "execution_count": 1,
   "id": "76d3e3ba-8d08-4788-8561-00b5920bebe6",
   "metadata": {},
   "outputs": [],
   "source": [
    "import numpy as np\n",
    "import math"
   ]
  },
  {
   "cell_type": "code",
   "execution_count": 2,
   "id": "bea0c0c6-0846-4533-8f4b-6b73e5f8ae5f",
   "metadata": {},
   "outputs": [
    {
     "data": {
      "text/plain": [
       "array([  0,  11,  22,  33,  44,  55,  66,  77,  88,  99, 110, 121, 132,\n",
       "       143, 154, 165, 176, 187, 198, 209, 220, 231, 242, 253, 264, 275,\n",
       "       286, 297, 308, 319, 330, 341, 352, 363, 374, 385, 396, 407, 418,\n",
       "       429, 440, 451, 462, 473, 484, 495, 506, 517, 528, 539, 550, 561,\n",
       "       572, 583, 594, 605, 616, 627, 638, 649, 660, 671, 682, 693, 704,\n",
       "       715, 726, 737, 748, 759, 770, 781, 792, 803, 814, 825, 836, 847,\n",
       "       858, 869, 880, 891, 902, 913, 924, 935, 946, 957, 968, 979, 990])"
      ]
     },
     "execution_count": 2,
     "metadata": {},
     "output_type": "execute_result"
    }
   ],
   "source": [
    "np.array([i for i in range(0, 1000) if i % 11 == 0])"
   ]
  },
  {
   "cell_type": "code",
   "execution_count": 3,
   "id": "96a49095-510a-450e-b1c9-10b6a77d9ccf",
   "metadata": {},
   "outputs": [
    {
     "data": {
      "text/plain": [
       "array([  0.,  11.,  22.,  33.,  44.,  55.,  66.,  77.,  88.,  99., 110.,\n",
       "       121., 132., 143., 154., 165., 176., 187., 198., 209., 220., 231.,\n",
       "       242., 253., 264., 275., 286., 297., 308., 319., 330., 341., 352.,\n",
       "       363., 374., 385., 396., 407., 418., 429., 440., 451., 462., 473.,\n",
       "       484., 495., 506., 517., 528., 539., 550., 561., 572., 583., 594.,\n",
       "       605., 616., 627., 638., 649., 660., 671., 682., 693., 704., 715.,\n",
       "       726., 737., 748., 759., 770., 781., 792., 803., 814., 825., 836.,\n",
       "       847., 858., 869., 880., 891., 902., 913., 924., 935., 946., 957.,\n",
       "       968., 979., 990.])"
      ]
     },
     "execution_count": 3,
     "metadata": {},
     "output_type": "execute_result"
    }
   ],
   "source": [
    "np.array([i for i in range(0, 1000) if i % 11 == 0], dtype = np.float64)"
   ]
  },
  {
   "cell_type": "code",
   "execution_count": 4,
   "id": "9fb8f436-53f1-41e2-b350-629509f6faaf",
   "metadata": {},
   "outputs": [],
   "source": [
    "fives_n_threes = np.array([i for i in range(1000) if i % 5 == 0 and i % 3 == 0])"
   ]
  },
  {
   "cell_type": "code",
   "execution_count": 5,
   "id": "c60653f7-60f5-4148-b39c-77a03cb73139",
   "metadata": {},
   "outputs": [
    {
     "data": {
      "text/plain": [
       "array([  0,  15,  30,  45,  60,  75,  90, 105, 120, 135, 150, 165, 180,\n",
       "       195, 210, 225, 240, 255, 270, 285, 300, 315, 330, 345, 360, 375,\n",
       "       390, 405, 420, 435, 450, 465, 480, 495, 510, 525, 540, 555, 570,\n",
       "       585, 600, 615, 630, 645, 660, 675, 690, 705, 720, 735, 750, 765,\n",
       "       780, 795, 810, 825, 840, 855, 870, 885, 900, 915, 930, 945, 960,\n",
       "       975, 990])"
      ]
     },
     "execution_count": 5,
     "metadata": {},
     "output_type": "execute_result"
    }
   ],
   "source": [
    "fives_n_threes"
   ]
  },
  {
   "cell_type": "code",
   "execution_count": 6,
   "id": "8834475e-3830-42b4-8d75-9182b4e3d3c9",
   "metadata": {},
   "outputs": [
    {
     "data": {
      "text/plain": [
       "(67,)"
      ]
     },
     "execution_count": 6,
     "metadata": {},
     "output_type": "execute_result"
    }
   ],
   "source": [
    "fives_n_threes.shape"
   ]
  },
  {
   "cell_type": "code",
   "execution_count": 7,
   "id": "2988924e-f1f1-43db-865e-8b2dd3424347",
   "metadata": {},
   "outputs": [
    {
     "data": {
      "text/plain": [
       "1"
      ]
     },
     "execution_count": 7,
     "metadata": {},
     "output_type": "execute_result"
    }
   ],
   "source": [
    "fives_n_threes.ndim"
   ]
  },
  {
   "cell_type": "code",
   "execution_count": 8,
   "id": "18b13854-e670-499b-843a-5a42858cd886",
   "metadata": {},
   "outputs": [
    {
     "data": {
      "text/plain": [
       "array([[   0,    1,    2,    3,    4,    5,    6,    7,    8,    9,   10,\n",
       "          11,   12,   13,   14,   15,   16,   17,   18,   19,   20,   21,\n",
       "          22,   23,   24,   25,   26,   27,   28,   29,   30,   31,   32,\n",
       "          33,   34,   35,   36,   37,   38,   39,   40,   41,   42,   43,\n",
       "          44,   45,   46,   47,   48,   49],\n",
       "       [   0,    1,    4,    9,   16,   25,   36,   49,   64,   81,  100,\n",
       "         121,  144,  169,  196,  225,  256,  289,  324,  361,  400,  441,\n",
       "         484,  529,  576,  625,  676,  729,  784,  841,  900,  961, 1024,\n",
       "        1089, 1156, 1225, 1296, 1369, 1444, 1521, 1600, 1681, 1764, 1849,\n",
       "        1936, 2025, 2116, 2209, 2304, 2401]], dtype=int64)"
      ]
     },
     "execution_count": 8,
     "metadata": {},
     "output_type": "execute_result"
    }
   ],
   "source": [
    "np.array([[i for i in range(50)], [i*i for i in range(50)]], dtype = np.int64)"
   ]
  },
  {
   "cell_type": "code",
   "execution_count": 9,
   "id": "361cf913-e4fd-4c4f-8874-1ee9bc538ac5",
   "metadata": {},
   "outputs": [
    {
     "data": {
      "text/plain": [
       "array([[0., 0., 0., 0., 0.],\n",
       "       [0., 0., 0., 0., 0.],\n",
       "       [0., 0., 0., 0., 0.],\n",
       "       [0., 0., 0., 0., 0.],\n",
       "       [0., 0., 0., 0., 0.]])"
      ]
     },
     "execution_count": 9,
     "metadata": {},
     "output_type": "execute_result"
    }
   ],
   "source": [
    "np.zeros([5, 5])"
   ]
  },
  {
   "cell_type": "code",
   "execution_count": 10,
   "id": "29ae1a05-9801-45b9-b089-501cc460bfcb",
   "metadata": {},
   "outputs": [
    {
     "data": {
      "text/plain": [
       "array([[1., 1., 1., 1., 1., 1., 1., 1., 1., 1.],\n",
       "       [1., 1., 1., 1., 1., 1., 1., 1., 1., 1.]])"
      ]
     },
     "execution_count": 10,
     "metadata": {},
     "output_type": "execute_result"
    }
   ],
   "source": [
    "np.ones([2, 10])"
   ]
  },
  {
   "cell_type": "code",
   "execution_count": 11,
   "id": "ae1176cc-8c16-447c-9855-263ed1c15b4f",
   "metadata": {},
   "outputs": [
    {
     "data": {
      "text/plain": [
       "array([[ 10,  19,  56, -26,  40, -87, -66,  -5,  47, -64, -99, -46,  88,\n",
       "        -70,  96],\n",
       "       [ 66,   5, -12, -32, -74,  68, -47,  57, -51, -42,  -5,  73, -86,\n",
       "         64, -18],\n",
       "       [ 57, -18, -31,  17, -36, -69,  61,  12,  -6,   3,  91, -65, -66,\n",
       "        -92,  68]])"
      ]
     },
     "execution_count": 11,
     "metadata": {},
     "output_type": "execute_result"
    }
   ],
   "source": [
    "np.random.randint(low = -100, high = 100, size = [3, 15])"
   ]
  },
  {
   "cell_type": "code",
   "execution_count": 16,
   "id": "e46edaa2-c76f-4f79-b0e8-3b0e48d0e888",
   "metadata": {},
   "outputs": [],
   "source": [
    "# loc = mean, scale = sd\n",
    "dnorm = np.random.normal(loc = 10.5, scale = 0.5, size = 20)"
   ]
  },
  {
   "cell_type": "code",
   "execution_count": 17,
   "id": "54cc9c0f-068e-455c-8094-7239f2c2dcf0",
   "metadata": {},
   "outputs": [
    {
     "data": {
      "text/plain": [
       "array([ 9.9928969 , 10.18035771,  9.84544334,  9.87346419, 10.42986219,\n",
       "       10.44558441, 10.1028432 , 10.36405957, 11.43699806, 10.52883135,\n",
       "       10.0796542 , 11.52719833, 10.8974808 , 11.48006452, 10.45964098,\n",
       "       11.20749715, 11.33475215, 10.69820058, 10.5104346 , 10.86771295])"
      ]
     },
     "execution_count": 17,
     "metadata": {},
     "output_type": "execute_result"
    }
   ],
   "source": [
    "dnorm"
   ]
  },
  {
   "cell_type": "code",
   "execution_count": 18,
   "id": "e689bf58-bbf3-4c88-867d-470426337223",
   "metadata": {},
   "outputs": [
    {
     "data": {
      "text/plain": [
       "'float64'"
      ]
     },
     "execution_count": 18,
     "metadata": {},
     "output_type": "execute_result"
    }
   ],
   "source": [
    "dnorm.dtype.name"
   ]
  },
  {
   "cell_type": "code",
   "execution_count": 19,
   "id": "a771f948-bb08-4591-9da1-188e9c0c631c",
   "metadata": {},
   "outputs": [],
   "source": [
    "# vectorized operations\n",
    "nums = np.arange(0, 100, 2.5)"
   ]
  },
  {
   "cell_type": "code",
   "execution_count": 22,
   "id": "0a103dc4-ab5a-4b13-8e23-2644aa6d97b3",
   "metadata": {},
   "outputs": [
    {
     "data": {
      "text/plain": [
       "array([  0.   ,   3.125,   6.25 ,   9.375,  12.5  ,  15.625,  18.75 ,\n",
       "        21.875,  25.   ,  28.125,  31.25 ,  34.375,  37.5  ,  40.625,\n",
       "        43.75 ,  46.875,  50.   ,  53.125,  56.25 ,  59.375,  62.5  ,\n",
       "        65.625,  68.75 ,  71.875,  75.   ,  78.125,  81.25 ,  84.375,\n",
       "        87.5  ,  90.625,  93.75 ,  96.875, 100.   , 103.125, 106.25 ,\n",
       "       109.375, 112.5  , 115.625, 118.75 , 121.875])"
      ]
     },
     "execution_count": 22,
     "metadata": {},
     "output_type": "execute_result"
    }
   ],
   "source": [
    "nums * 1.25"
   ]
  },
  {
   "cell_type": "code",
   "execution_count": 24,
   "id": "c93db55e-cedc-4aa9-b673-71d14973e5a2",
   "metadata": {},
   "outputs": [
    {
     "data": {
      "text/plain": [
       "array([0. , 0.2, 0.4, 0.6, 0.8, 1. , 1.2, 1.4, 1.6, 1.8, 2. , 2.2, 2.4,\n",
       "       2.6, 2.8, 3. , 3.2, 3.4, 3.6, 3.8, 4. , 4.2, 4.4, 4.6, 4.8, 5. ,\n",
       "       5.2, 5.4, 5.6, 5.8, 6. , 6.2, 6.4, 6.6, 6.8, 7. , 7.2, 7.4, 7.6,\n",
       "       7.8])"
      ]
     },
     "execution_count": 24,
     "metadata": {},
     "output_type": "execute_result"
    }
   ],
   "source": [
    "nums / 12.5"
   ]
  },
  {
   "cell_type": "code",
   "execution_count": 25,
   "id": "46156076-2556-407d-b4e6-36e6d61722f5",
   "metadata": {},
   "outputs": [
    {
     "data": {
      "text/plain": [
       "array([-12.5, -10. ,  -7.5,  -5. ,  -2.5,   0. ,   2.5,   5. ,   7.5,\n",
       "        10. ,  12.5,  15. ,  17.5,  20. ,  22.5,  25. ,  27.5,  30. ,\n",
       "        32.5,  35. ,  37.5,  40. ,  42.5,  45. ,  47.5,  50. ,  52.5,\n",
       "        55. ,  57.5,  60. ,  62.5,  65. ,  67.5,  70. ,  72.5,  75. ,\n",
       "        77.5,  80. ,  82.5,  85. ])"
      ]
     },
     "execution_count": 25,
     "metadata": {},
     "output_type": "execute_result"
    }
   ],
   "source": [
    "nums - 12.5"
   ]
  },
  {
   "cell_type": "code",
   "execution_count": 26,
   "id": "333f0c92-1189-4c9e-bbe4-6331f5685f3d",
   "metadata": {},
   "outputs": [
    {
     "data": {
      "text/plain": [
       "array([[0., 0., 0., 0., 0.],\n",
       "       [0., 0., 0., 0., 0.],\n",
       "       [0., 0., 0., 0., 0.]])"
      ]
     },
     "execution_count": 26,
     "metadata": {},
     "output_type": "execute_result"
    }
   ],
   "source": [
    "# matrices\n",
    "np.zeros([3, 5])"
   ]
  },
  {
   "cell_type": "code",
   "execution_count": 27,
   "id": "6b5b11e9-b489-45d7-a507-c11996cf30fa",
   "metadata": {},
   "outputs": [
    {
     "data": {
      "text/plain": [
       "array([[0., 0., 0., 0., 0., 0., 0., 0., 0., 0.],\n",
       "       [0., 0., 0., 0., 0., 0., 0., 0., 0., 0.]])"
      ]
     },
     "execution_count": 27,
     "metadata": {},
     "output_type": "execute_result"
    }
   ],
   "source": [
    "mat_zeroes = np.zeros([2, 10])\n",
    "mat_zeroes"
   ]
  },
  {
   "cell_type": "code",
   "execution_count": 28,
   "id": "eefc838a-b653-4674-9cf4-ef03d9f2a389",
   "metadata": {},
   "outputs": [
    {
     "data": {
      "text/plain": [
       "array([[20.5, 20.5, 20.5, 20.5, 20.5, 20.5, 20.5, 20.5, 20.5, 20.5],\n",
       "       [20.5, 20.5, 20.5, 20.5, 20.5, 20.5, 20.5, 20.5, 20.5, 20.5]])"
      ]
     },
     "execution_count": 28,
     "metadata": {},
     "output_type": "execute_result"
    }
   ],
   "source": [
    "mat_zeroes + 20.5"
   ]
  },
  {
   "cell_type": "code",
   "execution_count": 29,
   "id": "4b23fc89-8259-4c1d-ae5d-c7ff86ec51cb",
   "metadata": {},
   "outputs": [],
   "source": [
    "mat_zeroes[1][8] = 78.1256"
   ]
  },
  {
   "cell_type": "code",
   "execution_count": 30,
   "id": "167ed3b4-eded-4948-9dce-c6cc12812fa3",
   "metadata": {},
   "outputs": [
    {
     "data": {
      "text/plain": [
       "array([[ 0.    ,  0.    ,  0.    ,  0.    ,  0.    ,  0.    ,  0.    ,\n",
       "         0.    ,  0.    ,  0.    ],\n",
       "       [ 0.    ,  0.    ,  0.    ,  0.    ,  0.    ,  0.    ,  0.    ,\n",
       "         0.    , 78.1256,  0.    ]])"
      ]
     },
     "execution_count": 30,
     "metadata": {},
     "output_type": "execute_result"
    }
   ],
   "source": [
    "mat_zeroes"
   ]
  },
  {
   "cell_type": "code",
   "execution_count": 33,
   "id": "6a0767ef-54e0-4078-8d73-150e4a40ae8c",
   "metadata": {},
   "outputs": [
    {
     "data": {
      "text/plain": [
       "array([ 100.        ,  147.36842105,  194.73684211,  242.10526316,\n",
       "        289.47368421,  336.84210526,  384.21052632,  431.57894737,\n",
       "        478.94736842,  526.31578947,  573.68421053,  621.05263158,\n",
       "        668.42105263,  715.78947368,  763.15789474,  810.52631579,\n",
       "        857.89473684,  905.26315789,  952.63157895, 1000.        ])"
      ]
     },
     "execution_count": 33,
     "metadata": {},
     "output_type": "execute_result"
    }
   ],
   "source": [
    "# numbers linearly spaced within a range (limits)\n",
    "np.linspace(100, 1000, num = 20)"
   ]
  },
  {
   "cell_type": "code",
   "execution_count": null,
   "id": "ae3097ef-7d9d-4900-b276-76e6c4eb71a4",
   "metadata": {},
   "outputs": [],
   "source": []
  }
 ],
 "metadata": {
  "kernelspec": {
   "display_name": "Python 3 (ipykernel)",
   "language": "python",
   "name": "python3"
  },
  "language_info": {
   "codemirror_mode": {
    "name": "ipython",
    "version": 3
   },
   "file_extension": ".py",
   "mimetype": "text/x-python",
   "name": "python",
   "nbconvert_exporter": "python",
   "pygments_lexer": "ipython3",
   "version": "3.11.1"
  }
 },
 "nbformat": 4,
 "nbformat_minor": 5
}
