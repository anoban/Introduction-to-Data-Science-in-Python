{
 "cells": [
  {
   "cell_type": "code",
   "execution_count": 1,
   "id": "163ef07f-a955-4ba7-9c54-0385a3d917c1",
   "metadata": {
    "execution": {
     "iopub.execute_input": "2023-01-28T02:23:45.146159Z",
     "iopub.status.busy": "2023-01-28T02:23:45.146159Z",
     "iopub.status.idle": "2023-01-28T02:23:46.396007Z",
     "shell.execute_reply": "2023-01-28T02:23:46.396007Z",
     "shell.execute_reply.started": "2023-01-28T02:23:45.146159Z"
    }
   },
   "outputs": [],
   "source": [
    "import numpy as np\n",
    "import pandas as pd"
   ]
  },
  {
   "cell_type": "code",
   "execution_count": 4,
   "id": "ef725e24-7725-4661-9ff2-fda235be543b",
   "metadata": {
    "execution": {
     "iopub.execute_input": "2023-01-28T02:26:39.286173Z",
     "iopub.status.busy": "2023-01-28T02:26:39.286173Z",
     "iopub.status.idle": "2023-01-28T02:26:39.303109Z",
     "shell.execute_reply": "2023-01-28T02:26:39.303109Z",
     "shell.execute_reply.started": "2023-01-28T02:26:39.286173Z"
    },
    "tags": []
   },
   "outputs": [
    {
     "data": {
      "text/html": [
       "<div>\n",
       "<style scoped>\n",
       "    .dataframe tbody tr th:only-of-type {\n",
       "        vertical-align: middle;\n",
       "    }\n",
       "\n",
       "    .dataframe tbody tr th {\n",
       "        vertical-align: top;\n",
       "    }\n",
       "\n",
       "    .dataframe thead th {\n",
       "        text-align: right;\n",
       "    }\n",
       "</style>\n",
       "<table border=\"1\" class=\"dataframe\">\n",
       "  <thead>\n",
       "    <tr style=\"text-align: right;\">\n",
       "      <th></th>\n",
       "      <th>School</th>\n",
       "    </tr>\n",
       "    <tr>\n",
       "      <th>Names</th>\n",
       "      <th></th>\n",
       "    </tr>\n",
       "  </thead>\n",
       "  <tbody>\n",
       "    <tr>\n",
       "      <th>James</th>\n",
       "      <td>Business</td>\n",
       "    </tr>\n",
       "    <tr>\n",
       "      <th>Mike</th>\n",
       "      <td>Law</td>\n",
       "    </tr>\n",
       "    <tr>\n",
       "      <th>Sally</th>\n",
       "      <td>Engineering</td>\n",
       "    </tr>\n",
       "  </tbody>\n",
       "</table>\n",
       "</div>"
      ],
      "text/plain": [
       "            School\n",
       "Names             \n",
       "James     Business\n",
       "Mike           Law\n",
       "Sally  Engineering"
      ]
     },
     "execution_count": 4,
     "metadata": {},
     "output_type": "execute_result"
    }
   ],
   "source": [
    "index = pd.Series([\"James\", \"Mike\", \"Sally\"], name = \"Names\")\n",
    "students = pd.DataFrame({\"School\": [\"Business\", \"Law\", \"Engineering\"]}, index = index)\n",
    "students"
   ]
  },
  {
   "cell_type": "code",
   "execution_count": 5,
   "id": "76865444-7350-47e2-9288-f848399b737f",
   "metadata": {
    "execution": {
     "iopub.execute_input": "2023-01-28T02:28:29.605572Z",
     "iopub.status.busy": "2023-01-28T02:28:29.605572Z",
     "iopub.status.idle": "2023-01-28T02:28:29.623912Z",
     "shell.execute_reply": "2023-01-28T02:28:29.623912Z",
     "shell.execute_reply.started": "2023-01-28T02:28:29.605572Z"
    }
   },
   "outputs": [
    {
     "data": {
      "text/html": [
       "<div>\n",
       "<style scoped>\n",
       "    .dataframe tbody tr th:only-of-type {\n",
       "        vertical-align: middle;\n",
       "    }\n",
       "\n",
       "    .dataframe tbody tr th {\n",
       "        vertical-align: top;\n",
       "    }\n",
       "\n",
       "    .dataframe thead th {\n",
       "        text-align: right;\n",
       "    }\n",
       "</style>\n",
       "<table border=\"1\" class=\"dataframe\">\n",
       "  <thead>\n",
       "    <tr style=\"text-align: right;\">\n",
       "      <th></th>\n",
       "      <th>Role</th>\n",
       "    </tr>\n",
       "    <tr>\n",
       "      <th>Names</th>\n",
       "      <th></th>\n",
       "    </tr>\n",
       "  </thead>\n",
       "  <tbody>\n",
       "    <tr>\n",
       "      <th>Kelly</th>\n",
       "      <td>Director of H.R</td>\n",
       "    </tr>\n",
       "    <tr>\n",
       "      <th>Sally</th>\n",
       "      <td>Course liasion</td>\n",
       "    </tr>\n",
       "    <tr>\n",
       "      <th>James</th>\n",
       "      <td>Grader</td>\n",
       "    </tr>\n",
       "  </tbody>\n",
       "</table>\n",
       "</div>"
      ],
      "text/plain": [
       "                  Role\n",
       "Names                 \n",
       "Kelly  Director of H.R\n",
       "Sally   Course liasion\n",
       "James           Grader"
      ]
     },
     "execution_count": 5,
     "metadata": {},
     "output_type": "execute_result"
    }
   ],
   "source": [
    "index = pd.Series([\"Kelly\", \"Sally\", \"James\"], name = \"Names\")\n",
    "staff = pd.DataFrame({\"Role\": [\"Director of H.R\", \"Course liasion\", \"Grader\"]}, index = index)\n",
    "staff"
   ]
  },
  {
   "cell_type": "code",
   "execution_count": 7,
   "id": "06863c8e-73d3-4803-837b-e0b7895b21d4",
   "metadata": {
    "execution": {
     "iopub.execute_input": "2023-01-28T02:29:23.084941Z",
     "iopub.status.busy": "2023-01-28T02:29:23.084941Z",
     "iopub.status.idle": "2023-01-28T02:29:23.101083Z",
     "shell.execute_reply": "2023-01-28T02:29:23.101083Z",
     "shell.execute_reply.started": "2023-01-28T02:29:23.084941Z"
    },
    "tags": []
   },
   "outputs": [
    {
     "data": {
      "text/html": [
       "<div>\n",
       "<style scoped>\n",
       "    .dataframe tbody tr th:only-of-type {\n",
       "        vertical-align: middle;\n",
       "    }\n",
       "\n",
       "    .dataframe tbody tr th {\n",
       "        vertical-align: top;\n",
       "    }\n",
       "\n",
       "    .dataframe thead th {\n",
       "        text-align: right;\n",
       "    }\n",
       "</style>\n",
       "<table border=\"1\" class=\"dataframe\">\n",
       "  <thead>\n",
       "    <tr style=\"text-align: right;\">\n",
       "      <th></th>\n",
       "      <th>School</th>\n",
       "      <th>Role</th>\n",
       "    </tr>\n",
       "    <tr>\n",
       "      <th>Names</th>\n",
       "      <th></th>\n",
       "      <th></th>\n",
       "    </tr>\n",
       "  </thead>\n",
       "  <tbody>\n",
       "    <tr>\n",
       "      <th>James</th>\n",
       "      <td>Business</td>\n",
       "      <td>Grader</td>\n",
       "    </tr>\n",
       "    <tr>\n",
       "      <th>Mike</th>\n",
       "      <td>Law</td>\n",
       "      <td>NaN</td>\n",
       "    </tr>\n",
       "    <tr>\n",
       "      <th>Sally</th>\n",
       "      <td>Engineering</td>\n",
       "      <td>Course liasion</td>\n",
       "    </tr>\n",
       "  </tbody>\n",
       "</table>\n",
       "</div>"
      ],
      "text/plain": [
       "            School            Role\n",
       "Names                             \n",
       "James     Business          Grader\n",
       "Mike           Law             NaN\n",
       "Sally  Engineering  Course liasion"
      ]
     },
     "execution_count": 7,
     "metadata": {},
     "output_type": "execute_result"
    }
   ],
   "source": [
    "pd.merge(students, staff, how = \"left\", left_index = True, right_index = True)"
   ]
  },
  {
   "cell_type": "code",
   "execution_count": 10,
   "id": "e5a75c0a-d48c-4266-9a6f-4ce007a1895e",
   "metadata": {
    "execution": {
     "iopub.execute_input": "2023-01-28T02:54:50.636760Z",
     "iopub.status.busy": "2023-01-28T02:54:50.636760Z",
     "iopub.status.idle": "2023-01-28T02:54:50.651577Z",
     "shell.execute_reply": "2023-01-28T02:54:50.651577Z",
     "shell.execute_reply.started": "2023-01-28T02:54:50.636760Z"
    },
    "tags": []
   },
   "outputs": [],
   "source": [
    "df = pd.DataFrame(['A+', 'A', 'A-', 'B+', 'B', 'B-', 'C+', 'C', 'C-', 'D+', 'D'], index=['excellent', 'excellent', 'excellent', 'good', 'good', 'good', 'ok', 'ok', 'ok', 'poor', 'poor'], columns = ['Grades'])\n",
    "\n",
    "my_categories = pd.CategoricalDtype(reversed(['A+', 'A', 'A-', 'B+', 'B', 'B-', 'C+', 'C', 'C-', 'D+', 'D']), ordered = True)\n",
    "grades = df['Grades'].astype(my_categories)\n",
    "result = grades[(grades > 'B') & (grades < 'A')]"
   ]
  },
  {
   "cell_type": "code",
   "execution_count": 11,
   "id": "3489f6da-f91d-4f9c-8307-e034ff83cd86",
   "metadata": {
    "execution": {
     "iopub.execute_input": "2023-01-28T02:54:50.998639Z",
     "iopub.status.busy": "2023-01-28T02:54:50.998639Z",
     "iopub.status.idle": "2023-01-28T02:54:51.015731Z",
     "shell.execute_reply": "2023-01-28T02:54:51.015731Z",
     "shell.execute_reply.started": "2023-01-28T02:54:50.998639Z"
    },
    "tags": []
   },
   "outputs": [
    {
     "data": {
      "text/plain": [
       "excellent    A-\n",
       "good         B+\n",
       "Name: Grades, dtype: category\n",
       "Categories (11, object): ['D' < 'D+' < 'C-' < 'C' ... 'B+' < 'A-' < 'A' < 'A+']"
      ]
     },
     "execution_count": 11,
     "metadata": {},
     "output_type": "execute_result"
    }
   ],
   "source": [
    "result"
   ]
  },
  {
   "cell_type": "code",
   "execution_count": 19,
   "id": "f715a2bc-1500-4672-a8b3-98ebb564c21c",
   "metadata": {
    "execution": {
     "iopub.execute_input": "2023-01-28T02:57:44.660819Z",
     "iopub.status.busy": "2023-01-28T02:57:44.660819Z",
     "iopub.status.idle": "2023-01-28T02:57:44.672613Z",
     "shell.execute_reply": "2023-01-28T02:57:44.672613Z",
     "shell.execute_reply.started": "2023-01-28T02:57:44.660819Z"
    },
    "tags": []
   },
   "outputs": [
    {
     "data": {
      "text/plain": [
       "5"
      ]
     },
     "execution_count": 19,
     "metadata": {},
     "output_type": "execute_result"
    }
   ],
   "source": [
    "(pd.Timestamp(\"11/29/2019\") + pd.offsets.MonthEnd()).weekday()"
   ]
  },
  {
   "cell_type": "code",
   "execution_count": 20,
   "id": "dc26a2bb-b2cc-4d53-b2ca-961aae8bf4b4",
   "metadata": {
    "execution": {
     "iopub.execute_input": "2023-01-28T02:57:51.367411Z",
     "iopub.status.busy": "2023-01-28T02:57:51.367411Z",
     "iopub.status.idle": "2023-01-28T02:57:51.372697Z",
     "shell.execute_reply": "2023-01-28T02:57:51.372697Z",
     "shell.execute_reply.started": "2023-01-28T02:57:51.367411Z"
    }
   },
   "outputs": [
    {
     "data": {
      "text/plain": [
       "'Saturday'"
      ]
     },
     "execution_count": 20,
     "metadata": {},
     "output_type": "execute_result"
    }
   ],
   "source": [
    "(pd.Timestamp(\"11/29/2019\") + pd.offsets.MonthEnd()).day_name()"
   ]
  },
  {
   "cell_type": "code",
   "execution_count": 21,
   "id": "61ef8da9-7c82-4564-b392-6c7e93fac6ef",
   "metadata": {
    "execution": {
     "iopub.execute_input": "2023-01-28T03:06:55.137596Z",
     "iopub.status.busy": "2023-01-28T03:06:55.137596Z",
     "iopub.status.idle": "2023-01-28T03:06:55.157984Z",
     "shell.execute_reply": "2023-01-28T03:06:55.157984Z",
     "shell.execute_reply.started": "2023-01-28T03:06:55.137596Z"
    }
   },
   "outputs": [
    {
     "data": {
      "text/plain": [
       "Period('2019-06', 'M')"
      ]
     },
     "execution_count": 21,
     "metadata": {},
     "output_type": "execute_result"
    }
   ],
   "source": [
    "pd.Period('01/12/2019', 'M') + 5"
   ]
  },
  {
   "cell_type": "code",
   "execution_count": null,
   "id": "4bd07219-4911-4e4c-a6fd-cd46e081f65a",
   "metadata": {},
   "outputs": [],
   "source": []
  }
 ],
 "metadata": {
  "kernelspec": {
   "display_name": "Python 3 (ipykernel)",
   "language": "python",
   "name": "python3"
  },
  "language_info": {
   "codemirror_mode": {
    "name": "ipython",
    "version": 3
   },
   "file_extension": ".py",
   "mimetype": "text/x-python",
   "name": "python",
   "nbconvert_exporter": "python",
   "pygments_lexer": "ipython3",
   "version": "3.11.1"
  }
 },
 "nbformat": 4,
 "nbformat_minor": 5
}
