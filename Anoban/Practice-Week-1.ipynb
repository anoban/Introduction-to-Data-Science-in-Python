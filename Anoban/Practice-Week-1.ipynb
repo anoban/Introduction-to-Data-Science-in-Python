{
 "cells": [
  {
   "cell_type": "code",
   "execution_count": 77,
   "id": "2c202b88-041c-4095-8fd4-6874d1d1fae8",
   "metadata": {},
   "outputs": [],
   "source": [
    "import numpy as np\n",
    "from csv import DictReader\n",
    "from typing import Callable\n",
    "import math\n",
    "import statistics"
   ]
  },
  {
   "cell_type": "code",
   "execution_count": 18,
   "id": "4447b034-15cc-4919-883b-6a4263ca77fa",
   "metadata": {},
   "outputs": [],
   "source": [
    "def factorial(n: int):\n",
    "    \"\"\"\n",
    "    Raturns the factorial of the provided number.\n",
    "    \"\"\"\n",
    "    assert(n >= 1)\n",
    "    result = 1\n",
    "    for i in range(n, 1, -1):\n",
    "        result *= i\n",
    "    return result"
   ]
  },
  {
   "cell_type": "code",
   "execution_count": 24,
   "id": "0e72432f-0b47-4974-bb4e-879a1d17849a",
   "metadata": {},
   "outputs": [],
   "source": [
    "for i in range(1, 100):\n",
    "    assert(factorial(i) == np.math.factorial(i))"
   ]
  },
  {
   "cell_type": "code",
   "execution_count": 29,
   "id": "ec9a94e6-044c-4c0c-ab93-2b1c31260808",
   "metadata": {},
   "outputs": [
    {
     "data": {
      "text/plain": [
       "['James', 'Julie', 'Natalie', 'James', 'Julie', 'Natalie']"
      ]
     },
     "execution_count": 29,
     "metadata": {},
     "output_type": "execute_result"
    }
   ],
   "source": [
    "[\"James\", \"Julie\", \"Natalie\"] * 2"
   ]
  },
  {
   "cell_type": "code",
   "execution_count": 30,
   "id": "2e6eb2bd-0c06-47ed-87fc-5b97870ebc7e",
   "metadata": {},
   "outputs": [],
   "source": [
    "course = \"Introduction to Data Science in Python\""
   ]
  },
  {
   "cell_type": "code",
   "execution_count": 35,
   "id": "1cd0ca8f-3dac-465c-9b65-49824480dd81",
   "metadata": {},
   "outputs": [
    {
     "data": {
      "text/plain": [
       "'on to Data Science in Python'"
      ]
     },
     "execution_count": 35,
     "metadata": {},
     "output_type": "execute_result"
    }
   ],
   "source": [
    "course[10:]"
   ]
  },
  {
   "cell_type": "code",
   "execution_count": 36,
   "id": "aface1f1-b363-41ca-badc-2c6301db6d2a",
   "metadata": {},
   "outputs": [
    {
     "data": {
      "text/plain": [
       "'Ido  nnh'"
      ]
     },
     "execution_count": 36,
     "metadata": {},
     "output_type": "execute_result"
    }
   ],
   "source": [
    "course[::5]"
   ]
  },
  {
   "cell_type": "code",
   "execution_count": 38,
   "id": "04fe2878-6711-40d1-a96b-1fe9f6c2f2c4",
   "metadata": {},
   "outputs": [
    {
     "data": {
      "text/plain": [
       "'nohtyP ni ecneicS ataD ot noitcudortnI'"
      ]
     },
     "execution_count": 38,
     "metadata": {},
     "output_type": "execute_result"
    }
   ],
   "source": [
    "course[::-1]"
   ]
  },
  {
   "cell_type": "code",
   "execution_count": 40,
   "id": "cdd01149-4bee-458b-9bce-fba5ce9cce17",
   "metadata": {},
   "outputs": [
    {
     "data": {
      "text/plain": [
       "'Introduction to Data Science in Python'"
      ]
     },
     "execution_count": 40,
     "metadata": {},
     "output_type": "execute_result"
    }
   ],
   "source": [
    "course[::1]"
   ]
  },
  {
   "cell_type": "code",
   "execution_count": 41,
   "id": "06d5041e-847c-416b-83ec-5d99a4eed923",
   "metadata": {},
   "outputs": [
    {
     "data": {
      "text/plain": [
       "'INTRODUCTION TO DATA SCIENCE IN PYTHON'"
      ]
     },
     "execution_count": 41,
     "metadata": {},
     "output_type": "execute_result"
    }
   ],
   "source": [
    "course.upper()"
   ]
  },
  {
   "cell_type": "code",
   "execution_count": 42,
   "id": "e71e87a7-336a-4ae5-87c3-300915290174",
   "metadata": {},
   "outputs": [
    {
     "data": {
      "text/plain": [
       "'Introduction To Data Science In Python'"
      ]
     },
     "execution_count": 42,
     "metadata": {},
     "output_type": "execute_result"
    }
   ],
   "source": [
    "course.title()"
   ]
  },
  {
   "cell_type": "code",
   "execution_count": 43,
   "id": "015b3266-22c7-4abc-a3f6-29745dd63094",
   "metadata": {},
   "outputs": [
    {
     "data": {
      "text/plain": [
       "'introduction to data science in python'"
      ]
     },
     "execution_count": 43,
     "metadata": {},
     "output_type": "execute_result"
    }
   ],
   "source": [
    "course.lower()"
   ]
  },
  {
   "cell_type": "code",
   "execution_count": 44,
   "id": "e4f59dfb-9111-476f-b051-95656197a78d",
   "metadata": {},
   "outputs": [
    {
     "data": {
      "text/plain": [
       "'Introduction to Data Science in Python'"
      ]
     },
     "execution_count": 44,
     "metadata": {},
     "output_type": "execute_result"
    }
   ],
   "source": [
    "course.strip()"
   ]
  },
  {
   "cell_type": "code",
   "execution_count": 45,
   "id": "9a4e1879-2fed-44d3-8e05-e64b2a2240fe",
   "metadata": {},
   "outputs": [
    {
     "data": {
      "text/plain": [
       "'Introduction-to-Data-Science-in-Python'"
      ]
     },
     "execution_count": 45,
     "metadata": {},
     "output_type": "execute_result"
    }
   ],
   "source": [
    "course.replace(\" \", \"-\")"
   ]
  },
  {
   "cell_type": "code",
   "execution_count": 46,
   "id": "b593e556-32ec-4755-8f9c-74888f430ecb",
   "metadata": {},
   "outputs": [],
   "source": [
    "count_chars = dict()\n",
    "\n",
    "for char in course:\n",
    "    if char not in count_chars.keys():\n",
    "        count_chars[char] = 1\n",
    "    else:\n",
    "        count_chars[char] += 1"
   ]
  },
  {
   "cell_type": "code",
   "execution_count": 51,
   "id": "0260b1b4-ff61-4a66-b06d-dbf1fe9dd8ae",
   "metadata": {},
   "outputs": [
    {
     "name": "stdout",
     "output_type": "stream",
     "text": [
      "{'I': 1, 'n': 5, 't': 5, 'r': 1, 'o': 4, 'd': 1, 'u': 1, 'c': 3, 'i': 3, ' ': 5, 'D': 1, 'a': 2, 'S': 1, 'e': 2, 'P': 1, 'y': 1, 'h': 1}\n"
     ]
    }
   ],
   "source": [
    "print(count_chars, sep = \", \")"
   ]
  },
  {
   "cell_type": "code",
   "execution_count": 52,
   "id": "490278f7-2f2c-487c-a765-847dbc4bf6ca",
   "metadata": {},
   "outputs": [],
   "source": [
    "names = (\"Julia\", \"Mitchelle\", \"Janice\", \"Leslie\", \"Juanita\", \"Robin\", \"Linda\")"
   ]
  },
  {
   "cell_type": "code",
   "execution_count": 56,
   "id": "c203135e-c04e-44c2-9458-e33e79816145",
   "metadata": {},
   "outputs": [],
   "source": [
    "Julia, Mitchelle, *_ = names"
   ]
  },
  {
   "cell_type": "code",
   "execution_count": 57,
   "id": "f3717968-3abb-49ad-8983-d55bfd840dae",
   "metadata": {},
   "outputs": [
    {
     "data": {
      "text/plain": [
       "('Julia', 'Mitchelle')"
      ]
     },
     "execution_count": 57,
     "metadata": {},
     "output_type": "execute_result"
    }
   ],
   "source": [
    "Julia, Mitchelle"
   ]
  },
  {
   "cell_type": "code",
   "execution_count": 59,
   "id": "fd00ba5b-bc01-4332-bc85-379f0a9efd80",
   "metadata": {},
   "outputs": [
    {
     "data": {
      "text/plain": [
       "['Janice', 'Leslie', 'Juanita', 'Robin', 'Linda']"
      ]
     },
     "execution_count": 59,
     "metadata": {},
     "output_type": "execute_result"
    }
   ],
   "source": [
    "_"
   ]
  },
  {
   "cell_type": "code",
   "execution_count": 60,
   "id": "7181e0ea-54c9-4e55-86e5-f87bd1e84def",
   "metadata": {},
   "outputs": [],
   "source": [
    "with open(r\"D:\\Introduction-to-Data-Science-in-Python\\week-1\\datasets\\mpg.csv\") as file:\n",
    "    mpg = list(DictReader(file))"
   ]
  },
  {
   "cell_type": "code",
   "execution_count": 68,
   "id": "cef12802-616e-4cef-9b62-400e6ce7f259",
   "metadata": {},
   "outputs": [
    {
     "data": {
      "text/plain": [
       "[{'': '1',\n",
       "  'manufacturer': 'audi',\n",
       "  'model': 'a4',\n",
       "  'displ': '1.8',\n",
       "  'year': '1999',\n",
       "  'cyl': '4',\n",
       "  'trans': 'auto(l5)',\n",
       "  'drv': 'f',\n",
       "  'cty': '18',\n",
       "  'hwy': '29',\n",
       "  'fl': 'p',\n",
       "  'class': 'compact'},\n",
       " {'': '2',\n",
       "  'manufacturer': 'audi',\n",
       "  'model': 'a4',\n",
       "  'displ': '1.8',\n",
       "  'year': '1999',\n",
       "  'cyl': '4',\n",
       "  'trans': 'manual(m5)',\n",
       "  'drv': 'f',\n",
       "  'cty': '21',\n",
       "  'hwy': '29',\n",
       "  'fl': 'p',\n",
       "  'class': 'compact'}]"
      ]
     },
     "execution_count": 68,
     "metadata": {},
     "output_type": "execute_result"
    }
   ],
   "source": [
    "mpg[0:2]"
   ]
  },
  {
   "cell_type": "code",
   "execution_count": 69,
   "id": "e1d9a8f5-2996-406d-87ad-f9f904807d28",
   "metadata": {},
   "outputs": [
    {
     "data": {
      "text/plain": [
       "234"
      ]
     },
     "execution_count": 69,
     "metadata": {},
     "output_type": "execute_result"
    }
   ],
   "source": [
    "len(mpg)"
   ]
  },
  {
   "cell_type": "code",
   "execution_count": 82,
   "id": "96dfdd77-e21c-433f-bba7-c361ee2e90df",
   "metadata": {},
   "outputs": [],
   "source": [
    "cities = list(set(int(record.get(\"cty\")) for record in mpg))\n",
    "cities.sort()"
   ]
  },
  {
   "cell_type": "code",
   "execution_count": 83,
   "id": "21e72eb1-a81c-473f-a92d-dfb698dbc2ae",
   "metadata": {},
   "outputs": [
    {
     "data": {
      "text/plain": [
       "[9,\n",
       " 11,\n",
       " 12,\n",
       " 13,\n",
       " 14,\n",
       " 15,\n",
       " 16,\n",
       " 17,\n",
       " 18,\n",
       " 19,\n",
       " 20,\n",
       " 21,\n",
       " 22,\n",
       " 23,\n",
       " 24,\n",
       " 25,\n",
       " 26,\n",
       " 28,\n",
       " 29,\n",
       " 33,\n",
       " 35]"
      ]
     },
     "execution_count": 83,
     "metadata": {},
     "output_type": "execute_result"
    }
   ],
   "source": [
    "cities"
   ]
  },
  {
   "cell_type": "code",
   "execution_count": 85,
   "id": "3e81db3e-5699-4ce4-a6e6-a4640d2ca027",
   "metadata": {},
   "outputs": [],
   "source": [
    "city_wise_mean_displacement = dict()\n",
    "\n",
    "for record in mpg:\n",
    "    if int(record.get(\"cty\")) in city_wise_mean_displacement:\n",
    "        city_wise_mean_displacement[int(record.get(\"cty\"))].append(float(record.get(\"displ\")))\n",
    "    else:\n",
    "        city_wise_mean_displacement[int(record.get(\"cty\"))] = [float(record.get(\"displ\"))]"
   ]
  },
  {
   "cell_type": "code",
   "execution_count": 87,
   "id": "6d50ad44-8ef8-4d1b-90bc-b4c3999e8e97",
   "metadata": {},
   "outputs": [],
   "source": [
    "for city_id in city_wise_mean_displacement.keys():\n",
    "    city_wise_mean_displacement[city_id] = np.mean(city_wise_mean_displacement[city_id])"
   ]
  },
  {
   "cell_type": "code",
   "execution_count": 88,
   "id": "f6007c50-95b4-46a6-9a15-e9456e7cb982",
   "metadata": {},
   "outputs": [
    {
     "data": {
      "text/plain": [
       "{18: 2.815384615384615,\n",
       " 21: 2.1739130434782608,\n",
       " 20: 2.3181818181818183,\n",
       " 16: 3.6789473684210523,\n",
       " 19: 2.565,\n",
       " 15: 3.9708333333333337,\n",
       " 17: 3.14375,\n",
       " 14: 4.557894736842105,\n",
       " 11: 5.15,\n",
       " 13: 4.833333333333333,\n",
       " 12: 5.050000000000001,\n",
       " 22: 2.2,\n",
       " 9: 4.7,\n",
       " 28: 1.7000000000000002,\n",
       " 24: 1.72,\n",
       " 25: 1.7000000000000002,\n",
       " 23: 2.1999999999999997,\n",
       " 26: 1.8,\n",
       " 33: 1.9,\n",
       " 35: 1.9,\n",
       " 29: 1.9}"
      ]
     },
     "execution_count": 88,
     "metadata": {},
     "output_type": "execute_result"
    }
   ],
   "source": [
    "city_wise_mean_displacement"
   ]
  },
  {
   "cell_type": "code",
   "execution_count": 2,
   "id": "e73f0070-6712-4b67-9064-be0832601b14",
   "metadata": {},
   "outputs": [],
   "source": [
    "def sumContainer(container):\n",
    "    sum = 0\n",
    "    for i in container:\n",
    "        sum += i\n",
    "    return sum"
   ]
  },
  {
   "cell_type": "code",
   "execution_count": 6,
   "id": "36aff99e-128a-4316-824c-48ebcb586268",
   "metadata": {},
   "outputs": [
    {
     "data": {
      "text/plain": [
       "499500"
      ]
     },
     "execution_count": 6,
     "metadata": {},
     "output_type": "execute_result"
    }
   ],
   "source": [
    "sumContainer(list(range(1000)))"
   ]
  },
  {
   "cell_type": "code",
   "execution_count": 7,
   "id": "34f67221-3fb2-4b70-88f3-c5d1933c9ca8",
   "metadata": {},
   "outputs": [],
   "source": [
    "def sumContainer(container):\n",
    "    sum = 0\n",
    "    [sum := (sum + i) for i in container]\n",
    "    return sum"
   ]
  },
  {
   "cell_type": "code",
   "execution_count": 9,
   "id": "b6557c62-d176-42aa-846a-ddea3e8c3eda",
   "metadata": {},
   "outputs": [
    {
     "data": {
      "text/plain": [
       "499500"
      ]
     },
     "execution_count": 9,
     "metadata": {},
     "output_type": "execute_result"
    }
   ],
   "source": [
    "sumContainer(list(range(1000)))"
   ]
  },
  {
   "cell_type": "code",
   "execution_count": 15,
   "id": "b4380200-39c6-477a-9047-902500d54e29",
   "metadata": {},
   "outputs": [],
   "source": [
    "def sayHi(invoker: str) -> None:\n",
    "    print(f\"Hi there {invoker}!..\")\n",
    "    # no explicit return here"
   ]
  },
  {
   "cell_type": "code",
   "execution_count": 16,
   "id": "f4d87b65-9d30-4870-a5a0-c7df820fcbab",
   "metadata": {},
   "outputs": [
    {
     "name": "stdout",
     "output_type": "stream",
     "text": [
      "Hi there Natalie!..\n"
     ]
    }
   ],
   "source": [
    "res = sayHi(\"Natalie\")"
   ]
  },
  {
   "cell_type": "code",
   "execution_count": 18,
   "id": "1a402610-d55e-406b-83d7-c01cdf0c1e50",
   "metadata": {},
   "outputs": [
    {
     "data": {
      "text/plain": [
       "NoneType"
      ]
     },
     "execution_count": 18,
     "metadata": {},
     "output_type": "execute_result"
    }
   ],
   "source": [
    "# has retunred a None\n",
    "type(res)"
   ]
  },
  {
   "cell_type": "code",
   "execution_count": 30,
   "id": "4108f8a6-d824-48a0-adc2-0ce02c392dba",
   "metadata": {},
   "outputs": [],
   "source": [
    "# functions are first class objects in Python\n",
    "\n",
    "def returnAdder(value_parent: int) -> Callable[int, int]:\n",
    "    def adder(value: int):\n",
    "        return value_parent + value\n",
    "    return adder"
   ]
  },
  {
   "cell_type": "code",
   "execution_count": 31,
   "id": "bb069d6f-24fd-4974-a036-2402d36fd870",
   "metadata": {},
   "outputs": [
    {
     "data": {
      "text/plain": [
       "function"
      ]
     },
     "execution_count": 31,
     "metadata": {},
     "output_type": "execute_result"
    }
   ],
   "source": [
    "type(sayHi)"
   ]
  },
  {
   "cell_type": "code",
   "execution_count": 32,
   "id": "cfb32a53-ea3b-4da9-9785-38442752292f",
   "metadata": {},
   "outputs": [],
   "source": [
    "adder_that_adds_24_to_input = returnAdder(24)"
   ]
  },
  {
   "cell_type": "code",
   "execution_count": 33,
   "id": "672d4f4f-0d24-44ba-9cf3-4736ffb56dbc",
   "metadata": {},
   "outputs": [
    {
     "data": {
      "text/plain": [
       "34"
      ]
     },
     "execution_count": 33,
     "metadata": {},
     "output_type": "execute_result"
    }
   ],
   "source": [
    "adder_that_adds_24_to_input(10)"
   ]
  },
  {
   "cell_type": "markdown",
   "id": "2fb9d897-80d3-4a16-87c2-1ab1b06fda0d",
   "metadata": {},
   "source": [
    "### ***Three native collections in Python***\n",
    "- ***tuples***\n",
    "- ***lists***\n",
    "- ***sets***"
   ]
  },
  {
   "cell_type": "code",
   "execution_count": 34,
   "id": "97334c43-313b-4eb6-91a6-290102f9d175",
   "metadata": {},
   "outputs": [
    {
     "data": {
      "text/plain": [
       "[1, 'Julian', ['Hi', 'Hola'], 'Anoban']"
      ]
     },
     "execution_count": 34,
     "metadata": {},
     "output_type": "execute_result"
    }
   ],
   "source": [
    "[1, \"Julian\", [\"Hi\", \"Hola\"]] + [\"Anoban\"]"
   ]
  },
  {
   "cell_type": "code",
   "execution_count": 35,
   "id": "6bd4f749-a481-4a24-a4fd-a9d9a1d51526",
   "metadata": {},
   "outputs": [],
   "source": [
    "nums = list(range(1000))"
   ]
  },
  {
   "cell_type": "code",
   "execution_count": 37,
   "id": "88d10b31-12f1-467c-8c42-3904a01c89dd",
   "metadata": {},
   "outputs": [
    {
     "data": {
      "text/plain": [
       "100"
      ]
     },
     "execution_count": 37,
     "metadata": {},
     "output_type": "execute_result"
    }
   ],
   "source": [
    "nums[100]"
   ]
  },
  {
   "cell_type": "code",
   "execution_count": 38,
   "id": "80beb184-2add-4dad-8376-1827090d8171",
   "metadata": {},
   "outputs": [
    {
     "data": {
      "text/plain": [
       "[10, 11, 12, 13, 14, 15, 16, 17, 18, 19]"
      ]
     },
     "execution_count": 38,
     "metadata": {},
     "output_type": "execute_result"
    }
   ],
   "source": [
    "nums[10:20]"
   ]
  },
  {
   "cell_type": "code",
   "execution_count": 39,
   "id": "2b59d2fa-65a4-42a8-9136-a2df284ba2d8",
   "metadata": {},
   "outputs": [
    {
     "data": {
      "text/plain": [
       "[0, 100, 200, 300, 400, 500, 600, 700, 800, 900]"
      ]
     },
     "execution_count": 39,
     "metadata": {},
     "output_type": "execute_result"
    }
   ],
   "source": [
    "nums[::100]"
   ]
  },
  {
   "cell_type": "code",
   "execution_count": 40,
   "id": "fb6713cc-0ab7-485c-bbd1-7d54fc2c4b89",
   "metadata": {},
   "outputs": [
    {
     "data": {
      "text/plain": [
       "[999, 899, 799, 699, 599, 499, 399, 299, 199, 99]"
      ]
     },
     "execution_count": 40,
     "metadata": {},
     "output_type": "execute_result"
    }
   ],
   "source": [
    "nums[::-100]"
   ]
  },
  {
   "cell_type": "code",
   "execution_count": 44,
   "id": "8f749023-50cd-4caf-b06f-bb0301fab0b8",
   "metadata": {},
   "outputs": [
    {
     "data": {
      "text/plain": [
       "[19, 18, 17, 16, 15, 14, 13, 12, 11, 10]"
      ]
     },
     "execution_count": 44,
     "metadata": {},
     "output_type": "execute_result"
    }
   ],
   "source": [
    "nums[10:20][::-1]"
   ]
  },
  {
   "cell_type": "code",
   "execution_count": 49,
   "id": "c908f262-f0cd-4231-874a-358ae32b0c6b",
   "metadata": {},
   "outputs": [
    {
     "data": {
      "text/plain": [
       "[980, 981, 982, 983, 984, 985, 986, 987, 988, 989]"
      ]
     },
     "execution_count": 49,
     "metadata": {},
     "output_type": "execute_result"
    }
   ],
   "source": [
    "nums[-20:-10]"
   ]
  },
  {
   "cell_type": "code",
   "execution_count": 52,
   "id": "3bee59b0-27f3-408e-b190-7b2c0d6a966a",
   "metadata": {},
   "outputs": [
    {
     "data": {
      "text/plain": [
       "[]"
      ]
     },
     "execution_count": 52,
     "metadata": {},
     "output_type": "execute_result"
    }
   ],
   "source": [
    "nums[-10:-20]"
   ]
  },
  {
   "cell_type": "code",
   "execution_count": 53,
   "id": "c4c8ec6e-3040-4a32-9014-dffcf72f8cdd",
   "metadata": {},
   "outputs": [
    {
     "name": "stdout",
     "output_type": "stream",
     "text": [
      "Christopher Brooks\n"
     ]
    }
   ],
   "source": [
    "_fName = \"Christopher\"; _lname = \"Brooks\";\n",
    "print(_fName, _lname)"
   ]
  },
  {
   "cell_type": "code",
   "execution_count": 55,
   "id": "b7d95d47-c327-4078-9627-69f42a251eb4",
   "metadata": {},
   "outputs": [
    {
     "data": {
      "text/plain": [
       "'Christopher Brooks'"
      ]
     },
     "execution_count": 55,
     "metadata": {},
     "output_type": "execute_result"
    }
   ],
   "source": [
    "_fName + \" \" + _lname"
   ]
  },
  {
   "cell_type": "code",
   "execution_count": 57,
   "id": "99e625cd-18ae-430b-8f2b-02e48ec29250",
   "metadata": {},
   "outputs": [
    {
     "data": {
      "text/plain": [
       "'Christopher Brooks'"
      ]
     },
     "execution_count": 57,
     "metadata": {},
     "output_type": "execute_result"
    }
   ],
   "source": [
    "f\"{_fName} {_lname}\""
   ]
  },
  {
   "cell_type": "code",
   "execution_count": 58,
   "id": "da91b47e-e735-4ef6-84d8-7e3930daaadf",
   "metadata": {},
   "outputs": [
    {
     "data": {
      "text/plain": [
       "True"
      ]
     },
     "execution_count": 58,
     "metadata": {},
     "output_type": "execute_result"
    }
   ],
   "source": [
    "\"Chris\" in _fName"
   ]
  },
  {
   "cell_type": "code",
   "execution_count": 59,
   "id": "e4cecd4b-e8b4-43f3-a2ab-df50491b9f26",
   "metadata": {},
   "outputs": [
    {
     "data": {
      "text/plain": [
       "False"
      ]
     },
     "execution_count": 59,
     "metadata": {},
     "output_type": "execute_result"
    }
   ],
   "source": [
    "\"ooks\" not in _lname"
   ]
  },
  {
   "cell_type": "markdown",
   "id": "8f3718bc-2043-49e9-b181-b8340d6aefa0",
   "metadata": {},
   "source": [
    "#### ***UTF -> Unicode Transformation Format***"
   ]
  },
  {
   "cell_type": "code",
   "execution_count": 71,
   "id": "1b9f5434-cd2d-4d67-8161-cf036bb442fc",
   "metadata": {},
   "outputs": [],
   "source": [
    "with open(r\"D:/Introduction-to-Data-Science-in-Python/week-1/datasets/mpg.csv\") as file:\n",
    "    mpg = list(DictReader(file))"
   ]
  },
  {
   "cell_type": "code",
   "execution_count": 72,
   "id": "86f29e68-9ee6-4814-a4f0-8f57133efef1",
   "metadata": {},
   "outputs": [],
   "source": [
    "for dictionary in mpg:\n",
    "    del dictionary[\"\"]"
   ]
  },
  {
   "cell_type": "code",
   "execution_count": 76,
   "id": "29265e8f-ed8f-4faa-b91e-f08cf3f066a1",
   "metadata": {},
   "outputs": [
    {
     "data": {
      "text/plain": [
       "234"
      ]
     },
     "execution_count": 76,
     "metadata": {},
     "output_type": "execute_result"
    }
   ],
   "source": [
    "len(mpg)"
   ]
  },
  {
   "cell_type": "code",
   "execution_count": 99,
   "id": "0c378778-115a-4716-ab15-0560ff2a89c4",
   "metadata": {},
   "outputs": [
    {
     "data": {
      "text/plain": [
       "{'manufacturer': 'audi',\n",
       " 'model': 'a4',\n",
       " 'displ': '1.8',\n",
       " 'year': '1999',\n",
       " 'cyl': '4',\n",
       " 'trans': 'auto(l5)',\n",
       " 'drv': 'f',\n",
       " 'cty': '18',\n",
       " 'hwy': '29',\n",
       " 'fl': 'p',\n",
       " 'class': 'compact'}"
      ]
     },
     "execution_count": 99,
     "metadata": {},
     "output_type": "execute_result"
    }
   ],
   "source": [
    "mpg[0]"
   ]
  },
  {
   "cell_type": "code",
   "execution_count": 78,
   "id": "4a238e71-d565-4681-a842-c90907c3f74f",
   "metadata": {},
   "outputs": [
    {
     "data": {
      "text/plain": [
       "16.858974358974358"
      ]
     },
     "execution_count": 78,
     "metadata": {},
     "output_type": "execute_result"
    }
   ],
   "source": [
    "# average city mpg\n",
    "average = statistics.mean([int(dictionary.get(\"cty\")) for dictionary in mpg])\n",
    "average"
   ]
  },
  {
   "cell_type": "code",
   "execution_count": 79,
   "id": "50e606dc-8a6e-47f3-898a-1f075e861e59",
   "metadata": {},
   "outputs": [
    {
     "data": {
      "text/plain": [
       "23.44017094017094"
      ]
     },
     "execution_count": 79,
     "metadata": {},
     "output_type": "execute_result"
    }
   ],
   "source": [
    "# average highway mpg\n",
    "hway_average = statistics.mean([int(dictionary.get(\"hwy\")) for dictionary in mpg])\n",
    "hway_average"
   ]
  },
  {
   "cell_type": "code",
   "execution_count": 80,
   "id": "b6e5e88d-95a2-43f9-854f-7e63da970dda",
   "metadata": {},
   "outputs": [
    {
     "data": {
      "text/plain": [
       "{'4', '5', '6', '8'}"
      ]
     },
     "execution_count": 80,
     "metadata": {},
     "output_type": "execute_result"
    }
   ],
   "source": [
    "cylinder_types = set(dictionary.get(\"cyl\") for dictionary in mpg)\n",
    "cylinder_types"
   ]
  },
  {
   "cell_type": "code",
   "execution_count": 96,
   "id": "b1dfada9-2839-45fd-ab55-a37a5a3eeadf",
   "metadata": {},
   "outputs": [],
   "source": [
    "# average city mpg, grouped by the number of cylinders a car has\n",
    "\n",
    "average_city_mpg_by_cylinders = list()\n",
    "for cylinder in set(dictionary.get(\"cyl\") for dictionary in mpg):    # all unique cylinders\n",
    "    average_city_mpg_by_cylinders.append((cylinder,\n",
    "    statistics.mean([int(dictionary.get(\"cty\")) for dictionary in mpg if dictionary.get(\"cyl\") == cylinder])))"
   ]
  },
  {
   "cell_type": "code",
   "execution_count": 98,
   "id": "9d5109f5-f531-4b34-b19f-1084490ef161",
   "metadata": {},
   "outputs": [
    {
     "data": {
      "text/plain": [
       "[('4', 21.012345679012345),\n",
       " ('5', 20.5),\n",
       " ('6', 16.21518987341772),\n",
       " ('8', 12.571428571428571)]"
      ]
     },
     "execution_count": 98,
     "metadata": {},
     "output_type": "execute_result"
    }
   ],
   "source": [
    "average_city_mpg_by_cylinders.sort()\n",
    "average_city_mpg_by_cylinders"
   ]
  },
  {
   "cell_type": "code",
   "execution_count": 92,
   "id": "3df51c82-3c67-4334-8131-94c4790de462",
   "metadata": {},
   "outputs": [],
   "source": [
    "# average highway mpg, for different vehicle classes\n",
    "\n",
    "average_highway_mpg_by_vehicle_classes = list()\n",
    "\n",
    "for vehicle_class in set(dictionary.get(\"class\") for dictionary in mpg):\n",
    "    average_highway_mpg_by_vehicle_classes.append((vehicle_class, \n",
    "    statistics.mean([int(dictionary.get(\"hwy\")) for dictionary in mpg if dictionary.get(\"class\") == vehicle_class])))"
   ]
  },
  {
   "cell_type": "code",
   "execution_count": 95,
   "id": "d8229e1e-8e50-4d27-b471-d877efde819f",
   "metadata": {},
   "outputs": [
    {
     "data": {
      "text/plain": [
       "[('2seater', 24.8),\n",
       " ('compact', 28.29787234042553),\n",
       " ('midsize', 27.29268292682927),\n",
       " ('minivan', 22.363636363636363),\n",
       " ('pickup', 16.87878787878788),\n",
       " ('subcompact', 28.142857142857142),\n",
       " ('suv', 18.129032258064516)]"
      ]
     },
     "execution_count": 95,
     "metadata": {},
     "output_type": "execute_result"
    }
   ],
   "source": [
    "average_highway_mpg_by_vehicle_classes.sort()\n",
    "average_highway_mpg_by_vehicle_classes"
   ]
  },
  {
   "cell_type": "code",
   "execution_count": 110,
   "id": "7d168f36-d98d-44ae-954f-2b4aa0497263",
   "metadata": {},
   "outputs": [],
   "source": [
    "# number of different cylinders by brand name and model\n",
    "\n",
    "data = list()\n",
    "\n",
    "for brand in set(dictionary.get(\"manufacturer\") for dictionary in mpg):    # gets all unique manufacturers\n",
    "    manufac = [dictionary for dictionary in mpg if dictionary.get(\"manufacturer\") == brand]\n",
    "    brand_dict = dict()\n",
    "    for model in set(dictionary.get(\"model\") for dictionary in manufac):\n",
    "        brand_dict[model] = sorted(list(set(dictionary.get(\"cyl\") for dictionary in manufac if dictionary.get(\"model\") == model)))\n",
    "    data.append({brand: brand_dict})"
   ]
  },
  {
   "cell_type": "code",
   "execution_count": 111,
   "id": "9cf58ea2-2db4-405d-b4d0-1d5afc4b55c3",
   "metadata": {},
   "outputs": [
    {
     "data": {
      "text/plain": [
       "[{'pontiac': {'grand prix': ['6', '8']}},\n",
       " {'dodge': {'dakota pickup 4wd': ['6', '8'],\n",
       "   'ram 1500 pickup 4wd': ['8'],\n",
       "   'durango 4wd': ['6', '8'],\n",
       "   'caravan 2wd': ['4', '6']}},\n",
       " {'lincoln': {'navigator 2wd': ['8']}},\n",
       " {'chevrolet': {'corvette': ['8'],\n",
       "   'malibu': ['4', '6'],\n",
       "   'k1500 tahoe 4wd': ['8'],\n",
       "   'c1500 suburban 2wd': ['8']}},\n",
       " {'honda': {'civic': ['4']}},\n",
       " {'jeep': {'grand cherokee 4wd': ['6', '8']}},\n",
       " {'land rover': {'range rover': ['8']}},\n",
       " {'mercury': {'mountaineer 4wd': ['6', '8']}},\n",
       " {'nissan': {'pathfinder 4wd': ['6', '8'],\n",
       "   'altima': ['4', '6'],\n",
       "   'maxima': ['6']}},\n",
       " {'toyota': {'toyota tacoma 4wd': ['4', '6'],\n",
       "   '4runner 4wd': ['4', '6', '8'],\n",
       "   'camry solara': ['4', '6'],\n",
       "   'corolla': ['4'],\n",
       "   'land cruiser wagon 4wd': ['8'],\n",
       "   'camry': ['4', '6']}},\n",
       " {'hyundai': {'sonata': ['4', '6'], 'tiburon': ['4', '6']}},\n",
       " {'audi': {'a6 quattro': ['6', '8'],\n",
       "   'a4 quattro': ['4', '6'],\n",
       "   'a4': ['4', '6']}},\n",
       " {'ford': {'f150 pickup 4wd': ['6', '8'],\n",
       "   'expedition 2wd': ['8'],\n",
       "   'mustang': ['6', '8'],\n",
       "   'explorer 4wd': ['6', '8']}},\n",
       " {'subaru': {'impreza awd': ['4'], 'forester awd': ['4']}},\n",
       " {'volkswagen': {'gti': ['4', '6'],\n",
       "   'jetta': ['4', '5', '6'],\n",
       "   'passat': ['4', '6'],\n",
       "   'new beetle': ['4', '5']}}]"
      ]
     },
     "execution_count": 111,
     "metadata": {},
     "output_type": "execute_result"
    }
   ],
   "source": [
    "data"
   ]
  },
  {
   "cell_type": "code",
   "execution_count": null,
   "id": "9f2dddff-d55c-437b-aab7-3e4c380b0d15",
   "metadata": {},
   "outputs": [],
   "source": []
  }
 ],
 "metadata": {
  "kernelspec": {
   "display_name": "Python 3 (ipykernel)",
   "language": "python",
   "name": "python3"
  },
  "language_info": {
   "codemirror_mode": {
    "name": "ipython",
    "version": 3
   },
   "file_extension": ".py",
   "mimetype": "text/x-python",
   "name": "python",
   "nbconvert_exporter": "python",
   "pygments_lexer": "ipython3",
   "version": "3.11.1"
  }
 },
 "nbformat": 4,
 "nbformat_minor": 5
}
