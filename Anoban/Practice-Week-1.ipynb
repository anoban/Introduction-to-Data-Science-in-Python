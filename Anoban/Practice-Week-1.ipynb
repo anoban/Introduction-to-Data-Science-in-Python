{
 "cells": [
  {
   "cell_type": "code",
   "execution_count": 60,
   "id": "2c202b88-041c-4095-8fd4-6874d1d1fae8",
   "metadata": {},
   "outputs": [],
   "source": [
    "import numpy as np\n",
    "from csv import DictReader"
   ]
  },
  {
   "cell_type": "code",
   "execution_count": 18,
   "id": "4447b034-15cc-4919-883b-6a4263ca77fa",
   "metadata": {},
   "outputs": [],
   "source": [
    "def factorial(n: int):\n",
    "    \"\"\"\n",
    "    Raturns the factorial of the provided number.\n",
    "    \"\"\"\n",
    "    assert(n >= 1)\n",
    "    result = 1\n",
    "    for i in range(n, 1, -1):\n",
    "        result *= i\n",
    "    return result"
   ]
  },
  {
   "cell_type": "code",
   "execution_count": 24,
   "id": "0e72432f-0b47-4974-bb4e-879a1d17849a",
   "metadata": {},
   "outputs": [],
   "source": [
    "for i in range(1, 100):\n",
    "    assert(factorial(i) == np.math.factorial(i))"
   ]
  },
  {
   "cell_type": "code",
   "execution_count": 29,
   "id": "ec9a94e6-044c-4c0c-ab93-2b1c31260808",
   "metadata": {},
   "outputs": [
    {
     "data": {
      "text/plain": [
       "['James', 'Julie', 'Natalie', 'James', 'Julie', 'Natalie']"
      ]
     },
     "execution_count": 29,
     "metadata": {},
     "output_type": "execute_result"
    }
   ],
   "source": [
    "[\"James\", \"Julie\", \"Natalie\"] * 2"
   ]
  },
  {
   "cell_type": "code",
   "execution_count": 30,
   "id": "2e6eb2bd-0c06-47ed-87fc-5b97870ebc7e",
   "metadata": {},
   "outputs": [],
   "source": [
    "course = \"Introduction to Data Science in Python\""
   ]
  },
  {
   "cell_type": "code",
   "execution_count": 35,
   "id": "1cd0ca8f-3dac-465c-9b65-49824480dd81",
   "metadata": {},
   "outputs": [
    {
     "data": {
      "text/plain": [
       "'on to Data Science in Python'"
      ]
     },
     "execution_count": 35,
     "metadata": {},
     "output_type": "execute_result"
    }
   ],
   "source": [
    "course[10:]"
   ]
  },
  {
   "cell_type": "code",
   "execution_count": 36,
   "id": "aface1f1-b363-41ca-badc-2c6301db6d2a",
   "metadata": {},
   "outputs": [
    {
     "data": {
      "text/plain": [
       "'Ido  nnh'"
      ]
     },
     "execution_count": 36,
     "metadata": {},
     "output_type": "execute_result"
    }
   ],
   "source": [
    "course[::5]"
   ]
  },
  {
   "cell_type": "code",
   "execution_count": 38,
   "id": "04fe2878-6711-40d1-a96b-1fe9f6c2f2c4",
   "metadata": {},
   "outputs": [
    {
     "data": {
      "text/plain": [
       "'nohtyP ni ecneicS ataD ot noitcudortnI'"
      ]
     },
     "execution_count": 38,
     "metadata": {},
     "output_type": "execute_result"
    }
   ],
   "source": [
    "course[::-1]"
   ]
  },
  {
   "cell_type": "code",
   "execution_count": 40,
   "id": "cdd01149-4bee-458b-9bce-fba5ce9cce17",
   "metadata": {},
   "outputs": [
    {
     "data": {
      "text/plain": [
       "'Introduction to Data Science in Python'"
      ]
     },
     "execution_count": 40,
     "metadata": {},
     "output_type": "execute_result"
    }
   ],
   "source": [
    "course[::1]"
   ]
  },
  {
   "cell_type": "code",
   "execution_count": 41,
   "id": "06d5041e-847c-416b-83ec-5d99a4eed923",
   "metadata": {},
   "outputs": [
    {
     "data": {
      "text/plain": [
       "'INTRODUCTION TO DATA SCIENCE IN PYTHON'"
      ]
     },
     "execution_count": 41,
     "metadata": {},
     "output_type": "execute_result"
    }
   ],
   "source": [
    "course.upper()"
   ]
  },
  {
   "cell_type": "code",
   "execution_count": 42,
   "id": "e71e87a7-336a-4ae5-87c3-300915290174",
   "metadata": {},
   "outputs": [
    {
     "data": {
      "text/plain": [
       "'Introduction To Data Science In Python'"
      ]
     },
     "execution_count": 42,
     "metadata": {},
     "output_type": "execute_result"
    }
   ],
   "source": [
    "course.title()"
   ]
  },
  {
   "cell_type": "code",
   "execution_count": 43,
   "id": "015b3266-22c7-4abc-a3f6-29745dd63094",
   "metadata": {},
   "outputs": [
    {
     "data": {
      "text/plain": [
       "'introduction to data science in python'"
      ]
     },
     "execution_count": 43,
     "metadata": {},
     "output_type": "execute_result"
    }
   ],
   "source": [
    "course.lower()"
   ]
  },
  {
   "cell_type": "code",
   "execution_count": 44,
   "id": "e4f59dfb-9111-476f-b051-95656197a78d",
   "metadata": {},
   "outputs": [
    {
     "data": {
      "text/plain": [
       "'Introduction to Data Science in Python'"
      ]
     },
     "execution_count": 44,
     "metadata": {},
     "output_type": "execute_result"
    }
   ],
   "source": [
    "course.strip()"
   ]
  },
  {
   "cell_type": "code",
   "execution_count": 45,
   "id": "9a4e1879-2fed-44d3-8e05-e64b2a2240fe",
   "metadata": {},
   "outputs": [
    {
     "data": {
      "text/plain": [
       "'Introduction-to-Data-Science-in-Python'"
      ]
     },
     "execution_count": 45,
     "metadata": {},
     "output_type": "execute_result"
    }
   ],
   "source": [
    "course.replace(\" \", \"-\")"
   ]
  },
  {
   "cell_type": "code",
   "execution_count": 46,
   "id": "b593e556-32ec-4755-8f9c-74888f430ecb",
   "metadata": {},
   "outputs": [],
   "source": [
    "count_chars = dict()\n",
    "\n",
    "for char in course:\n",
    "    if char not in count_chars.keys():\n",
    "        count_chars[char] = 1\n",
    "    else:\n",
    "        count_chars[char] += 1"
   ]
  },
  {
   "cell_type": "code",
   "execution_count": 51,
   "id": "0260b1b4-ff61-4a66-b06d-dbf1fe9dd8ae",
   "metadata": {},
   "outputs": [
    {
     "name": "stdout",
     "output_type": "stream",
     "text": [
      "{'I': 1, 'n': 5, 't': 5, 'r': 1, 'o': 4, 'd': 1, 'u': 1, 'c': 3, 'i': 3, ' ': 5, 'D': 1, 'a': 2, 'S': 1, 'e': 2, 'P': 1, 'y': 1, 'h': 1}\n"
     ]
    }
   ],
   "source": [
    "print(count_chars, sep = \", \")"
   ]
  },
  {
   "cell_type": "code",
   "execution_count": 52,
   "id": "490278f7-2f2c-487c-a765-847dbc4bf6ca",
   "metadata": {},
   "outputs": [],
   "source": [
    "names = (\"Julia\", \"Mitchelle\", \"Janice\", \"Leslie\", \"Juanita\", \"Robin\", \"Linda\")"
   ]
  },
  {
   "cell_type": "code",
   "execution_count": 56,
   "id": "c203135e-c04e-44c2-9458-e33e79816145",
   "metadata": {},
   "outputs": [],
   "source": [
    "Julia, Mitchelle, *_ = names"
   ]
  },
  {
   "cell_type": "code",
   "execution_count": 57,
   "id": "f3717968-3abb-49ad-8983-d55bfd840dae",
   "metadata": {},
   "outputs": [
    {
     "data": {
      "text/plain": [
       "('Julia', 'Mitchelle')"
      ]
     },
     "execution_count": 57,
     "metadata": {},
     "output_type": "execute_result"
    }
   ],
   "source": [
    "Julia, Mitchelle"
   ]
  },
  {
   "cell_type": "code",
   "execution_count": 59,
   "id": "fd00ba5b-bc01-4332-bc85-379f0a9efd80",
   "metadata": {},
   "outputs": [
    {
     "data": {
      "text/plain": [
       "['Janice', 'Leslie', 'Juanita', 'Robin', 'Linda']"
      ]
     },
     "execution_count": 59,
     "metadata": {},
     "output_type": "execute_result"
    }
   ],
   "source": [
    "_"
   ]
  },
  {
   "cell_type": "code",
   "execution_count": 66,
   "id": "7181e0ea-54c9-4e55-86e5-f87bd1e84def",
   "metadata": {},
   "outputs": [],
   "source": [
    "with open(r\"D:\\Introduction-to-Data-Science-in-Python\\week-1\\datasets\\mpg.csv\") as file:\n",
    "    mpg = list(DictReader(file))"
   ]
  },
  {
   "cell_type": "code",
   "execution_count": 68,
   "id": "cef12802-616e-4cef-9b62-400e6ce7f259",
   "metadata": {},
   "outputs": [
    {
     "data": {
      "text/plain": [
       "[{'': '1',\n",
       "  'manufacturer': 'audi',\n",
       "  'model': 'a4',\n",
       "  'displ': '1.8',\n",
       "  'year': '1999',\n",
       "  'cyl': '4',\n",
       "  'trans': 'auto(l5)',\n",
       "  'drv': 'f',\n",
       "  'cty': '18',\n",
       "  'hwy': '29',\n",
       "  'fl': 'p',\n",
       "  'class': 'compact'},\n",
       " {'': '2',\n",
       "  'manufacturer': 'audi',\n",
       "  'model': 'a4',\n",
       "  'displ': '1.8',\n",
       "  'year': '1999',\n",
       "  'cyl': '4',\n",
       "  'trans': 'manual(m5)',\n",
       "  'drv': 'f',\n",
       "  'cty': '21',\n",
       "  'hwy': '29',\n",
       "  'fl': 'p',\n",
       "  'class': 'compact'}]"
      ]
     },
     "execution_count": 68,
     "metadata": {},
     "output_type": "execute_result"
    }
   ],
   "source": [
    "mpg[0:2]"
   ]
  },
  {
   "cell_type": "code",
   "execution_count": 69,
   "id": "e1d9a8f5-2996-406d-87ad-f9f904807d28",
   "metadata": {},
   "outputs": [
    {
     "data": {
      "text/plain": [
       "234"
      ]
     },
     "execution_count": 69,
     "metadata": {},
     "output_type": "execute_result"
    }
   ],
   "source": [
    "len(mpg)"
   ]
  },
  {
   "cell_type": "code",
   "execution_count": 82,
   "id": "96dfdd77-e21c-433f-bba7-c361ee2e90df",
   "metadata": {},
   "outputs": [],
   "source": [
    "cities = list(set(int(record.get(\"cty\")) for record in mpg))\n",
    "cities.sort()"
   ]
  },
  {
   "cell_type": "code",
   "execution_count": 83,
   "id": "21e72eb1-a81c-473f-a92d-dfb698dbc2ae",
   "metadata": {},
   "outputs": [
    {
     "data": {
      "text/plain": [
       "[9,\n",
       " 11,\n",
       " 12,\n",
       " 13,\n",
       " 14,\n",
       " 15,\n",
       " 16,\n",
       " 17,\n",
       " 18,\n",
       " 19,\n",
       " 20,\n",
       " 21,\n",
       " 22,\n",
       " 23,\n",
       " 24,\n",
       " 25,\n",
       " 26,\n",
       " 28,\n",
       " 29,\n",
       " 33,\n",
       " 35]"
      ]
     },
     "execution_count": 83,
     "metadata": {},
     "output_type": "execute_result"
    }
   ],
   "source": [
    "cities"
   ]
  },
  {
   "cell_type": "code",
   "execution_count": 85,
   "id": "3e81db3e-5699-4ce4-a6e6-a4640d2ca027",
   "metadata": {},
   "outputs": [],
   "source": [
    "city_wise_mean_displacement = dict()\n",
    "\n",
    "for record in mpg:\n",
    "    if int(record.get(\"cty\")) in city_wise_mean_displacement:\n",
    "        city_wise_mean_displacement[int(record.get(\"cty\"))].append(float(record.get(\"displ\")))\n",
    "    else:\n",
    "        city_wise_mean_displacement[int(record.get(\"cty\"))] = [float(record.get(\"displ\"))]"
   ]
  },
  {
   "cell_type": "code",
   "execution_count": 87,
   "id": "6d50ad44-8ef8-4d1b-90bc-b4c3999e8e97",
   "metadata": {},
   "outputs": [],
   "source": [
    "for city_id in city_wise_mean_displacement.keys():\n",
    "    city_wise_mean_displacement[city_id] = np.mean(city_wise_mean_displacement[city_id])"
   ]
  },
  {
   "cell_type": "code",
   "execution_count": 88,
   "id": "f6007c50-95b4-46a6-9a15-e9456e7cb982",
   "metadata": {},
   "outputs": [
    {
     "data": {
      "text/plain": [
       "{18: 2.815384615384615,\n",
       " 21: 2.1739130434782608,\n",
       " 20: 2.3181818181818183,\n",
       " 16: 3.6789473684210523,\n",
       " 19: 2.565,\n",
       " 15: 3.9708333333333337,\n",
       " 17: 3.14375,\n",
       " 14: 4.557894736842105,\n",
       " 11: 5.15,\n",
       " 13: 4.833333333333333,\n",
       " 12: 5.050000000000001,\n",
       " 22: 2.2,\n",
       " 9: 4.7,\n",
       " 28: 1.7000000000000002,\n",
       " 24: 1.72,\n",
       " 25: 1.7000000000000002,\n",
       " 23: 2.1999999999999997,\n",
       " 26: 1.8,\n",
       " 33: 1.9,\n",
       " 35: 1.9,\n",
       " 29: 1.9}"
      ]
     },
     "execution_count": 88,
     "metadata": {},
     "output_type": "execute_result"
    }
   ],
   "source": [
    "city_wise_mean_displacement"
   ]
  }
 ],
 "metadata": {
  "kernelspec": {
   "display_name": "Python 3 (ipykernel)",
   "language": "python",
   "name": "python3"
  },
  "language_info": {
   "codemirror_mode": {
    "name": "ipython",
    "version": 3
   },
   "file_extension": ".py",
   "mimetype": "text/x-python",
   "name": "python",
   "nbconvert_exporter": "python",
   "pygments_lexer": "ipython3",
   "version": "3.11.1"
  }
 },
 "nbformat": 4,
 "nbformat_minor": 5
}
