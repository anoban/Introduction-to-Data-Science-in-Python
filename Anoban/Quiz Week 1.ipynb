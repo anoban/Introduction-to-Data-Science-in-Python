{
 "cells": [
  {
   "cell_type": "code",
   "execution_count": 6,
   "id": "e355bf7e-97a0-4626-a899-33e1ccb008c2",
   "metadata": {},
   "outputs": [],
   "source": [
    "import re\n",
    "import numpy as np"
   ]
  },
  {
   "cell_type": "code",
   "execution_count": 7,
   "id": "18a10b9a-6fa5-4ff2-ba50-5c841bdcc599",
   "metadata": {},
   "outputs": [
    {
     "data": {
      "text/plain": [
       "['bat', 'bot']"
      ]
     },
     "execution_count": 7,
     "metadata": {},
     "output_type": "execute_result"
    }
   ],
   "source": [
    "string = 'bat, lat, mat, bet, let, met, bit, lit, mit, bot, lot, mot'\n",
    "re.findall('b[ao]t', string)"
   ]
  },
  {
   "cell_type": "markdown",
   "id": "01bd6b4e-7f4c-4c83-b6be-25214e559df9",
   "metadata": {},
   "source": [
    "### ***L2 distance:***\n",
    "\n",
    "# ***$L_{2} = \\sqrt{\\sum^n_{i = 0}{(a_{i} - b_{i})^{2}}}$***"
   ]
  },
  {
   "cell_type": "code",
   "execution_count": 22,
   "id": "1d703eac-7fc4-43b2-953a-53d4b94a4faf",
   "metadata": {},
   "outputs": [],
   "source": [
    "def l2_dist(array_one: np.array, array_two: np.array) -> np.float64:\n",
    "    if len(array_one) != len(array_two):\n",
    "        raise IndexError(\"Incompatible array shapes: Both arrays must be of the same dimension!\\n\\\n",
    "Shape of the first array is {} while that of the second is {}!\".format(array_one.shape, array_two.shape))\n",
    "        return None\n",
    "    else:\n",
    "        return np.sqrt(np.square(array_one - array_two).sum())"
   ]
  },
  {
   "cell_type": "code",
   "execution_count": 23,
   "id": "1a307a07-c33d-48ee-aef0-a32a194be026",
   "metadata": {},
   "outputs": [
    {
     "ename": "IndexError",
     "evalue": "Incompatible array shapes: Both arrays must be of the same dimension!\nShape of the first array is (100,) while that of the second is (11440,)!",
     "output_type": "error",
     "traceback": [
      "\u001b[1;31m---------------------------------------------------------------------------\u001b[0m",
      "\u001b[1;31mIndexError\u001b[0m                                Traceback (most recent call last)",
      "Cell \u001b[1;32mIn[23], line 1\u001b[0m\n\u001b[1;32m----> 1\u001b[0m \u001b[43ml2_dist\u001b[49m\u001b[43m(\u001b[49m\u001b[43mnp\u001b[49m\u001b[38;5;241;43m.\u001b[39;49m\u001b[43marange\u001b[49m\u001b[43m(\u001b[49m\u001b[38;5;241;43m0\u001b[39;49m\u001b[43m,\u001b[49m\u001b[43m \u001b[49m\u001b[38;5;241;43m100\u001b[39;49m\u001b[43m)\u001b[49m\u001b[43m,\u001b[49m\u001b[43m \u001b[49m\u001b[43mnp\u001b[49m\u001b[38;5;241;43m.\u001b[39;49m\u001b[43marange\u001b[49m\u001b[43m(\u001b[49m\u001b[38;5;241;43m1100\u001b[39;49m\u001b[43m,\u001b[49m\u001b[43m \u001b[49m\u001b[38;5;241;43m12540\u001b[39;49m\u001b[43m)\u001b[49m\u001b[43m)\u001b[49m\n",
      "Cell \u001b[1;32mIn[22], line 3\u001b[0m, in \u001b[0;36ml2_dist\u001b[1;34m(array_one, array_two)\u001b[0m\n\u001b[0;32m      1\u001b[0m \u001b[38;5;28;01mdef\u001b[39;00m \u001b[38;5;21ml2_dist\u001b[39m(array_one: np\u001b[38;5;241m.\u001b[39marray, array_two: np\u001b[38;5;241m.\u001b[39marray) \u001b[38;5;241m-\u001b[39m\u001b[38;5;241m>\u001b[39m np\u001b[38;5;241m.\u001b[39mfloat64:\n\u001b[0;32m      2\u001b[0m     \u001b[38;5;28;01mif\u001b[39;00m \u001b[38;5;28mlen\u001b[39m(array_one) \u001b[38;5;241m!=\u001b[39m \u001b[38;5;28mlen\u001b[39m(array_two):\n\u001b[1;32m----> 3\u001b[0m         \u001b[38;5;28;01mraise\u001b[39;00m \u001b[38;5;167;01mIndexError\u001b[39;00m(\u001b[38;5;124m\"\u001b[39m\u001b[38;5;124mIncompatible array shapes: Both arrays must be of the same dimension!\u001b[39m\u001b[38;5;130;01m\\n\u001b[39;00m\u001b[38;5;130;01m\\\u001b[39;00m\n\u001b[0;32m      4\u001b[0m \u001b[38;5;124mShape of the first array is \u001b[39m\u001b[38;5;132;01m{}\u001b[39;00m\u001b[38;5;124m while that of the second is \u001b[39m\u001b[38;5;132;01m{}\u001b[39;00m\u001b[38;5;124m!\u001b[39m\u001b[38;5;124m\"\u001b[39m\u001b[38;5;241m.\u001b[39mformat(array_one\u001b[38;5;241m.\u001b[39mshape, array_two\u001b[38;5;241m.\u001b[39mshape))\n\u001b[0;32m      5\u001b[0m         \u001b[38;5;28;01mreturn\u001b[39;00m \u001b[38;5;28;01mNone\u001b[39;00m\n\u001b[0;32m      6\u001b[0m     \u001b[38;5;28;01melse\u001b[39;00m:\n",
      "\u001b[1;31mIndexError\u001b[0m: Incompatible array shapes: Both arrays must be of the same dimension!\nShape of the first array is (100,) while that of the second is (11440,)!"
     ]
    }
   ],
   "source": [
    "l2_dist(np.arange(0, 100), np.arange(1100, 12540))"
   ]
  },
  {
   "cell_type": "code",
   "execution_count": 25,
   "id": "678269f7-b1ea-4e90-8b4b-350270c34347",
   "metadata": {},
   "outputs": [
    {
     "data": {
      "text/plain": [
       "array([[0., 0., 0., 0., 0., 0., 0., 0., 0., 0.],\n",
       "       [0., 0., 0., 0., 0., 0., 0., 0., 0., 0.]])"
      ]
     },
     "execution_count": 25,
     "metadata": {},
     "output_type": "execute_result"
    }
   ],
   "source": [
    "array = np.zeros([2, 10])\n",
    "array"
   ]
  },
  {
   "cell_type": "code",
   "execution_count": 27,
   "id": "953b8d17-00e6-4a45-adf6-e54b98f7141a",
   "metadata": {},
   "outputs": [
    {
     "data": {
      "text/plain": [
       "array([[0., 0., 0., 0.],\n",
       "       [0., 0., 0., 0.],\n",
       "       [0., 0., 0., 0.],\n",
       "       [0., 0., 0., 0.],\n",
       "       [0., 0., 0., 0.]])"
      ]
     },
     "execution_count": 27,
     "metadata": {},
     "output_type": "execute_result"
    }
   ],
   "source": [
    "array.reshape([5 , 4])"
   ]
  },
  {
   "cell_type": "code",
   "execution_count": 28,
   "id": "98c2a09b-7118-4ec6-8909-6e1c601fdd01",
   "metadata": {},
   "outputs": [
    {
     "data": {
      "text/plain": [
       "array([0., 0., 0., 0., 0., 0., 0., 0., 0., 0., 0., 0., 0., 0., 0., 0., 0.,\n",
       "       0., 0., 0.])"
      ]
     },
     "execution_count": 28,
     "metadata": {},
     "output_type": "execute_result"
    }
   ],
   "source": [
    "np.reshape(array, (10 * 2))"
   ]
  },
  {
   "cell_type": "code",
   "execution_count": 30,
   "id": "3e41a7f0-def3-4d98-ad5e-94b2100da58a",
   "metadata": {},
   "outputs": [
    {
     "data": {
      "text/plain": [
       "array([[0., 0.],\n",
       "       [0., 0.],\n",
       "       [0., 0.],\n",
       "       [0., 0.],\n",
       "       [0., 0.],\n",
       "       [0., 0.],\n",
       "       [0., 0.],\n",
       "       [0., 0.],\n",
       "       [0., 0.],\n",
       "       [0., 0.]])"
      ]
     },
     "execution_count": 30,
     "metadata": {},
     "output_type": "execute_result"
    }
   ],
   "source": [
    "array.T"
   ]
  },
  {
   "cell_type": "code",
   "execution_count": 31,
   "id": "1660e076-c08b-4d90-bb71-29c0ba59193e",
   "metadata": {},
   "outputs": [],
   "source": [
    "np.random.seed(2023 - 1 - 14)"
   ]
  },
  {
   "cell_type": "code",
   "execution_count": 33,
   "id": "e6d00ca0-fba0-4356-806f-118ef80a89ea",
   "metadata": {},
   "outputs": [],
   "source": [
    "a = np.random.rand(20, 20)\n",
    "b = np.random.rand(20, 20)"
   ]
  },
  {
   "cell_type": "code",
   "execution_count": 35,
   "id": "21aff5cb-e681-4b52-a60f-23df338cb041",
   "metadata": {},
   "outputs": [
    {
     "data": {
      "text/plain": [
       "8.413568707395731"
      ]
     },
     "execution_count": 35,
     "metadata": {},
     "output_type": "execute_result"
    }
   ],
   "source": [
    "l2_dist(a, b)"
   ]
  },
  {
   "cell_type": "code",
   "execution_count": 36,
   "id": "561e7311-92e0-4af0-ae05-f223bd564ccc",
   "metadata": {},
   "outputs": [
    {
     "data": {
      "text/plain": [
       "8.413568707395731"
      ]
     },
     "execution_count": 36,
     "metadata": {},
     "output_type": "execute_result"
    }
   ],
   "source": [
    "l2_dist(np.reshape(a, 400), np.reshape(b, 400))"
   ]
  },
  {
   "cell_type": "code",
   "execution_count": 37,
   "id": "7956a389-4f30-4222-8d75-3fa19928058b",
   "metadata": {},
   "outputs": [
    {
     "data": {
      "text/plain": [
       "8.413568707395731"
      ]
     },
     "execution_count": 37,
     "metadata": {},
     "output_type": "execute_result"
    }
   ],
   "source": [
    "l2_dist(a.T, b.T)"
   ]
  },
  {
   "cell_type": "code",
   "execution_count": 38,
   "id": "723385c9-d0ed-41be-bf87-182cdaf9f057",
   "metadata": {},
   "outputs": [
    {
     "data": {
      "text/plain": [
       "159.09332557698798"
      ]
     },
     "execution_count": 38,
     "metadata": {},
     "output_type": "execute_result"
    }
   ],
   "source": [
    "l2_dist(np.reshape(a, (20 * 20)), np.reshape(b, (20 * 20, 1)))"
   ]
  },
  {
   "cell_type": "code",
   "execution_count": 40,
   "id": "ddc00d84-0dac-44c3-b59e-ead87a1df20e",
   "metadata": {},
   "outputs": [],
   "source": [
    "np.reshape(a, (400, 1));"
   ]
  },
  {
   "cell_type": "code",
   "execution_count": 41,
   "id": "ce4d371b-df63-4455-94f9-a1f781929fdf",
   "metadata": {},
   "outputs": [],
   "source": [
    "a1 = np.random.rand(4)\n",
    "a2 = np.random.rand(4, 1)\n",
    "a3 = np.array([[1, 2, 3, 4]])\n",
    "a4 = np.arange(1, 4, 1)\n",
    "a5 = np.linspace(1 ,4, 4)"
   ]
  },
  {
   "cell_type": "code",
   "execution_count": 43,
   "id": "b81035d1-b43f-41f0-86d7-c700ad520941",
   "metadata": {},
   "outputs": [
    {
     "data": {
      "text/plain": [
       "array([0.37216463, 0.60940325, 0.94514346, 0.93314268])"
      ]
     },
     "execution_count": 43,
     "metadata": {},
     "output_type": "execute_result"
    }
   ],
   "source": [
    "a1"
   ]
  },
  {
   "cell_type": "code",
   "execution_count": 44,
   "id": "f54a5b03-bd66-4ee4-ab3e-78bc85ccef43",
   "metadata": {},
   "outputs": [
    {
     "data": {
      "text/plain": [
       "array([[0.23628099],\n",
       "       [0.58587651],\n",
       "       [0.42531531],\n",
       "       [0.8541892 ]])"
      ]
     },
     "execution_count": 44,
     "metadata": {},
     "output_type": "execute_result"
    }
   ],
   "source": [
    "a2"
   ]
  },
  {
   "cell_type": "code",
   "execution_count": 45,
   "id": "1cce3cad-2561-4f0c-9e2b-a69c109da0df",
   "metadata": {},
   "outputs": [
    {
     "data": {
      "text/plain": [
       "(4,)"
      ]
     },
     "execution_count": 45,
     "metadata": {},
     "output_type": "execute_result"
    }
   ],
   "source": [
    "a1.shape "
   ]
  },
  {
   "cell_type": "code",
   "execution_count": 46,
   "id": "cb33a1c0-4597-46a6-8afa-74d574f076ae",
   "metadata": {},
   "outputs": [
    {
     "data": {
      "text/plain": [
       "(4, 1)"
      ]
     },
     "execution_count": 46,
     "metadata": {},
     "output_type": "execute_result"
    }
   ],
   "source": [
    "a2.shape"
   ]
  },
  {
   "cell_type": "code",
   "execution_count": 47,
   "id": "84780f1c-b3a2-4466-b69e-f8ce0d5d474a",
   "metadata": {},
   "outputs": [
    {
     "data": {
      "text/plain": [
       "array([1., 2., 3., 4.])"
      ]
     },
     "execution_count": 47,
     "metadata": {},
     "output_type": "execute_result"
    }
   ],
   "source": [
    "a5"
   ]
  },
  {
   "cell_type": "code",
   "execution_count": 48,
   "id": "9b4007b8-fa48-4b86-bca6-ebf6f35ed1e8",
   "metadata": {},
   "outputs": [
    {
     "name": "stdout",
     "output_type": "stream",
     "text": [
      "[[0 0 1]\n",
      " [1 1 1]]\n"
     ]
    }
   ],
   "source": [
    "old = np.array([[1, 1, 1], [1, 1, 1]])\n",
    "new = old\n",
    "new[0, :2] = 0\n",
    "\n",
    "print(old)"
   ]
  },
  {
   "cell_type": "code",
   "execution_count": 51,
   "id": "75931d69-c2b9-4b7e-8f22-fe113aec9c78",
   "metadata": {},
   "outputs": [
    {
     "data": {
      "text/plain": [
       "['AC']"
      ]
     },
     "execution_count": 51,
     "metadata": {},
     "output_type": "execute_result"
    }
   ],
   "source": [
    "re.findall(\"^AC\", \"ACBBAAACB\")"
   ]
  },
  {
   "cell_type": "code",
   "execution_count": 52,
   "id": "344e9217-3dd6-4058-8112-4ac84661b4fd",
   "metadata": {},
   "outputs": [
    {
     "data": {
      "text/plain": [
       "['A', 'AA', 'AA', 'AA', 'A']"
      ]
     },
     "execution_count": 52,
     "metadata": {},
     "output_type": "execute_result"
    }
   ],
   "source": [
    "s = 'ACAABAACAAAB'\n",
    "re.findall('A{1,2}', s)"
   ]
  },
  {
   "cell_type": "code",
   "execution_count": 53,
   "id": "febab989-ecc3-46f0-9481-fe870b301ff1",
   "metadata": {},
   "outputs": [],
   "source": [
    "text = \"Office of Research Administration: (734) 647-6333 | 4325 North Quad\\\n",
    "Office of Budget and Financial Administration: (734) 647-8044 | 309 Maynard, Suite 205\\\n",
    "Health Informatics Program: (734) 763-2285 | 333 Maynard, Suite 500\\\n",
    "Office of the Dean: (734) 647-3576 | 4322 North Quad\\\n",
    "UMSI Engagement Center: (734) 763-1251 | 777 North University\\\n",
    "Faculty Adminstrative Support Staff: (734) 764-9376 | 4322 North Quad\""
   ]
  },
  {
   "cell_type": "code",
   "execution_count": 54,
   "id": "86687c44-4702-4e34-8ea9-3e8f1e4240c5",
   "metadata": {},
   "outputs": [
    {
     "data": {
      "text/plain": [
       "['(734) 647-6333',\n",
       " '(734) 647-8044',\n",
       " '(734) 763-2285',\n",
       " '(734) 647-3576',\n",
       " '(734) 763-1251',\n",
       " '(734) 764-9376']"
      ]
     },
     "execution_count": 54,
     "metadata": {},
     "output_type": "execute_result"
    }
   ],
   "source": [
    "re.findall(\"[(][0-9]{3}[)]\\s[0-9]{3}-[0-9]{4}\", text)"
   ]
  },
  {
   "cell_type": "code",
   "execution_count": 56,
   "id": "c2ce3209-cd15-42ea-b1a7-adce18ae0c60",
   "metadata": {},
   "outputs": [
    {
     "data": {
      "text/plain": [
       "['(734) 647-6333',\n",
       " '(734) 647-8044',\n",
       " '(734) 763-2285',\n",
       " '(734) 647-3576',\n",
       " '(734) 763-1251',\n",
       " '(734) 764-9376']"
      ]
     },
     "execution_count": 56,
     "metadata": {},
     "output_type": "execute_result"
    }
   ],
   "source": [
    "re.findall(\"[(]\\d{3}[)]\\s\\d{3}-\\d{4}\", text)"
   ]
  },
  {
   "cell_type": "code",
   "execution_count": 67,
   "id": "16857cd9-96d9-4561-96b3-c36468ddac54",
   "metadata": {},
   "outputs": [],
   "source": [
    "text = \"I refer to https://google.com and I never refer https://www.baidu.com if I have to search anything\""
   ]
  },
  {
   "cell_type": "code",
   "execution_count": 68,
   "id": "572a2a57-cc40-4cb8-9b3a-cc50fd245a45",
   "metadata": {},
   "outputs": [
    {
     "data": {
      "text/plain": [
       "['google', 'www']"
      ]
     },
     "execution_count": 68,
     "metadata": {},
     "output_type": "execute_result"
    }
   ],
   "source": [
    "re.findall(\"(?<=https:\\/\\/)([A-Za-z0-9]*)\", text)"
   ]
  },
  {
   "cell_type": "code",
   "execution_count": 69,
   "id": "e6e841de-09e8-4fc6-ad2f-f152be4bc18d",
   "metadata": {},
   "outputs": [
    {
     "data": {
      "text/plain": [
       "['google.com', 'www.baidu.com']"
      ]
     },
     "execution_count": 69,
     "metadata": {},
     "output_type": "execute_result"
    }
   ],
   "source": [
    "re.findall(\"(?<=https:\\/\\/)([A-Za-z0-9.]*)\", text)"
   ]
  },
  {
   "cell_type": "code",
   "execution_count": 70,
   "id": "4f41d4f3-8d82-428e-9e75-0aace43b440e",
   "metadata": {},
   "outputs": [],
   "source": [
    "text=r'''Everyone has the following fundamental freedoms:\n",
    "    (a) freedom of conscience and religion;\n",
    "    (b) freedom of thought, belief, opinion and expression, including freedom of the press and other media of communication;\n",
    "    (c) freedom of peaceful assembly; and\n",
    "    (d) freedom of association.'''"
   ]
  },
  {
   "cell_type": "code",
   "execution_count": 72,
   "id": "28680ecc-0de7-49c1-9148-bd3eaade9a4f",
   "metadata": {},
   "outputs": [],
   "source": [
    "re.findall(\"[a-d]\", text);"
   ]
  },
  {
   "cell_type": "code",
   "execution_count": 73,
   "id": "6a8b1ceb-6440-4cb7-8af3-c96852fdbd17",
   "metadata": {},
   "outputs": [
    {
     "data": {
      "text/plain": [
       "['(a)', '(b)', '(c)', '(d)']"
      ]
     },
     "execution_count": 73,
     "metadata": {},
     "output_type": "execute_result"
    }
   ],
   "source": [
    "re.findall(\"[(][a-d][)]\", text)"
   ]
  },
  {
   "cell_type": "code",
   "execution_count": 74,
   "id": "cc1e2e44-24f5-4b92-afd7-d2fbdd080f6c",
   "metadata": {},
   "outputs": [
    {
     "data": {
      "text/plain": [
       "['(a)', '(b)', '(c)', '(d)']"
      ]
     },
     "execution_count": 74,
     "metadata": {},
     "output_type": "execute_result"
    }
   ],
   "source": [
    "re.findall(\"\\(.\\)\", text)"
   ]
  },
  {
   "cell_type": "code",
   "execution_count": 75,
   "id": "a648e03b-7655-4681-894b-8dca6e6b2d2a",
   "metadata": {},
   "outputs": [
    {
     "data": {
      "text/plain": [
       "[]"
      ]
     },
     "execution_count": 75,
     "metadata": {},
     "output_type": "execute_result"
    }
   ],
   "source": [
    "def names():\n",
    "    simple_string = \"\"\"Amy is 5 years old, and her sister Mary is 2 years old. \n",
    "    Ruth and Peter, their parents, have 3 kids.\"\"\"\n",
    "\n",
    "    # YOUR CODE HERE\n",
    "    return [name for name in simple_string.replace('\"\"\"',\"\").split(\" \") if re.match(\"$[A-Z]\\w+\", name)]\n",
    "\n",
    "names()"
   ]
  },
  {
   "cell_type": "code",
   "execution_count": 76,
   "id": "47534407-7896-414b-baf6-76053b7dba8b",
   "metadata": {},
   "outputs": [],
   "source": [
    "simple_string = \"\"\"Amy is 5 years old, and her sister Mary is 2 years old. Ruth and Peter, their parents, have 3 kids.\"\"\""
   ]
  },
  {
   "cell_type": "code",
   "execution_count": 78,
   "id": "3a2b5d85-005f-47fe-90f9-36ba5498a689",
   "metadata": {},
   "outputs": [
    {
     "data": {
      "text/plain": [
       "['Amy ', 'Mary ', 'Ruth ', 'Peter,']"
      ]
     },
     "execution_count": 78,
     "metadata": {},
     "output_type": "execute_result"
    }
   ],
   "source": [
    "re.findall(\"[A-Z]\\w+[\\s{1}\\,]\", simple_string)"
   ]
  },
  {
   "cell_type": "code",
   "execution_count": 82,
   "id": "5b36af8b-12c2-4709-95ac-942fad746194",
   "metadata": {},
   "outputs": [
    {
     "data": {
      "text/plain": [
       "['Amy', 'Mary', 'Ruth', 'Peter,']"
      ]
     },
     "execution_count": 82,
     "metadata": {},
     "output_type": "execute_result"
    }
   ],
   "source": [
    "[word for word in simple_string.split(\" \") if re.match(\"^[A-Z]\\w+\", word)]"
   ]
  },
  {
   "cell_type": "code",
   "execution_count": 83,
   "id": "e3987f36-a894-4fba-931d-592ee6545635",
   "metadata": {},
   "outputs": [],
   "source": [
    "with open(r\"D:\\Introduction-to-Data-Science-in-Python\\assignment1\\assets\\grades.txt\", \"r\") as file:\n",
    "    grades = file.read()"
   ]
  },
  {
   "cell_type": "code",
   "execution_count": 86,
   "id": "138cc34e-2279-48bc-ba95-234014db9436",
   "metadata": {},
   "outputs": [],
   "source": [
    "grades = grades.split(\"\\n\")"
   ]
  },
  {
   "cell_type": "code",
   "execution_count": 88,
   "id": "5b23f4af-4e45-4c4e-a2aa-c08d7122d7b0",
   "metadata": {},
   "outputs": [
    {
     "data": {
      "text/plain": [
       "['Ronald Mayr: A', 'Bell Kassulke: B', 'Jacqueline Rupp: A ']"
      ]
     },
     "execution_count": 88,
     "metadata": {},
     "output_type": "execute_result"
    }
   ],
   "source": [
    "grades[:3]"
   ]
  },
  {
   "cell_type": "code",
   "execution_count": 100,
   "id": "7653e8c1-bfc9-4d15-a436-0ce12dcb4b59",
   "metadata": {},
   "outputs": [
    {
     "data": {
      "text/plain": [
       "['Bell Kassulke: B',\n",
       " 'Simon Loidl: B ',\n",
       " 'Elias Jovanovic: B ',\n",
       " 'Hakim Botros: B',\n",
       " 'Emilie Lorentsen: B',\n",
       " 'Jake Wood: B',\n",
       " 'Fatemeh Akhtar: B',\n",
       " 'Kim Weston: B',\n",
       " 'Yasmin Dar: B',\n",
       " 'Viswamitra Upandhye: B',\n",
       " 'Killian Kaufman: B',\n",
       " 'Elwood Page: B',\n",
       " 'Elodie Booker: B',\n",
       " 'Adnan Chen: B',\n",
       " 'Hank Spinka: B',\n",
       " 'Hannah Bayer: B']"
      ]
     },
     "execution_count": 100,
     "metadata": {},
     "output_type": "execute_result"
    }
   ],
   "source": [
    "# students who received a B\n",
    "[student for student in grades if re.match(\"^\\w+\\s\\w+:\\sB\", student)]"
   ]
  },
  {
   "cell_type": "code",
   "execution_count": 101,
   "id": "7b414327-7999-406c-a643-820808a41ec9",
   "metadata": {},
   "outputs": [
    {
     "data": {
      "text/plain": [
       "16"
      ]
     },
     "execution_count": 101,
     "metadata": {},
     "output_type": "execute_result"
    }
   ],
   "source": [
    "len([student for student in grades if re.match(\"^\\w+\\s\\w+:\\sB\", student)])"
   ]
  },
  {
   "cell_type": "code",
   "execution_count": 102,
   "id": "ca5b5659-8cc9-4bb0-b04a-dd3b3da53315",
   "metadata": {},
   "outputs": [
    {
     "data": {
      "text/plain": [
       "['Bell Kassulke: B',\n",
       " 'Simon Loidl: B ',\n",
       " 'Elias Jovanovic: B ',\n",
       " 'Hakim Botros: B',\n",
       " 'Emilie Lorentsen: B',\n",
       " 'Jake Wood: B',\n",
       " 'Fatemeh Akhtar: B',\n",
       " 'Kim Weston: B',\n",
       " 'Yasmin Dar: B',\n",
       " 'Viswamitra Upandhye: B',\n",
       " 'Killian Kaufman: B',\n",
       " 'Elwood Page: B',\n",
       " 'Elodie Booker: B',\n",
       " 'Adnan Chen: B',\n",
       " 'Hank Spinka: B',\n",
       " 'Hannah Bayer: B']"
      ]
     },
     "execution_count": 102,
     "metadata": {},
     "output_type": "execute_result"
    }
   ],
   "source": [
    "# 16 is expected\n",
    "\n",
    "[student for student in grades if \": B\" in student]"
   ]
  },
  {
   "cell_type": "code",
   "execution_count": 103,
   "id": "6a04dcd9-bfaa-4288-89f8-8a7a13fed015",
   "metadata": {},
   "outputs": [
    {
     "data": {
      "text/plain": [
       "16"
      ]
     },
     "execution_count": 103,
     "metadata": {},
     "output_type": "execute_result"
    }
   ],
   "source": [
    "len([student for student in grades if \": B\" in student])"
   ]
  },
  {
   "cell_type": "code",
   "execution_count": 104,
   "id": "a1c60c81-0fad-4504-b903-d84e7370e1a4",
   "metadata": {},
   "outputs": [],
   "source": [
    "with open(r\"D:/Introduction-to-Data-Science-in-Python/assignment1/assets/logdata.txt\", \"r\") as file:\n",
    "    logs = file.read()"
   ]
  },
  {
   "cell_type": "code",
   "execution_count": 106,
   "id": "40de2457-cf02-42a8-895b-f646c8fcf3e8",
   "metadata": {},
   "outputs": [
    {
     "data": {
      "text/plain": [
       "['146.204.224.152 - feest6811 [21/Jun/2019:15:45:24 -0700] \"POST /incentivize HTTP/1.1\" 302 4622',\n",
       " '197.109.77.178 - kertzmann3129 [21/Jun/2019:15:45:25 -0700] \"DELETE /virtual/solutions/target/web+services HTTP/2.0\" 203 26554',\n",
       " '156.127.178.177 - okuneva5222 [21/Jun/2019:15:45:27 -0700] \"DELETE /interactive/transparent/niches/revolutionize HTTP/1.1\" 416 14701',\n",
       " '100.32.205.59 - ortiz8891 [21/Jun/2019:15:45:28 -0700] \"PATCH /architectures HTTP/1.0\" 204 6048',\n",
       " '168.95.156.240 - stark2413 [21/Jun/2019:15:45:31 -0700] \"GET /engage HTTP/2.0\" 201 9645']"
      ]
     },
     "execution_count": 106,
     "metadata": {},
     "output_type": "execute_result"
    }
   ],
   "source": [
    "logs = logs.split(\"\\n\")\n",
    "logs[:5]"
   ]
  },
  {
   "cell_type": "code",
   "execution_count": 135,
   "id": "35c41c86-5d60-4a83-9787-590278bcca64",
   "metadata": {},
   "outputs": [
    {
     "data": {
      "text/plain": [
       "980"
      ]
     },
     "execution_count": 135,
     "metadata": {},
     "output_type": "execute_result"
    }
   ],
   "source": [
    "len(logs)"
   ]
  },
  {
   "cell_type": "markdown",
   "id": "0616c1ef-e7e4-43e6-89f7-3e1495d20360",
   "metadata": {},
   "source": [
    "#### ***Template***\n",
    "***{'host': '146.204.224.152',      \n",
    "&emsp;  'user_name': 'feest6811',          \n",
    "&emsp;&emsp;  'time': '21/Jun/2019:15:45:24 -0700',          \n",
    "&emsp;&emsp;&emsp;  'request': 'POST /incentivize HTTP/1.1'}***"
   ]
  },
  {
   "cell_type": "code",
   "execution_count": 138,
   "id": "211aa806-520f-4703-9123-c59cffac2d37",
   "metadata": {},
   "outputs": [
    {
     "data": {
      "text/plain": [
       "'146.204.224.152 - feest6811 [21/Jun/2019:15:45:24 -0700] \"POST /incentivize HTTP/1.1\" 302 4622'"
      ]
     },
     "execution_count": 138,
     "metadata": {},
     "output_type": "execute_result"
    }
   ],
   "source": [
    "logs[0]"
   ]
  },
  {
   "cell_type": "code",
   "execution_count": 139,
   "id": "f84100a6-99a1-44ba-9140-cb6857621b49",
   "metadata": {},
   "outputs": [],
   "source": [
    "log = '146.204.224.152 - feest6811 [21/Jun/2019:15:45:24 -0700] \"POST /incentivize HTTP/1.1\" 302 4622'"
   ]
  },
  {
   "cell_type": "code",
   "execution_count": 147,
   "id": "3d550589-cd95-4bd8-9c4f-956cdb8c9759",
   "metadata": {},
   "outputs": [
    {
     "data": {
      "text/plain": [
       "'146.204.224.152'"
      ]
     },
     "execution_count": 147,
     "metadata": {},
     "output_type": "execute_result"
    }
   ],
   "source": [
    "ip_reg = \"\\d{3}\\.\\d+\\.\\d+\\.\\d+[^\\s]\"\n",
    "re.findall(ip_reg, log)[0]"
   ]
  },
  {
   "cell_type": "code",
   "execution_count": 146,
   "id": "aef0dbe3-3962-4ff1-bcb8-26d18c1617af",
   "metadata": {},
   "outputs": [
    {
     "data": {
      "text/plain": [
       "'feest6811'"
      ]
     },
     "execution_count": 146,
     "metadata": {},
     "output_type": "execute_result"
    }
   ],
   "source": [
    "user_reg = \"-\\s[a-zA-Z0-9]+\\s\"\n",
    "re.findall(user_reg, log)[0].replace(\" \", \"\").replace(\"-\", \"\")"
   ]
  },
  {
   "cell_type": "code",
   "execution_count": 167,
   "id": "3349dcc1-88b6-418a-811f-2e2adc1c1189",
   "metadata": {},
   "outputs": [
    {
     "data": {
      "text/plain": [
       "'21/Jun/2019:15:45:24 -0700'"
      ]
     },
     "execution_count": 167,
     "metadata": {},
     "output_type": "execute_result"
    }
   ],
   "source": [
    "#             [21  /Jun         /2019  :15    :45    :24     -0700]\n",
    "time_reg = \"\\d{2}\\/[a-zA-Z]{3}\\/\\d{4}\\:\\d{2}\\:\\d{2}\\:\\d{2}\\s-\\d{4}\"\n",
    "re.findall(time_reg, log)[0]"
   ]
  },
  {
   "cell_type": "code",
   "execution_count": null,
   "id": "67ff1497-f224-44dd-a3d9-63488c3a6bb9",
   "metadata": {},
   "outputs": [],
   "source": [
    "request_reg = \"\"\n",
    "re.findall(request_reg, log)"
   ]
  },
  {
   "cell_type": "code",
   "execution_count": 117,
   "id": "f808b546-962a-4045-b1c2-c2c89c258fb8",
   "metadata": {},
   "outputs": [],
   "source": [
    "def serializeLogToDict(log: str) -> dict:\n",
    "    template = dict.fromkeys([\"host\", \"user_name\", \"time\", \"request\"])\n",
    "    "
   ]
  },
  {
   "cell_type": "code",
   "execution_count": null,
   "id": "94ef7e8a-67ef-4b7d-8c48-ee8c05726262",
   "metadata": {},
   "outputs": [],
   "source": []
  },
  {
   "cell_type": "code",
   "execution_count": null,
   "id": "24fab5d0-f870-4463-8235-ec51999c2b58",
   "metadata": {},
   "outputs": [],
   "source": []
  }
 ],
 "metadata": {
  "kernelspec": {
   "display_name": "Python 3 (ipykernel)",
   "language": "python",
   "name": "python3"
  },
  "language_info": {
   "codemirror_mode": {
    "name": "ipython",
    "version": 3
   },
   "file_extension": ".py",
   "mimetype": "text/x-python",
   "name": "python",
   "nbconvert_exporter": "python",
   "pygments_lexer": "ipython3",
   "version": "3.11.1"
  }
 },
 "nbformat": 4,
 "nbformat_minor": 5
}
