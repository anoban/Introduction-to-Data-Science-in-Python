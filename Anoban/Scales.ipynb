{
 "cells": [
  {
   "cell_type": "code",
   "execution_count": 6,
   "id": "22c91c79-768b-4790-95f1-b00601cd10db",
   "metadata": {
    "execution": {
     "iopub.execute_input": "2023-01-27T10:57:54.195123Z",
     "iopub.status.busy": "2023-01-27T10:57:54.195123Z",
     "iopub.status.idle": "2023-01-27T10:57:54.211496Z",
     "shell.execute_reply": "2023-01-27T10:57:54.211496Z",
     "shell.execute_reply.started": "2023-01-27T10:57:54.195123Z"
    },
    "tags": []
   },
   "outputs": [],
   "source": [
    "import pandas as pd\n",
    "import numpy as np\n",
    "import random\n",
    "from string import ascii_uppercase"
   ]
  },
  {
   "cell_type": "markdown",
   "id": "7c5f1771-a434-495c-9a76-88146614a305",
   "metadata": {},
   "source": [
    "## ***Scales of Data***\n",
    "\n",
    "***There are different scales invloved in categorical data:***        \n",
    "***- Exam grades: Is the differences between different grades identical? i.e `|A+ - A| == |A - A-| == |A- - B+|......`***\n",
    "\n",
    "1. Ratio scale: Measurement units are equally spaced. Mathematical operations are all valid. e.g. weight, height      \n",
    "2. Interval scale: Measurement units are equally spaced but there is not a clear absence of value: a 0 here has a different meaning than simply marking an absence of value. e.g. temperature, compass reads.\n",
    "3. Ordinal scale: Order of values is important where the differences between scales are not uniform. e.g. exam grades A+, A, A- ...........\n",
    "4. nominal scale: Caregorical data where there are only a limited number of elements but their order is of no significance"
   ]
  },
  {
   "cell_type": "code",
   "execution_count": 10,
   "id": "23c506b7-67f9-4c83-ae2f-b92fcef55fa1",
   "metadata": {
    "execution": {
     "iopub.execute_input": "2023-01-27T01:13:15.076700Z",
     "iopub.status.busy": "2023-01-27T01:13:15.076700Z",
     "iopub.status.idle": "2023-01-27T01:13:15.096029Z",
     "shell.execute_reply": "2023-01-27T01:13:15.096029Z",
     "shell.execute_reply.started": "2023-01-27T01:13:15.076700Z"
    },
    "tags": []
   },
   "outputs": [],
   "source": [
    "grades = pd.DataFrame([\"A+\", \"A\", \"A-\", \"B+\", \"B\", \"B-\", \"C+\", \"C\", \"C-\", \"D+\", \"D\"],\n",
    "            index = [\"Best\"] * 3 + [\"Great\"] * 3 + [\"Okay\"] * 3 + [\"Meh\"] * 2,\n",
    "            columns = [\"Grade\"])"
   ]
  },
  {
   "cell_type": "code",
   "execution_count": 12,
   "id": "07f49d81-b5d0-4f07-ae63-3fda311f7e59",
   "metadata": {
    "execution": {
     "iopub.execute_input": "2023-01-27T01:13:23.639111Z",
     "iopub.status.busy": "2023-01-27T01:13:23.639111Z",
     "iopub.status.idle": "2023-01-27T01:13:23.656627Z",
     "shell.execute_reply": "2023-01-27T01:13:23.656627Z",
     "shell.execute_reply.started": "2023-01-27T01:13:23.639111Z"
    },
    "tags": []
   },
   "outputs": [
    {
     "data": {
      "text/html": [
       "<div>\n",
       "<style scoped>\n",
       "    .dataframe tbody tr th:only-of-type {\n",
       "        vertical-align: middle;\n",
       "    }\n",
       "\n",
       "    .dataframe tbody tr th {\n",
       "        vertical-align: top;\n",
       "    }\n",
       "\n",
       "    .dataframe thead th {\n",
       "        text-align: right;\n",
       "    }\n",
       "</style>\n",
       "<table border=\"1\" class=\"dataframe\">\n",
       "  <thead>\n",
       "    <tr style=\"text-align: right;\">\n",
       "      <th></th>\n",
       "      <th>Grade</th>\n",
       "    </tr>\n",
       "  </thead>\n",
       "  <tbody>\n",
       "    <tr>\n",
       "      <th>Best</th>\n",
       "      <td>A+</td>\n",
       "    </tr>\n",
       "    <tr>\n",
       "      <th>Best</th>\n",
       "      <td>A</td>\n",
       "    </tr>\n",
       "    <tr>\n",
       "      <th>Best</th>\n",
       "      <td>A-</td>\n",
       "    </tr>\n",
       "    <tr>\n",
       "      <th>Great</th>\n",
       "      <td>B+</td>\n",
       "    </tr>\n",
       "    <tr>\n",
       "      <th>Great</th>\n",
       "      <td>B</td>\n",
       "    </tr>\n",
       "    <tr>\n",
       "      <th>Great</th>\n",
       "      <td>B-</td>\n",
       "    </tr>\n",
       "    <tr>\n",
       "      <th>Okay</th>\n",
       "      <td>C+</td>\n",
       "    </tr>\n",
       "    <tr>\n",
       "      <th>Okay</th>\n",
       "      <td>C</td>\n",
       "    </tr>\n",
       "    <tr>\n",
       "      <th>Okay</th>\n",
       "      <td>C-</td>\n",
       "    </tr>\n",
       "    <tr>\n",
       "      <th>Meh</th>\n",
       "      <td>D+</td>\n",
       "    </tr>\n",
       "    <tr>\n",
       "      <th>Meh</th>\n",
       "      <td>D</td>\n",
       "    </tr>\n",
       "  </tbody>\n",
       "</table>\n",
       "</div>"
      ],
      "text/plain": [
       "      Grade\n",
       "Best     A+\n",
       "Best      A\n",
       "Best     A-\n",
       "Great    B+\n",
       "Great     B\n",
       "Great    B-\n",
       "Okay     C+\n",
       "Okay      C\n",
       "Okay     C-\n",
       "Meh      D+\n",
       "Meh       D"
      ]
     },
     "execution_count": 12,
     "metadata": {},
     "output_type": "execute_result"
    }
   ],
   "source": [
    "grades"
   ]
  },
  {
   "cell_type": "code",
   "execution_count": 14,
   "id": "d3a5d713-8537-4a1f-9800-dc49520b3351",
   "metadata": {
    "execution": {
     "iopub.execute_input": "2023-01-27T01:14:36.337446Z",
     "iopub.status.busy": "2023-01-27T01:14:36.337446Z",
     "iopub.status.idle": "2023-01-27T01:14:36.347967Z",
     "shell.execute_reply": "2023-01-27T01:14:36.347967Z",
     "shell.execute_reply.started": "2023-01-27T01:14:36.337446Z"
    },
    "tags": []
   },
   "outputs": [
    {
     "data": {
      "text/plain": [
       "Grade    object\n",
       "dtype: object"
      ]
     },
     "execution_count": 14,
     "metadata": {},
     "output_type": "execute_result"
    }
   ],
   "source": [
    "grades.dtypes"
   ]
  },
  {
   "cell_type": "code",
   "execution_count": 17,
   "id": "40b2ff90-b19a-4901-8a92-f4251965b87c",
   "metadata": {
    "execution": {
     "iopub.execute_input": "2023-01-27T01:16:06.121567Z",
     "iopub.status.busy": "2023-01-27T01:16:06.121567Z",
     "iopub.status.idle": "2023-01-27T01:16:06.136172Z",
     "shell.execute_reply": "2023-01-27T01:16:06.136172Z",
     "shell.execute_reply.started": "2023-01-27T01:16:06.121567Z"
    },
    "tags": []
   },
   "outputs": [
    {
     "data": {
      "text/plain": [
       "Best     A+\n",
       "Best      A\n",
       "Best     A-\n",
       "Great    B+\n",
       "Great     B\n",
       "Great    B-\n",
       "Okay     C+\n",
       "Okay      C\n",
       "Okay     C-\n",
       "Meh      D+\n",
       "Meh       D\n",
       "Name: Grade, dtype: category\n",
       "Categories (11, object): ['A', 'A+', 'A-', 'B', ..., 'C+', 'C-', 'D', 'D+']"
      ]
     },
     "execution_count": 17,
     "metadata": {},
     "output_type": "execute_result"
    }
   ],
   "source": [
    "# this call converts the object (string) data type into a categorical series, without an order relations\n",
    "grades.Grade.astype(\"category\")"
   ]
  },
  {
   "cell_type": "code",
   "execution_count": 20,
   "id": "c2876a09-dae6-46a9-8f44-a5b78b09b2b5",
   "metadata": {
    "execution": {
     "iopub.execute_input": "2023-01-27T01:18:47.800456Z",
     "iopub.status.busy": "2023-01-27T01:18:47.800456Z",
     "iopub.status.idle": "2023-01-27T01:18:47.806497Z",
     "shell.execute_reply": "2023-01-27T01:18:47.806497Z",
     "shell.execute_reply.started": "2023-01-27T01:18:47.800456Z"
    },
    "tags": []
   },
   "outputs": [
    {
     "data": {
      "text/plain": [
       "CategoricalDtype(categories=['D', 'D+', 'C-', 'C', 'C+', 'B-', 'B', 'B+', 'A-', 'A',\n",
       "                  'A+'],\n",
       ", ordered=True)"
      ]
     },
     "execution_count": 20,
     "metadata": {},
     "output_type": "execute_result"
    }
   ],
   "source": [
    "# to introduce ordering in a categirical series\n",
    "\n",
    "ordered_cat = pd.CategoricalDtype(categories = reversed([\"A+\", \"A\", \"A-\", \"B+\", \"B\", \"B-\", \"C+\", \"C\", \"C-\", \"D+\", \"D\"]), ordered = True)\n",
    "ordered_cat"
   ]
  },
  {
   "cell_type": "code",
   "execution_count": 39,
   "id": "ff4fa1a9-7749-422a-b8eb-262b2a7f9509",
   "metadata": {
    "execution": {
     "iopub.execute_input": "2023-01-27T01:31:10.908213Z",
     "iopub.status.busy": "2023-01-27T01:31:10.892572Z",
     "iopub.status.idle": "2023-01-27T01:31:10.915600Z",
     "shell.execute_reply": "2023-01-27T01:31:10.915600Z",
     "shell.execute_reply.started": "2023-01-27T01:31:10.908213Z"
    },
    "tags": []
   },
   "outputs": [
    {
     "data": {
      "text/plain": [
       "Best     A+\n",
       "Best      A\n",
       "Best     A-\n",
       "Great    B+\n",
       "Great     B\n",
       "Great    B-\n",
       "Okay     C+\n",
       "Okay      C\n",
       "Okay     C-\n",
       "Meh      D+\n",
       "Meh       D\n",
       "Name: Grade, dtype: category\n",
       "Categories (11, object): ['D' < 'D+' < 'C-' < 'C' ... 'B+' < 'A-' < 'A' < 'A+']"
      ]
     },
     "execution_count": 39,
     "metadata": {},
     "output_type": "execute_result"
    }
   ],
   "source": [
    "grades.Grade = grades.Grade.astype(ordered_cat)\n",
    "grades.Grade.astype(ordered_cat)"
   ]
  },
  {
   "cell_type": "code",
   "execution_count": 40,
   "id": "2830f830-3935-4e70-a146-0fc96d6d624d",
   "metadata": {
    "execution": {
     "iopub.execute_input": "2023-01-27T01:31:13.044971Z",
     "iopub.status.busy": "2023-01-27T01:31:13.044971Z",
     "iopub.status.idle": "2023-01-27T01:31:13.060162Z",
     "shell.execute_reply": "2023-01-27T01:31:13.060162Z",
     "shell.execute_reply.started": "2023-01-27T01:31:13.044971Z"
    },
    "tags": []
   },
   "outputs": [
    {
     "data": {
      "text/plain": [
       "CategoricalDtype(categories=['D', 'D+', 'C-', 'C', 'C+', 'B-', 'B', 'B+', 'A-', 'A',\n",
       "                  'A+'],\n",
       ", ordered=True)"
      ]
     },
     "execution_count": 40,
     "metadata": {},
     "output_type": "execute_result"
    }
   ],
   "source": [
    "grades.Grade.dtype"
   ]
  },
  {
   "cell_type": "code",
   "execution_count": 41,
   "id": "bed94eba-bf08-4477-9b2a-150d7d23ef4c",
   "metadata": {
    "execution": {
     "iopub.execute_input": "2023-01-27T01:31:19.169694Z",
     "iopub.status.busy": "2023-01-27T01:31:19.169694Z",
     "iopub.status.idle": "2023-01-27T01:31:19.234411Z",
     "shell.execute_reply": "2023-01-27T01:31:19.234411Z",
     "shell.execute_reply.started": "2023-01-27T01:31:19.169694Z"
    },
    "tags": []
   },
   "outputs": [
    {
     "data": {
      "text/html": [
       "<div>\n",
       "<style scoped>\n",
       "    .dataframe tbody tr th:only-of-type {\n",
       "        vertical-align: middle;\n",
       "    }\n",
       "\n",
       "    .dataframe tbody tr th {\n",
       "        vertical-align: top;\n",
       "    }\n",
       "\n",
       "    .dataframe thead th {\n",
       "        text-align: right;\n",
       "    }\n",
       "</style>\n",
       "<table border=\"1\" class=\"dataframe\">\n",
       "  <thead>\n",
       "    <tr style=\"text-align: right;\">\n",
       "      <th></th>\n",
       "      <th>Grade</th>\n",
       "    </tr>\n",
       "  </thead>\n",
       "  <tbody>\n",
       "    <tr>\n",
       "      <th>Best</th>\n",
       "      <td>A+</td>\n",
       "    </tr>\n",
       "    <tr>\n",
       "      <th>Best</th>\n",
       "      <td>A</td>\n",
       "    </tr>\n",
       "    <tr>\n",
       "      <th>Best</th>\n",
       "      <td>A-</td>\n",
       "    </tr>\n",
       "  </tbody>\n",
       "</table>\n",
       "</div>"
      ],
      "text/plain": [
       "     Grade\n",
       "Best    A+\n",
       "Best     A\n",
       "Best    A-"
      ]
     },
     "execution_count": 41,
     "metadata": {},
     "output_type": "execute_result"
    }
   ],
   "source": [
    "# ordered categorical data can help in boolean masking & comparisons\n",
    "\n",
    "grades.loc[grades.Grade > \"B+\"]"
   ]
  },
  {
   "cell_type": "code",
   "execution_count": 43,
   "id": "9ea18373-8351-45fd-9ef4-ab65417c5690",
   "metadata": {
    "execution": {
     "iopub.execute_input": "2023-01-27T01:31:29.792358Z",
     "iopub.status.busy": "2023-01-27T01:31:29.792358Z",
     "iopub.status.idle": "2023-01-27T01:31:29.813286Z",
     "shell.execute_reply": "2023-01-27T01:31:29.813286Z",
     "shell.execute_reply.started": "2023-01-27T01:31:29.792358Z"
    },
    "tags": []
   },
   "outputs": [
    {
     "data": {
      "text/html": [
       "<div>\n",
       "<style scoped>\n",
       "    .dataframe tbody tr th:only-of-type {\n",
       "        vertical-align: middle;\n",
       "    }\n",
       "\n",
       "    .dataframe tbody tr th {\n",
       "        vertical-align: top;\n",
       "    }\n",
       "\n",
       "    .dataframe thead th {\n",
       "        text-align: right;\n",
       "    }\n",
       "</style>\n",
       "<table border=\"1\" class=\"dataframe\">\n",
       "  <thead>\n",
       "    <tr style=\"text-align: right;\">\n",
       "      <th></th>\n",
       "      <th>Grade</th>\n",
       "    </tr>\n",
       "  </thead>\n",
       "  <tbody>\n",
       "    <tr>\n",
       "      <th>Okay</th>\n",
       "      <td>C+</td>\n",
       "    </tr>\n",
       "    <tr>\n",
       "      <th>Okay</th>\n",
       "      <td>C</td>\n",
       "    </tr>\n",
       "    <tr>\n",
       "      <th>Okay</th>\n",
       "      <td>C-</td>\n",
       "    </tr>\n",
       "    <tr>\n",
       "      <th>Meh</th>\n",
       "      <td>D+</td>\n",
       "    </tr>\n",
       "    <tr>\n",
       "      <th>Meh</th>\n",
       "      <td>D</td>\n",
       "    </tr>\n",
       "  </tbody>\n",
       "</table>\n",
       "</div>"
      ],
      "text/plain": [
       "     Grade\n",
       "Okay    C+\n",
       "Okay     C\n",
       "Okay    C-\n",
       "Meh     D+\n",
       "Meh      D"
      ]
     },
     "execution_count": 43,
     "metadata": {},
     "output_type": "execute_result"
    }
   ],
   "source": [
    "grades.loc[grades.Grade <= \"C+\"]"
   ]
  },
  {
   "cell_type": "code",
   "execution_count": 46,
   "id": "02d890e2-fd7a-477b-8537-54c3fc3858eb",
   "metadata": {
    "execution": {
     "iopub.execute_input": "2023-01-27T01:35:04.878872Z",
     "iopub.status.busy": "2023-01-27T01:35:04.878872Z",
     "iopub.status.idle": "2023-01-27T01:35:04.932289Z",
     "shell.execute_reply": "2023-01-27T01:35:04.932289Z",
     "shell.execute_reply.started": "2023-01-27T01:35:04.878872Z"
    },
    "tags": []
   },
   "outputs": [
    {
     "data": {
      "text/html": [
       "<div>\n",
       "<style scoped>\n",
       "    .dataframe tbody tr th:only-of-type {\n",
       "        vertical-align: middle;\n",
       "    }\n",
       "\n",
       "    .dataframe tbody tr th {\n",
       "        vertical-align: top;\n",
       "    }\n",
       "\n",
       "    .dataframe thead th {\n",
       "        text-align: right;\n",
       "    }\n",
       "</style>\n",
       "<table border=\"1\" class=\"dataframe\">\n",
       "  <thead>\n",
       "    <tr style=\"text-align: right;\">\n",
       "      <th></th>\n",
       "      <th>SUMLEV</th>\n",
       "      <th>REGION</th>\n",
       "      <th>DIVISION</th>\n",
       "      <th>STATE</th>\n",
       "      <th>COUNTY</th>\n",
       "      <th>STNAME</th>\n",
       "      <th>CTYNAME</th>\n",
       "      <th>CENSUS2010POP</th>\n",
       "      <th>ESTIMATESBASE2010</th>\n",
       "      <th>POPESTIMATE2010</th>\n",
       "      <th>...</th>\n",
       "      <th>RDOMESTICMIG2011</th>\n",
       "      <th>RDOMESTICMIG2012</th>\n",
       "      <th>RDOMESTICMIG2013</th>\n",
       "      <th>RDOMESTICMIG2014</th>\n",
       "      <th>RDOMESTICMIG2015</th>\n",
       "      <th>RNETMIG2011</th>\n",
       "      <th>RNETMIG2012</th>\n",
       "      <th>RNETMIG2013</th>\n",
       "      <th>RNETMIG2014</th>\n",
       "      <th>RNETMIG2015</th>\n",
       "    </tr>\n",
       "  </thead>\n",
       "  <tbody>\n",
       "    <tr>\n",
       "      <th>3188</th>\n",
       "      <td>50</td>\n",
       "      <td>4</td>\n",
       "      <td>8</td>\n",
       "      <td>56</td>\n",
       "      <td>37</td>\n",
       "      <td>Wyoming</td>\n",
       "      <td>Sweetwater County</td>\n",
       "      <td>43806</td>\n",
       "      <td>43806</td>\n",
       "      <td>43593</td>\n",
       "      <td>...</td>\n",
       "      <td>1.072643</td>\n",
       "      <td>16.243199</td>\n",
       "      <td>-5.339774</td>\n",
       "      <td>-14.252889</td>\n",
       "      <td>-14.248864</td>\n",
       "      <td>1.255221</td>\n",
       "      <td>16.243199</td>\n",
       "      <td>-5.295460</td>\n",
       "      <td>-14.075283</td>\n",
       "      <td>-14.070195</td>\n",
       "    </tr>\n",
       "    <tr>\n",
       "      <th>3189</th>\n",
       "      <td>50</td>\n",
       "      <td>4</td>\n",
       "      <td>8</td>\n",
       "      <td>56</td>\n",
       "      <td>39</td>\n",
       "      <td>Wyoming</td>\n",
       "      <td>Teton County</td>\n",
       "      <td>21294</td>\n",
       "      <td>21294</td>\n",
       "      <td>21297</td>\n",
       "      <td>...</td>\n",
       "      <td>-1.589565</td>\n",
       "      <td>0.972695</td>\n",
       "      <td>19.525929</td>\n",
       "      <td>14.143021</td>\n",
       "      <td>-0.564849</td>\n",
       "      <td>0.654527</td>\n",
       "      <td>2.408578</td>\n",
       "      <td>21.160658</td>\n",
       "      <td>16.308671</td>\n",
       "      <td>1.520747</td>\n",
       "    </tr>\n",
       "    <tr>\n",
       "      <th>3190</th>\n",
       "      <td>50</td>\n",
       "      <td>4</td>\n",
       "      <td>8</td>\n",
       "      <td>56</td>\n",
       "      <td>41</td>\n",
       "      <td>Wyoming</td>\n",
       "      <td>Uinta County</td>\n",
       "      <td>21118</td>\n",
       "      <td>21118</td>\n",
       "      <td>21102</td>\n",
       "      <td>...</td>\n",
       "      <td>-17.755986</td>\n",
       "      <td>-4.916350</td>\n",
       "      <td>-6.902954</td>\n",
       "      <td>-14.215862</td>\n",
       "      <td>-12.127022</td>\n",
       "      <td>-18.136812</td>\n",
       "      <td>-5.536861</td>\n",
       "      <td>-7.521840</td>\n",
       "      <td>-14.740608</td>\n",
       "      <td>-12.606351</td>\n",
       "    </tr>\n",
       "    <tr>\n",
       "      <th>3191</th>\n",
       "      <td>50</td>\n",
       "      <td>4</td>\n",
       "      <td>8</td>\n",
       "      <td>56</td>\n",
       "      <td>43</td>\n",
       "      <td>Wyoming</td>\n",
       "      <td>Washakie County</td>\n",
       "      <td>8533</td>\n",
       "      <td>8533</td>\n",
       "      <td>8545</td>\n",
       "      <td>...</td>\n",
       "      <td>-11.637475</td>\n",
       "      <td>-0.827815</td>\n",
       "      <td>-2.013502</td>\n",
       "      <td>-17.781491</td>\n",
       "      <td>1.682288</td>\n",
       "      <td>-11.990126</td>\n",
       "      <td>-1.182592</td>\n",
       "      <td>-2.250385</td>\n",
       "      <td>-18.020168</td>\n",
       "      <td>1.441961</td>\n",
       "    </tr>\n",
       "    <tr>\n",
       "      <th>3192</th>\n",
       "      <td>50</td>\n",
       "      <td>4</td>\n",
       "      <td>8</td>\n",
       "      <td>56</td>\n",
       "      <td>45</td>\n",
       "      <td>Wyoming</td>\n",
       "      <td>Weston County</td>\n",
       "      <td>7208</td>\n",
       "      <td>7208</td>\n",
       "      <td>7181</td>\n",
       "      <td>...</td>\n",
       "      <td>-11.752361</td>\n",
       "      <td>-8.040059</td>\n",
       "      <td>12.372583</td>\n",
       "      <td>1.533635</td>\n",
       "      <td>6.935294</td>\n",
       "      <td>-12.032179</td>\n",
       "      <td>-8.040059</td>\n",
       "      <td>12.372583</td>\n",
       "      <td>1.533635</td>\n",
       "      <td>6.935294</td>\n",
       "    </tr>\n",
       "  </tbody>\n",
       "</table>\n",
       "<p>5 rows × 100 columns</p>\n",
       "</div>"
      ],
      "text/plain": [
       "      SUMLEV  REGION  DIVISION  STATE  COUNTY   STNAME            CTYNAME  \\\n",
       "3188      50       4         8     56      37  Wyoming  Sweetwater County   \n",
       "3189      50       4         8     56      39  Wyoming       Teton County   \n",
       "3190      50       4         8     56      41  Wyoming       Uinta County   \n",
       "3191      50       4         8     56      43  Wyoming    Washakie County   \n",
       "3192      50       4         8     56      45  Wyoming      Weston County   \n",
       "\n",
       "      CENSUS2010POP  ESTIMATESBASE2010  POPESTIMATE2010  ...  \\\n",
       "3188          43806              43806            43593  ...   \n",
       "3189          21294              21294            21297  ...   \n",
       "3190          21118              21118            21102  ...   \n",
       "3191           8533               8533             8545  ...   \n",
       "3192           7208               7208             7181  ...   \n",
       "\n",
       "      RDOMESTICMIG2011  RDOMESTICMIG2012  RDOMESTICMIG2013  RDOMESTICMIG2014  \\\n",
       "3188          1.072643         16.243199         -5.339774        -14.252889   \n",
       "3189         -1.589565          0.972695         19.525929         14.143021   \n",
       "3190        -17.755986         -4.916350         -6.902954        -14.215862   \n",
       "3191        -11.637475         -0.827815         -2.013502        -17.781491   \n",
       "3192        -11.752361         -8.040059         12.372583          1.533635   \n",
       "\n",
       "      RDOMESTICMIG2015  RNETMIG2011  RNETMIG2012  RNETMIG2013  RNETMIG2014  \\\n",
       "3188        -14.248864     1.255221    16.243199    -5.295460   -14.075283   \n",
       "3189         -0.564849     0.654527     2.408578    21.160658    16.308671   \n",
       "3190        -12.127022   -18.136812    -5.536861    -7.521840   -14.740608   \n",
       "3191          1.682288   -11.990126    -1.182592    -2.250385   -18.020168   \n",
       "3192          6.935294   -12.032179    -8.040059    12.372583     1.533635   \n",
       "\n",
       "      RNETMIG2015  \n",
       "3188   -14.070195  \n",
       "3189     1.520747  \n",
       "3190   -12.606351  \n",
       "3191     1.441961  \n",
       "3192     6.935294  \n",
       "\n",
       "[5 rows x 100 columns]"
      ]
     },
     "execution_count": 46,
     "metadata": {},
     "output_type": "execute_result"
    }
   ],
   "source": [
    "data = pd.read_csv(r\"D:/Introduction-to-Data-Science-in-Python/week-3/datasets/census.csv\")\n",
    "data.tail()"
   ]
  },
  {
   "cell_type": "code",
   "execution_count": 47,
   "id": "49cd0bb3-0aac-4889-9744-06e00d795cad",
   "metadata": {
    "execution": {
     "iopub.execute_input": "2023-01-27T01:35:06.261448Z",
     "iopub.status.busy": "2023-01-27T01:35:06.261448Z",
     "iopub.status.idle": "2023-01-27T01:35:06.268257Z",
     "shell.execute_reply": "2023-01-27T01:35:06.268257Z",
     "shell.execute_reply.started": "2023-01-27T01:35:06.261448Z"
    },
    "tags": []
   },
   "outputs": [],
   "source": [
    "data = data.loc[data.SUMLEV == 50, :]\n",
    "data.set_index(\"STNAME\", inplace = True)"
   ]
  },
  {
   "cell_type": "code",
   "execution_count": 49,
   "id": "8725cf3d-a017-49f7-9955-06e1c6f0a12b",
   "metadata": {
    "execution": {
     "iopub.execute_input": "2023-01-27T01:36:40.854733Z",
     "iopub.status.busy": "2023-01-27T01:36:40.854733Z",
     "iopub.status.idle": "2023-01-27T01:36:40.875785Z",
     "shell.execute_reply": "2023-01-27T01:36:40.875785Z",
     "shell.execute_reply.started": "2023-01-27T01:36:40.854733Z"
    },
    "tags": []
   },
   "outputs": [
    {
     "data": {
      "text/html": [
       "<div>\n",
       "<style scoped>\n",
       "    .dataframe tbody tr th:only-of-type {\n",
       "        vertical-align: middle;\n",
       "    }\n",
       "\n",
       "    .dataframe tbody tr th {\n",
       "        vertical-align: top;\n",
       "    }\n",
       "\n",
       "    .dataframe thead th {\n",
       "        text-align: right;\n",
       "    }\n",
       "</style>\n",
       "<table border=\"1\" class=\"dataframe\">\n",
       "  <thead>\n",
       "    <tr style=\"text-align: right;\">\n",
       "      <th></th>\n",
       "      <th>CENSUS2010POP</th>\n",
       "    </tr>\n",
       "    <tr>\n",
       "      <th>STNAME</th>\n",
       "      <th></th>\n",
       "    </tr>\n",
       "  </thead>\n",
       "  <tbody>\n",
       "    <tr>\n",
       "      <th>Alabama</th>\n",
       "      <td>71339.343284</td>\n",
       "    </tr>\n",
       "    <tr>\n",
       "      <th>Alaska</th>\n",
       "      <td>24490.724138</td>\n",
       "    </tr>\n",
       "    <tr>\n",
       "      <th>Arizona</th>\n",
       "      <td>426134.466667</td>\n",
       "    </tr>\n",
       "    <tr>\n",
       "      <th>Arkansas</th>\n",
       "      <td>38878.906667</td>\n",
       "    </tr>\n",
       "    <tr>\n",
       "      <th>California</th>\n",
       "      <td>642309.586207</td>\n",
       "    </tr>\n",
       "    <tr>\n",
       "      <th>Colorado</th>\n",
       "      <td>78581.187500</td>\n",
       "    </tr>\n",
       "    <tr>\n",
       "      <th>Connecticut</th>\n",
       "      <td>446762.125000</td>\n",
       "    </tr>\n",
       "    <tr>\n",
       "      <th>Delaware</th>\n",
       "      <td>299311.333333</td>\n",
       "    </tr>\n",
       "    <tr>\n",
       "      <th>District of Columbia</th>\n",
       "      <td>601723.000000</td>\n",
       "    </tr>\n",
       "    <tr>\n",
       "      <th>Florida</th>\n",
       "      <td>280616.567164</td>\n",
       "    </tr>\n",
       "    <tr>\n",
       "      <th>Georgia</th>\n",
       "      <td>60928.635220</td>\n",
       "    </tr>\n",
       "    <tr>\n",
       "      <th>Hawaii</th>\n",
       "      <td>272060.200000</td>\n",
       "    </tr>\n",
       "    <tr>\n",
       "      <th>Idaho</th>\n",
       "      <td>35626.863636</td>\n",
       "    </tr>\n",
       "    <tr>\n",
       "      <th>Illinois</th>\n",
       "      <td>125790.509804</td>\n",
       "    </tr>\n",
       "    <tr>\n",
       "      <th>Indiana</th>\n",
       "      <td>70476.108696</td>\n",
       "    </tr>\n",
       "    <tr>\n",
       "      <th>Iowa</th>\n",
       "      <td>30771.262626</td>\n",
       "    </tr>\n",
       "    <tr>\n",
       "      <th>Kansas</th>\n",
       "      <td>27172.552381</td>\n",
       "    </tr>\n",
       "    <tr>\n",
       "      <th>Kentucky</th>\n",
       "      <td>36161.391667</td>\n",
       "    </tr>\n",
       "    <tr>\n",
       "      <th>Louisiana</th>\n",
       "      <td>70833.937500</td>\n",
       "    </tr>\n",
       "    <tr>\n",
       "      <th>Maine</th>\n",
       "      <td>83022.562500</td>\n",
       "    </tr>\n",
       "    <tr>\n",
       "      <th>Maryland</th>\n",
       "      <td>240564.666667</td>\n",
       "    </tr>\n",
       "    <tr>\n",
       "      <th>Massachusetts</th>\n",
       "      <td>467687.785714</td>\n",
       "    </tr>\n",
       "    <tr>\n",
       "      <th>Michigan</th>\n",
       "      <td>119080.000000</td>\n",
       "    </tr>\n",
       "    <tr>\n",
       "      <th>Minnesota</th>\n",
       "      <td>60964.655172</td>\n",
       "    </tr>\n",
       "    <tr>\n",
       "      <th>Mississippi</th>\n",
       "      <td>36186.548780</td>\n",
       "    </tr>\n",
       "    <tr>\n",
       "      <th>Missouri</th>\n",
       "      <td>52077.626087</td>\n",
       "    </tr>\n",
       "    <tr>\n",
       "      <th>Montana</th>\n",
       "      <td>17668.125000</td>\n",
       "    </tr>\n",
       "    <tr>\n",
       "      <th>Nebraska</th>\n",
       "      <td>19638.075269</td>\n",
       "    </tr>\n",
       "    <tr>\n",
       "      <th>Nevada</th>\n",
       "      <td>158855.941176</td>\n",
       "    </tr>\n",
       "    <tr>\n",
       "      <th>New Hampshire</th>\n",
       "      <td>131647.000000</td>\n",
       "    </tr>\n",
       "    <tr>\n",
       "      <th>New Jersey</th>\n",
       "      <td>418661.619048</td>\n",
       "    </tr>\n",
       "    <tr>\n",
       "      <th>New Mexico</th>\n",
       "      <td>62399.363636</td>\n",
       "    </tr>\n",
       "    <tr>\n",
       "      <th>New York</th>\n",
       "      <td>312550.032258</td>\n",
       "    </tr>\n",
       "    <tr>\n",
       "      <th>North Carolina</th>\n",
       "      <td>95354.830000</td>\n",
       "    </tr>\n",
       "    <tr>\n",
       "      <th>North Dakota</th>\n",
       "      <td>12690.396226</td>\n",
       "    </tr>\n",
       "    <tr>\n",
       "      <th>Ohio</th>\n",
       "      <td>131096.636364</td>\n",
       "    </tr>\n",
       "    <tr>\n",
       "      <th>Oklahoma</th>\n",
       "      <td>48718.844156</td>\n",
       "    </tr>\n",
       "    <tr>\n",
       "      <th>Oregon</th>\n",
       "      <td>106418.722222</td>\n",
       "    </tr>\n",
       "    <tr>\n",
       "      <th>Pennsylvania</th>\n",
       "      <td>189587.746269</td>\n",
       "    </tr>\n",
       "    <tr>\n",
       "      <th>Rhode Island</th>\n",
       "      <td>210513.400000</td>\n",
       "    </tr>\n",
       "    <tr>\n",
       "      <th>South Carolina</th>\n",
       "      <td>100551.391304</td>\n",
       "    </tr>\n",
       "    <tr>\n",
       "      <th>South Dakota</th>\n",
       "      <td>12336.060606</td>\n",
       "    </tr>\n",
       "    <tr>\n",
       "      <th>Tennessee</th>\n",
       "      <td>66801.105263</td>\n",
       "    </tr>\n",
       "    <tr>\n",
       "      <th>Texas</th>\n",
       "      <td>98998.271654</td>\n",
       "    </tr>\n",
       "    <tr>\n",
       "      <th>Utah</th>\n",
       "      <td>95306.379310</td>\n",
       "    </tr>\n",
       "    <tr>\n",
       "      <th>Vermont</th>\n",
       "      <td>44695.785714</td>\n",
       "    </tr>\n",
       "    <tr>\n",
       "      <th>Virginia</th>\n",
       "      <td>60111.293233</td>\n",
       "    </tr>\n",
       "    <tr>\n",
       "      <th>Washington</th>\n",
       "      <td>172424.102564</td>\n",
       "    </tr>\n",
       "    <tr>\n",
       "      <th>West Virginia</th>\n",
       "      <td>33690.800000</td>\n",
       "    </tr>\n",
       "    <tr>\n",
       "      <th>Wisconsin</th>\n",
       "      <td>78985.916667</td>\n",
       "    </tr>\n",
       "    <tr>\n",
       "      <th>Wyoming</th>\n",
       "      <td>24505.478261</td>\n",
       "    </tr>\n",
       "  </tbody>\n",
       "</table>\n",
       "</div>"
      ],
      "text/plain": [
       "                      CENSUS2010POP\n",
       "STNAME                             \n",
       "Alabama                71339.343284\n",
       "Alaska                 24490.724138\n",
       "Arizona               426134.466667\n",
       "Arkansas               38878.906667\n",
       "California            642309.586207\n",
       "Colorado               78581.187500\n",
       "Connecticut           446762.125000\n",
       "Delaware              299311.333333\n",
       "District of Columbia  601723.000000\n",
       "Florida               280616.567164\n",
       "Georgia                60928.635220\n",
       "Hawaii                272060.200000\n",
       "Idaho                  35626.863636\n",
       "Illinois              125790.509804\n",
       "Indiana                70476.108696\n",
       "Iowa                   30771.262626\n",
       "Kansas                 27172.552381\n",
       "Kentucky               36161.391667\n",
       "Louisiana              70833.937500\n",
       "Maine                  83022.562500\n",
       "Maryland              240564.666667\n",
       "Massachusetts         467687.785714\n",
       "Michigan              119080.000000\n",
       "Minnesota              60964.655172\n",
       "Mississippi            36186.548780\n",
       "Missouri               52077.626087\n",
       "Montana                17668.125000\n",
       "Nebraska               19638.075269\n",
       "Nevada                158855.941176\n",
       "New Hampshire         131647.000000\n",
       "New Jersey            418661.619048\n",
       "New Mexico             62399.363636\n",
       "New York              312550.032258\n",
       "North Carolina         95354.830000\n",
       "North Dakota           12690.396226\n",
       "Ohio                  131096.636364\n",
       "Oklahoma               48718.844156\n",
       "Oregon                106418.722222\n",
       "Pennsylvania          189587.746269\n",
       "Rhode Island          210513.400000\n",
       "South Carolina        100551.391304\n",
       "South Dakota           12336.060606\n",
       "Tennessee              66801.105263\n",
       "Texas                  98998.271654\n",
       "Utah                   95306.379310\n",
       "Vermont                44695.785714\n",
       "Virginia               60111.293233\n",
       "Washington            172424.102564\n",
       "West Virginia          33690.800000\n",
       "Wisconsin              78985.916667\n",
       "Wyoming                24505.478261"
      ]
     },
     "execution_count": 49,
     "metadata": {},
     "output_type": "execute_result"
    }
   ],
   "source": [
    "_data = data.groupby(level = 0).agg({\"CENSUS2010POP\": np.mean})\n",
    "_data"
   ]
  },
  {
   "cell_type": "code",
   "execution_count": 51,
   "id": "a877b3ec-2a58-485d-943c-0c00afaefc46",
   "metadata": {
    "execution": {
     "iopub.execute_input": "2023-01-27T01:39:43.013213Z",
     "iopub.status.busy": "2023-01-27T01:39:43.013213Z",
     "iopub.status.idle": "2023-01-27T01:39:43.024072Z",
     "shell.execute_reply": "2023-01-27T01:39:43.024072Z",
     "shell.execute_reply.started": "2023-01-27T01:39:43.013213Z"
    },
    "tags": []
   },
   "outputs": [
    {
     "data": {
      "text/plain": [
       "2"
      ]
     },
     "execution_count": 51,
     "metadata": {},
     "output_type": "execute_result"
    }
   ],
   "source": [
    "_data.ndim"
   ]
  },
  {
   "cell_type": "code",
   "execution_count": 52,
   "id": "938d472c-41fe-4113-a4d4-47e28555d7e1",
   "metadata": {
    "execution": {
     "iopub.execute_input": "2023-01-27T01:40:04.696403Z",
     "iopub.status.busy": "2023-01-27T01:40:04.696403Z",
     "iopub.status.idle": "2023-01-27T01:40:04.715654Z",
     "shell.execute_reply": "2023-01-27T01:40:04.715654Z",
     "shell.execute_reply.started": "2023-01-27T01:40:04.696403Z"
    },
    "tags": []
   },
   "outputs": [
    {
     "data": {
      "text/plain": [
       "STNAME\n",
       "Alabama                   (43834.737, 75333.413]\n",
       "Alaska                    (11706.087, 43834.737]\n",
       "Arizona                 (421818.852, 453317.529]\n",
       "Arkansas                  (11706.087, 43834.737]\n",
       "California               (610810.91, 642309.586]\n",
       "Colorado                 (75333.413, 106832.089]\n",
       "Connecticut             (421818.852, 453317.529]\n",
       "Delaware                (295824.147, 327322.823]\n",
       "District of Columbia     (579312.234, 610810.91]\n",
       "Florida                 (264325.471, 295824.147]\n",
       "Georgia                   (43834.737, 75333.413]\n",
       "Hawaii                  (264325.471, 295824.147]\n",
       "Idaho                     (11706.087, 43834.737]\n",
       "Illinois                (106832.089, 138330.766]\n",
       "Indiana                   (43834.737, 75333.413]\n",
       "Iowa                      (11706.087, 43834.737]\n",
       "Kansas                    (11706.087, 43834.737]\n",
       "Kentucky                  (11706.087, 43834.737]\n",
       "Louisiana                 (43834.737, 75333.413]\n",
       "Maine                    (75333.413, 106832.089]\n",
       "Maryland                (232826.795, 264325.471]\n",
       "Massachusetts           (453317.529, 484816.205]\n",
       "Michigan                (106832.089, 138330.766]\n",
       "Minnesota                 (43834.737, 75333.413]\n",
       "Mississippi               (11706.087, 43834.737]\n",
       "Missouri                  (43834.737, 75333.413]\n",
       "Montana                   (11706.087, 43834.737]\n",
       "Nebraska                  (11706.087, 43834.737]\n",
       "Nevada                  (138330.766, 169829.442]\n",
       "New Hampshire           (106832.089, 138330.766]\n",
       "New Jersey              (390320.176, 421818.852]\n",
       "New Mexico                (43834.737, 75333.413]\n",
       "New York                (295824.147, 327322.823]\n",
       "North Carolina           (75333.413, 106832.089]\n",
       "North Dakota              (11706.087, 43834.737]\n",
       "Ohio                    (106832.089, 138330.766]\n",
       "Oklahoma                  (43834.737, 75333.413]\n",
       "Oregon                   (75333.413, 106832.089]\n",
       "Pennsylvania            (169829.442, 201328.118]\n",
       "Rhode Island            (201328.118, 232826.795]\n",
       "South Carolina           (75333.413, 106832.089]\n",
       "South Dakota              (11706.087, 43834.737]\n",
       "Tennessee                 (43834.737, 75333.413]\n",
       "Texas                    (75333.413, 106832.089]\n",
       "Utah                     (75333.413, 106832.089]\n",
       "Vermont                   (43834.737, 75333.413]\n",
       "Virginia                  (43834.737, 75333.413]\n",
       "Washington              (169829.442, 201328.118]\n",
       "West Virginia             (11706.087, 43834.737]\n",
       "Wisconsin                (75333.413, 106832.089]\n",
       "Wyoming                   (11706.087, 43834.737]\n",
       "Name: CENSUS2010POP, dtype: category\n",
       "Categories (20, interval[float64, right]): [(11706.087, 43834.737] < (43834.737, 75333.413] < (75333.413, 106832.089] < (106832.089, 138330.766] ... (516314.881, 547813.557] < (547813.557, 579312.234] < (579312.234, 610810.91] < (610810.91, 642309.586]]"
      ]
     },
     "execution_count": 52,
     "metadata": {},
     "output_type": "execute_result"
    }
   ],
   "source": [
    "pd.cut(_data.CENSUS2010POP, bins = 20)"
   ]
  },
  {
   "cell_type": "markdown",
   "id": "baf7e9bd-6c66-411c-8b95-a2aae76e1492",
   "metadata": {},
   "source": [
    "### ***pd.cut gives equally spaced data while in certain instances one might prefer to have intervals with same number of elements :(***"
   ]
  },
  {
   "cell_type": "code",
   "execution_count": 4,
   "id": "3db47e72-27fd-42f5-ad55-61ad3bc62503",
   "metadata": {
    "execution": {
     "iopub.execute_input": "2023-01-27T10:57:11.781550Z",
     "iopub.status.busy": "2023-01-27T10:57:11.781550Z",
     "iopub.status.idle": "2023-01-27T10:57:11.792111Z",
     "shell.execute_reply": "2023-01-27T10:57:11.792111Z",
     "shell.execute_reply.started": "2023-01-27T10:57:11.781550Z"
    },
    "tags": []
   },
   "outputs": [
    {
     "data": {
      "text/plain": [
       "CategoricalDtype(categories=['D', 'D+', 'C-', 'C', 'C+', 'B-', 'B', 'B+', 'A-', 'A+',\n",
       "                  'A'],\n",
       ", ordered=True)"
      ]
     },
     "execution_count": 4,
     "metadata": {},
     "output_type": "execute_result"
    }
   ],
   "source": [
    "grades = pd.CategoricalDtype(reversed(\"A,A+,A-,B+,B,B-,C+,C,C-,D+,D\".split(\",\")), ordered = True)\n",
    "grades"
   ]
  },
  {
   "cell_type": "code",
   "execution_count": 7,
   "id": "d9a7732e-c941-4aae-a396-76a51633c144",
   "metadata": {
    "execution": {
     "iopub.execute_input": "2023-01-27T10:58:21.856981Z",
     "iopub.status.busy": "2023-01-27T10:58:21.856981Z",
     "iopub.status.idle": "2023-01-27T10:58:21.869018Z",
     "shell.execute_reply": "2023-01-27T10:58:21.869018Z",
     "shell.execute_reply.started": "2023-01-27T10:58:21.856981Z"
    }
   },
   "outputs": [
    {
     "data": {
      "text/plain": [
       "['A', 'A+', 'A-', 'B+', 'B', 'B-', 'C+', 'C', 'C-', 'D+', 'D']"
      ]
     },
     "execution_count": 7,
     "metadata": {},
     "output_type": "execute_result"
    }
   ],
   "source": [
    "\"A,A+,A-,B+,B,B-,C+,C,C-,D+,D\".split(\",\")"
   ]
  },
  {
   "cell_type": "code",
   "execution_count": 25,
   "id": "92cd33ff-4d83-4665-8053-db0b58894722",
   "metadata": {
    "execution": {
     "iopub.execute_input": "2023-01-27T11:01:13.918447Z",
     "iopub.status.busy": "2023-01-27T11:01:13.918447Z",
     "iopub.status.idle": "2023-01-27T11:01:13.930618Z",
     "shell.execute_reply": "2023-01-27T11:01:13.930618Z",
     "shell.execute_reply.started": "2023-01-27T11:01:13.918447Z"
    },
    "tags": []
   },
   "outputs": [
    {
     "data": {
      "text/plain": [
       "['C+', 'D+', 'D+', 'B', 'B', 'C', 'C-', 'A', 'A', 'C+']"
      ]
     },
     "execution_count": 25,
     "metadata": {},
     "output_type": "execute_result"
    }
   ],
   "source": [
    "rand_grades = [grade for i in range(100) for grade in random.sample(['A', 'A+', 'A-', 'B+', 'B', 'B-', 'C+', 'C', 'C-', 'D+', 'D'], k = 1)]\n",
    "rand_grades[:10]"
   ]
  },
  {
   "cell_type": "code",
   "execution_count": 28,
   "id": "a9a71edb-286b-4619-8159-dd8c37a58206",
   "metadata": {
    "execution": {
     "iopub.execute_input": "2023-01-27T11:02:34.748647Z",
     "iopub.status.busy": "2023-01-27T11:02:34.748647Z",
     "iopub.status.idle": "2023-01-27T11:02:34.756704Z",
     "shell.execute_reply": "2023-01-27T11:02:34.756704Z",
     "shell.execute_reply.started": "2023-01-27T11:02:34.748647Z"
    },
    "tags": []
   },
   "outputs": [],
   "source": [
    "grade_series = pd.Series(rand_grades, dtype = grades)"
   ]
  },
  {
   "cell_type": "code",
   "execution_count": 45,
   "id": "fc940afc-f575-418d-a3cb-f374d1be1914",
   "metadata": {
    "execution": {
     "iopub.execute_input": "2023-01-27T11:06:18.099599Z",
     "iopub.status.busy": "2023-01-27T11:06:18.099599Z",
     "iopub.status.idle": "2023-01-27T11:06:18.109984Z",
     "shell.execute_reply": "2023-01-27T11:06:18.109984Z",
     "shell.execute_reply.started": "2023-01-27T11:06:18.099599Z"
    },
    "tags": []
   },
   "outputs": [
    {
     "data": {
      "text/plain": [
       "7      A\n",
       "8      A\n",
       "13    A+\n",
       "14    A+\n",
       "15     A\n",
       "18     A\n",
       "23     A\n",
       "31    A+\n",
       "41    A+\n",
       "44     A\n",
       "56     A\n",
       "64     A\n",
       "65     A\n",
       "69    A+\n",
       "70    A+\n",
       "74    A+\n",
       "76    A+\n",
       "93    A+\n",
       "dtype: category\n",
       "Categories (11, object): ['D' < 'D+' < 'C-' < 'C' ... 'B+' < 'A-' < 'A+' < 'A']"
      ]
     },
     "execution_count": 45,
     "metadata": {},
     "output_type": "execute_result"
    }
   ],
   "source": [
    "grade_series.loc[grade_series > \"A-\"]"
   ]
  },
  {
   "cell_type": "code",
   "execution_count": null,
   "id": "60dd7e6c-c12f-45fd-855f-143ec47b0827",
   "metadata": {
    "tags": []
   },
   "outputs": [],
   "source": []
  }
 ],
 "metadata": {
  "kernelspec": {
   "display_name": "Python 3 (ipykernel)",
   "language": "python",
   "name": "python3"
  },
  "language_info": {
   "codemirror_mode": {
    "name": "ipython",
    "version": 3
   },
   "file_extension": ".py",
   "mimetype": "text/x-python",
   "name": "python",
   "nbconvert_exporter": "python",
   "pygments_lexer": "ipython3",
   "version": "3.11.1"
  }
 },
 "nbformat": 4,
 "nbformat_minor": 5
}
