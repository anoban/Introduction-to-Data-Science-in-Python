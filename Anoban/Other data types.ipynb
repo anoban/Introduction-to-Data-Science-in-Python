{
 "cells": [
  {
   "cell_type": "markdown",
   "id": "01019f3e-83a3-481a-970a-bb855cc4eb26",
   "metadata": {},
   "source": [
    "# ***Network Data***"
   ]
  },
  {
   "cell_type": "code",
   "execution_count": 1,
   "id": "18e29279-8cbd-40e9-b1b0-e48df192d220",
   "metadata": {
    "execution": {
     "iopub.execute_input": "2023-02-01T12:23:48.616989Z",
     "iopub.status.busy": "2023-02-01T12:23:48.616989Z",
     "iopub.status.idle": "2023-02-01T12:23:48.628310Z",
     "shell.execute_reply": "2023-02-01T12:23:48.628310Z",
     "shell.execute_reply.started": "2023-02-01T12:23:48.616989Z"
    }
   },
   "outputs": [],
   "source": [
    "# Nodes in networks are connected by edges!\n",
    "# Networks are made of nodes (vertices) and are connected by edges\n",
    "# Network is just a representation of a data that can also converted to a tabular form!"
   ]
  },
  {
   "cell_type": "code",
   "execution_count": 2,
   "id": "bd7221a9-d13d-4152-ade6-b49c96cda6ac",
   "metadata": {
    "execution": {
     "iopub.execute_input": "2023-02-01T12:32:34.558737Z",
     "iopub.status.busy": "2023-02-01T12:32:34.558737Z",
     "iopub.status.idle": "2023-02-01T12:32:34.567076Z",
     "shell.execute_reply": "2023-02-01T12:32:34.567076Z",
     "shell.execute_reply.started": "2023-02-01T12:32:34.558737Z"
    }
   },
   "outputs": [],
   "source": [
    "# Networkx is a library dedicated to network analyses\n",
    "# There are several specific types of networks\n",
    "# e.g. Tree nodes\n",
    "# However, the name tree  doesn't strictly reflect a real tree, since these networks have their roots at the top\n",
    "# The nodes are named based on relationships between one another\n",
    "# sibling nodes, parental nodes.. etc"
   ]
  },
  {
   "cell_type": "code",
   "execution_count": null,
   "id": "92c01a34-07f6-47c1-85fb-44fba9e6a1ef",
   "metadata": {},
   "outputs": [],
   "source": [
    "# Trees like graphs & matrices, just provide a degree of abstraction to describe information"
   ]
  }
 ],
 "metadata": {
  "kernelspec": {
   "display_name": "Python 3 (ipykernel)",
   "language": "python",
   "name": "python3"
  },
  "language_info": {
   "codemirror_mode": {
    "name": "ipython",
    "version": 3
   },
   "file_extension": ".py",
   "mimetype": "text/x-python",
   "name": "python",
   "nbconvert_exporter": "python",
   "pygments_lexer": "ipython3",
   "version": "3.11.1"
  }
 },
 "nbformat": 4,
 "nbformat_minor": 5
}
