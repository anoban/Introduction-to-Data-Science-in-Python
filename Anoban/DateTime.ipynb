{
 "cells": [
  {
   "cell_type": "code",
   "execution_count": 1,
   "id": "e4b2b6d7-0997-4c77-9b53-707ddf8285db",
   "metadata": {
    "execution": {
     "iopub.execute_input": "2023-01-28T00:18:58.692178Z",
     "iopub.status.busy": "2023-01-28T00:18:58.692178Z",
     "iopub.status.idle": "2023-01-28T00:19:05.621757Z",
     "shell.execute_reply": "2023-01-28T00:19:05.621757Z",
     "shell.execute_reply.started": "2023-01-28T00:18:58.692178Z"
    },
    "tags": []
   },
   "outputs": [],
   "source": [
    "import pandas as pd\n",
    "import numpy as np\n",
    "from datetime import datetime\n",
    "from string import ascii_uppercase"
   ]
  },
  {
   "cell_type": "code",
   "execution_count": 2,
   "id": "8955c3f3-af9e-49d2-a86b-f6f1678589e1",
   "metadata": {
    "execution": {
     "iopub.execute_input": "2023-01-27T12:17:47.489461Z",
     "iopub.status.busy": "2023-01-27T12:17:47.489461Z",
     "iopub.status.idle": "2023-01-27T12:17:47.495328Z",
     "shell.execute_reply": "2023-01-27T12:17:47.495328Z",
     "shell.execute_reply.started": "2023-01-27T12:17:47.489461Z"
    }
   },
   "outputs": [],
   "source": [
    "# Pandas has 4 main time related classes\n",
    "\n",
    "# TimeStamp\n",
    "# DateTime\n",
    "# Period\n",
    "# PeriodIndex"
   ]
  },
  {
   "cell_type": "markdown",
   "id": "cab9829b-8c01-4b04-a69f-390df0a52a39",
   "metadata": {},
   "source": [
    "## ***Time stamps***\n",
    "------------------"
   ]
  },
  {
   "cell_type": "code",
   "execution_count": 7,
   "id": "37e9d68f-0684-4ca5-b14d-e4152854b4e8",
   "metadata": {
    "execution": {
     "iopub.execute_input": "2023-01-27T12:19:12.950664Z",
     "iopub.status.busy": "2023-01-27T12:19:12.950664Z",
     "iopub.status.idle": "2023-01-27T12:19:12.967372Z",
     "shell.execute_reply": "2023-01-27T12:19:12.967372Z",
     "shell.execute_reply.started": "2023-01-27T12:19:12.950664Z"
    },
    "tags": []
   },
   "outputs": [
    {
     "data": {
      "text/plain": [
       "Timestamp('1999-12-23 12:55:32')"
      ]
     },
     "execution_count": 7,
     "metadata": {},
     "output_type": "execute_result"
    }
   ],
   "source": [
    "pd.Timestamp(\"12-23-1999 12:55:32\")"
   ]
  },
  {
   "cell_type": "code",
   "execution_count": 9,
   "id": "0882600b-e0b3-4d18-ab02-1e7bb79727de",
   "metadata": {
    "execution": {
     "iopub.execute_input": "2023-01-27T12:20:53.696884Z",
     "iopub.status.busy": "2023-01-27T12:20:53.696884Z",
     "iopub.status.idle": "2023-01-27T12:20:53.706259Z",
     "shell.execute_reply": "2023-01-27T12:20:53.706259Z",
     "shell.execute_reply.started": "2023-01-27T12:20:53.696884Z"
    },
    "tags": []
   },
   "outputs": [
    {
     "data": {
      "text/plain": [
       "Timestamp('2010-07-22 15:55:45.000087')"
      ]
     },
     "execution_count": 9,
     "metadata": {},
     "output_type": "execute_result"
    }
   ],
   "source": [
    "pd.Timestamp(year = 2010, month = 7, day = 22, hour = 15, minute = 55, second = 45, microsecond = 87)"
   ]
  },
  {
   "cell_type": "code",
   "execution_count": 11,
   "id": "468c3560-737f-470d-8c67-4cdb58943ab7",
   "metadata": {
    "execution": {
     "iopub.execute_input": "2023-01-27T12:21:22.699168Z",
     "iopub.status.busy": "2023-01-27T12:21:22.699168Z",
     "iopub.status.idle": "2023-01-27T12:21:22.716243Z",
     "shell.execute_reply": "2023-01-27T12:21:22.716243Z",
     "shell.execute_reply.started": "2023-01-27T12:21:22.699168Z"
    },
    "tags": []
   },
   "outputs": [],
   "source": [
    "dob = pd.Timestamp(year = 1997, month = 1, day = 18)"
   ]
  },
  {
   "cell_type": "code",
   "execution_count": 14,
   "id": "eda2af08-6835-4e04-89e1-30fae65acf17",
   "metadata": {
    "execution": {
     "iopub.execute_input": "2023-01-27T12:21:44.680111Z",
     "iopub.status.busy": "2023-01-27T12:21:44.680111Z",
     "iopub.status.idle": "2023-01-27T12:21:44.696186Z",
     "shell.execute_reply": "2023-01-27T12:21:44.696186Z",
     "shell.execute_reply.started": "2023-01-27T12:21:44.680111Z"
    },
    "tags": []
   },
   "outputs": [
    {
     "data": {
      "text/plain": [
       "'Saturday'"
      ]
     },
     "execution_count": 14,
     "metadata": {},
     "output_type": "execute_result"
    }
   ],
   "source": [
    "dob.day_name()"
   ]
  },
  {
   "cell_type": "code",
   "execution_count": 15,
   "id": "92698751-696d-4a7a-aa20-7342a2a844b1",
   "metadata": {
    "execution": {
     "iopub.execute_input": "2023-01-27T12:21:54.000336Z",
     "iopub.status.busy": "2023-01-27T12:21:54.000336Z",
     "iopub.status.idle": "2023-01-27T12:21:54.006727Z",
     "shell.execute_reply": "2023-01-27T12:21:54.006727Z",
     "shell.execute_reply.started": "2023-01-27T12:21:54.000336Z"
    }
   },
   "outputs": [
    {
     "data": {
      "text/plain": [
       "6"
      ]
     },
     "execution_count": 15,
     "metadata": {},
     "output_type": "execute_result"
    }
   ],
   "source": [
    "dob.isoweekday()"
   ]
  },
  {
   "cell_type": "markdown",
   "id": "9463ebce-ed41-4a03-ae39-626932a70481",
   "metadata": {},
   "source": [
    "## ***Periods***\n",
    "------------------"
   ]
  },
  {
   "cell_type": "code",
   "execution_count": 17,
   "id": "026d8152-deb1-4697-9c69-1a4c45ddebbb",
   "metadata": {
    "execution": {
     "iopub.execute_input": "2023-01-27T12:24:03.907449Z",
     "iopub.status.busy": "2023-01-27T12:24:03.907449Z",
     "iopub.status.idle": "2023-01-27T12:24:03.914708Z",
     "shell.execute_reply": "2023-01-27T12:24:03.914708Z",
     "shell.execute_reply.started": "2023-01-27T12:24:03.907449Z"
    },
    "tags": []
   },
   "outputs": [
    {
     "data": {
      "text/plain": [
       "Period('1999-12', 'M')"
      ]
     },
     "execution_count": 17,
     "metadata": {},
     "output_type": "execute_result"
    }
   ],
   "source": [
    "# specifies a month\n",
    "\n",
    "pd.Period(\"12-1999\")"
   ]
  },
  {
   "cell_type": "code",
   "execution_count": 19,
   "id": "73dd422e-7f98-4504-a7b0-f4e290b1accb",
   "metadata": {
    "execution": {
     "iopub.execute_input": "2023-01-27T12:24:33.166410Z",
     "iopub.status.busy": "2023-01-27T12:24:33.166410Z",
     "iopub.status.idle": "2023-01-27T12:24:33.181106Z",
     "shell.execute_reply": "2023-01-27T12:24:33.181106Z",
     "shell.execute_reply.started": "2023-01-27T12:24:33.166410Z"
    },
    "tags": []
   },
   "outputs": [
    {
     "data": {
      "text/plain": [
       "Period('2019-12-11', 'D')"
      ]
     },
     "execution_count": 19,
     "metadata": {},
     "output_type": "execute_result"
    }
   ],
   "source": [
    "# a day\n",
    "\n",
    "pd.Period(\"12-11-2019\")"
   ]
  },
  {
   "cell_type": "code",
   "execution_count": 21,
   "id": "e9efaf56-a050-4b9d-8ad6-05ad52d4fa33",
   "metadata": {
    "execution": {
     "iopub.execute_input": "2023-01-27T12:25:02.324981Z",
     "iopub.status.busy": "2023-01-27T12:25:02.324981Z",
     "iopub.status.idle": "2023-01-27T12:25:02.339204Z",
     "shell.execute_reply": "2023-01-27T12:25:02.339204Z",
     "shell.execute_reply.started": "2023-01-27T12:25:02.324981Z"
    },
    "tags": []
   },
   "outputs": [
    {
     "data": {
      "text/plain": [
       "Period('2020-11-23 12:00', 'H')"
      ]
     },
     "execution_count": 21,
     "metadata": {},
     "output_type": "execute_result"
    }
   ],
   "source": [
    "# hour\n",
    "\n",
    "pd.Period(\"23-11-2020 12\")"
   ]
  },
  {
   "cell_type": "code",
   "execution_count": 27,
   "id": "730344d1-c9b6-4eb7-89d6-bfeb626556d8",
   "metadata": {
    "execution": {
     "iopub.execute_input": "2023-01-27T12:28:27.894861Z",
     "iopub.status.busy": "2023-01-27T12:28:27.894861Z",
     "iopub.status.idle": "2023-01-27T12:28:27.907669Z",
     "shell.execute_reply": "2023-01-27T12:28:27.907669Z",
     "shell.execute_reply.started": "2023-01-27T12:28:27.894861Z"
    },
    "tags": []
   },
   "outputs": [
    {
     "data": {
      "text/plain": [
       "31"
      ]
     },
     "execution_count": 27,
     "metadata": {},
     "output_type": "execute_result"
    }
   ],
   "source": [
    "# period objects represent a timespan, thus enabling arithmetics\n",
    "\n",
    "# pd.Timestamp(\"12-11-2011 14:45:54\")\n",
    "pd.Period(\"12-11-2011\").days_in_month"
   ]
  },
  {
   "cell_type": "code",
   "execution_count": 28,
   "id": "f0d2b729-dbdb-4162-a388-2e458f6fdc1a",
   "metadata": {
    "execution": {
     "iopub.execute_input": "2023-01-27T12:29:18.101329Z",
     "iopub.status.busy": "2023-01-27T12:29:18.101329Z",
     "iopub.status.idle": "2023-01-27T12:29:18.118604Z",
     "shell.execute_reply": "2023-01-27T12:29:18.118604Z",
     "shell.execute_reply.started": "2023-01-27T12:29:18.101329Z"
    }
   },
   "outputs": [],
   "source": [
    "this_jan = pd.Period(\"01-2023\")"
   ]
  },
  {
   "cell_type": "code",
   "execution_count": 32,
   "id": "fed1ea3d-41b4-4e7e-9b3d-50819dda8280",
   "metadata": {
    "execution": {
     "iopub.execute_input": "2023-01-27T12:29:41.983840Z",
     "iopub.status.busy": "2023-01-27T12:29:41.983840Z",
     "iopub.status.idle": "2023-01-27T12:29:41.992447Z",
     "shell.execute_reply": "2023-01-27T12:29:41.992447Z",
     "shell.execute_reply.started": "2023-01-27T12:29:41.983840Z"
    },
    "tags": []
   },
   "outputs": [
    {
     "data": {
      "text/plain": [
       "Period('2023-03', 'M')"
      ]
     },
     "execution_count": 32,
     "metadata": {},
     "output_type": "execute_result"
    }
   ],
   "source": [
    "this_jan + 2"
   ]
  },
  {
   "cell_type": "code",
   "execution_count": 33,
   "id": "c42da956-dcd8-4c78-84ef-343f7ffca5fc",
   "metadata": {
    "execution": {
     "iopub.execute_input": "2023-01-27T12:29:45.959810Z",
     "iopub.status.busy": "2023-01-27T12:29:45.959810Z",
     "iopub.status.idle": "2023-01-27T12:29:45.975092Z",
     "shell.execute_reply": "2023-01-27T12:29:45.975092Z",
     "shell.execute_reply.started": "2023-01-27T12:29:45.959810Z"
    }
   },
   "outputs": [
    {
     "data": {
      "text/plain": [
       "Period('2023-05', 'M')"
      ]
     },
     "execution_count": 33,
     "metadata": {},
     "output_type": "execute_result"
    }
   ],
   "source": [
    "this_jan + 4"
   ]
  },
  {
   "cell_type": "code",
   "execution_count": 35,
   "id": "f061b71a-d589-488b-8cb8-19e80523069c",
   "metadata": {
    "execution": {
     "iopub.execute_input": "2023-01-27T12:30:14.323918Z",
     "iopub.status.busy": "2023-01-27T12:30:14.323918Z",
     "iopub.status.idle": "2023-01-27T12:30:14.329214Z",
     "shell.execute_reply": "2023-01-27T12:30:14.329214Z",
     "shell.execute_reply.started": "2023-01-27T12:30:14.323918Z"
    },
    "tags": []
   },
   "outputs": [
    {
     "data": {
      "text/plain": [
       "Period('2022-05', 'M')"
      ]
     },
     "execution_count": 35,
     "metadata": {},
     "output_type": "execute_result"
    }
   ],
   "source": [
    "this_jan - 8"
   ]
  },
  {
   "cell_type": "markdown",
   "id": "da49e2f0-a4b6-4fd1-adcb-4b31dad0c604",
   "metadata": {},
   "source": [
    "## ***DateTimeIndex & PeriodIndex***"
   ]
  },
  {
   "cell_type": "code",
   "execution_count": 42,
   "id": "a7f6f65b-edfe-44c9-a273-1858c0340efd",
   "metadata": {
    "execution": {
     "iopub.execute_input": "2023-01-27T13:00:51.446255Z",
     "iopub.status.busy": "2023-01-27T13:00:51.446255Z",
     "iopub.status.idle": "2023-01-27T13:00:51.458357Z",
     "shell.execute_reply": "2023-01-27T13:00:51.458357Z",
     "shell.execute_reply.started": "2023-01-27T13:00:51.446255Z"
    },
    "tags": []
   },
   "outputs": [
    {
     "name": "stderr",
     "output_type": "stream",
     "text": [
      "C:\\Users\\Anoban\\AppData\\Local\\Temp\\ipykernel_2096\\2434561228.py:1: UserWarning: Parsing dates in DD/MM/YYYY format when dayfirst=False (the default) was specified. This may lead to inconsistently parsed dates! Specify a format to ensure consistent parsing.\n",
      "  pd.Series([\"12-12-1912\", \"23-Jan-2019\", \"12/23/2018 15:48:56\", \"23.11.2013\"], dtype = \"datetime64[ns]\")\n"
     ]
    },
    {
     "data": {
      "text/plain": [
       "0   1912-12-12 00:00:00\n",
       "1   2019-01-23 00:00:00\n",
       "2   2018-12-23 15:48:56\n",
       "3   2013-11-23 00:00:00\n",
       "dtype: datetime64[ns]"
      ]
     },
     "execution_count": 42,
     "metadata": {},
     "output_type": "execute_result"
    }
   ],
   "source": [
    "pd.Series([\"12-12-1912\", \"23-Jan-2019\", \"12/23/2018 15:48:56\", \"23.11.2013\"], dtype = \"datetime64[ns]\")"
   ]
  },
  {
   "cell_type": "code",
   "execution_count": 16,
   "id": "6d4e5a1c-49ab-498e-a4f9-5c5553152e96",
   "metadata": {
    "execution": {
     "iopub.execute_input": "2023-01-28T00:48:20.602729Z",
     "iopub.status.busy": "2023-01-28T00:48:20.602729Z",
     "iopub.status.idle": "2023-01-28T00:48:20.608747Z",
     "shell.execute_reply": "2023-01-28T00:48:20.608747Z",
     "shell.execute_reply.started": "2023-01-28T00:48:20.602729Z"
    },
    "tags": []
   },
   "outputs": [],
   "source": [
    "idx = list()\n",
    "for day in range(1, 27):\n",
    "    idx.append(pd.Timestamp(year = 1997, month = 1, day = day, hour = 12))\n",
    "\n",
    "_dates = pd.Series(list(ascii_uppercase), index = idx)"
   ]
  },
  {
   "cell_type": "code",
   "execution_count": 17,
   "id": "ca1e6262-a9f2-42ab-bc95-890d87f656e0",
   "metadata": {
    "execution": {
     "iopub.execute_input": "2023-01-28T00:48:28.399492Z",
     "iopub.status.busy": "2023-01-28T00:48:28.399492Z",
     "iopub.status.idle": "2023-01-28T00:48:28.412005Z",
     "shell.execute_reply": "2023-01-28T00:48:28.412005Z",
     "shell.execute_reply.started": "2023-01-28T00:48:28.399492Z"
    }
   },
   "outputs": [
    {
     "data": {
      "text/plain": [
       "1997-01-01 12:00:00    A\n",
       "1997-01-02 12:00:00    B\n",
       "1997-01-03 12:00:00    C\n",
       "dtype: object"
      ]
     },
     "execution_count": 17,
     "metadata": {},
     "output_type": "execute_result"
    }
   ],
   "source": [
    "_dates[:3]"
   ]
  },
  {
   "cell_type": "code",
   "execution_count": 19,
   "id": "eda296ee-d200-446e-bdff-9c6f76f42a0d",
   "metadata": {
    "execution": {
     "iopub.execute_input": "2023-01-28T00:48:42.281771Z",
     "iopub.status.busy": "2023-01-28T00:48:42.281771Z",
     "iopub.status.idle": "2023-01-28T00:48:42.292950Z",
     "shell.execute_reply": "2023-01-28T00:48:42.292950Z",
     "shell.execute_reply.started": "2023-01-28T00:48:42.281771Z"
    },
    "tags": []
   },
   "outputs": [
    {
     "data": {
      "text/plain": [
       "pandas.core.indexes.datetimes.DatetimeIndex"
      ]
     },
     "execution_count": 19,
     "metadata": {},
     "output_type": "execute_result"
    }
   ],
   "source": [
    "type(_dates.index)"
   ]
  },
  {
   "cell_type": "code",
   "execution_count": 13,
   "id": "f44c1269-e102-4d1e-8105-7a9ead9705ea",
   "metadata": {
    "execution": {
     "iopub.execute_input": "2023-01-28T00:37:47.256995Z",
     "iopub.status.busy": "2023-01-28T00:37:47.256995Z",
     "iopub.status.idle": "2023-01-28T00:37:47.271465Z",
     "shell.execute_reply": "2023-01-28T00:37:47.271465Z",
     "shell.execute_reply.started": "2023-01-28T00:37:47.256995Z"
    },
    "tags": []
   },
   "outputs": [
    {
     "data": {
      "text/plain": [
       "[Timestamp('1997-05-01 14:25:00.000050'),\n",
       " Timestamp('1997-05-02 14:26:00.000051'),\n",
       " Timestamp('1997-05-03 14:27:00.000052'),\n",
       " Timestamp('1997-05-04 14:28:00.000053'),\n",
       " Timestamp('1997-05-05 14:29:00.000054'),\n",
       " Timestamp('1997-05-06 14:30:00.000055'),\n",
       " Timestamp('1997-05-07 14:31:00.000056'),\n",
       " Timestamp('1997-05-08 14:32:00.000057'),\n",
       " Timestamp('1997-05-09 14:33:00.000058'),\n",
       " Timestamp('1997-05-10 14:34:00.000059'),\n",
       " Timestamp('1997-05-11 14:35:00.000060'),\n",
       " Timestamp('1997-05-12 14:36:00.000061'),\n",
       " Timestamp('1997-05-13 14:37:00.000062'),\n",
       " Timestamp('1997-05-14 14:38:00.000063'),\n",
       " Timestamp('1997-05-15 14:39:00.000064'),\n",
       " Timestamp('1997-05-16 14:40:00.000065'),\n",
       " Timestamp('1997-05-17 14:41:00.000066'),\n",
       " Timestamp('1997-05-18 14:42:00.000067'),\n",
       " Timestamp('1997-05-19 14:43:00.000068'),\n",
       " Timestamp('1997-05-20 14:44:00.000069'),\n",
       " Timestamp('1997-05-21 14:45:00.000070'),\n",
       " Timestamp('1997-05-22 14:46:00.000071'),\n",
       " Timestamp('1997-05-23 14:47:00.000072'),\n",
       " Timestamp('1997-05-24 14:48:00.000073'),\n",
       " Timestamp('1997-05-25 14:49:00.000074'),\n",
       " Timestamp('1997-05-26 14:50:00.000075')]"
      ]
     },
     "execution_count": 13,
     "metadata": {},
     "output_type": "execute_result"
    }
   ],
   "source": [
    "[pd.Timestamp(year = 1997, month = 5, day = i, hour = 14, minute = i + 24, microsecond = i + 49) for i in range(1, 27)]"
   ]
  },
  {
   "cell_type": "code",
   "execution_count": 4,
   "id": "c869e1a2-ecc2-4e5a-85b7-faf7bb185db5",
   "metadata": {
    "execution": {
     "iopub.execute_input": "2023-01-28T00:19:46.539423Z",
     "iopub.status.busy": "2023-01-28T00:19:46.539423Z",
     "iopub.status.idle": "2023-01-28T00:19:46.545222Z",
     "shell.execute_reply": "2023-01-28T00:19:46.545222Z",
     "shell.execute_reply.started": "2023-01-28T00:19:46.539423Z"
    },
    "tags": []
   },
   "outputs": [
    {
     "data": {
      "text/plain": [
       "Timestamp('1997-01-12 12:00:00')"
      ]
     },
     "execution_count": 4,
     "metadata": {},
     "output_type": "execute_result"
    }
   ],
   "source": [
    "pd.Timestamp(year = 1997, month = 1, day = 12, hour = 12)"
   ]
  },
  {
   "cell_type": "code",
   "execution_count": 7,
   "id": "cc4f139b-c45d-4841-99de-6839771013d1",
   "metadata": {
    "execution": {
     "iopub.execute_input": "2023-01-28T00:22:52.629960Z",
     "iopub.status.busy": "2023-01-28T00:22:52.629960Z",
     "iopub.status.idle": "2023-01-28T00:22:52.643897Z",
     "shell.execute_reply": "2023-01-28T00:22:52.643897Z",
     "shell.execute_reply.started": "2023-01-28T00:22:52.629960Z"
    },
    "tags": []
   },
   "outputs": [
    {
     "name": "stdout",
     "output_type": "stream",
     "text": [
      "2018-06-01 13:11:27\n",
      "2018-06-02 13:12:28\n",
      "2018-06-03 13:13:29\n",
      "2018-06-04 13:14:30\n",
      "2018-06-05 13:15:31\n",
      "2018-06-06 13:16:32\n",
      "2018-06-07 13:17:33\n",
      "2018-06-08 13:18:34\n",
      "2018-06-09 13:19:35\n",
      "2018-06-10 13:20:36\n",
      "2018-06-11 13:21:37\n",
      "2018-06-12 13:22:38\n",
      "2018-06-13 13:23:39\n",
      "2018-06-14 13:24:40\n",
      "2018-06-15 13:25:41\n",
      "2018-06-16 13:26:42\n",
      "2018-06-17 13:27:43\n",
      "2018-06-18 13:28:44\n",
      "2018-06-19 13:29:45\n",
      "2018-06-20 13:30:46\n",
      "2018-06-21 13:31:47\n",
      "2018-06-22 13:32:48\n",
      "2018-06-23 13:33:49\n",
      "2018-06-24 13:34:50\n",
      "2018-06-25 13:35:51\n",
      "2018-06-26 13:36:52\n",
      "2018-06-27 13:37:53\n",
      "2018-06-28 13:38:54\n",
      "2018-06-29 13:39:55\n",
      "2018-06-30 13:40:56\n"
     ]
    }
   ],
   "source": [
    "day = 1\n",
    "dates = list()\n",
    "\n",
    "while (day < 31):\n",
    "    print(pd.Timestamp(year = 2018, month = 6, day = day, hour = 13, minute = 10 + day, second = 26 + day))\n",
    "    dates.append(pd.Timestamp(year = 2018, month = 6, day = day, hour = 13, minute = 10 + day, second = 26 + day))\n",
    "    day += 1"
   ]
  },
  {
   "cell_type": "code",
   "execution_count": 8,
   "id": "12a9f353-f670-4394-86ed-002de050ef6f",
   "metadata": {
    "execution": {
     "iopub.execute_input": "2023-01-28T00:23:00.956121Z",
     "iopub.status.busy": "2023-01-28T00:23:00.956121Z",
     "iopub.status.idle": "2023-01-28T00:23:00.963474Z",
     "shell.execute_reply": "2023-01-28T00:23:00.963474Z",
     "shell.execute_reply.started": "2023-01-28T00:23:00.956121Z"
    }
   },
   "outputs": [
    {
     "data": {
      "text/plain": [
       "[Timestamp('2018-06-01 13:11:27'),\n",
       " Timestamp('2018-06-02 13:12:28'),\n",
       " Timestamp('2018-06-03 13:13:29'),\n",
       " Timestamp('2018-06-04 13:14:30'),\n",
       " Timestamp('2018-06-05 13:15:31'),\n",
       " Timestamp('2018-06-06 13:16:32'),\n",
       " Timestamp('2018-06-07 13:17:33'),\n",
       " Timestamp('2018-06-08 13:18:34'),\n",
       " Timestamp('2018-06-09 13:19:35'),\n",
       " Timestamp('2018-06-10 13:20:36'),\n",
       " Timestamp('2018-06-11 13:21:37'),\n",
       " Timestamp('2018-06-12 13:22:38'),\n",
       " Timestamp('2018-06-13 13:23:39'),\n",
       " Timestamp('2018-06-14 13:24:40'),\n",
       " Timestamp('2018-06-15 13:25:41'),\n",
       " Timestamp('2018-06-16 13:26:42'),\n",
       " Timestamp('2018-06-17 13:27:43'),\n",
       " Timestamp('2018-06-18 13:28:44'),\n",
       " Timestamp('2018-06-19 13:29:45'),\n",
       " Timestamp('2018-06-20 13:30:46'),\n",
       " Timestamp('2018-06-21 13:31:47'),\n",
       " Timestamp('2018-06-22 13:32:48'),\n",
       " Timestamp('2018-06-23 13:33:49'),\n",
       " Timestamp('2018-06-24 13:34:50'),\n",
       " Timestamp('2018-06-25 13:35:51'),\n",
       " Timestamp('2018-06-26 13:36:52'),\n",
       " Timestamp('2018-06-27 13:37:53'),\n",
       " Timestamp('2018-06-28 13:38:54'),\n",
       " Timestamp('2018-06-29 13:39:55'),\n",
       " Timestamp('2018-06-30 13:40:56')]"
      ]
     },
     "execution_count": 8,
     "metadata": {},
     "output_type": "execute_result"
    }
   ],
   "source": [
    "dates"
   ]
  },
  {
   "cell_type": "code",
   "execution_count": 25,
   "id": "ef0b6a05-6905-4a9e-b677-883e6120d340",
   "metadata": {
    "execution": {
     "iopub.execute_input": "2023-01-28T00:53:28.691981Z",
     "iopub.status.busy": "2023-01-28T00:53:28.691981Z",
     "iopub.status.idle": "2023-01-28T00:53:28.704808Z",
     "shell.execute_reply": "2023-01-28T00:53:28.703767Z",
     "shell.execute_reply.started": "2023-01-28T00:53:28.691981Z"
    },
    "tags": []
   },
   "outputs": [
    {
     "name": "stderr",
     "output_type": "stream",
     "text": [
      "C:\\Users\\Anoban\\AppData\\Local\\Temp\\ipykernel_5364\\2989273730.py:1: UserWarning: Parsing dates in DD/MM/YYYY format when dayfirst=False (the default) was specified. This may lead to inconsistently parsed dates! Specify a format to ensure consistent parsing.\n",
      "  pd.Series(list(ascii_uppercase), [pd.Period(str(i) + \"-11-1999\") for i in range(1, 27)])\n"
     ]
    },
    {
     "data": {
      "text/plain": [
       "1999-01-11    A\n",
       "1999-02-11    B\n",
       "1999-03-11    C\n",
       "1999-04-11    D\n",
       "1999-05-11    E\n",
       "1999-06-11    F\n",
       "1999-07-11    G\n",
       "1999-08-11    H\n",
       "1999-09-11    I\n",
       "1999-10-11    J\n",
       "1999-11-11    K\n",
       "1999-12-11    L\n",
       "1999-11-13    M\n",
       "1999-11-14    N\n",
       "1999-11-15    O\n",
       "1999-11-16    P\n",
       "1999-11-17    Q\n",
       "1999-11-18    R\n",
       "1999-11-19    S\n",
       "1999-11-20    T\n",
       "1999-11-21    U\n",
       "1999-11-22    V\n",
       "1999-11-23    W\n",
       "1999-11-24    X\n",
       "1999-11-25    Y\n",
       "1999-11-26    Z\n",
       "Freq: D, dtype: object"
      ]
     },
     "execution_count": 25,
     "metadata": {},
     "output_type": "execute_result"
    }
   ],
   "source": [
    "pd.Series(list(ascii_uppercase), [pd.Period(str(i) + \"-11-1999\") for i in range(1, 27)])"
   ]
  },
  {
   "cell_type": "code",
   "execution_count": 32,
   "id": "921915ae-30d2-4ad4-94c7-943afe6eecb5",
   "metadata": {
    "execution": {
     "iopub.execute_input": "2023-01-28T01:01:40.558676Z",
     "iopub.status.busy": "2023-01-28T01:01:40.558676Z",
     "iopub.status.idle": "2023-01-28T01:01:40.566309Z",
     "shell.execute_reply": "2023-01-28T01:01:40.566309Z",
     "shell.execute_reply.started": "2023-01-28T01:01:40.558676Z"
    },
    "tags": []
   },
   "outputs": [],
   "source": [
    "inconsistently_formatted_dates = [\"12-Aug-1995\", \"30-09-2010\", \"09/18/2020\", \"10.23.2022\", \"2011/11/17\"]"
   ]
  },
  {
   "cell_type": "code",
   "execution_count": 35,
   "id": "a1122e4f-d37c-409a-87c0-8b7a0de245cf",
   "metadata": {
    "execution": {
     "iopub.execute_input": "2023-01-28T01:02:13.094792Z",
     "iopub.status.busy": "2023-01-28T01:02:13.094792Z",
     "iopub.status.idle": "2023-01-28T01:02:13.107825Z",
     "shell.execute_reply": "2023-01-28T01:02:13.107825Z",
     "shell.execute_reply.started": "2023-01-28T01:02:13.094792Z"
    },
    "tags": []
   },
   "outputs": [
    {
     "name": "stderr",
     "output_type": "stream",
     "text": [
      "C:\\Users\\Anoban\\AppData\\Local\\Temp\\ipykernel_5364\\2466852407.py:1: UserWarning: Parsing dates in DD/MM/YYYY format when dayfirst=False (the default) was specified. This may lead to inconsistently parsed dates! Specify a format to ensure consistent parsing.\n",
      "  pd.to_datetime(inconsistently_formatted_dates, dayfirst = False)\n"
     ]
    },
    {
     "data": {
      "text/plain": [
       "DatetimeIndex(['1995-08-12', '2010-09-30', '2020-09-18', '2022-10-23',\n",
       "               '2011-11-17'],\n",
       "              dtype='datetime64[ns]', freq=None)"
      ]
     },
     "execution_count": 35,
     "metadata": {},
     "output_type": "execute_result"
    }
   ],
   "source": [
    "pd.to_datetime(inconsistently_formatted_dates, dayfirst = False)"
   ]
  },
  {
   "cell_type": "markdown",
   "id": "7d03b92e-011f-4de5-8079-861fc58ff1b9",
   "metadata": {},
   "source": [
    "## ***Time Delta***"
   ]
  },
  {
   "cell_type": "code",
   "execution_count": 41,
   "id": "629a843f-35ff-42f0-83a6-6f28c274422e",
   "metadata": {
    "execution": {
     "iopub.execute_input": "2023-01-28T01:09:50.881273Z",
     "iopub.status.busy": "2023-01-28T01:09:50.881273Z",
     "iopub.status.idle": "2023-01-28T01:09:50.893214Z",
     "shell.execute_reply": "2023-01-28T01:09:50.893214Z",
     "shell.execute_reply.started": "2023-01-28T01:09:50.881273Z"
    },
    "tags": []
   },
   "outputs": [],
   "source": [
    "pd.set_option(\"display.date_dayfirst\", True)"
   ]
  },
  {
   "cell_type": "code",
   "execution_count": 42,
   "id": "c51933a6-7352-4c0e-a087-bec0bf1111d4",
   "metadata": {
    "execution": {
     "iopub.execute_input": "2023-01-28T01:09:51.684761Z",
     "iopub.status.busy": "2023-01-28T01:09:51.683254Z",
     "iopub.status.idle": "2023-01-28T01:09:51.691092Z",
     "shell.execute_reply": "2023-01-28T01:09:51.691092Z",
     "shell.execute_reply.started": "2023-01-28T01:09:51.684761Z"
    },
    "tags": []
   },
   "outputs": [
    {
     "name": "stderr",
     "output_type": "stream",
     "text": [
      "C:\\Users\\Anoban\\AppData\\Local\\Temp\\ipykernel_5364\\1162659413.py:1: UserWarning: Parsing dates in DD/MM/YYYY format when dayfirst=False (the default) was specified. This may lead to inconsistently parsed dates! Specify a format to ensure consistent parsing.\n",
      "  pd.Timestamp(\"12-11-2022\") - pd.Timestamp(\"13-10-1987\")\n"
     ]
    },
    {
     "data": {
      "text/plain": [
       "Timedelta('12843 days 00:00:00')"
      ]
     },
     "execution_count": 42,
     "metadata": {},
     "output_type": "execute_result"
    }
   ],
   "source": [
    "pd.Timestamp(\"12-11-2022\") - pd.Timestamp(\"13-10-1987\")"
   ]
  },
  {
   "cell_type": "code",
   "execution_count": 44,
   "id": "7671a3af-2066-4f0d-b978-3ff99d34741f",
   "metadata": {
    "execution": {
     "iopub.execute_input": "2023-01-28T01:10:03.726839Z",
     "iopub.status.busy": "2023-01-28T01:10:03.726839Z",
     "iopub.status.idle": "2023-01-28T01:10:03.739809Z",
     "shell.execute_reply": "2023-01-28T01:10:03.739809Z",
     "shell.execute_reply.started": "2023-01-28T01:10:03.726839Z"
    },
    "tags": []
   },
   "outputs": [
    {
     "name": "stdout",
     "output_type": "stream",
     "text": [
      "compute.use_bottleneck : bool\n",
      "    Use the bottleneck library to accelerate if it is installed,\n",
      "    the default is True\n",
      "    Valid values: False,True\n",
      "    [default: True] [currently: True]\n",
      "compute.use_numba : bool\n",
      "    Use the numba engine option for select operations if it is installed,\n",
      "    the default is False\n",
      "    Valid values: False,True\n",
      "    [default: False] [currently: False]\n",
      "compute.use_numexpr : bool\n",
      "    Use the numexpr library to accelerate computation if it is installed,\n",
      "    the default is True\n",
      "    Valid values: False,True\n",
      "    [default: True] [currently: True]\n",
      "display.chop_threshold : float or None\n",
      "    if set to a float value, all float values smaller than the given threshold\n",
      "    will be displayed as exactly 0 by repr and friends.\n",
      "    [default: None] [currently: None]\n",
      "display.colheader_justify : 'left'/'right'\n",
      "    Controls the justification of column headers. used by DataFrameFormatter.\n",
      "    [default: right] [currently: right]\n",
      "display.column_space No description available.\n",
      "    [default: 12] [currently: 12]\n",
      "display.date_dayfirst : boolean\n",
      "    When True, prints and parses dates with the day first, eg 20/01/2005\n",
      "    [default: False] [currently: True]\n",
      "display.date_yearfirst : boolean\n",
      "    When True, prints and parses dates with the year first, eg 2005/01/20\n",
      "    [default: False] [currently: False]\n",
      "display.encoding : str/unicode\n",
      "    Defaults to the detected encoding of the console.\n",
      "    Specifies the encoding to be used for strings returned by to_string,\n",
      "    these are generally strings meant to be displayed on the console.\n",
      "    [default: UTF-8] [currently: UTF-8]\n",
      "display.expand_frame_repr : boolean\n",
      "    Whether to print out the full DataFrame repr for wide DataFrames across\n",
      "    multiple lines, `max_columns` is still respected, but the output will\n",
      "    wrap-around across multiple \"pages\" if its width exceeds `display.width`.\n",
      "    [default: True] [currently: True]\n",
      "display.float_format : callable\n",
      "    The callable should accept a floating point number and return\n",
      "    a string with the desired format of the number. This is used\n",
      "    in some places like SeriesFormatter.\n",
      "    See formats.format.EngFormatter for an example.\n",
      "    [default: None] [currently: None]\n",
      "display.html.border : int\n",
      "    A ``border=value`` attribute is inserted in the ``<table>`` tag\n",
      "    for the DataFrame HTML repr.\n",
      "    [default: 1] [currently: 1]\n",
      "display.html.table_schema : boolean\n",
      "    Whether to publish a Table Schema representation for frontends\n",
      "    that support it.\n",
      "    (default: False)\n",
      "    [default: False] [currently: False]\n",
      "display.html.use_mathjax : boolean\n",
      "    When True, Jupyter notebook will process table contents using MathJax,\n",
      "    rendering mathematical expressions enclosed by the dollar symbol.\n",
      "    (default: True)\n",
      "    [default: True] [currently: True]\n",
      "display.large_repr : 'truncate'/'info'\n",
      "    For DataFrames exceeding max_rows/max_cols, the repr (and HTML repr) can\n",
      "    show a truncated table (the default from 0.13), or switch to the view from\n",
      "    df.info() (the behaviour in earlier versions of pandas).\n",
      "    [default: truncate] [currently: truncate]\n",
      "display.latex.escape : bool\n",
      "    This specifies if the to_latex method of a Dataframe uses escapes special\n",
      "    characters.\n",
      "    Valid values: False,True\n",
      "    [default: True] [currently: True]\n",
      "display.latex.longtable :bool\n",
      "    This specifies if the to_latex method of a Dataframe uses the longtable\n",
      "    format.\n",
      "    Valid values: False,True\n",
      "    [default: False] [currently: False]\n",
      "display.latex.multicolumn : bool\n",
      "    This specifies if the to_latex method of a Dataframe uses multicolumns\n",
      "    to pretty-print MultiIndex columns.\n",
      "    Valid values: False,True\n",
      "    [default: True] [currently: True]\n",
      "display.latex.multicolumn_format : bool\n",
      "    This specifies if the to_latex method of a Dataframe uses multicolumns\n",
      "    to pretty-print MultiIndex columns.\n",
      "    Valid values: False,True\n",
      "    [default: l] [currently: l]\n",
      "display.latex.multirow : bool\n",
      "    This specifies if the to_latex method of a Dataframe uses multirows\n",
      "    to pretty-print MultiIndex rows.\n",
      "    Valid values: False,True\n",
      "    [default: False] [currently: False]\n",
      "display.latex.repr : boolean\n",
      "    Whether to produce a latex DataFrame representation for jupyter\n",
      "    environments that support it.\n",
      "    (default: False)\n",
      "    [default: False] [currently: False]\n",
      "display.max_categories : int\n",
      "    This sets the maximum number of categories pandas should output when\n",
      "    printing out a `Categorical` or a Series of dtype \"category\".\n",
      "    [default: 8] [currently: 8]\n",
      "display.max_columns : int\n",
      "    If max_cols is exceeded, switch to truncate view. Depending on\n",
      "    `large_repr`, objects are either centrally truncated or printed as\n",
      "    a summary view. 'None' value means unlimited.\n",
      "\n",
      "    In case python/IPython is running in a terminal and `large_repr`\n",
      "    equals 'truncate' this can be set to 0 and pandas will auto-detect\n",
      "    the width of the terminal and print a truncated object which fits\n",
      "    the screen width. The IPython notebook, IPython qtconsole, or IDLE\n",
      "    do not run in a terminal and hence it is not possible to do\n",
      "    correct auto-detection.\n",
      "    [default: 20] [currently: 20]\n",
      "display.max_colwidth : int or None\n",
      "    The maximum width in characters of a column in the repr of\n",
      "    a pandas data structure. When the column overflows, a \"...\"\n",
      "    placeholder is embedded in the output. A 'None' value means unlimited.\n",
      "    [default: 50] [currently: 50]\n",
      "display.max_dir_items : int\n",
      "    The number of items that will be added to `dir(...)`. 'None' value means\n",
      "    unlimited. Because dir is cached, changing this option will not immediately\n",
      "    affect already existing dataframes until a column is deleted or added.\n",
      "\n",
      "    This is for instance used to suggest columns from a dataframe to tab\n",
      "    completion.\n",
      "    [default: 100] [currently: 100]\n",
      "display.max_info_columns : int\n",
      "    max_info_columns is used in DataFrame.info method to decide if\n",
      "    per column information will be printed.\n",
      "    [default: 100] [currently: 100]\n",
      "display.max_info_rows : int or None\n",
      "    df.info() will usually show null-counts for each column.\n",
      "    For large frames this can be quite slow. max_info_rows and max_info_cols\n",
      "    limit this null check only to frames with smaller dimensions than\n",
      "    specified.\n",
      "    [default: 1690785] [currently: 1690785]\n",
      "display.max_rows : int\n",
      "    If max_rows is exceeded, switch to truncate view. Depending on\n",
      "    `large_repr`, objects are either centrally truncated or printed as\n",
      "    a summary view. 'None' value means unlimited.\n",
      "\n",
      "    In case python/IPython is running in a terminal and `large_repr`\n",
      "    equals 'truncate' this can be set to 0 and pandas will auto-detect\n",
      "    the height of the terminal and print a truncated object which fits\n",
      "    the screen height. The IPython notebook, IPython qtconsole, or\n",
      "    IDLE do not run in a terminal and hence it is not possible to do\n",
      "    correct auto-detection.\n",
      "    [default: 60] [currently: 60]\n",
      "display.max_seq_items : int or None\n",
      "    When pretty-printing a long sequence, no more then `max_seq_items`\n",
      "    will be printed. If items are omitted, they will be denoted by the\n",
      "    addition of \"...\" to the resulting string.\n",
      "\n",
      "    If set to None, the number of items to be printed is unlimited.\n",
      "    [default: 100] [currently: 100]\n",
      "display.memory_usage : bool, string or None\n",
      "    This specifies if the memory usage of a DataFrame should be displayed when\n",
      "    df.info() is called. Valid values True,False,'deep'\n",
      "    [default: True] [currently: True]\n",
      "display.min_rows : int\n",
      "    The numbers of rows to show in a truncated view (when `max_rows` is\n",
      "    exceeded). Ignored when `max_rows` is set to None or 0. When set to\n",
      "    None, follows the value of `max_rows`.\n",
      "    [default: 10] [currently: 10]\n",
      "display.multi_sparse : boolean\n",
      "    \"sparsify\" MultiIndex display (don't display repeated\n",
      "    elements in outer levels within groups)\n",
      "    [default: True] [currently: True]\n",
      "display.notebook_repr_html : boolean\n",
      "    When True, IPython notebook will use html representation for\n",
      "    pandas objects (if it is available).\n",
      "    [default: True] [currently: True]\n",
      "display.pprint_nest_depth : int\n",
      "    Controls the number of nested levels to process when pretty-printing\n",
      "    [default: 3] [currently: 3]\n",
      "display.precision : int\n",
      "    Floating point output precision in terms of number of places after the\n",
      "    decimal, for regular formatting as well as scientific notation. Similar\n",
      "    to ``precision`` in :meth:`numpy.set_printoptions`.\n",
      "    [default: 6] [currently: 6]\n",
      "display.show_dimensions : boolean or 'truncate'\n",
      "    Whether to print out dimensions at the end of DataFrame repr.\n",
      "    If 'truncate' is specified, only print out the dimensions if the\n",
      "    frame is truncated (e.g. not display all rows and/or columns)\n",
      "    [default: truncate] [currently: truncate]\n",
      "display.unicode.ambiguous_as_wide : boolean\n",
      "    Whether to use the Unicode East Asian Width to calculate the display text\n",
      "    width.\n",
      "    Enabling this may affect to the performance (default: False)\n",
      "    [default: False] [currently: False]\n",
      "display.unicode.east_asian_width : boolean\n",
      "    Whether to use the Unicode East Asian Width to calculate the display text\n",
      "    width.\n",
      "    Enabling this may affect to the performance (default: False)\n",
      "    [default: False] [currently: False]\n",
      "display.width : int\n",
      "    Width of the display in characters. In case python/IPython is running in\n",
      "    a terminal this can be set to None and pandas will correctly auto-detect\n",
      "    the width.\n",
      "    Note that the IPython notebook, IPython qtconsole, or IDLE do not run in a\n",
      "    terminal and hence it is not possible to correctly detect the width.\n",
      "    [default: 80] [currently: 80]\n",
      "io.excel.ods.reader : string\n",
      "    The default Excel reader engine for 'ods' files. Available options:\n",
      "    auto, odf.\n",
      "    [default: auto] [currently: auto]\n",
      "io.excel.ods.writer : string\n",
      "    The default Excel writer engine for 'ods' files. Available options:\n",
      "    auto, odf.\n",
      "    [default: auto] [currently: auto]\n",
      "io.excel.xls.reader : string\n",
      "    The default Excel reader engine for 'xls' files. Available options:\n",
      "    auto, xlrd.\n",
      "    [default: auto] [currently: auto]\n",
      "io.excel.xls.writer : string\n",
      "    The default Excel writer engine for 'xls' files. Available options:\n",
      "    auto, xlwt.\n",
      "    [default: auto] [currently: auto]\n",
      "    (Deprecated, use `` instead.)\n",
      "io.excel.xlsb.reader : string\n",
      "    The default Excel reader engine for 'xlsb' files. Available options:\n",
      "    auto, pyxlsb.\n",
      "    [default: auto] [currently: auto]\n",
      "io.excel.xlsm.reader : string\n",
      "    The default Excel reader engine for 'xlsm' files. Available options:\n",
      "    auto, xlrd, openpyxl.\n",
      "    [default: auto] [currently: auto]\n",
      "io.excel.xlsm.writer : string\n",
      "    The default Excel writer engine for 'xlsm' files. Available options:\n",
      "    auto, openpyxl.\n",
      "    [default: auto] [currently: auto]\n",
      "io.excel.xlsx.reader : string\n",
      "    The default Excel reader engine for 'xlsx' files. Available options:\n",
      "    auto, xlrd, openpyxl.\n",
      "    [default: auto] [currently: auto]\n",
      "io.excel.xlsx.writer : string\n",
      "    The default Excel writer engine for 'xlsx' files. Available options:\n",
      "    auto, openpyxl, xlsxwriter.\n",
      "    [default: auto] [currently: auto]\n",
      "io.hdf.default_format : format\n",
      "    default format writing format, if None, then\n",
      "    put will default to 'fixed' and append will default to 'table'\n",
      "    [default: None] [currently: None]\n",
      "io.hdf.dropna_table : boolean\n",
      "    drop ALL nan rows when appending to a table\n",
      "    [default: False] [currently: False]\n",
      "io.parquet.engine : string\n",
      "    The default parquet reader/writer engine. Available options:\n",
      "    'auto', 'pyarrow', 'fastparquet', the default is 'auto'\n",
      "    [default: auto] [currently: auto]\n",
      "io.sql.engine : string\n",
      "    The default sql reader/writer engine. Available options:\n",
      "    'auto', 'sqlalchemy', the default is 'auto'\n",
      "    [default: auto] [currently: auto]\n",
      "mode.chained_assignment : string\n",
      "    Raise an exception, warn, or no action if trying to use chained assignment,\n",
      "    The default is warn\n",
      "    [default: warn] [currently: warn]\n",
      "mode.copy_on_write : bool\n",
      "    Use new copy-view behaviour using Copy-on-Write. Defaults to False,\n",
      "    unless overridden by the 'PANDAS_COPY_ON_WRITE' environment variable\n",
      "    (if set to \"1\" for True, needs to be set before pandas is imported).\n",
      "    [default: False] [currently: False]\n",
      "mode.data_manager : string\n",
      "    Internal data manager type; can be \"block\" or \"array\". Defaults to \"block\",\n",
      "    unless overridden by the 'PANDAS_DATA_MANAGER' environment variable (needs\n",
      "    to be set before pandas is imported).\n",
      "    [default: block] [currently: block]\n",
      "mode.sim_interactive : boolean\n",
      "    Whether to simulate interactive mode for purposes of testing\n",
      "    [default: False] [currently: False]\n",
      "mode.string_storage : string\n",
      "    The default storage for StringDtype.\n",
      "    [default: python] [currently: python]\n",
      "mode.use_inf_as_na : boolean\n",
      "    True means treat None, NaN, INF, -INF as NA (old way),\n",
      "    False means None and NaN are null, but INF, -INF are not NA\n",
      "    (new way).\n",
      "    [default: False] [currently: False]\n",
      "mode.use_inf_as_null : boolean\n",
      "    use_inf_as_null had been deprecated and will be removed in a future\n",
      "    version. Use `use_inf_as_na` instead.\n",
      "    [default: False] [currently: False]\n",
      "    (Deprecated, use `mode.use_inf_as_na` instead.)\n",
      "plotting.backend : str\n",
      "    The plotting backend to use. The default value is \"matplotlib\", the\n",
      "    backend provided with pandas. Other backends can be specified by\n",
      "    providing the name of the module that implements the backend.\n",
      "    [default: matplotlib] [currently: matplotlib]\n",
      "plotting.matplotlib.register_converters : bool or 'auto'.\n",
      "    Whether to register converters with matplotlib's units registry for\n",
      "    dates, times, datetimes, and Periods. Toggling to False will remove\n",
      "    the converters, restoring any converters that pandas overwrote.\n",
      "    [default: auto] [currently: auto]\n",
      "styler.format.decimal : str\n",
      "    The character representation for the decimal separator for floats and complex.\n",
      "    [default: .] [currently: .]\n",
      "styler.format.escape : str, optional\n",
      "    Whether to escape certain characters according to the given context; html or latex.\n",
      "    [default: None] [currently: None]\n",
      "styler.format.formatter : str, callable, dict, optional\n",
      "    A formatter object to be used as default within ``Styler.format``.\n",
      "    [default: None] [currently: None]\n",
      "styler.format.na_rep : str, optional\n",
      "    The string representation for values identified as missing.\n",
      "    [default: None] [currently: None]\n",
      "styler.format.precision : int\n",
      "    The precision for floats and complex numbers.\n",
      "    [default: 6] [currently: 6]\n",
      "styler.format.thousands : str, optional\n",
      "    The character representation for thousands separator for floats, int and complex.\n",
      "    [default: None] [currently: None]\n",
      "styler.html.mathjax : bool\n",
      "    If False will render special CSS classes to table attributes that indicate Mathjax\n",
      "    will not be used in Jupyter Notebook.\n",
      "    [default: True] [currently: True]\n",
      "styler.latex.environment : str\n",
      "    The environment to replace ``\\begin{table}``. If \"longtable\" is used results\n",
      "    in a specific longtable environment format.\n",
      "    [default: None] [currently: None]\n",
      "styler.latex.hrules : bool\n",
      "    Whether to add horizontal rules on top and bottom and below the headers.\n",
      "    [default: False] [currently: False]\n",
      "styler.latex.multicol_align : {\"r\", \"c\", \"l\", \"naive-l\", \"naive-r\"}\n",
      "    The specifier for horizontal alignment of sparsified LaTeX multicolumns. Pipe\n",
      "    decorators can also be added to non-naive values to draw vertical\n",
      "    rules, e.g. \"\\|r\" will draw a rule on the left side of right aligned merged cells.\n",
      "    [default: r] [currently: r]\n",
      "styler.latex.multirow_align : {\"c\", \"t\", \"b\"}\n",
      "    The specifier for vertical alignment of sparsified LaTeX multirows.\n",
      "    [default: c] [currently: c]\n",
      "styler.render.encoding : str\n",
      "    The encoding used for output HTML and LaTeX files.\n",
      "    [default: utf-8] [currently: utf-8]\n",
      "styler.render.max_columns : int, optional\n",
      "    The maximum number of columns that will be rendered. May still be reduced to\n",
      "    satsify ``max_elements``, which takes precedence.\n",
      "    [default: None] [currently: None]\n",
      "styler.render.max_elements : int\n",
      "    The maximum number of data-cell (<td>) elements that will be rendered before\n",
      "    trimming will occur over columns, rows or both if needed.\n",
      "    [default: 262144] [currently: 262144]\n",
      "styler.render.max_rows : int, optional\n",
      "    The maximum number of rows that will be rendered. May still be reduced to\n",
      "    satsify ``max_elements``, which takes precedence.\n",
      "    [default: None] [currently: None]\n",
      "styler.render.repr : str\n",
      "    Determine which output to use in Jupyter Notebook in {\"html\", \"latex\"}.\n",
      "    [default: html] [currently: html]\n",
      "styler.sparse.columns : bool\n",
      "    Whether to sparsify the display of hierarchical columns. Setting to False will\n",
      "    display each explicit level element in a hierarchical key for each column.\n",
      "    [default: True] [currently: True]\n",
      "styler.sparse.index : bool\n",
      "    Whether to sparsify the display of a hierarchical index. Setting to False will\n",
      "    display each explicit level element in a hierarchical key for each row.\n",
      "    [default: True] [currently: True]\n"
     ]
    }
   ],
   "source": [
    "pd.describe_option();"
   ]
  },
  {
   "cell_type": "code",
   "execution_count": 46,
   "id": "967e67e1-e7d6-4689-95bd-4110154ce1d6",
   "metadata": {
    "execution": {
     "iopub.execute_input": "2023-01-28T01:11:26.423526Z",
     "iopub.status.busy": "2023-01-28T01:11:26.423526Z",
     "iopub.status.idle": "2023-01-28T01:11:26.443035Z",
     "shell.execute_reply": "2023-01-28T01:11:26.443035Z",
     "shell.execute_reply.started": "2023-01-28T01:11:26.423526Z"
    },
    "tags": []
   },
   "outputs": [
    {
     "data": {
      "text/plain": [
       "Timedelta('13 days 00:00:00')"
      ]
     },
     "execution_count": 46,
     "metadata": {},
     "output_type": "execute_result"
    }
   ],
   "source": [
    "pd.Timedelta(13, unit = \"d\")"
   ]
  },
  {
   "cell_type": "code",
   "execution_count": 58,
   "id": "de8b6dca-b64c-40b3-8d38-e0ccd7038fe6",
   "metadata": {
    "execution": {
     "iopub.execute_input": "2023-01-28T01:15:27.481673Z",
     "iopub.status.busy": "2023-01-28T01:15:27.481673Z",
     "iopub.status.idle": "2023-01-28T01:15:27.494362Z",
     "shell.execute_reply": "2023-01-28T01:15:27.494362Z",
     "shell.execute_reply.started": "2023-01-28T01:15:27.481673Z"
    },
    "tags": []
   },
   "outputs": [
    {
     "data": {
      "text/plain": [
       "Timedelta('3171 days 00:00:00')"
      ]
     },
     "execution_count": 58,
     "metadata": {},
     "output_type": "execute_result"
    }
   ],
   "source": [
    "pd.Timedelta(453, unit = \"W\")"
   ]
  },
  {
   "cell_type": "markdown",
   "id": "3e04dda7-3838-4240-a806-62513ec75ded",
   "metadata": {
    "tags": []
   },
   "source": [
    "## ***Offsets***"
   ]
  },
  {
   "cell_type": "code",
   "execution_count": 61,
   "id": "3797a2dc-9d4c-4f2e-a64b-4a6fb2854b08",
   "metadata": {
    "execution": {
     "iopub.execute_input": "2023-01-28T01:17:13.506050Z",
     "iopub.status.busy": "2023-01-28T01:17:13.506050Z",
     "iopub.status.idle": "2023-01-28T01:17:13.510963Z",
     "shell.execute_reply": "2023-01-28T01:17:13.510963Z",
     "shell.execute_reply.started": "2023-01-28T01:17:13.506050Z"
    },
    "tags": []
   },
   "outputs": [
    {
     "data": {
      "text/plain": [
       "6"
      ]
     },
     "execution_count": 61,
     "metadata": {},
     "output_type": "execute_result"
    }
   ],
   "source": [
    "pd.Timestamp(\"1990-12-23\").weekday()"
   ]
  },
  {
   "cell_type": "code",
   "execution_count": 65,
   "id": "c78173d5-81ca-4e28-ac01-cc5020015f58",
   "metadata": {
    "execution": {
     "iopub.execute_input": "2023-01-28T01:17:35.977323Z",
     "iopub.status.busy": "2023-01-28T01:17:35.977323Z",
     "iopub.status.idle": "2023-01-28T01:17:35.993319Z",
     "shell.execute_reply": "2023-01-28T01:17:35.992313Z",
     "shell.execute_reply.started": "2023-01-28T01:17:35.977323Z"
    },
    "tags": []
   },
   "outputs": [
    {
     "data": {
      "text/plain": [
       "7"
      ]
     },
     "execution_count": 65,
     "metadata": {},
     "output_type": "execute_result"
    }
   ],
   "source": [
    "pd.Timestamp(\"1990-12-23\").isoweekday()"
   ]
  },
  {
   "cell_type": "code",
   "execution_count": 68,
   "id": "2cd8dac6-6b81-4a01-be1e-fffe904865cb",
   "metadata": {
    "execution": {
     "iopub.execute_input": "2023-01-28T01:42:17.556919Z",
     "iopub.status.busy": "2023-01-28T01:42:17.555906Z",
     "iopub.status.idle": "2023-01-28T01:42:17.561758Z",
     "shell.execute_reply": "2023-01-28T01:42:17.561758Z",
     "shell.execute_reply.started": "2023-01-28T01:42:17.556919Z"
    },
    "tags": []
   },
   "outputs": [
    {
     "data": {
      "text/plain": [
       "'Sunday'"
      ]
     },
     "execution_count": 68,
     "metadata": {},
     "output_type": "execute_result"
    }
   ],
   "source": [
    "pd.Timestamp(\"1990-12-23\").day_name()"
   ]
  },
  {
   "cell_type": "code",
   "execution_count": 69,
   "id": "17b308db-181d-4d8a-b681-5480dac74cc9",
   "metadata": {
    "execution": {
     "iopub.execute_input": "2023-01-28T01:42:38.510844Z",
     "iopub.status.busy": "2023-01-28T01:42:38.510844Z",
     "iopub.status.idle": "2023-01-28T01:42:38.581539Z",
     "shell.execute_reply": "2023-01-28T01:42:38.581539Z",
     "shell.execute_reply.started": "2023-01-28T01:42:38.510844Z"
    }
   },
   "outputs": [
    {
     "data": {
      "text/plain": [
       "Timestamp('1990-12-30 00:00:00')"
      ]
     },
     "execution_count": 69,
     "metadata": {},
     "output_type": "execute_result"
    }
   ],
   "source": [
    "pd.Timestamp(\"1990-12-23\") + pd.offsets.Week()"
   ]
  },
  {
   "cell_type": "code",
   "execution_count": 70,
   "id": "462be13d-b976-425f-b486-393ea732c425",
   "metadata": {
    "execution": {
     "iopub.execute_input": "2023-01-28T01:43:10.599574Z",
     "iopub.status.busy": "2023-01-28T01:43:10.591064Z",
     "iopub.status.idle": "2023-01-28T01:43:10.606309Z",
     "shell.execute_reply": "2023-01-28T01:43:10.606309Z",
     "shell.execute_reply.started": "2023-01-28T01:43:10.599574Z"
    }
   },
   "outputs": [
    {
     "data": {
      "text/plain": [
       "Timestamp('1991-01-01 00:00:00')"
      ]
     },
     "execution_count": 70,
     "metadata": {},
     "output_type": "execute_result"
    }
   ],
   "source": [
    "pd.Timestamp(\"1990-12-23\") + pd.offsets.MonthBegin()"
   ]
  },
  {
   "cell_type": "markdown",
   "id": "f2c4b4c8-7abf-4566-bdb0-3d748d337058",
   "metadata": {},
   "source": [
    "## ***Dates in a DataFrame***"
   ]
  },
  {
   "cell_type": "code",
   "execution_count": 78,
   "id": "0065057b-984a-4922-8d21-7faaf65138f8",
   "metadata": {
    "execution": {
     "iopub.execute_input": "2023-01-28T01:49:41.156122Z",
     "iopub.status.busy": "2023-01-28T01:49:41.156122Z",
     "iopub.status.idle": "2023-01-28T01:49:41.172267Z",
     "shell.execute_reply": "2023-01-28T01:49:41.172267Z",
     "shell.execute_reply.started": "2023-01-28T01:49:41.156122Z"
    },
    "tags": []
   },
   "outputs": [
    {
     "name": "stderr",
     "output_type": "stream",
     "text": [
      "C:\\Users\\Anoban\\AppData\\Local\\Temp\\ipykernel_5364\\1230450208.py:3: UserWarning: Parsing dates in DD/MM/YYYY format when dayfirst=False (the default) was specified. This may lead to inconsistently parsed dates! Specify a format to ensure consistent parsing.\n",
      "  pd.date_range(start = \"19-12-2019\", end = \"13-10-2020\", freq = \"2D\")\n"
     ]
    },
    {
     "data": {
      "text/plain": [
       "DatetimeIndex(['2019-12-19', '2019-12-21', '2019-12-23', '2019-12-25',\n",
       "               '2019-12-27', '2019-12-29', '2019-12-31', '2020-01-02',\n",
       "               '2020-01-04', '2020-01-06',\n",
       "               ...\n",
       "               '2020-09-24', '2020-09-26', '2020-09-28', '2020-09-30',\n",
       "               '2020-10-02', '2020-10-04', '2020-10-06', '2020-10-08',\n",
       "               '2020-10-10', '2020-10-12'],\n",
       "              dtype='datetime64[ns]', length=150, freq='2D')"
      ]
     },
     "execution_count": 78,
     "metadata": {},
     "output_type": "execute_result"
    }
   ],
   "source": [
    "# every 2 days\n",
    "\n",
    "pd.date_range(start = \"19-12-2019\", end = \"13-10-2020\", freq = \"2D\")"
   ]
  },
  {
   "cell_type": "code",
   "execution_count": 77,
   "id": "61e3b2d5-2f2f-4019-baa9-73b4e76a690e",
   "metadata": {
    "execution": {
     "iopub.execute_input": "2023-01-28T01:49:32.181290Z",
     "iopub.status.busy": "2023-01-28T01:49:32.181290Z",
     "iopub.status.idle": "2023-01-28T01:49:32.197420Z",
     "shell.execute_reply": "2023-01-28T01:49:32.197420Z",
     "shell.execute_reply.started": "2023-01-28T01:49:32.181290Z"
    },
    "tags": []
   },
   "outputs": [
    {
     "name": "stderr",
     "output_type": "stream",
     "text": [
      "C:\\Users\\Anoban\\AppData\\Local\\Temp\\ipykernel_5364\\3798115651.py:3: UserWarning: Parsing dates in DD/MM/YYYY format when dayfirst=False (the default) was specified. This may lead to inconsistently parsed dates! Specify a format to ensure consistent parsing.\n",
      "  pd.date_range(start = \"19-12-2019\", end = \"13-10-2020\", freq = \"2W-SUN\")\n"
     ]
    },
    {
     "data": {
      "text/plain": [
       "DatetimeIndex(['2019-12-22', '2020-01-05', '2020-01-19', '2020-02-02',\n",
       "               '2020-02-16', '2020-03-01', '2020-03-15', '2020-03-29',\n",
       "               '2020-04-12', '2020-04-26', '2020-05-10', '2020-05-24',\n",
       "               '2020-06-07', '2020-06-21', '2020-07-05', '2020-07-19',\n",
       "               '2020-08-02', '2020-08-16', '2020-08-30', '2020-09-13',\n",
       "               '2020-09-27', '2020-10-11'],\n",
       "              dtype='datetime64[ns]', freq='2W-SUN')"
      ]
     },
     "execution_count": 77,
     "metadata": {},
     "output_type": "execute_result"
    }
   ],
   "source": [
    "# biweekly on Sundays\n",
    "\n",
    "pd.date_range(start = \"19-12-2019\", end = \"13-10-2020\", freq = \"2W-SUN\")"
   ]
  },
  {
   "cell_type": "code",
   "execution_count": 76,
   "id": "fc264d82-7a79-4d6d-b79d-816b357485ed",
   "metadata": {
    "execution": {
     "iopub.execute_input": "2023-01-28T01:48:56.259100Z",
     "iopub.status.busy": "2023-01-28T01:48:56.259100Z",
     "iopub.status.idle": "2023-01-28T01:48:56.271762Z",
     "shell.execute_reply": "2023-01-28T01:48:56.271762Z",
     "shell.execute_reply.started": "2023-01-28T01:48:56.259100Z"
    }
   },
   "outputs": [
    {
     "name": "stderr",
     "output_type": "stream",
     "text": [
      "C:\\Users\\Anoban\\AppData\\Local\\Temp\\ipykernel_5364\\2794501182.py:1: UserWarning: Parsing dates in DD/MM/YYYY format when dayfirst=False (the default) was specified. This may lead to inconsistently parsed dates! Specify a format to ensure consistent parsing.\n",
      "  pd.date_range(start = \"19-12-2019\", end = \"13-10-2020\", freq = \"W-SAT\")\n"
     ]
    },
    {
     "data": {
      "text/plain": [
       "DatetimeIndex(['2019-12-21', '2019-12-28', '2020-01-04', '2020-01-11',\n",
       "               '2020-01-18', '2020-01-25', '2020-02-01', '2020-02-08',\n",
       "               '2020-02-15', '2020-02-22', '2020-02-29', '2020-03-07',\n",
       "               '2020-03-14', '2020-03-21', '2020-03-28', '2020-04-04',\n",
       "               '2020-04-11', '2020-04-18', '2020-04-25', '2020-05-02',\n",
       "               '2020-05-09', '2020-05-16', '2020-05-23', '2020-05-30',\n",
       "               '2020-06-06', '2020-06-13', '2020-06-20', '2020-06-27',\n",
       "               '2020-07-04', '2020-07-11', '2020-07-18', '2020-07-25',\n",
       "               '2020-08-01', '2020-08-08', '2020-08-15', '2020-08-22',\n",
       "               '2020-08-29', '2020-09-05', '2020-09-12', '2020-09-19',\n",
       "               '2020-09-26', '2020-10-03', '2020-10-10'],\n",
       "              dtype='datetime64[ns]', freq='W-SAT')"
      ]
     },
     "execution_count": 76,
     "metadata": {},
     "output_type": "execute_result"
    }
   ],
   "source": [
    "# weekly on Saturdays\n",
    "\n",
    "pd.date_range(start = \"19-12-2019\", end = \"13-10-2020\", freq = \"W-SAT\")"
   ]
  },
  {
   "cell_type": "code",
   "execution_count": 79,
   "id": "9ab52a86-4b70-452c-bde1-e6a3bb8ec1a9",
   "metadata": {
    "execution": {
     "iopub.execute_input": "2023-01-28T01:51:31.792361Z",
     "iopub.status.busy": "2023-01-28T01:51:31.792361Z",
     "iopub.status.idle": "2023-01-28T01:51:31.856058Z",
     "shell.execute_reply": "2023-01-28T01:51:31.856058Z",
     "shell.execute_reply.started": "2023-01-28T01:51:31.792361Z"
    }
   },
   "outputs": [
    {
     "name": "stderr",
     "output_type": "stream",
     "text": [
      "C:\\Users\\Anoban\\AppData\\Local\\Temp\\ipykernel_5364\\1398375013.py:3: UserWarning: Parsing dates in DD/MM/YYYY format when dayfirst=False (the default) was specified. This may lead to inconsistently parsed dates! Specify a format to ensure consistent parsing.\n",
      "  pd.date_range(start = \"19-10-2019\", end = \"13-12-2019\", freq = \"B\")\n"
     ]
    },
    {
     "data": {
      "text/plain": [
       "DatetimeIndex(['2019-10-21', '2019-10-22', '2019-10-23', '2019-10-24',\n",
       "               '2019-10-25', '2019-10-28', '2019-10-29', '2019-10-30',\n",
       "               '2019-10-31', '2019-11-01', '2019-11-04', '2019-11-05',\n",
       "               '2019-11-06', '2019-11-07', '2019-11-08', '2019-11-11',\n",
       "               '2019-11-12', '2019-11-13', '2019-11-14', '2019-11-15',\n",
       "               '2019-11-18', '2019-11-19', '2019-11-20', '2019-11-21',\n",
       "               '2019-11-22', '2019-11-25', '2019-11-26', '2019-11-27',\n",
       "               '2019-11-28', '2019-11-29', '2019-12-02', '2019-12-03',\n",
       "               '2019-12-04', '2019-12-05', '2019-12-06', '2019-12-09',\n",
       "               '2019-12-10', '2019-12-11', '2019-12-12', '2019-12-13'],\n",
       "              dtype='datetime64[ns]', freq='B')"
      ]
     },
     "execution_count": 79,
     "metadata": {},
     "output_type": "execute_result"
    }
   ],
   "source": [
    "# every business day\n",
    "\n",
    "pd.date_range(start = \"19-10-2019\", end = \"13-12-2019\", freq = \"B\")"
   ]
  },
  {
   "cell_type": "code",
   "execution_count": 92,
   "id": "e0102f6e-a7fd-4945-8824-4f528ba79883",
   "metadata": {
    "execution": {
     "iopub.execute_input": "2023-01-28T02:03:34.109598Z",
     "iopub.status.busy": "2023-01-28T02:03:34.109598Z",
     "iopub.status.idle": "2023-01-28T02:03:34.129720Z",
     "shell.execute_reply": "2023-01-28T02:03:34.129720Z",
     "shell.execute_reply.started": "2023-01-28T02:03:34.109598Z"
    },
    "tags": []
   },
   "outputs": [],
   "source": [
    "dummy = pd.DataFrame({\"A\": np.random.randint(0, 100, 20), \"B\": np.random.randint(0, 100, 20).cumsum()},\n",
    "             index = pd.date_range(\"01-01-1990\", periods = 20, freq = \"W-WED\"))"
   ]
  },
  {
   "cell_type": "code",
   "execution_count": 93,
   "id": "d242d2cf-8691-46a4-899b-7648aa6c1614",
   "metadata": {
    "execution": {
     "iopub.execute_input": "2023-01-28T02:03:34.628695Z",
     "iopub.status.busy": "2023-01-28T02:03:34.628695Z",
     "iopub.status.idle": "2023-01-28T02:03:34.639853Z",
     "shell.execute_reply": "2023-01-28T02:03:34.639853Z",
     "shell.execute_reply.started": "2023-01-28T02:03:34.628695Z"
    },
    "tags": []
   },
   "outputs": [
    {
     "data": {
      "text/plain": [
       "Index(['Wednesday', 'Wednesday', 'Wednesday', 'Wednesday', 'Wednesday',\n",
       "       'Wednesday', 'Wednesday', 'Wednesday', 'Wednesday', 'Wednesday',\n",
       "       'Wednesday', 'Wednesday', 'Wednesday', 'Wednesday', 'Wednesday',\n",
       "       'Wednesday', 'Wednesday', 'Wednesday', 'Wednesday', 'Wednesday'],\n",
       "      dtype='object')"
      ]
     },
     "execution_count": 93,
     "metadata": {},
     "output_type": "execute_result"
    }
   ],
   "source": [
    "dummy.index.day_name()"
   ]
  },
  {
   "cell_type": "code",
   "execution_count": 94,
   "id": "c4cf8b58-8f69-4622-b49a-8cf52bb87a5f",
   "metadata": {
    "execution": {
     "iopub.execute_input": "2023-01-28T02:03:35.305123Z",
     "iopub.status.busy": "2023-01-28T02:03:35.305123Z",
     "iopub.status.idle": "2023-01-28T02:03:35.323408Z",
     "shell.execute_reply": "2023-01-28T02:03:35.323408Z",
     "shell.execute_reply.started": "2023-01-28T02:03:35.305123Z"
    },
    "tags": []
   },
   "outputs": [
    {
     "data": {
      "text/html": [
       "<div>\n",
       "<style scoped>\n",
       "    .dataframe tbody tr th:only-of-type {\n",
       "        vertical-align: middle;\n",
       "    }\n",
       "\n",
       "    .dataframe tbody tr th {\n",
       "        vertical-align: top;\n",
       "    }\n",
       "\n",
       "    .dataframe thead th {\n",
       "        text-align: right;\n",
       "    }\n",
       "</style>\n",
       "<table border=\"1\" class=\"dataframe\">\n",
       "  <thead>\n",
       "    <tr style=\"text-align: right;\">\n",
       "      <th></th>\n",
       "      <th>A</th>\n",
       "      <th>B</th>\n",
       "    </tr>\n",
       "  </thead>\n",
       "  <tbody>\n",
       "    <tr>\n",
       "      <th>1990-01-03</th>\n",
       "      <td>65</td>\n",
       "      <td>40</td>\n",
       "    </tr>\n",
       "    <tr>\n",
       "      <th>1990-01-10</th>\n",
       "      <td>93</td>\n",
       "      <td>68</td>\n",
       "    </tr>\n",
       "    <tr>\n",
       "      <th>1990-01-17</th>\n",
       "      <td>24</td>\n",
       "      <td>100</td>\n",
       "    </tr>\n",
       "    <tr>\n",
       "      <th>1990-01-24</th>\n",
       "      <td>81</td>\n",
       "      <td>162</td>\n",
       "    </tr>\n",
       "    <tr>\n",
       "      <th>1990-01-31</th>\n",
       "      <td>2</td>\n",
       "      <td>185</td>\n",
       "    </tr>\n",
       "    <tr>\n",
       "      <th>1990-02-07</th>\n",
       "      <td>73</td>\n",
       "      <td>251</td>\n",
       "    </tr>\n",
       "    <tr>\n",
       "      <th>1990-02-14</th>\n",
       "      <td>76</td>\n",
       "      <td>342</td>\n",
       "    </tr>\n",
       "    <tr>\n",
       "      <th>1990-02-21</th>\n",
       "      <td>71</td>\n",
       "      <td>424</td>\n",
       "    </tr>\n",
       "    <tr>\n",
       "      <th>1990-02-28</th>\n",
       "      <td>35</td>\n",
       "      <td>470</td>\n",
       "    </tr>\n",
       "    <tr>\n",
       "      <th>1990-03-07</th>\n",
       "      <td>6</td>\n",
       "      <td>495</td>\n",
       "    </tr>\n",
       "    <tr>\n",
       "      <th>1990-03-14</th>\n",
       "      <td>68</td>\n",
       "      <td>549</td>\n",
       "    </tr>\n",
       "    <tr>\n",
       "      <th>1990-03-21</th>\n",
       "      <td>25</td>\n",
       "      <td>628</td>\n",
       "    </tr>\n",
       "    <tr>\n",
       "      <th>1990-03-28</th>\n",
       "      <td>19</td>\n",
       "      <td>656</td>\n",
       "    </tr>\n",
       "    <tr>\n",
       "      <th>1990-04-04</th>\n",
       "      <td>53</td>\n",
       "      <td>733</td>\n",
       "    </tr>\n",
       "    <tr>\n",
       "      <th>1990-04-11</th>\n",
       "      <td>88</td>\n",
       "      <td>810</td>\n",
       "    </tr>\n",
       "    <tr>\n",
       "      <th>1990-04-18</th>\n",
       "      <td>62</td>\n",
       "      <td>850</td>\n",
       "    </tr>\n",
       "    <tr>\n",
       "      <th>1990-04-25</th>\n",
       "      <td>42</td>\n",
       "      <td>937</td>\n",
       "    </tr>\n",
       "    <tr>\n",
       "      <th>1990-05-02</th>\n",
       "      <td>99</td>\n",
       "      <td>1019</td>\n",
       "    </tr>\n",
       "    <tr>\n",
       "      <th>1990-05-09</th>\n",
       "      <td>11</td>\n",
       "      <td>1111</td>\n",
       "    </tr>\n",
       "    <tr>\n",
       "      <th>1990-05-16</th>\n",
       "      <td>20</td>\n",
       "      <td>1210</td>\n",
       "    </tr>\n",
       "  </tbody>\n",
       "</table>\n",
       "</div>"
      ],
      "text/plain": [
       "             A     B\n",
       "1990-01-03  65    40\n",
       "1990-01-10  93    68\n",
       "1990-01-17  24   100\n",
       "1990-01-24  81   162\n",
       "1990-01-31   2   185\n",
       "1990-02-07  73   251\n",
       "1990-02-14  76   342\n",
       "1990-02-21  71   424\n",
       "1990-02-28  35   470\n",
       "1990-03-07   6   495\n",
       "1990-03-14  68   549\n",
       "1990-03-21  25   628\n",
       "1990-03-28  19   656\n",
       "1990-04-04  53   733\n",
       "1990-04-11  88   810\n",
       "1990-04-18  62   850\n",
       "1990-04-25  42   937\n",
       "1990-05-02  99  1019\n",
       "1990-05-09  11  1111\n",
       "1990-05-16  20  1210"
      ]
     },
     "execution_count": 94,
     "metadata": {},
     "output_type": "execute_result"
    }
   ],
   "source": [
    "dummy"
   ]
  },
  {
   "cell_type": "code",
   "execution_count": 98,
   "id": "680dd576-5a93-4b8d-a1f6-9160cb9cf58b",
   "metadata": {
    "execution": {
     "iopub.execute_input": "2023-01-28T02:07:01.391818Z",
     "iopub.status.busy": "2023-01-28T02:07:01.391818Z",
     "iopub.status.idle": "2023-01-28T02:07:01.412241Z",
     "shell.execute_reply": "2023-01-28T02:07:01.412241Z",
     "shell.execute_reply.started": "2023-01-28T02:07:01.391818Z"
    },
    "tags": []
   },
   "outputs": [
    {
     "data": {
      "text/html": [
       "<div>\n",
       "<style scoped>\n",
       "    .dataframe tbody tr th:only-of-type {\n",
       "        vertical-align: middle;\n",
       "    }\n",
       "\n",
       "    .dataframe tbody tr th {\n",
       "        vertical-align: top;\n",
       "    }\n",
       "\n",
       "    .dataframe thead th {\n",
       "        text-align: right;\n",
       "    }\n",
       "</style>\n",
       "<table border=\"1\" class=\"dataframe\">\n",
       "  <thead>\n",
       "    <tr style=\"text-align: right;\">\n",
       "      <th></th>\n",
       "      <th>A</th>\n",
       "      <th>B</th>\n",
       "    </tr>\n",
       "  </thead>\n",
       "  <tbody>\n",
       "    <tr>\n",
       "      <th>1990-01-03</th>\n",
       "      <td>NaN</td>\n",
       "      <td>NaN</td>\n",
       "    </tr>\n",
       "    <tr>\n",
       "      <th>1990-01-10</th>\n",
       "      <td>28.0</td>\n",
       "      <td>28.0</td>\n",
       "    </tr>\n",
       "    <tr>\n",
       "      <th>1990-01-17</th>\n",
       "      <td>-69.0</td>\n",
       "      <td>32.0</td>\n",
       "    </tr>\n",
       "    <tr>\n",
       "      <th>1990-01-24</th>\n",
       "      <td>57.0</td>\n",
       "      <td>62.0</td>\n",
       "    </tr>\n",
       "    <tr>\n",
       "      <th>1990-01-31</th>\n",
       "      <td>-79.0</td>\n",
       "      <td>23.0</td>\n",
       "    </tr>\n",
       "    <tr>\n",
       "      <th>1990-02-07</th>\n",
       "      <td>71.0</td>\n",
       "      <td>66.0</td>\n",
       "    </tr>\n",
       "    <tr>\n",
       "      <th>1990-02-14</th>\n",
       "      <td>3.0</td>\n",
       "      <td>91.0</td>\n",
       "    </tr>\n",
       "    <tr>\n",
       "      <th>1990-02-21</th>\n",
       "      <td>-5.0</td>\n",
       "      <td>82.0</td>\n",
       "    </tr>\n",
       "    <tr>\n",
       "      <th>1990-02-28</th>\n",
       "      <td>-36.0</td>\n",
       "      <td>46.0</td>\n",
       "    </tr>\n",
       "    <tr>\n",
       "      <th>1990-03-07</th>\n",
       "      <td>-29.0</td>\n",
       "      <td>25.0</td>\n",
       "    </tr>\n",
       "    <tr>\n",
       "      <th>1990-03-14</th>\n",
       "      <td>62.0</td>\n",
       "      <td>54.0</td>\n",
       "    </tr>\n",
       "    <tr>\n",
       "      <th>1990-03-21</th>\n",
       "      <td>-43.0</td>\n",
       "      <td>79.0</td>\n",
       "    </tr>\n",
       "    <tr>\n",
       "      <th>1990-03-28</th>\n",
       "      <td>-6.0</td>\n",
       "      <td>28.0</td>\n",
       "    </tr>\n",
       "    <tr>\n",
       "      <th>1990-04-04</th>\n",
       "      <td>34.0</td>\n",
       "      <td>77.0</td>\n",
       "    </tr>\n",
       "    <tr>\n",
       "      <th>1990-04-11</th>\n",
       "      <td>35.0</td>\n",
       "      <td>77.0</td>\n",
       "    </tr>\n",
       "    <tr>\n",
       "      <th>1990-04-18</th>\n",
       "      <td>-26.0</td>\n",
       "      <td>40.0</td>\n",
       "    </tr>\n",
       "    <tr>\n",
       "      <th>1990-04-25</th>\n",
       "      <td>-20.0</td>\n",
       "      <td>87.0</td>\n",
       "    </tr>\n",
       "    <tr>\n",
       "      <th>1990-05-02</th>\n",
       "      <td>57.0</td>\n",
       "      <td>82.0</td>\n",
       "    </tr>\n",
       "    <tr>\n",
       "      <th>1990-05-09</th>\n",
       "      <td>-88.0</td>\n",
       "      <td>92.0</td>\n",
       "    </tr>\n",
       "    <tr>\n",
       "      <th>1990-05-16</th>\n",
       "      <td>9.0</td>\n",
       "      <td>99.0</td>\n",
       "    </tr>\n",
       "  </tbody>\n",
       "</table>\n",
       "</div>"
      ],
      "text/plain": [
       "               A     B\n",
       "1990-01-03   NaN   NaN\n",
       "1990-01-10  28.0  28.0\n",
       "1990-01-17 -69.0  32.0\n",
       "1990-01-24  57.0  62.0\n",
       "1990-01-31 -79.0  23.0\n",
       "1990-02-07  71.0  66.0\n",
       "1990-02-14   3.0  91.0\n",
       "1990-02-21  -5.0  82.0\n",
       "1990-02-28 -36.0  46.0\n",
       "1990-03-07 -29.0  25.0\n",
       "1990-03-14  62.0  54.0\n",
       "1990-03-21 -43.0  79.0\n",
       "1990-03-28  -6.0  28.0\n",
       "1990-04-04  34.0  77.0\n",
       "1990-04-11  35.0  77.0\n",
       "1990-04-18 -26.0  40.0\n",
       "1990-04-25 -20.0  87.0\n",
       "1990-05-02  57.0  82.0\n",
       "1990-05-09 -88.0  92.0\n",
       "1990-05-16   9.0  99.0"
      ]
     },
     "execution_count": 98,
     "metadata": {},
     "output_type": "execute_result"
    }
   ],
   "source": [
    "# difference between previous row element in the same column\n",
    "\n",
    "dummy.diff(axis = 0)"
   ]
  },
  {
   "cell_type": "code",
   "execution_count": 100,
   "id": "8af382d5-394f-4065-a191-854c9c2223ef",
   "metadata": {
    "execution": {
     "iopub.execute_input": "2023-01-28T02:07:53.171897Z",
     "iopub.status.busy": "2023-01-28T02:07:53.171897Z",
     "iopub.status.idle": "2023-01-28T02:07:53.183969Z",
     "shell.execute_reply": "2023-01-28T02:07:53.183969Z",
     "shell.execute_reply.started": "2023-01-28T02:07:53.171897Z"
    },
    "tags": []
   },
   "outputs": [
    {
     "data": {
      "text/html": [
       "<div>\n",
       "<style scoped>\n",
       "    .dataframe tbody tr th:only-of-type {\n",
       "        vertical-align: middle;\n",
       "    }\n",
       "\n",
       "    .dataframe tbody tr th {\n",
       "        vertical-align: top;\n",
       "    }\n",
       "\n",
       "    .dataframe thead th {\n",
       "        text-align: right;\n",
       "    }\n",
       "</style>\n",
       "<table border=\"1\" class=\"dataframe\">\n",
       "  <thead>\n",
       "    <tr style=\"text-align: right;\">\n",
       "      <th></th>\n",
       "      <th>A</th>\n",
       "      <th>B</th>\n",
       "    </tr>\n",
       "  </thead>\n",
       "  <tbody>\n",
       "    <tr>\n",
       "      <th>1990-01-03</th>\n",
       "      <td>NaN</td>\n",
       "      <td>-25</td>\n",
       "    </tr>\n",
       "    <tr>\n",
       "      <th>1990-01-10</th>\n",
       "      <td>NaN</td>\n",
       "      <td>-25</td>\n",
       "    </tr>\n",
       "    <tr>\n",
       "      <th>1990-01-17</th>\n",
       "      <td>NaN</td>\n",
       "      <td>76</td>\n",
       "    </tr>\n",
       "    <tr>\n",
       "      <th>1990-01-24</th>\n",
       "      <td>NaN</td>\n",
       "      <td>81</td>\n",
       "    </tr>\n",
       "    <tr>\n",
       "      <th>1990-01-31</th>\n",
       "      <td>NaN</td>\n",
       "      <td>183</td>\n",
       "    </tr>\n",
       "    <tr>\n",
       "      <th>1990-02-07</th>\n",
       "      <td>NaN</td>\n",
       "      <td>178</td>\n",
       "    </tr>\n",
       "    <tr>\n",
       "      <th>1990-02-14</th>\n",
       "      <td>NaN</td>\n",
       "      <td>266</td>\n",
       "    </tr>\n",
       "    <tr>\n",
       "      <th>1990-02-21</th>\n",
       "      <td>NaN</td>\n",
       "      <td>353</td>\n",
       "    </tr>\n",
       "    <tr>\n",
       "      <th>1990-02-28</th>\n",
       "      <td>NaN</td>\n",
       "      <td>435</td>\n",
       "    </tr>\n",
       "    <tr>\n",
       "      <th>1990-03-07</th>\n",
       "      <td>NaN</td>\n",
       "      <td>489</td>\n",
       "    </tr>\n",
       "    <tr>\n",
       "      <th>1990-03-14</th>\n",
       "      <td>NaN</td>\n",
       "      <td>481</td>\n",
       "    </tr>\n",
       "    <tr>\n",
       "      <th>1990-03-21</th>\n",
       "      <td>NaN</td>\n",
       "      <td>603</td>\n",
       "    </tr>\n",
       "    <tr>\n",
       "      <th>1990-03-28</th>\n",
       "      <td>NaN</td>\n",
       "      <td>637</td>\n",
       "    </tr>\n",
       "    <tr>\n",
       "      <th>1990-04-04</th>\n",
       "      <td>NaN</td>\n",
       "      <td>680</td>\n",
       "    </tr>\n",
       "    <tr>\n",
       "      <th>1990-04-11</th>\n",
       "      <td>NaN</td>\n",
       "      <td>722</td>\n",
       "    </tr>\n",
       "    <tr>\n",
       "      <th>1990-04-18</th>\n",
       "      <td>NaN</td>\n",
       "      <td>788</td>\n",
       "    </tr>\n",
       "    <tr>\n",
       "      <th>1990-04-25</th>\n",
       "      <td>NaN</td>\n",
       "      <td>895</td>\n",
       "    </tr>\n",
       "    <tr>\n",
       "      <th>1990-05-02</th>\n",
       "      <td>NaN</td>\n",
       "      <td>920</td>\n",
       "    </tr>\n",
       "    <tr>\n",
       "      <th>1990-05-09</th>\n",
       "      <td>NaN</td>\n",
       "      <td>1100</td>\n",
       "    </tr>\n",
       "    <tr>\n",
       "      <th>1990-05-16</th>\n",
       "      <td>NaN</td>\n",
       "      <td>1190</td>\n",
       "    </tr>\n",
       "  </tbody>\n",
       "</table>\n",
       "</div>"
      ],
      "text/plain": [
       "             A     B\n",
       "1990-01-03 NaN   -25\n",
       "1990-01-10 NaN   -25\n",
       "1990-01-17 NaN    76\n",
       "1990-01-24 NaN    81\n",
       "1990-01-31 NaN   183\n",
       "1990-02-07 NaN   178\n",
       "1990-02-14 NaN   266\n",
       "1990-02-21 NaN   353\n",
       "1990-02-28 NaN   435\n",
       "1990-03-07 NaN   489\n",
       "1990-03-14 NaN   481\n",
       "1990-03-21 NaN   603\n",
       "1990-03-28 NaN   637\n",
       "1990-04-04 NaN   680\n",
       "1990-04-11 NaN   722\n",
       "1990-04-18 NaN   788\n",
       "1990-04-25 NaN   895\n",
       "1990-05-02 NaN   920\n",
       "1990-05-09 NaN  1100\n",
       "1990-05-16 NaN  1190"
      ]
     },
     "execution_count": 100,
     "metadata": {},
     "output_type": "execute_result"
    }
   ],
   "source": [
    "# NaNs in first col because you cannot substract a number from None\n",
    "\n",
    "dummy.diff(axis = 1)"
   ]
  },
  {
   "cell_type": "code",
   "execution_count": null,
   "id": "0ab20db5-e3db-45e4-a54f-2dad5af1df73",
   "metadata": {},
   "outputs": [],
   "source": []
  }
 ],
 "metadata": {
  "kernelspec": {
   "display_name": "Python 3 (ipykernel)",
   "language": "python",
   "name": "python3"
  },
  "language_info": {
   "codemirror_mode": {
    "name": "ipython",
    "version": 3
   },
   "file_extension": ".py",
   "mimetype": "text/x-python",
   "name": "python",
   "nbconvert_exporter": "python",
   "pygments_lexer": "ipython3",
   "version": "3.11.1"
  }
 },
 "nbformat": 4,
 "nbformat_minor": 5
}
