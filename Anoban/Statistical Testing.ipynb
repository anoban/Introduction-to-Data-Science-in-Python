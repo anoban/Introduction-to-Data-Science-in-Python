{
 "cells": [
  {
   "cell_type": "markdown",
   "id": "d6f9bbe7-91e9-4d5e-83e6-a000ecf7aa62",
   "metadata": {},
   "source": [
    "# ***Hypothesis testing Statistical significance & Student's t test using SciPy***"
   ]
  },
  {
   "cell_type": "code",
   "execution_count": 1,
   "id": "1b1cd31d-0aeb-4ab8-9ef1-b659b8a52ee5",
   "metadata": {
    "execution": {
     "iopub.execute_input": "2023-01-31T22:59:53.543123Z",
     "iopub.status.busy": "2023-01-31T22:59:53.543123Z",
     "iopub.status.idle": "2023-01-31T23:00:10.922605Z",
     "shell.execute_reply": "2023-01-31T23:00:10.922605Z",
     "shell.execute_reply.started": "2023-01-31T22:59:53.543123Z"
    },
    "tags": []
   },
   "outputs": [],
   "source": [
    "import numpy as np\n",
    "import pandas as pd\n",
    "from scipy import stats"
   ]
  },
  {
   "cell_type": "markdown",
   "id": "d73ddd19-8568-482f-ac3a-84e1d3528a47",
   "metadata": {},
   "source": [
    "### **Hypothesis testing involves two hypotheses**\n",
    "- Null hypothesis ($NH_{0}$) - implies that our speculation cannot be proved correct with available evidence\n",
    "- Alternative hypothesis ($NH_{1}$) - our actual explanation\n",
    "\n",
    "***Hypothesis testing is done by testing whether the Null hypothesis is true or not. If there are significant differences between groups, we can reject the Null hypothesis and accept our alternative hypothesis.***"
   ]
  },
  {
   "cell_type": "code",
   "execution_count": 20,
   "id": "0aa732d2-0d39-472a-be6e-bf3279733b76",
   "metadata": {
    "execution": {
     "iopub.execute_input": "2023-01-31T23:08:19.165783Z",
     "iopub.status.busy": "2023-01-31T23:08:19.165783Z",
     "iopub.status.idle": "2023-01-31T23:08:19.208508Z",
     "shell.execute_reply": "2023-01-31T23:08:19.208508Z",
     "shell.execute_reply.started": "2023-01-31T23:08:19.165783Z"
    },
    "tags": []
   },
   "outputs": [],
   "source": [
    "grades = pd.read_csv(r\"D:/Introduction-to-Data-Science-in-Python/week-4/datasets/grades.csv\", parse_dates = [2, 4, 6, 8, 10, 12],\n",
    "                    infer_datetime_format = True)"
   ]
  },
  {
   "cell_type": "code",
   "execution_count": 21,
   "id": "6e59d338-ea39-48a8-939b-4dd9aabc2d17",
   "metadata": {
    "execution": {
     "iopub.execute_input": "2023-01-31T23:08:19.636936Z",
     "iopub.status.busy": "2023-01-31T23:08:19.636936Z",
     "iopub.status.idle": "2023-01-31T23:08:19.656988Z",
     "shell.execute_reply": "2023-01-31T23:08:19.656988Z",
     "shell.execute_reply.started": "2023-01-31T23:08:19.636936Z"
    },
    "tags": []
   },
   "outputs": [
    {
     "data": {
      "text/html": [
       "<div>\n",
       "<style scoped>\n",
       "    .dataframe tbody tr th:only-of-type {\n",
       "        vertical-align: middle;\n",
       "    }\n",
       "\n",
       "    .dataframe tbody tr th {\n",
       "        vertical-align: top;\n",
       "    }\n",
       "\n",
       "    .dataframe thead th {\n",
       "        text-align: right;\n",
       "    }\n",
       "</style>\n",
       "<table border=\"1\" class=\"dataframe\">\n",
       "  <thead>\n",
       "    <tr style=\"text-align: right;\">\n",
       "      <th></th>\n",
       "      <th>student_id</th>\n",
       "      <th>assignment1_grade</th>\n",
       "      <th>assignment1_submission</th>\n",
       "      <th>assignment2_grade</th>\n",
       "      <th>assignment2_submission</th>\n",
       "      <th>assignment3_grade</th>\n",
       "      <th>assignment3_submission</th>\n",
       "      <th>assignment4_grade</th>\n",
       "      <th>assignment4_submission</th>\n",
       "      <th>assignment5_grade</th>\n",
       "      <th>assignment5_submission</th>\n",
       "      <th>assignment6_grade</th>\n",
       "      <th>assignment6_submission</th>\n",
       "    </tr>\n",
       "  </thead>\n",
       "  <tbody>\n",
       "    <tr>\n",
       "      <th>0</th>\n",
       "      <td>B73F2C11-70F0-E37D-8B10-1D20AFED50B1</td>\n",
       "      <td>92.733946</td>\n",
       "      <td>2015-11-02 06:55:34.282</td>\n",
       "      <td>83.030552</td>\n",
       "      <td>2015-11-09 02:22:58.938</td>\n",
       "      <td>67.164441</td>\n",
       "      <td>2015-11-12 08:58:33.998</td>\n",
       "      <td>53.011553</td>\n",
       "      <td>2015-11-16 01:21:24.663</td>\n",
       "      <td>47.710398</td>\n",
       "      <td>2015-11-20 13:24:59.692</td>\n",
       "      <td>38.168318</td>\n",
       "      <td>2015-11-22 18:31:15.934</td>\n",
       "    </tr>\n",
       "    <tr>\n",
       "      <th>1</th>\n",
       "      <td>98A0FAE0-A19A-13D2-4BB5-CFBFD94031D1</td>\n",
       "      <td>86.790821</td>\n",
       "      <td>2015-11-29 14:57:44.429</td>\n",
       "      <td>86.290821</td>\n",
       "      <td>2015-12-06 17:41:18.449</td>\n",
       "      <td>69.772657</td>\n",
       "      <td>2015-12-10 08:54:55.904</td>\n",
       "      <td>55.098125</td>\n",
       "      <td>2015-12-13 17:32:30.941</td>\n",
       "      <td>49.588313</td>\n",
       "      <td>2015-12-19 23:26:39.285</td>\n",
       "      <td>44.629482</td>\n",
       "      <td>2015-12-21 17:07:24.275</td>\n",
       "    </tr>\n",
       "    <tr>\n",
       "      <th>2</th>\n",
       "      <td>D0F62040-CEB0-904C-F563-2F8620916C4E</td>\n",
       "      <td>85.512541</td>\n",
       "      <td>2016-01-09 05:36:02.389</td>\n",
       "      <td>85.512541</td>\n",
       "      <td>2016-01-09 06:39:44.416</td>\n",
       "      <td>68.410033</td>\n",
       "      <td>2016-01-15 20:22:45.882</td>\n",
       "      <td>54.728026</td>\n",
       "      <td>2016-01-11 12:41:50.749</td>\n",
       "      <td>49.255224</td>\n",
       "      <td>2016-01-11 17:31:12.489</td>\n",
       "      <td>44.329701</td>\n",
       "      <td>2016-01-17 16:24:42.765</td>\n",
       "    </tr>\n",
       "    <tr>\n",
       "      <th>3</th>\n",
       "      <td>FFDF2B2C-F514-EF7F-6538-A6A53518E9DC</td>\n",
       "      <td>86.030665</td>\n",
       "      <td>2016-04-30 06:50:39.801</td>\n",
       "      <td>68.824532</td>\n",
       "      <td>2016-04-30 17:20:38.727</td>\n",
       "      <td>61.942079</td>\n",
       "      <td>2016-05-12 07:47:16.326</td>\n",
       "      <td>49.553663</td>\n",
       "      <td>2016-05-07 16:09:20.485</td>\n",
       "      <td>49.553663</td>\n",
       "      <td>2016-05-24 12:51:18.016</td>\n",
       "      <td>44.598297</td>\n",
       "      <td>2016-05-26 08:09:12.058</td>\n",
       "    </tr>\n",
       "    <tr>\n",
       "      <th>4</th>\n",
       "      <td>5ECBEEB6-F1CE-80AE-3164-E45E99473FB4</td>\n",
       "      <td>64.813800</td>\n",
       "      <td>2015-12-13 17:06:10.750</td>\n",
       "      <td>51.491040</td>\n",
       "      <td>2015-12-14 12:25:12.056</td>\n",
       "      <td>41.932832</td>\n",
       "      <td>2015-12-29 14:25:22.594</td>\n",
       "      <td>36.929549</td>\n",
       "      <td>2015-12-28 01:29:55.901</td>\n",
       "      <td>33.236594</td>\n",
       "      <td>2015-12-29 14:46:06.628</td>\n",
       "      <td>33.236594</td>\n",
       "      <td>2016-01-05 01:06:59.546</td>\n",
       "    </tr>\n",
       "  </tbody>\n",
       "</table>\n",
       "</div>"
      ],
      "text/plain": [
       "                             student_id  assignment1_grade  \\\n",
       "0  B73F2C11-70F0-E37D-8B10-1D20AFED50B1          92.733946   \n",
       "1  98A0FAE0-A19A-13D2-4BB5-CFBFD94031D1          86.790821   \n",
       "2  D0F62040-CEB0-904C-F563-2F8620916C4E          85.512541   \n",
       "3  FFDF2B2C-F514-EF7F-6538-A6A53518E9DC          86.030665   \n",
       "4  5ECBEEB6-F1CE-80AE-3164-E45E99473FB4          64.813800   \n",
       "\n",
       "   assignment1_submission  assignment2_grade  assignment2_submission  \\\n",
       "0 2015-11-02 06:55:34.282          83.030552 2015-11-09 02:22:58.938   \n",
       "1 2015-11-29 14:57:44.429          86.290821 2015-12-06 17:41:18.449   \n",
       "2 2016-01-09 05:36:02.389          85.512541 2016-01-09 06:39:44.416   \n",
       "3 2016-04-30 06:50:39.801          68.824532 2016-04-30 17:20:38.727   \n",
       "4 2015-12-13 17:06:10.750          51.491040 2015-12-14 12:25:12.056   \n",
       "\n",
       "   assignment3_grade  assignment3_submission  assignment4_grade  \\\n",
       "0          67.164441 2015-11-12 08:58:33.998          53.011553   \n",
       "1          69.772657 2015-12-10 08:54:55.904          55.098125   \n",
       "2          68.410033 2016-01-15 20:22:45.882          54.728026   \n",
       "3          61.942079 2016-05-12 07:47:16.326          49.553663   \n",
       "4          41.932832 2015-12-29 14:25:22.594          36.929549   \n",
       "\n",
       "   assignment4_submission  assignment5_grade  assignment5_submission  \\\n",
       "0 2015-11-16 01:21:24.663          47.710398 2015-11-20 13:24:59.692   \n",
       "1 2015-12-13 17:32:30.941          49.588313 2015-12-19 23:26:39.285   \n",
       "2 2016-01-11 12:41:50.749          49.255224 2016-01-11 17:31:12.489   \n",
       "3 2016-05-07 16:09:20.485          49.553663 2016-05-24 12:51:18.016   \n",
       "4 2015-12-28 01:29:55.901          33.236594 2015-12-29 14:46:06.628   \n",
       "\n",
       "   assignment6_grade  assignment6_submission  \n",
       "0          38.168318 2015-11-22 18:31:15.934  \n",
       "1          44.629482 2015-12-21 17:07:24.275  \n",
       "2          44.329701 2016-01-17 16:24:42.765  \n",
       "3          44.598297 2016-05-26 08:09:12.058  \n",
       "4          33.236594 2016-01-05 01:06:59.546  "
      ]
     },
     "execution_count": 21,
     "metadata": {},
     "output_type": "execute_result"
    }
   ],
   "source": [
    "grades.head()"
   ]
  },
  {
   "cell_type": "code",
   "execution_count": 22,
   "id": "a0cde507-4aa8-4b49-add7-3295512b2706",
   "metadata": {
    "execution": {
     "iopub.execute_input": "2023-01-31T23:08:23.134146Z",
     "iopub.status.busy": "2023-01-31T23:08:23.134146Z",
     "iopub.status.idle": "2023-01-31T23:08:23.140423Z",
     "shell.execute_reply": "2023-01-31T23:08:23.140423Z",
     "shell.execute_reply.started": "2023-01-31T23:08:23.134146Z"
    },
    "tags": []
   },
   "outputs": [
    {
     "data": {
      "text/plain": [
       "Index(['student_id', 'assignment1_grade', 'assignment1_submission',\n",
       "       'assignment2_grade', 'assignment2_submission', 'assignment3_grade',\n",
       "       'assignment3_submission', 'assignment4_grade', 'assignment4_submission',\n",
       "       'assignment5_grade', 'assignment5_submission', 'assignment6_grade',\n",
       "       'assignment6_submission'],\n",
       "      dtype='object')"
      ]
     },
     "execution_count": 22,
     "metadata": {},
     "output_type": "execute_result"
    }
   ],
   "source": [
    "# contains submission dates & grades for 6 different assignments\n",
    "\n",
    "grades.columns"
   ]
  },
  {
   "cell_type": "code",
   "execution_count": 23,
   "id": "bd5b14b8-5f7d-42fd-8075-08e3775e49c7",
   "metadata": {
    "execution": {
     "iopub.execute_input": "2023-01-31T23:08:24.231590Z",
     "iopub.status.busy": "2023-01-31T23:08:24.231590Z",
     "iopub.status.idle": "2023-01-31T23:08:24.244602Z",
     "shell.execute_reply": "2023-01-31T23:08:24.244602Z",
     "shell.execute_reply.started": "2023-01-31T23:08:24.231590Z"
    },
    "tags": []
   },
   "outputs": [
    {
     "data": {
      "text/plain": [
       "(2315, 13)"
      ]
     },
     "execution_count": 23,
     "metadata": {},
     "output_type": "execute_result"
    }
   ],
   "source": [
    "grades.shape"
   ]
  },
  {
   "cell_type": "code",
   "execution_count": 24,
   "id": "03d20aa4-87b0-4245-8a76-1a395cc927b9",
   "metadata": {
    "execution": {
     "iopub.execute_input": "2023-01-31T23:08:24.686014Z",
     "iopub.status.busy": "2023-01-31T23:08:24.686014Z",
     "iopub.status.idle": "2023-01-31T23:08:24.700302Z",
     "shell.execute_reply": "2023-01-31T23:08:24.700302Z",
     "shell.execute_reply.started": "2023-01-31T23:08:24.686014Z"
    },
    "tags": []
   },
   "outputs": [
    {
     "data": {
      "text/plain": [
       "['assignment1_submission',\n",
       " 'assignment2_submission',\n",
       " 'assignment3_submission',\n",
       " 'assignment4_submission',\n",
       " 'assignment5_submission',\n",
       " 'assignment6_submission']"
      ]
     },
     "execution_count": 24,
     "metadata": {},
     "output_type": "execute_result"
    }
   ],
   "source": [
    "[column for column in grades.columns if \"submission\" in column]"
   ]
  },
  {
   "cell_type": "code",
   "execution_count": 25,
   "id": "20747fed-9772-4d79-8c95-c5463a92e3b0",
   "metadata": {
    "execution": {
     "iopub.execute_input": "2023-01-31T23:08:25.251338Z",
     "iopub.status.busy": "2023-01-31T23:08:25.251338Z",
     "iopub.status.idle": "2023-01-31T23:08:25.267575Z",
     "shell.execute_reply": "2023-01-31T23:08:25.267575Z",
     "shell.execute_reply.started": "2023-01-31T23:08:25.251338Z"
    },
    "tags": []
   },
   "outputs": [
    {
     "data": {
      "text/plain": [
       "student_id                        object\n",
       "assignment1_grade                float64\n",
       "assignment1_submission    datetime64[ns]\n",
       "assignment2_grade                float64\n",
       "assignment2_submission    datetime64[ns]\n",
       "assignment3_grade                float64\n",
       "assignment3_submission    datetime64[ns]\n",
       "assignment4_grade                float64\n",
       "assignment4_submission    datetime64[ns]\n",
       "assignment5_grade                float64\n",
       "assignment5_submission    datetime64[ns]\n",
       "assignment6_grade                float64\n",
       "assignment6_submission    datetime64[ns]\n",
       "dtype: object"
      ]
     },
     "execution_count": 25,
     "metadata": {},
     "output_type": "execute_result"
    }
   ],
   "source": [
    "grades.dtypes"
   ]
  },
  {
   "cell_type": "code",
   "execution_count": 27,
   "id": "e0035768-042a-4693-bc86-758439cabdde",
   "metadata": {
    "execution": {
     "iopub.execute_input": "2023-01-31T23:08:40.144942Z",
     "iopub.status.busy": "2023-01-31T23:08:40.144942Z",
     "iopub.status.idle": "2023-01-31T23:08:40.161745Z",
     "shell.execute_reply": "2023-01-31T23:08:40.161745Z",
     "shell.execute_reply.started": "2023-01-31T23:08:40.144942Z"
    },
    "tags": []
   },
   "outputs": [
    {
     "data": {
      "text/plain": [
       "0       Early Finisher\n",
       "1       Early Finisher\n",
       "2        Late Finisher\n",
       "3        Late Finisher\n",
       "4       Early Finisher\n",
       "             ...      \n",
       "2310     Late Finisher\n",
       "2311    Early Finisher\n",
       "2312    Early Finisher\n",
       "2313     Late Finisher\n",
       "2314    Early Finisher\n",
       "Name: assignment1_submission, Length: 2315, dtype: object"
      ]
     },
     "execution_count": 27,
     "metadata": {},
     "output_type": "execute_result"
    }
   ],
   "source": [
    "# lets categorize students based on the first assignment submission date\n",
    "# who have submitted by the end of 2015 -> Early finishers\n",
    "# others -> Late finishers\n",
    "\n",
    "pd.to_datetime(grades.assignment1_submission, format = \"%Y-%m-%d %H:%M:%S\") \\\n",
    "                    .apply(lambda date: \"Early Finisher\" if date < pd.Timestamp(year = 2015, month = 12, day = 31) else \"Late Finisher\")"
   ]
  },
  {
   "cell_type": "code",
   "execution_count": 42,
   "id": "f753220e-8142-4489-b29d-ef33cbb4c700",
   "metadata": {
    "execution": {
     "iopub.execute_input": "2023-01-31T23:12:05.732474Z",
     "iopub.status.busy": "2023-01-31T23:12:05.732474Z",
     "iopub.status.idle": "2023-01-31T23:12:05.740697Z",
     "shell.execute_reply": "2023-01-31T23:12:05.740697Z",
     "shell.execute_reply.started": "2023-01-31T23:12:05.732474Z"
    }
   },
   "outputs": [],
   "source": [
    "deadline = pd.Timestamp(year = 2015, month = 12, day = 31)"
   ]
  },
  {
   "cell_type": "code",
   "execution_count": 43,
   "id": "d913f3e8-9fb8-40a1-b7d5-b98038c888c5",
   "metadata": {
    "execution": {
     "iopub.execute_input": "2023-01-31T23:12:06.234786Z",
     "iopub.status.busy": "2023-01-31T23:12:06.234786Z",
     "iopub.status.idle": "2023-01-31T23:12:06.245670Z",
     "shell.execute_reply": "2023-01-31T23:12:06.245670Z",
     "shell.execute_reply.started": "2023-01-31T23:12:06.234786Z"
    },
    "tags": []
   },
   "outputs": [],
   "source": [
    "early_finishers = grades.loc[pd.to_datetime(grades.assignment1_submission,  format = \"%Y-%m-%d %H:%M:%S\") < deadline, :]"
   ]
  },
  {
   "cell_type": "code",
   "execution_count": 45,
   "id": "f35c38dd-69db-4778-86b8-83c44eaa40f8",
   "metadata": {
    "execution": {
     "iopub.execute_input": "2023-01-31T23:12:16.592173Z",
     "iopub.status.busy": "2023-01-31T23:12:16.592173Z",
     "iopub.status.idle": "2023-01-31T23:12:16.609729Z",
     "shell.execute_reply": "2023-01-31T23:12:16.609729Z",
     "shell.execute_reply.started": "2023-01-31T23:12:16.592173Z"
    },
    "tags": []
   },
   "outputs": [],
   "source": [
    "late_finishers = grades.loc[pd.to_datetime(grades.assignment1_submission,  format = \"%Y-%m-%d %H:%M:%S\") >= deadline, :]"
   ]
  },
  {
   "cell_type": "code",
   "execution_count": 46,
   "id": "7ce5d841-7616-4629-b0d0-3a01a9bb8b82",
   "metadata": {
    "execution": {
     "iopub.execute_input": "2023-01-31T23:12:17.376711Z",
     "iopub.status.busy": "2023-01-31T23:12:17.361204Z",
     "iopub.status.idle": "2023-01-31T23:12:17.381353Z",
     "shell.execute_reply": "2023-01-31T23:12:17.381353Z",
     "shell.execute_reply.started": "2023-01-31T23:12:17.376711Z"
    },
    "tags": []
   },
   "outputs": [
    {
     "data": {
      "text/plain": [
       "array([False, False,  True, False,  True,  True])"
      ]
     },
     "execution_count": 46,
     "metadata": {},
     "output_type": "execute_result"
    }
   ],
   "source": [
    "bools = np.array([True, True, False, True, False, False])\n",
    "~bools"
   ]
  },
  {
   "cell_type": "code",
   "execution_count": 47,
   "id": "982dab56-32ef-4504-b3aa-8d7f4213d11a",
   "metadata": {
    "execution": {
     "iopub.execute_input": "2023-01-31T23:12:17.847170Z",
     "iopub.status.busy": "2023-01-31T23:12:17.847170Z",
     "iopub.status.idle": "2023-01-31T23:12:17.855661Z",
     "shell.execute_reply": "2023-01-31T23:12:17.855661Z",
     "shell.execute_reply.started": "2023-01-31T23:12:17.847170Z"
    },
    "tags": []
   },
   "outputs": [
    {
     "data": {
      "text/plain": [
       "'Late finishres:: Average grade: 74.01742892115759, Standard deviation: 16.738814907901745 & Median: 76.61331847067096.'"
      ]
     },
     "execution_count": 47,
     "metadata": {},
     "output_type": "execute_result"
    }
   ],
   "source": [
    "f\"Late finishres:: Average grade: {late_finishers.assignment1_grade.mean()}, Standard deviation: {late_finishers.assignment1_grade.std()} & \\\n",
    "Median: {late_finishers.assignment1_grade.median()}.\""
   ]
  },
  {
   "cell_type": "code",
   "execution_count": 48,
   "id": "4975a5a8-9c2c-4896-9cc7-a65f6014a101",
   "metadata": {
    "execution": {
     "iopub.execute_input": "2023-01-31T23:12:19.508279Z",
     "iopub.status.busy": "2023-01-31T23:12:19.508279Z",
     "iopub.status.idle": "2023-01-31T23:12:19.527038Z",
     "shell.execute_reply": "2023-01-31T23:12:19.527038Z",
     "shell.execute_reply.started": "2023-01-31T23:12:19.508279Z"
    },
    "tags": []
   },
   "outputs": [
    {
     "data": {
      "text/plain": [
       "'Early finishres:: Average grade: 74.9727408643377, Standard deviation: 16.014613849987388 & Median: 77.48239466865009.'"
      ]
     },
     "execution_count": 48,
     "metadata": {},
     "output_type": "execute_result"
    }
   ],
   "source": [
    "f\"Early finishres:: Average grade: {early_finishers.assignment1_grade.mean()}, Standard deviation: {early_finishers.assignment1_grade.std()} & \\\n",
    "Median: {early_finishers.assignment1_grade.median()}.\""
   ]
  },
  {
   "cell_type": "markdown",
   "id": "8bfcae94-1b29-4b40-90f8-261be33829c5",
   "metadata": {},
   "source": [
    "## ***Hypothesis testing***"
   ]
  },
  {
   "cell_type": "markdown",
   "id": "8b41f489-27e7-429c-8874-2009bb93fb54",
   "metadata": {
    "execution": {
     "iopub.execute_input": "2023-01-31T12:40:01.457790Z",
     "iopub.status.busy": "2023-01-31T12:40:01.457790Z",
     "iopub.status.idle": "2023-01-31T12:40:01.471396Z",
     "shell.execute_reply": "2023-01-31T12:40:01.471396Z",
     "shell.execute_reply.started": "2023-01-31T12:40:01.457790Z"
    }
   },
   "source": [
    "### ***Null hypothesis: These two averages are same (no significant differences).***\n",
    "### ***Alternative hypothesis: These two averages are different.***"
   ]
  },
  {
   "cell_type": "markdown",
   "id": "0e70e7cf-fa96-4b66-8297-8e1270a5e539",
   "metadata": {},
   "source": [
    "<a style=\"font-size:20px\">***Hypothesis testing requires a significance level: how much of a deviation are we willing to tolerate?         \n",
    "This is typically denoted by an $\\alpha$.<br> For this test, lets use an $\\alpha$ of 0.05 (which is 5%)***</a>"
   ]
  },
  {
   "cell_type": "code",
   "execution_count": 52,
   "id": "08a6bf33-6d8e-40a7-9123-6b983728e990",
   "metadata": {
    "execution": {
     "iopub.execute_input": "2023-01-31T23:15:17.609794Z",
     "iopub.status.busy": "2023-01-31T23:15:17.609794Z",
     "iopub.status.idle": "2023-01-31T23:15:17.623669Z",
     "shell.execute_reply": "2023-01-31T23:15:17.623669Z",
     "shell.execute_reply.started": "2023-01-31T23:15:17.609794Z"
    },
    "tags": []
   },
   "outputs": [
    {
     "data": {
      "text/plain": [
       "Ttest_indResult(statistic=1.400549944897566, pvalue=0.16148283016060577)"
      ]
     },
     "execution_count": 52,
     "metadata": {},
     "output_type": "execute_result"
    }
   ],
   "source": [
    "# let's do a t test\n",
    "# ttest_ind() for independent t test, implying that the populations in the two groups are not related to one another\n",
    "# the ttest_ind() function from scipy evaluates the two series of values and returns a t static & P value\n",
    "# t statistic is the t value while the p value is the probability of the Null hypothesis being true.\n",
    "# once we have the p value, we can compare that with our alpha\n",
    "\n",
    "stats.ttest_ind(early_finishers.assignment1_grade, late_finishers.assignment1_grade)"
   ]
  },
  {
   "cell_type": "code",
   "execution_count": 53,
   "id": "5ee6cbc5-f6eb-4210-ae52-c798740f6606",
   "metadata": {
    "execution": {
     "iopub.execute_input": "2023-01-31T23:17:15.165840Z",
     "iopub.status.busy": "2023-01-31T23:17:15.165840Z",
     "iopub.status.idle": "2023-01-31T23:17:15.174297Z",
     "shell.execute_reply": "2023-01-31T23:17:15.174297Z",
     "shell.execute_reply.started": "2023-01-31T23:17:15.165840Z"
    },
    "tags": []
   },
   "outputs": [],
   "source": [
    "# the p value 0.16148283016 is way higher than the alpha 0.05, thus Null hypothesis is accepted\n",
    "# if we are to reject the Null hypothesis, the p value must be less than 0.05 (since we do not accept a chance greater than 5% as insignificant)\n",
    "# and the alternative hypothesis is rejected\n",
    "\n",
    "# This however does not prove that the groups are same"
   ]
  },
  {
   "cell_type": "code",
   "execution_count": 58,
   "id": "4080ffa9-ba1b-4269-8508-b97aaf8c1d45",
   "metadata": {
    "execution": {
     "iopub.execute_input": "2023-01-31T23:21:19.086471Z",
     "iopub.status.busy": "2023-01-31T23:21:19.086471Z",
     "iopub.status.idle": "2023-01-31T23:21:19.096664Z",
     "shell.execute_reply": "2023-01-31T23:21:19.096664Z",
     "shell.execute_reply.started": "2023-01-31T23:21:19.086471Z"
    },
    "tags": []
   },
   "outputs": [
    {
     "name": "stdout",
     "output_type": "stream",
     "text": [
      "assignment1: Ttest_indResult(statistic=1.400549944897566, pvalue=0.16148283016060577)\n",
      "assignment2: Ttest_indResult(statistic=1.323986822091257, pvalue=0.18563824610067958)\n",
      "assignment3: Ttest_indResult(statistic=1.7116160037010733, pvalue=0.08710151634155668)\n",
      "assignment4: Ttest_indResult(statistic=0.16232182017140787, pvalue=0.8710666110447575)\n",
      "assignment5: Ttest_indResult(statistic=0.06063973879942835, pvalue=0.9516513635792874)\n",
      "assignment6: Ttest_indResult(statistic=-0.009767754757653123, pvalue=0.9922074255698552)\n"
     ]
    }
   ],
   "source": [
    "# repeat this for other assignments\n",
    "\n",
    "for grade_column in [column for column in grades.columns if \"grade\" in column]:\n",
    "    print(f\"{grade_column.replace('_grade', '')}: {stats.ttest_ind(early_finishers.loc[:, grade_column], late_finishers.loc[:, grade_column])}\")"
   ]
  },
  {
   "cell_type": "markdown",
   "id": "8609bb4d-b26b-4caf-9268-bcba4c5d557d",
   "metadata": {},
   "source": [
    "**In this data, there isn't enough evidence to suggest that the populations differ based on their grades. Since no pair of groups have a p value less than 5% (0.05), we cannot reject the Null hypothesis and accept our explanation.      \n",
    "Assignments 4, 5 & 6 have p fairly large values (close to 1, the maximum probability). Thus in these assignments the two groups appear to perform more identically while in assignment 3, the p value is 0.0871 (close to 0) which indicates that the two groups have performed quite differently even though the probability of this happening by chance exceeds our tolerance threshold of 5%.        \n",
    "If we assume our $\\alpha$ = 0.1, then the grades of the third assignment will indicate that the two groups are different!**"
   ]
  },
  {
   "cell_type": "markdown",
   "id": "4f14a2d8-e299-4bd5-8df5-f04539c61741",
   "metadata": {},
   "source": [
    "**A major disadvantage of p is that it does not explain anything about the interactions happening between the two groups. And p value can give statistically significant results just by chance!. So, to overcome this confidence intervals and bayesian analyses are used.**"
   ]
  },
  {
   "cell_type": "code",
   "execution_count": 70,
   "id": "a585f84a-67d2-42d5-81f3-18e1e7315cbc",
   "metadata": {
    "execution": {
     "iopub.execute_input": "2023-01-31T23:58:10.739465Z",
     "iopub.status.busy": "2023-01-31T23:58:10.739465Z",
     "iopub.status.idle": "2023-01-31T23:58:10.745714Z",
     "shell.execute_reply": "2023-01-31T23:58:10.745714Z",
     "shell.execute_reply.started": "2023-01-31T23:58:10.739465Z"
    },
    "tags": []
   },
   "outputs": [],
   "source": [
    "# a simulation to demonstrate the shortcomings of t tests\n",
    "# lets create 100 x 10 dataframes\n",
    "\n",
    "dummy_1 = pd.DataFrame(np.random.randint(0, 100, 1000).reshape(100, 10))\n",
    "dummy_2 = pd.DataFrame(np.random.randint(0, 100, 1000).reshape(100, 10))"
   ]
  },
  {
   "cell_type": "code",
   "execution_count": 74,
   "id": "a9ee0ae5-fd9b-4cc0-a206-7b7193577a54",
   "metadata": {
    "execution": {
     "iopub.execute_input": "2023-02-01T00:09:55.443829Z",
     "iopub.status.busy": "2023-02-01T00:09:55.443829Z",
     "iopub.status.idle": "2023-02-01T00:09:55.466483Z",
     "shell.execute_reply": "2023-02-01T00:09:55.466483Z",
     "shell.execute_reply.started": "2023-02-01T00:09:55.443829Z"
    },
    "tags": []
   },
   "outputs": [
    {
     "name": "stdout",
     "output_type": "stream",
     "text": [
      "P value of column 0 of dummy dataframe 1 & column 0 of dummy dataframe 2 is 0.1909439773428309\n",
      "P value of column 1 of dummy dataframe 1 & column 1 of dummy dataframe 2 is 0.38791883467736343\n",
      "P value of column 2 of dummy dataframe 1 & column 2 of dummy dataframe 2 is 0.8594123019889872\n",
      "P value of column 3 of dummy dataframe 1 & column 3 of dummy dataframe 2 is 0.623258818729865\n",
      "P value of column 4 of dummy dataframe 1 & column 4 of dummy dataframe 2 is 0.05517316762733526\n",
      "P value of column 5 of dummy dataframe 1 & column 5 of dummy dataframe 2 is 0.8835800850764407\n",
      "P value of column 6 of dummy dataframe 1 & column 6 of dummy dataframe 2 is 0.7876615916589355\n",
      "P value of column 7 of dummy dataframe 1 & column 7 of dummy dataframe 2 is 0.34603320164454465\n",
      "P value of column 8 of dummy dataframe 1 & column 8 of dummy dataframe 2 is 0.8858942989876363\n",
      "P value of column 9 of dummy dataframe 1 & column 9 of dummy dataframe 2 is 0.3921258801318731\n"
     ]
    }
   ],
   "source": [
    "# check how many pairs of groups have a p value < 0.1\n",
    "\n",
    "for i in range(10):\n",
    "    print(\"P value of column {} of dummy dataframe 1 & column {} of dummy dataframe 2 is {}\".format(\n",
    "                           i, i, stats.ttest_ind(dummy_1.loc[:, i], dummy_2.loc[:, i])[1]))"
   ]
  },
  {
   "cell_type": "code",
   "execution_count": 75,
   "id": "eb384d87-b5bc-430f-8038-739adc02d387",
   "metadata": {
    "execution": {
     "iopub.execute_input": "2023-02-01T00:11:35.977069Z",
     "iopub.status.busy": "2023-02-01T00:11:35.977069Z",
     "iopub.status.idle": "2023-02-01T00:11:35.983967Z",
     "shell.execute_reply": "2023-02-01T00:11:35.983967Z",
     "shell.execute_reply.started": "2023-02-01T00:11:35.977069Z"
    }
   },
   "outputs": [],
   "source": [
    "# let's increase the diversity in the columns and try this again\n",
    "\n",
    "dummy_1 = pd.DataFrame(np.random.randint(0, 1000, 1000).reshape(100, 10))\n",
    "dummy_2 = pd.DataFrame(np.random.randint(0, 1000, 1000).reshape(100, 10))"
   ]
  },
  {
   "cell_type": "code",
   "execution_count": 77,
   "id": "6a8ec8b3-be3a-4ec3-b69c-a5988731f581",
   "metadata": {
    "execution": {
     "iopub.execute_input": "2023-02-01T00:12:40.292888Z",
     "iopub.status.busy": "2023-02-01T00:12:40.292888Z",
     "iopub.status.idle": "2023-02-01T00:12:40.302602Z",
     "shell.execute_reply": "2023-02-01T00:12:40.302602Z",
     "shell.execute_reply.started": "2023-02-01T00:12:40.292888Z"
    },
    "tags": []
   },
   "outputs": [
    {
     "name": "stdout",
     "output_type": "stream",
     "text": [
      "P value of column 0 of dummy_1 & column 0 of dummy_2 is 0.855192102708796\n",
      "P value of column 1 of dummy_1 & column 1 of dummy_2 is 0.6475661186975601\n",
      "P value of column 2 of dummy_1 & column 2 of dummy_2 is 0.267575167291769\n",
      "P value of column 3 of dummy_1 & column 3 of dummy_2 is 0.4924944617793594\n",
      "P value of column 4 of dummy_1 & column 4 of dummy_2 is 0.2963549997815036\n",
      "P value of column 5 of dummy_1 & column 5 of dummy_2 is 0.38925103459730304\n",
      "P value of column 6 of dummy_1 & column 6 of dummy_2 is 0.8558039869029401\n",
      "P value of column 7 of dummy_1 & column 7 of dummy_2 is 0.30325543759497514\n",
      "P value of column 8 of dummy_1 & column 8 of dummy_2 is 0.12507044229267342\n",
      "P value of column 9 of dummy_1 & column 9 of dummy_2 is 0.44958734065507233\n"
     ]
    }
   ],
   "source": [
    "for i in range(10):\n",
    "    print(\"P value of column {} of dummy_1 & column {} of dummy_2 is {}\".format(\n",
    "                           i, i, stats.ttest_ind(dummy_1.loc[:, i], dummy_2.loc[:, i])[1]))"
   ]
  },
  {
   "cell_type": "code",
   "execution_count": 78,
   "id": "dc790b70-afa5-47fa-b1e9-c08d9be70a1a",
   "metadata": {
    "execution": {
     "iopub.execute_input": "2023-02-01T00:13:07.654408Z",
     "iopub.status.busy": "2023-02-01T00:13:07.654408Z",
     "iopub.status.idle": "2023-02-01T00:13:07.671408Z",
     "shell.execute_reply": "2023-02-01T00:13:07.671408Z",
     "shell.execute_reply.started": "2023-02-01T00:13:07.654408Z"
    }
   },
   "outputs": [
    {
     "name": "stdout",
     "output_type": "stream",
     "text": [
      "P value of column 0 of dummy_1 & column 0 of dummy_2 is 0.545081779544611\n",
      "P value of column 1 of dummy_1 & column 1 of dummy_2 is 0.8262302709831132\n",
      "P value of column 2 of dummy_1 & column 2 of dummy_2 is 0.09721320567926282\n",
      "P value of column 3 of dummy_1 & column 3 of dummy_2 is 0.9315415104018732\n",
      "P value of column 4 of dummy_1 & column 4 of dummy_2 is 0.6416805974993413\n",
      "P value of column 5 of dummy_1 & column 5 of dummy_2 is 0.013428800213645285\n",
      "P value of column 6 of dummy_1 & column 6 of dummy_2 is 0.29741573197537247\n",
      "P value of column 7 of dummy_1 & column 7 of dummy_2 is 0.9030139763428984\n",
      "P value of column 8 of dummy_1 & column 8 of dummy_2 is 0.40574093793008525\n",
      "P value of column 9 of dummy_1 & column 9 of dummy_2 is 0.8644205446232408\n"
     ]
    }
   ],
   "source": [
    "dummy_1 = pd.DataFrame(np.random.randint(0, 10000, 1000).reshape(100, 10))\n",
    "dummy_2 = pd.DataFrame(np.random.randint(0, 10000, 1000).reshape(100, 10))\n",
    "\n",
    "for i in range(10):\n",
    "    print(\"P value of column {} of dummy_1 & column {} of dummy_2 is {}\".format(\n",
    "                           i, i, stats.ttest_ind(dummy_1.loc[:, i], dummy_2.loc[:, i])[1]))"
   ]
  },
  {
   "cell_type": "code",
   "execution_count": 80,
   "id": "42f8a288-f0d0-4f96-aaba-b439f6e7266c",
   "metadata": {
    "execution": {
     "iopub.execute_input": "2023-02-01T00:17:38.813880Z",
     "iopub.status.busy": "2023-02-01T00:17:38.813880Z",
     "iopub.status.idle": "2023-02-01T00:17:38.824099Z",
     "shell.execute_reply": "2023-02-01T00:17:38.824099Z",
     "shell.execute_reply.started": "2023-02-01T00:17:38.813880Z"
    },
    "tags": []
   },
   "outputs": [],
   "source": [
    "# the p value is not a standard, and heavily depends on the research context. One needs to engage domain experts to determine \n",
    "# a decent p value threshold."
   ]
  },
  {
   "cell_type": "code",
   "execution_count": null,
   "id": "5985bb56-8a28-4ef9-b4a6-16d32e86b4fb",
   "metadata": {},
   "outputs": [],
   "source": []
  }
 ],
 "metadata": {
  "kernelspec": {
   "display_name": "Python 3 (ipykernel)",
   "language": "python",
   "name": "python3"
  },
  "language_info": {
   "codemirror_mode": {
    "name": "ipython",
    "version": 3
   },
   "file_extension": ".py",
   "mimetype": "text/x-python",
   "name": "python",
   "nbconvert_exporter": "python",
   "pygments_lexer": "ipython3",
   "version": "3.11.1"
  }
 },
 "nbformat": 4,
 "nbformat_minor": 5
}
